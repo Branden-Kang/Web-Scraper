{
  "nbformat": 4,
  "nbformat_minor": 0,
  "metadata": {
    "colab": {
      "provenance": [],
      "authorship_tag": "ABX9TyPLgSIUIkK8NC82XoyvX/mR"
    },
    "kernelspec": {
      "name": "python3",
      "display_name": "Python 3"
    },
    "language_info": {
      "name": "python"
    }
  },
  "cells": [
    {
      "cell_type": "markdown",
      "source": [
        "[Reference](https://medium.com/@jonathanmondaut/scrap-data-with-pandas-in-python-8227acb45222)"
      ],
      "metadata": {
        "id": "OwVICfRgtqPU"
      }
    },
    {
      "cell_type": "code",
      "execution_count": 1,
      "metadata": {
        "colab": {
          "base_uri": "https://localhost:8080/"
        },
        "id": "kUd14OxYs8A5",
        "outputId": "849a6b22-4a14-4402-a49a-59a954ad2b98"
      },
      "outputs": [
        {
          "output_type": "stream",
          "name": "stdout",
          "text": [
            "Number of found tables: 10\n"
          ]
        }
      ],
      "source": [
        "import pandas\n",
        "found_data = pandas.read_html(\"https://en.wikipedia.org/wiki/Dragon_Ball\")\n",
        "print(\"Number of found tables: \" + str(len(found_data)))"
      ]
    },
    {
      "cell_type": "code",
      "source": [
        "import re\n",
        "# Here is the function we are going to use to clean our number.\n",
        "def formatNumberFromString(search_string):\n",
        "    output = 0\n",
        "    found_string = re.findall(r'[0-9,\\,]+', search_string)\n",
        "    if len(found_string) > 0:\n",
        "        output = int(\"\".join(found_string[0].split(\",\")))\n",
        "    return output\n",
        "# Getting only the two required columns.\n",
        "db_sales = found_data[1][[\"Market(s)\", \"Volume sales/circulation\"]]\n",
        "# Cleaning the data\n",
        "db_sales.drop([1,18], inplace=True)\n",
        "db_sales.loc[:,\"Volume sales/circulation\"] = db_sales[\"Volume sales/circulation\"].apply(lambda x: formatNumberFromString(x))"
      ],
      "metadata": {
        "colab": {
          "base_uri": "https://localhost:8080/"
        },
        "id": "wcfezeONt5-s",
        "outputId": "025c041e-e5da-4b9e-b13c-f3c4957bd499"
      },
      "execution_count": 2,
      "outputs": [
        {
          "output_type": "stream",
          "name": "stderr",
          "text": [
            "/usr/local/lib/python3.7/dist-packages/pandas/core/frame.py:4913: SettingWithCopyWarning: \n",
            "A value is trying to be set on a copy of a slice from a DataFrame\n",
            "\n",
            "See the caveats in the documentation: https://pandas.pydata.org/pandas-docs/stable/user_guide/indexing.html#returning-a-view-versus-a-copy\n",
            "  errors=errors,\n",
            "/usr/local/lib/python3.7/dist-packages/pandas/core/indexing.py:1951: SettingWithCopyWarning: \n",
            "A value is trying to be set on a copy of a slice from a DataFrame.\n",
            "Try using .loc[row_indexer,col_indexer] = value instead\n",
            "\n",
            "See the caveats in the documentation: https://pandas.pydata.org/pandas-docs/stable/user_guide/indexing.html#returning-a-view-versus-a-copy\n",
            "  self.obj[selected_item_labels] = value\n"
          ]
        }
      ]
    },
    {
      "cell_type": "code",
      "source": [
        "total_of_volume_sold = db_sales[\"Volume sales/circulation\"].sum()\n",
        "average_volume_sold_by_region = db_sales[\"Volume sales/circulation\"].mean()\n",
        "count_of_regions = len(db_sales.index)\n",
        "print(\"Dragon ball manga have been sold {} times. That's an average of {} by region for a total of {} regions.\".format(total_of_volume_sold, average_volume_sold_by_region, count_of_regions))"
      ],
      "metadata": {
        "colab": {
          "base_uri": "https://localhost:8080/"
        },
        "id": "YwgvqUgRt7u8",
        "outputId": "fe9ddd25-03ef-4678-927e-5b1462ab1af8"
      },
      "execution_count": 3,
      "outputs": [
        {
          "output_type": "stream",
          "name": "stdout",
          "text": [
            "Dragon ball manga have been sold 308143554 times. That's an average of 18126091.411764707 by region for a total of 17 regions.\n"
          ]
        }
      ]
    }
  ]
}
{
  "nbformat": 4,
  "nbformat_minor": 0,
  "metadata": {
    "colab": {
      "name": "How to Use Python to Access Data in Multiple URLs with Rick and Morty.ipynb",
      "provenance": [],
      "authorship_tag": "ABX9TyN6aNHkvCbIr30s5Kiyv+Zb"
    },
    "kernelspec": {
      "name": "python3",
      "display_name": "Python 3"
    },
    "language_info": {
      "name": "python"
    }
  },
  "cells": [
    {
      "cell_type": "markdown",
      "source": [
        "[Reference](https://medium.com/pipeline-a-data-engineering-resource/how-to-use-python-to-access-data-in-multiple-urls-with-rick-and-morty-6d0d3d502cb5)"
      ],
      "metadata": {
        "id": "Guap7N6STIAb"
      }
    },
    {
      "cell_type": "code",
      "execution_count": 1,
      "metadata": {
        "id": "7RXIhJboTEvh"
      },
      "outputs": [],
      "source": [
        "import pandas as pd \n",
        "episode_df = pd.DataFrame()"
      ]
    },
    {
      "cell_type": "code",
      "source": [
        "for i in range(1,4):\n",
        "        url = 'https://rickandmortyapi.com/api/episode?page='"
      ],
      "metadata": {
        "id": "26KCZuBYTL7V"
      },
      "execution_count": 2,
      "outputs": []
    },
    {
      "cell_type": "code",
      "source": [
        "for i in range(1,4):\n",
        "    url = 'https://rickandmortyapi.com/api/episode?page=' + str(i)"
      ],
      "metadata": {
        "id": "iJASLo6ATN4W"
      },
      "execution_count": 3,
      "outputs": []
    },
    {
      "cell_type": "code",
      "source": [
        "import requests"
      ],
      "metadata": {
        "id": "gys6L2IaTSGg"
      },
      "execution_count": 5,
      "outputs": []
    },
    {
      "cell_type": "code",
      "source": [
        "episode_df = pd.DataFrame()\n",
        "for i in range(1,4):\n",
        "    url = 'https://rickandmortyapi.com/api/episode?page=' + str(i)\n",
        "    rm = requests.get(url)"
      ],
      "metadata": {
        "id": "cFjs1aHJTPWB"
      },
      "execution_count": 6,
      "outputs": []
    },
    {
      "cell_type": "code",
      "source": [
        "for episode in rm.json()['results']:\n",
        "            episode_df = episode_df.append({\n",
        "                'id': episode['id'],\n",
        "                'name': episode['name'],\n",
        "                'air_date': episode['air_date'],\n",
        "                'episode': episode['episode']\n",
        "            }, ignore_index=True)"
      ],
      "metadata": {
        "id": "hshE7MW9TRGE"
      },
      "execution_count": 7,
      "outputs": []
    },
    {
      "cell_type": "code",
      "source": [
        "locations_df = pd.DataFrame()\n",
        "for i in range(1,8):\n",
        "    url = 'https://rickandmortyapi.com/api/location?page=' + str(i)\n",
        "    rm = requests.get(url)\n",
        "for location in rm.json()['results']:\n",
        "    locations_df = locations_df.append({\n",
        "    'id': location['id'],\n",
        "    'name': location['name'],\n",
        "    'type': location['type'],\n",
        "    'dimension': location['dimension']\n",
        "    }, ignore_index=True)\n",
        "locations_df['dimension'] = locations_df['dimension'].str.title()"
      ],
      "metadata": {
        "id": "jguDQnAlTUoE"
      },
      "execution_count": 10,
      "outputs": []
    },
    {
      "cell_type": "code",
      "source": [
        "locations_df"
      ],
      "metadata": {
        "colab": {
          "base_uri": "https://localhost:8080/",
          "height": 235
        },
        "id": "wtwCUJHSTXj2",
        "outputId": "3b29482a-1c53-4ae7-9e48-a832fb8fe066"
      },
      "execution_count": 11,
      "outputs": [
        {
          "output_type": "execute_result",
          "data": {
            "text/html": [
              "\n",
              "  <div id=\"df-48afed79-9665-47e2-a684-dc1fd941ec25\">\n",
              "    <div class=\"colab-df-container\">\n",
              "      <div>\n",
              "<style scoped>\n",
              "    .dataframe tbody tr th:only-of-type {\n",
              "        vertical-align: middle;\n",
              "    }\n",
              "\n",
              "    .dataframe tbody tr th {\n",
              "        vertical-align: top;\n",
              "    }\n",
              "\n",
              "    .dataframe thead th {\n",
              "        text-align: right;\n",
              "    }\n",
              "</style>\n",
              "<table border=\"1\" class=\"dataframe\">\n",
              "  <thead>\n",
              "    <tr style=\"text-align: right;\">\n",
              "      <th></th>\n",
              "      <th>id</th>\n",
              "      <th>name</th>\n",
              "      <th>type</th>\n",
              "      <th>dimension</th>\n",
              "    </tr>\n",
              "  </thead>\n",
              "  <tbody>\n",
              "    <tr>\n",
              "      <th>0</th>\n",
              "      <td>121.0</td>\n",
              "      <td>Rick's Consciousness</td>\n",
              "      <td>Consciousness</td>\n",
              "      <td>Replacement Dimension</td>\n",
              "    </tr>\n",
              "    <tr>\n",
              "      <th>1</th>\n",
              "      <td>122.0</td>\n",
              "      <td>Avian Planet</td>\n",
              "      <td>Planet</td>\n",
              "      <td>Replacement Dimension</td>\n",
              "    </tr>\n",
              "    <tr>\n",
              "      <th>2</th>\n",
              "      <td>123.0</td>\n",
              "      <td>Normal Size Bug Dimension</td>\n",
              "      <td>Dimension</td>\n",
              "      <td></td>\n",
              "    </tr>\n",
              "    <tr>\n",
              "      <th>3</th>\n",
              "      <td>124.0</td>\n",
              "      <td>Slartivart</td>\n",
              "      <td>Planet</td>\n",
              "      <td>Replacement Dimension</td>\n",
              "    </tr>\n",
              "    <tr>\n",
              "      <th>4</th>\n",
              "      <td>125.0</td>\n",
              "      <td>Rick and Two Crows Planet</td>\n",
              "      <td>Planet</td>\n",
              "      <td>Replacement Dimension</td>\n",
              "    </tr>\n",
              "    <tr>\n",
              "      <th>5</th>\n",
              "      <td>126.0</td>\n",
              "      <td>Rick's Memories</td>\n",
              "      <td>Memory</td>\n",
              "      <td></td>\n",
              "    </tr>\n",
              "  </tbody>\n",
              "</table>\n",
              "</div>\n",
              "      <button class=\"colab-df-convert\" onclick=\"convertToInteractive('df-48afed79-9665-47e2-a684-dc1fd941ec25')\"\n",
              "              title=\"Convert this dataframe to an interactive table.\"\n",
              "              style=\"display:none;\">\n",
              "        \n",
              "  <svg xmlns=\"http://www.w3.org/2000/svg\" height=\"24px\"viewBox=\"0 0 24 24\"\n",
              "       width=\"24px\">\n",
              "    <path d=\"M0 0h24v24H0V0z\" fill=\"none\"/>\n",
              "    <path d=\"M18.56 5.44l.94 2.06.94-2.06 2.06-.94-2.06-.94-.94-2.06-.94 2.06-2.06.94zm-11 1L8.5 8.5l.94-2.06 2.06-.94-2.06-.94L8.5 2.5l-.94 2.06-2.06.94zm10 10l.94 2.06.94-2.06 2.06-.94-2.06-.94-.94-2.06-.94 2.06-2.06.94z\"/><path d=\"M17.41 7.96l-1.37-1.37c-.4-.4-.92-.59-1.43-.59-.52 0-1.04.2-1.43.59L10.3 9.45l-7.72 7.72c-.78.78-.78 2.05 0 2.83L4 21.41c.39.39.9.59 1.41.59.51 0 1.02-.2 1.41-.59l7.78-7.78 2.81-2.81c.8-.78.8-2.07 0-2.86zM5.41 20L4 18.59l7.72-7.72 1.47 1.35L5.41 20z\"/>\n",
              "  </svg>\n",
              "      </button>\n",
              "      \n",
              "  <style>\n",
              "    .colab-df-container {\n",
              "      display:flex;\n",
              "      flex-wrap:wrap;\n",
              "      gap: 12px;\n",
              "    }\n",
              "\n",
              "    .colab-df-convert {\n",
              "      background-color: #E8F0FE;\n",
              "      border: none;\n",
              "      border-radius: 50%;\n",
              "      cursor: pointer;\n",
              "      display: none;\n",
              "      fill: #1967D2;\n",
              "      height: 32px;\n",
              "      padding: 0 0 0 0;\n",
              "      width: 32px;\n",
              "    }\n",
              "\n",
              "    .colab-df-convert:hover {\n",
              "      background-color: #E2EBFA;\n",
              "      box-shadow: 0px 1px 2px rgba(60, 64, 67, 0.3), 0px 1px 3px 1px rgba(60, 64, 67, 0.15);\n",
              "      fill: #174EA6;\n",
              "    }\n",
              "\n",
              "    [theme=dark] .colab-df-convert {\n",
              "      background-color: #3B4455;\n",
              "      fill: #D2E3FC;\n",
              "    }\n",
              "\n",
              "    [theme=dark] .colab-df-convert:hover {\n",
              "      background-color: #434B5C;\n",
              "      box-shadow: 0px 1px 3px 1px rgba(0, 0, 0, 0.15);\n",
              "      filter: drop-shadow(0px 1px 2px rgba(0, 0, 0, 0.3));\n",
              "      fill: #FFFFFF;\n",
              "    }\n",
              "  </style>\n",
              "\n",
              "      <script>\n",
              "        const buttonEl =\n",
              "          document.querySelector('#df-48afed79-9665-47e2-a684-dc1fd941ec25 button.colab-df-convert');\n",
              "        buttonEl.style.display =\n",
              "          google.colab.kernel.accessAllowed ? 'block' : 'none';\n",
              "\n",
              "        async function convertToInteractive(key) {\n",
              "          const element = document.querySelector('#df-48afed79-9665-47e2-a684-dc1fd941ec25');\n",
              "          const dataTable =\n",
              "            await google.colab.kernel.invokeFunction('convertToInteractive',\n",
              "                                                     [key], {});\n",
              "          if (!dataTable) return;\n",
              "\n",
              "          const docLinkHtml = 'Like what you see? Visit the ' +\n",
              "            '<a target=\"_blank\" href=https://colab.research.google.com/notebooks/data_table.ipynb>data table notebook</a>'\n",
              "            + ' to learn more about interactive tables.';\n",
              "          element.innerHTML = '';\n",
              "          dataTable['output_type'] = 'display_data';\n",
              "          await google.colab.output.renderOutput(dataTable, element);\n",
              "          const docLink = document.createElement('div');\n",
              "          docLink.innerHTML = docLinkHtml;\n",
              "          element.appendChild(docLink);\n",
              "        }\n",
              "      </script>\n",
              "    </div>\n",
              "  </div>\n",
              "  "
            ],
            "text/plain": [
              "      id                       name           type              dimension\n",
              "0  121.0       Rick's Consciousness  Consciousness  Replacement Dimension\n",
              "1  122.0               Avian Planet         Planet  Replacement Dimension\n",
              "2  123.0  Normal Size Bug Dimension      Dimension                       \n",
              "3  124.0                 Slartivart         Planet  Replacement Dimension\n",
              "4  125.0  Rick and Two Crows Planet         Planet  Replacement Dimension\n",
              "5  126.0            Rick's Memories         Memory                       "
            ]
          },
          "metadata": {},
          "execution_count": 11
        }
      ]
    }
  ]
}
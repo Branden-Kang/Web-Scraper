{
  "nbformat": 4,
  "nbformat_minor": 0,
  "metadata": {
    "colab": {
      "provenance": [],
      "authorship_tag": "ABX9TyMp091TgDRBen773GemRDH+"
    },
    "kernelspec": {
      "name": "python3",
      "display_name": "Python 3"
    },
    "language_info": {
      "name": "python"
    }
  },
  "cells": [
    {
      "cell_type": "markdown",
      "source": [
        "[Reference](https://medium.com/geekculture/how-to-find-the-perfect-job-with-web-scraping-4c968d67d58a)"
      ],
      "metadata": {
        "id": "Ayhs6yRRY1L-"
      }
    },
    {
      "cell_type": "code",
      "execution_count": 1,
      "metadata": {
        "id": "ta7pf_NyYwwy"
      },
      "outputs": [],
      "source": [
        "# import requests\n",
        "# from bs4 import BeautifulSoup\n",
        "# import pandas as pd\n",
        "\n",
        "# url = 'https://ca.indeed.com/jobs?q=data+science&l=Toronto%2C+ON&from=searchOnHP&vjk=85aa2f6b0d86421a'\n",
        "# requests.get(url)\n",
        "# page = requests.get(url)\n",
        "\n",
        "# df = pd.DataFrame({'Link':[''], 'Job Title':[''], 'Company':[''], 'Date Posted':[''], 'Location':['']})\n",
        "\n",
        "# while True:\n",
        "        \n",
        "#     soup = BeautifulSoup(page.text, 'lxml')\n",
        "#     job_postings = soup.find_all('div', class_ ='job_seen_beacon')\n",
        "    \n",
        "#     for i in job_postings:\n",
        "#         link = i.find('a').get('href')\n",
        "#         job_title = i.find('a', class_ = 'jcs-JobTitle css-jspxzf eu4oa1w0').text\n",
        "#         company = i.find('span', class_ = 'companyName').text\n",
        "#         location = i.find('div', class_ = 'companyLocation').text\n",
        "#         date_posted = i.find('span', class_ = 'date').text\n",
        "#         df = df.append({'Link':link, 'Job Title':job_title, 'Company':company, 'Date Posted':date_posted, 'Location':location}, ignore_index = True)\n",
        "        \n",
        "#     next_page = soup.find('a', {'aria-label': 'Next Page'}).get('href')\n",
        "#     next_page = 'https://ca.indeed.com' +next_page\n",
        "#     url = 'https://www.worldometers.info/world-population/'\n",
        "#     page = requests.get(url)\n"
      ]
    }
  ]
}
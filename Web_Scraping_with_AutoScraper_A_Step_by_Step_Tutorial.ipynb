{
  "nbformat": 4,
  "nbformat_minor": 0,
  "metadata": {
    "colab": {
      "provenance": [],
      "authorship_tag": "ABX9TyOdIWPNYs5Zrq5DY81BNOhi"
    },
    "kernelspec": {
      "name": "python3",
      "display_name": "Python 3"
    },
    "language_info": {
      "name": "python"
    }
  },
  "cells": [
    {
      "cell_type": "markdown",
      "source": [
        "[Reference](https://medium.com/@datajournal/web-scraping-with-autoscraper-aaf6128c9ca2)"
      ],
      "metadata": {
        "id": "_NCunFvjQZ3j"
      }
    },
    {
      "cell_type": "code",
      "execution_count": 1,
      "metadata": {
        "colab": {
          "base_uri": "https://localhost:8080/"
        },
        "id": "bfuVv0L9QTRz",
        "outputId": "a49f6453-9727-4dba-a140-8ba7b9523480"
      },
      "outputs": [
        {
          "output_type": "stream",
          "name": "stdout",
          "text": [
            "Collecting autoscraper\n",
            "  Downloading autoscraper-1.1.14-py3-none-any.whl.metadata (5.3 kB)\n",
            "Requirement already satisfied: pandas in /usr/local/lib/python3.10/dist-packages (2.2.2)\n",
            "Requirement already satisfied: requests in /usr/local/lib/python3.10/dist-packages (from autoscraper) (2.32.3)\n",
            "Collecting bs4 (from autoscraper)\n",
            "  Downloading bs4-0.0.2-py2.py3-none-any.whl.metadata (411 bytes)\n",
            "Requirement already satisfied: lxml in /usr/local/lib/python3.10/dist-packages (from autoscraper) (5.3.0)\n",
            "Requirement already satisfied: numpy>=1.22.4 in /usr/local/lib/python3.10/dist-packages (from pandas) (1.26.4)\n",
            "Requirement already satisfied: python-dateutil>=2.8.2 in /usr/local/lib/python3.10/dist-packages (from pandas) (2.8.2)\n",
            "Requirement already satisfied: pytz>=2020.1 in /usr/local/lib/python3.10/dist-packages (from pandas) (2024.2)\n",
            "Requirement already satisfied: tzdata>=2022.7 in /usr/local/lib/python3.10/dist-packages (from pandas) (2024.2)\n",
            "Requirement already satisfied: six>=1.5 in /usr/local/lib/python3.10/dist-packages (from python-dateutil>=2.8.2->pandas) (1.16.0)\n",
            "Requirement already satisfied: beautifulsoup4 in /usr/local/lib/python3.10/dist-packages (from bs4->autoscraper) (4.12.3)\n",
            "Requirement already satisfied: charset-normalizer<4,>=2 in /usr/local/lib/python3.10/dist-packages (from requests->autoscraper) (3.4.0)\n",
            "Requirement already satisfied: idna<4,>=2.5 in /usr/local/lib/python3.10/dist-packages (from requests->autoscraper) (3.10)\n",
            "Requirement already satisfied: urllib3<3,>=1.21.1 in /usr/local/lib/python3.10/dist-packages (from requests->autoscraper) (2.2.3)\n",
            "Requirement already satisfied: certifi>=2017.4.17 in /usr/local/lib/python3.10/dist-packages (from requests->autoscraper) (2024.8.30)\n",
            "Requirement already satisfied: soupsieve>1.2 in /usr/local/lib/python3.10/dist-packages (from beautifulsoup4->bs4->autoscraper) (2.6)\n",
            "Downloading autoscraper-1.1.14-py3-none-any.whl (10 kB)\n",
            "Downloading bs4-0.0.2-py2.py3-none-any.whl (1.2 kB)\n",
            "Installing collected packages: bs4, autoscraper\n",
            "Successfully installed autoscraper-1.1.14 bs4-0.0.2\n"
          ]
        }
      ],
      "source": [
        "pip install autoscraper pandas"
      ]
    },
    {
      "cell_type": "markdown",
      "source": [
        "# Import Libraries"
      ],
      "metadata": {
        "id": "Xd4vK7jTQihf"
      }
    },
    {
      "cell_type": "code",
      "source": [
        "from autoscraper import AutoScraper\n",
        "import pandas as pd"
      ],
      "metadata": {
        "id": "hqGfVbluQezY"
      },
      "execution_count": 2,
      "outputs": []
    },
    {
      "cell_type": "markdown",
      "source": [
        "# Define the Target URL and Example Data"
      ],
      "metadata": {
        "id": "Ds5Yb3BjQjZ-"
      }
    },
    {
      "cell_type": "code",
      "source": [
        "url = \"http://books.toscrape.com/\"\n",
        "wanted_list = [\"A Light in the Attic\", \"£51.77\", \"Three\"]"
      ],
      "metadata": {
        "id": "xCSIFXCvQgEH"
      },
      "execution_count": 3,
      "outputs": []
    },
    {
      "cell_type": "markdown",
      "source": [
        "# Build the Scraper"
      ],
      "metadata": {
        "id": "4hjmFMZgQmJx"
      }
    },
    {
      "cell_type": "code",
      "source": [
        "scraper = AutoScraper()\n",
        "scraper.build(url, wanted_list)"
      ],
      "metadata": {
        "colab": {
          "base_uri": "https://localhost:8080/"
        },
        "id": "3pY5QUeAQlJA",
        "outputId": "dc21c894-a939-407c-b0fb-a234bbc10872"
      },
      "execution_count": 4,
      "outputs": [
        {
          "output_type": "execute_result",
          "data": {
            "text/plain": [
              "['A Light in the Attic',\n",
              " 'Tipping the Velvet',\n",
              " 'Soumission',\n",
              " 'Sharp Objects',\n",
              " 'Sapiens: A Brief History of Humankind',\n",
              " 'The Requiem Red',\n",
              " 'The Dirty Little Secrets of Getting Your Dream Job',\n",
              " 'The Coming Woman: A Novel Based on the Life of the Infamous Feminist, Victoria Woodhull',\n",
              " 'The Boys in the Boat: Nine Americans and Their Epic Quest for Gold at the 1936 Berlin Olympics',\n",
              " 'The Black Maria',\n",
              " 'Starving Hearts (Triangular Trade Trilogy, #1)',\n",
              " \"Shakespeare's Sonnets\",\n",
              " 'Set Me Free',\n",
              " \"Scott Pilgrim's Precious Little Life (Scott Pilgrim #1)\",\n",
              " 'Rip it Up and Start Again',\n",
              " 'Our Band Could Be Your Life: Scenes from the American Indie Underground, 1981-1991',\n",
              " 'Olio',\n",
              " 'Mesaerion: The Best Science Fiction Stories 1800-1849',\n",
              " 'Libertarianism for Beginners',\n",
              " \"It's Only the Himalayas\",\n",
              " '£51.77',\n",
              " '£53.74',\n",
              " '£50.10',\n",
              " '£47.82',\n",
              " '£54.23',\n",
              " '£22.65',\n",
              " '£33.34',\n",
              " '£17.93',\n",
              " '£22.60',\n",
              " '£52.15',\n",
              " '£13.99',\n",
              " '£20.66',\n",
              " '£17.46',\n",
              " '£52.29',\n",
              " '£35.02',\n",
              " '£57.25',\n",
              " '£23.88',\n",
              " '£37.59',\n",
              " '£51.33',\n",
              " '£45.17']"
            ]
          },
          "metadata": {},
          "execution_count": 4
        }
      ]
    },
    {
      "cell_type": "markdown",
      "source": [
        "# Reviewing the Results"
      ],
      "metadata": {
        "id": "5AwmBuQ3QrVx"
      }
    },
    {
      "cell_type": "code",
      "source": [
        "results = scraper.get_result_similar(url, grouped=True)\n",
        "print(\"Keys found by the scraper:\", results.keys())"
      ],
      "metadata": {
        "colab": {
          "base_uri": "https://localhost:8080/"
        },
        "id": "PGqKND4iQqOH",
        "outputId": "ff4ef27e-6a19-4736-f856-bdf96eca5fb9"
      },
      "execution_count": 5,
      "outputs": [
        {
          "output_type": "stream",
          "name": "stdout",
          "text": [
            "Keys found by the scraper: dict_keys(['rule_wqrg', 'rule_jo2w', 'rule_vws4'])\n"
          ]
        }
      ]
    },
    {
      "cell_type": "markdown",
      "source": [
        "## Organize and Store the Data"
      ],
      "metadata": {
        "id": "3iXxt2tQQxL1"
      }
    },
    {
      "cell_type": "code",
      "source": [
        "columns = [\"Title\", \"Price\", \"Rating\"]\n",
        "data = {columns[i]: results[list(results.keys())[i]] for i in range(len(columns))}\n",
        "df = pd.DataFrame(data)"
      ],
      "metadata": {
        "id": "nmVRC22eQuAy"
      },
      "execution_count": 6,
      "outputs": []
    },
    {
      "cell_type": "markdown",
      "source": [
        "## Save Data to CSV"
      ],
      "metadata": {
        "id": "FpbvHzw2Q1Kp"
      }
    },
    {
      "cell_type": "code",
      "source": [
        "df.to_csv('books_data.csv', index=False)\n",
        "print(\"Data saved to books_data.csv\")"
      ],
      "metadata": {
        "colab": {
          "base_uri": "https://localhost:8080/"
        },
        "id": "T47OjemNQ0JI",
        "outputId": "aa4fac84-db6a-4989-a1ac-9e086a18d909"
      },
      "execution_count": 7,
      "outputs": [
        {
          "output_type": "stream",
          "name": "stdout",
          "text": [
            "Data saved to books_data.csv\n"
          ]
        }
      ]
    },
    {
      "cell_type": "markdown",
      "source": [
        "# Scraping Paginated Content"
      ],
      "metadata": {
        "id": "MZTQ-EI9Q6Kx"
      }
    },
    {
      "cell_type": "markdown",
      "source": [
        "## Update URL and Sample Data"
      ],
      "metadata": {
        "id": "Dw1gCkPKQ7jT"
      }
    },
    {
      "cell_type": "code",
      "source": [
        "urls = [f\"http://books.toscrape.com/catalogue/page-{i}.html\" for i in range(1, 3)]"
      ],
      "metadata": {
        "id": "4r02LArzQ2TF"
      },
      "execution_count": 8,
      "outputs": []
    },
    {
      "cell_type": "markdown",
      "source": [
        "## Update URL and Sample Data"
      ],
      "metadata": {
        "id": "G5SRtIUXRCJ4"
      }
    },
    {
      "cell_type": "code",
      "source": [
        "all_data = []\n",
        "for page_url in urls:\n",
        "    results = scraper.get_result_similar(page_url, grouped=True)\n",
        "    data = {columns[i]: results[list(results.keys())[i]] for i in range(len(columns))}\n",
        "    all_data.append(pd.DataFrame(data))\n",
        "full_data = pd.concat(all_data, ignore_index=True)\n",
        "full_data.to_csv('books_data_paginated.csv', index=False)"
      ],
      "metadata": {
        "id": "6ihH8hfzREGo"
      },
      "execution_count": 10,
      "outputs": []
    },
    {
      "cell_type": "markdown",
      "source": [
        "# Using AutoScraper for Complex Websites"
      ],
      "metadata": {
        "id": "kU31tpgaRJrM"
      }
    },
    {
      "cell_type": "markdown",
      "source": [
        "## Define URL and Sample Data"
      ],
      "metadata": {
        "id": "G60AfAWrRKt9"
      }
    },
    {
      "cell_type": "code",
      "source": [
        "url = \"https://sample-movie-site.com/movies\"\n",
        "wanted_list = [\"Inception\", \"2010\", \"8.8\"]"
      ],
      "metadata": {
        "id": "mdIUMvrvRET8"
      },
      "execution_count": 11,
      "outputs": []
    },
    {
      "cell_type": "markdown",
      "source": [
        "## Train and Prune Rules"
      ],
      "metadata": {
        "id": "VIqzDFMeRWzv"
      }
    },
    {
      "cell_type": "code",
      "source": [
        "scraper.build(url, wanted_list)\n",
        "rules_to_keep = ['rule_1kq7', 'rule_a5xp', 'rule_9vbn'] # Sample rule names for data columns\n",
        "scraper.keep_rules(rules_to_keep)\n",
        "scraper.save('movies_model.json')"
      ],
      "metadata": {
        "id": "dg84XDu-RV98"
      },
      "execution_count": 13,
      "outputs": []
    },
    {
      "cell_type": "markdown",
      "source": [
        "## Extract Data with Trained Model"
      ],
      "metadata": {
        "id": "g4Qj3h_aRZl0"
      }
    },
    {
      "cell_type": "code",
      "source": [
        "scraper.load('movies_model.json')\n",
        "results = scraper.get_result_similar(url, grouped=True)\n",
        "# Define columns based on rules and organize data\n",
        "columns = [\"Title\", \"Year\", \"Rating\"]\n",
        "data = {columns[i]: results[list(results.keys())[i]] for i in range(len(columns))}\n",
        "df = pd.DataFrame(data)\n",
        "df.to_csv('movies_data.csv', index=False)"
      ],
      "metadata": {
        "id": "6hSZzfyfRYio"
      },
      "execution_count": 14,
      "outputs": []
    }
  ]
}
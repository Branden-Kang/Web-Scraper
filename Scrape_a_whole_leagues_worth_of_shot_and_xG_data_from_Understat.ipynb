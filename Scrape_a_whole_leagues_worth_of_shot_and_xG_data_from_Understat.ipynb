{
  "nbformat": 4,
  "nbformat_minor": 0,
  "metadata": {
    "colab": {
      "provenance": [],
      "authorship_tag": "ABX9TyMbYxa4wlQlNn2ytaRqgCmk"
    },
    "kernelspec": {
      "name": "python3",
      "display_name": "Python 3"
    },
    "language_info": {
      "name": "python"
    }
  },
  "cells": [
    {
      "cell_type": "markdown",
      "source": [
        "[Reference](https://leftsidedcentrehalf.medium.com/scrape-a-whole-leagues-worth-of-shot-and-xg-data-from-understat-75f1f112e874)"
      ],
      "metadata": {
        "id": "5mf5gA--RXVA"
      }
    },
    {
      "cell_type": "code",
      "source": [
        "import requests\n",
        "from bs4 import BeautifulSoup\n",
        "import json\n",
        "import pandas as pd"
      ],
      "metadata": {
        "id": "i3XVx_nEQ3BX"
      },
      "execution_count": 3,
      "outputs": []
    },
    {
      "cell_type": "code",
      "execution_count": 4,
      "metadata": {
        "colab": {
          "base_uri": "https://localhost:8080/"
        },
        "id": "3JNPRyxjQuxf",
        "outputId": "8e0022eb-993e-4e5b-b0d4-70cdc220dac3"
      },
      "outputs": [
        {
          "output_type": "stream",
          "name": "stdout",
          "text": [
            "CPU times: user 2.57 s, sys: 78 ms, total: 2.65 s\n",
            "Wall time: 26.9 s\n"
          ]
        }
      ],
      "source": [
        "%%time\n",
        "\n",
        "understat_ids = range(18202,18261+1)\n",
        "match_data = []\n",
        "\n",
        "for id in understat_ids:\n",
        "    base_urls = f'https://understat.com/match/{id}'\n",
        "#Use requests to get the webpage and BeautifulSoup to parse the page\n",
        "    res = requests.get(base_urls)\n",
        "    soup = BeautifulSoup(res.content, 'lxml')\n",
        "    scripts = soup.find_all('script')\n",
        "#get only the shotsData\n",
        "    strings = scripts[1].string\n",
        "\n",
        "# strip unnecessary symbols and get only JSON data\n",
        "    ind_start = strings.index(\"('\")+2\n",
        "    ind_end = strings.index(\"')\")\n",
        "    json_data = strings[ind_start:ind_end]\n",
        "    json_data = json_data.encode('utf8').decode('unicode_escape')\n",
        "\n",
        "#convert string to json format\n",
        "    data = json.loads(json_data)\n",
        "#iterate JSON and extend match_data with a list of dicts\n",
        "    match_data.extend([d for k in data.keys() for d in data[k]])\n",
        "\n",
        "global epl\n",
        "epl = pd.DataFrame(match_data)\n",
        "\n",
        "epl['fixtureName'] = epl['h_team'] + ' ' + 'v' + ' ' + epl['a_team']\n",
        "\n",
        "epl.to_csv('Epl2223.csv',index=False)"
      ]
    }
  ]
}
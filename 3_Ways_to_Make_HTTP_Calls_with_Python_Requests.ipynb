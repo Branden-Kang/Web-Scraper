{
  "nbformat": 4,
  "nbformat_minor": 0,
  "metadata": {
    "colab": {
      "provenance": [],
      "authorship_tag": "ABX9TyOjAA22tTMcuGYLcYkhiu3Q"
    },
    "kernelspec": {
      "name": "python3",
      "display_name": "Python 3"
    },
    "language_info": {
      "name": "python"
    }
  },
  "cells": [
    {
      "cell_type": "markdown",
      "source": [
        "[Reference](https://levelup.gitconnected.com/3-ways-to-make-http-calls-with-python-requests-beginner-to-advanced-a5ca289ff342)"
      ],
      "metadata": {
        "id": "2HpZllDr22oT"
      }
    },
    {
      "cell_type": "markdown",
      "source": [
        "# Level 1: Basic HTTP Requests"
      ],
      "metadata": {
        "id": "YbjQrW5w26IW"
      }
    },
    {
      "cell_type": "code",
      "execution_count": 1,
      "metadata": {
        "colab": {
          "base_uri": "https://localhost:8080/"
        },
        "id": "r5dkhstf2nhX",
        "outputId": "bbc4bab9-1177-48fd-d0a0-50eb272e4885"
      },
      "outputs": [
        {
          "output_type": "stream",
          "name": "stdout",
          "text": [
            "<!doctype html>\n",
            "<html>\n",
            "<head>\n",
            "    <title>Example Domain</title>\n",
            "\n",
            "    <meta charset=\"utf-8\" />\n",
            "    <meta http-equiv=\"Content-type\" content=\"text/html; charset=utf-8\" />\n",
            "    <meta name=\"viewport\" content=\"width=device-width, initial-scale=1\" />\n",
            "    <style type=\"text/css\">\n",
            "    body {\n",
            "        background-color: #f0f0f2;\n",
            "        margin: 0;\n",
            "        padding: 0;\n",
            "        font-family: -apple-system, system-ui, BlinkMacSystemFont, \"Segoe UI\", \"Open Sans\", \"Helvetica Neue\", Helvetica, Arial, sans-serif;\n",
            "        \n",
            "    }\n",
            "    div {\n",
            "        width: 600px;\n",
            "        margin: 5em auto;\n",
            "        padding: 2em;\n",
            "        background-color: #fdfdff;\n",
            "        border-radius: 0.5em;\n",
            "        box-shadow: 2px 3px 7px 2px rgba(0,0,0,0.02);\n",
            "    }\n",
            "    a:link, a:visited {\n",
            "        color: #38488f;\n",
            "        text-decoration: none;\n",
            "    }\n",
            "    @media (max-width: 700px) {\n",
            "        div {\n",
            "            margin: 0 auto;\n",
            "            width: auto;\n",
            "        }\n",
            "    }\n",
            "    </style>    \n",
            "</head>\n",
            "\n",
            "<body>\n",
            "<div>\n",
            "    <h1>Example Domain</h1>\n",
            "    <p>This domain is for use in illustrative examples in documents. You may use this\n",
            "    domain in literature without prior coordination or asking for permission.</p>\n",
            "    <p><a href=\"https://www.iana.org/domains/example\">More information...</a></p>\n",
            "</div>\n",
            "</body>\n",
            "</html>\n",
            "\n"
          ]
        }
      ],
      "source": [
        "import requests\n",
        "response = requests.get('https://example.com')\n",
        "print(response.text)"
      ]
    },
    {
      "cell_type": "code",
      "source": [
        "import requests\n",
        "data = {'vonage': 'loves', 'python': '!'}\n",
        "response = requests.post('https://httpbin.org/post', json=data)\n",
        "print(response.json())"
      ],
      "metadata": {
        "colab": {
          "base_uri": "https://localhost:8080/"
        },
        "id": "Qoc5fWve272h",
        "outputId": "3443fde0-8b47-4987-9488-71200fca5f9e"
      },
      "execution_count": 3,
      "outputs": [
        {
          "output_type": "stream",
          "name": "stdout",
          "text": [
            "{'args': {}, 'data': '{\"vonage\": \"loves\", \"python\": \"!\"}', 'files': {}, 'form': {}, 'headers': {'Accept': '*/*', 'Accept-Encoding': 'gzip, deflate', 'Content-Length': '34', 'Content-Type': 'application/json', 'Host': 'httpbin.org', 'User-Agent': 'python-requests/2.31.0', 'X-Amzn-Trace-Id': 'Root=1-661223d5-1bd8c53538d809a439b9c0fe'}, 'json': {'python': '!', 'vonage': 'loves'}, 'origin': '34.28.19.157', 'url': 'https://httpbin.org/post'}\n"
          ]
        }
      ]
    },
    {
      "cell_type": "markdown",
      "source": [
        "# Level 2: Using Sessions for Persistence"
      ],
      "metadata": {
        "id": "UOuU__Xl3Aa2"
      }
    },
    {
      "cell_type": "code",
      "source": [
        "import requests\n",
        "# Create a session\n",
        "session = requests.Session()\n",
        "# Set headers to be sent in every request\n",
        "session.headers.update({'Accepts': 'application/json'})\n",
        "# Perform multiple requests within the same session\n",
        "response1 = session.get('https://example.com/some-page')\n",
        "response2 = session.get('https://example.com/some-other-page')"
      ],
      "metadata": {
        "id": "VnfB5Baj29N6"
      },
      "execution_count": 4,
      "outputs": []
    },
    {
      "cell_type": "code",
      "source": [
        "import requests\n",
        "import time\n",
        "start_time = time.perf_counter()\n",
        "number_conversions = {}\n",
        "params = {'api_key': 'MY_API_KEY', 'api_secret': 'MY_API_SECRET', 'country': 'GB'}\n",
        "for i in range(100):\n",
        "    phone_number = str(1614960100 + i)\n",
        "    params['number'] = phone_number\n",
        "\n",
        "    with requests.get(\n",
        "        'https://api.nexmo.com/ni/basic/json',\n",
        "        params=params,\n",
        "    ) as response:\n",
        "        number_conversions[phone_number] = response.json()[\n",
        "            'international_format_number'\n",
        "        ]\n",
        "elasped_time = time.perf_counter() - start_time\n",
        "print(f'Time elapsed is: {elasped_time} seconds.')"
      ],
      "metadata": {
        "id": "MZhO_Bwu3ENk"
      },
      "execution_count": 6,
      "outputs": []
    },
    {
      "cell_type": "markdown",
      "source": [
        "# Level 3: Leveraging an HTTP Adapter for Advanced Settings"
      ],
      "metadata": {
        "id": "Yju4E6ri3Pe2"
      }
    },
    {
      "cell_type": "code",
      "source": [
        "import requests\n",
        "from requests.adapters import HTTPAdapter\n",
        "session = requests.Session()\n",
        "# Create an HTTPAdapter object and configure connection pooling and retries\n",
        "adapter = HTTPAdapter(pool_connections=20, pool_maxsize=5, max_retries=3)\n",
        "# Mount the HTTPAdpater object to the session\n",
        "session.mount('https://', adapter)\n",
        "response = session.get('https://example.com')"
      ],
      "metadata": {
        "id": "TXXfu-4w3GfB"
      },
      "execution_count": 7,
      "outputs": []
    },
    {
      "cell_type": "code",
      "source": [
        "import vonage\n",
        "client = vonage.Client(key='MY_API_KEY', secret='MY_API_SECRET')\n",
        "number_conversions = {}\n",
        "for i in range(100):\n",
        "    phone_number = str(1614960100 + i)\n",
        "    response = client.number_insight.get_basic_number_insight(\n",
        "        country='GB', number=phone_number\n",
        "    )\n",
        "    number_conversions[phone_number] = response['international_format_number']"
      ],
      "metadata": {
        "id": "yTHmnJdR3RTX"
      },
      "execution_count": 8,
      "outputs": []
    }
  ]
}
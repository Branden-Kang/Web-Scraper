{
  "nbformat": 4,
  "nbformat_minor": 0,
  "metadata": {
    "colab": {
      "name": "Learn Web Scraping using Python.ipynb",
      "provenance": [],
      "authorship_tag": "ABX9TyPTrBfQkktJ+4t8Mjpy81Lq"
    },
    "kernelspec": {
      "name": "python3",
      "display_name": "Python 3"
    },
    "language_info": {
      "name": "python"
    }
  },
  "cells": [
    {
      "cell_type": "code",
      "metadata": {
        "id": "7xOt222KXKj1"
      },
      "source": [
        "# import libraries\n",
        "from urllib.request import urlopen\n",
        "from bs4 import BeautifulSoup\n",
        "\n",
        "# specify the url\n",
        "url = \"https://www.bbc.com/sport/football/46897172\"\n",
        "\n",
        "# Connect to the website and return the html to the variable ‘page’\n",
        "try:\n",
        "    page = urlopen(url)\n",
        "except:\n",
        "    print(\"Error opening the URL\")\n",
        "\n",
        "# parse the html using beautiful soup and store in variable `soup`\n",
        "soup = BeautifulSoup(page, 'html.parser')\n",
        "\n",
        "# Take out the <div> of name and get its value\n",
        "content = soup.find('div', {\"class\": \"story-body sp-story-body gel-body-copy\"})\n",
        "\n",
        "article = ''\n",
        "for i in content.findAll('p'):\n",
        "    article = article + ' ' +  i.text\n",
        "print(article)\n",
        "\n",
        "# Saving the scraped text\n",
        "with open('scraped_text.txt', 'w') as file:\n",
        "    file.write(article)"
      ],
      "execution_count": 3,
      "outputs": []
    }
  ]
}
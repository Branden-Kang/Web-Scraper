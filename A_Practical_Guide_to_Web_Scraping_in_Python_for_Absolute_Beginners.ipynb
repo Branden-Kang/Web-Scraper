{
  "nbformat": 4,
  "nbformat_minor": 0,
  "metadata": {
    "colab": {
      "provenance": [],
      "authorship_tag": "ABX9TyMm7OuvSL51AYOaFcxfvM2s"
    },
    "kernelspec": {
      "name": "python3",
      "display_name": "Python 3"
    },
    "language_info": {
      "name": "python"
    }
  },
  "cells": [
    {
      "cell_type": "markdown",
      "source": [
        "[Reference](https://medium.com/@aliyannshaikhh/c2f106b42a1d)"
      ],
      "metadata": {
        "id": "a6ypHD5KLDch"
      }
    },
    {
      "cell_type": "markdown",
      "source": [
        "# Step # 1: Installing Required Libraries"
      ],
      "metadata": {
        "id": "EtyTkScCLGkY"
      }
    },
    {
      "cell_type": "code",
      "execution_count": 1,
      "metadata": {
        "colab": {
          "base_uri": "https://localhost:8080/"
        },
        "id": "_614IvXcLBvZ",
        "outputId": "ae25c4e3-9933-4806-83df-e5da01a646ed"
      },
      "outputs": [
        {
          "output_type": "stream",
          "name": "stdout",
          "text": [
            "Requirement already satisfied: requests in /usr/local/lib/python3.12/dist-packages (2.32.4)\n",
            "Requirement already satisfied: beautifulsoup4 in /usr/local/lib/python3.12/dist-packages (4.13.5)\n",
            "Requirement already satisfied: charset_normalizer<4,>=2 in /usr/local/lib/python3.12/dist-packages (from requests) (3.4.3)\n",
            "Requirement already satisfied: idna<4,>=2.5 in /usr/local/lib/python3.12/dist-packages (from requests) (3.10)\n",
            "Requirement already satisfied: urllib3<3,>=1.21.1 in /usr/local/lib/python3.12/dist-packages (from requests) (2.5.0)\n",
            "Requirement already satisfied: certifi>=2017.4.17 in /usr/local/lib/python3.12/dist-packages (from requests) (2025.10.5)\n",
            "Requirement already satisfied: soupsieve>1.2 in /usr/local/lib/python3.12/dist-packages (from beautifulsoup4) (2.8)\n",
            "Requirement already satisfied: typing-extensions>=4.0.0 in /usr/local/lib/python3.12/dist-packages (from beautifulsoup4) (4.15.0)\n"
          ]
        }
      ],
      "source": [
        "!pip install requests beautifulsoup4"
      ]
    },
    {
      "cell_type": "markdown",
      "source": [
        "# Step # 2: Fetching and Parsing the Web Page"
      ],
      "metadata": {
        "id": "3-QpvX7OLIWE"
      }
    },
    {
      "cell_type": "code",
      "source": [
        "import requests\n",
        "from bs4 import BeautifulSoup\n",
        "\n",
        "# Fetch the webpage\n",
        "url = \"https://quotes.toscrape.com/\"\n",
        "response = requests.get(url)\n",
        "\n",
        "# Check if the page was fetched successfully\n",
        "print(response.status_code)  # Output: 200 (OK)\n",
        "\n",
        "# Parse the HTML content\n",
        "soup = BeautifulSoup(response.text, \"html.parser\")\n",
        "\n",
        "# Print the page title to confirm parsing worked\n",
        "print(soup.title.text)  # Output: Quotes to Scrape"
      ],
      "metadata": {
        "colab": {
          "base_uri": "https://localhost:8080/"
        },
        "id": "okH2T2AwLHgZ",
        "outputId": "6a95bbe3-0eca-47cf-f306-e579701f466c"
      },
      "execution_count": 2,
      "outputs": [
        {
          "output_type": "stream",
          "name": "stdout",
          "text": [
            "200\n",
            "Quotes to Scrape\n"
          ]
        }
      ]
    },
    {
      "cell_type": "markdown",
      "source": [
        "# Step # 3: Extracting Data"
      ],
      "metadata": {
        "id": "aerksXn-LKzF"
      }
    },
    {
      "cell_type": "code",
      "source": [
        "import requests\n",
        "from bs4 import BeautifulSoup\n",
        "\n",
        "# Fetch the webpage\n",
        "url = \"https://quotes.toscrape.com/\"\n",
        "response = requests.get(url)\n",
        "\n",
        "# Parse the HTML content\n",
        "soup = BeautifulSoup(response.text, \"html.parser\")\n",
        "\n",
        "# Extract all quotes and names of the authors\n",
        "quotes = soup.find_all(\"span\", class_=\"text\")\n",
        "authors = soup.find_all(\"small\", class_=\"author\")\n",
        "\n",
        "# Loop through quotes and authors and print them\n",
        "for quote, author in zip(quotes, authors):\n",
        "    print(f\"{quote.text} — {author.text}\")"
      ],
      "metadata": {
        "colab": {
          "base_uri": "https://localhost:8080/"
        },
        "id": "InncWyrULJeQ",
        "outputId": "4cc79592-5f43-4ed6-8a7a-bee8c0114980"
      },
      "execution_count": 3,
      "outputs": [
        {
          "output_type": "stream",
          "name": "stdout",
          "text": [
            "“The world as we have created it is a process of our thinking. It cannot be changed without changing our thinking.” — Albert Einstein\n",
            "“It is our choices, Harry, that show what we truly are, far more than our abilities.” — J.K. Rowling\n",
            "“There are only two ways to live your life. One is as though nothing is a miracle. The other is as though everything is a miracle.” — Albert Einstein\n",
            "“The person, be it gentleman or lady, who has not pleasure in a good novel, must be intolerably stupid.” — Jane Austen\n",
            "“Imperfection is beauty, madness is genius and it's better to be absolutely ridiculous than absolutely boring.” — Marilyn Monroe\n",
            "“Try not to become a man of success. Rather become a man of value.” — Albert Einstein\n",
            "“It is better to be hated for what you are than to be loved for what you are not.” — André Gide\n",
            "“I have not failed. I've just found 10,000 ways that won't work.” — Thomas A. Edison\n",
            "“A woman is like a tea bag; you never know how strong it is until it's in hot water.” — Eleanor Roosevelt\n",
            "“A day without sunshine is like, you know, night.” — Steve Martin\n"
          ]
        }
      ]
    },
    {
      "cell_type": "markdown",
      "source": [
        "# Step # 4: Exporting Data into CSV"
      ],
      "metadata": {
        "id": "YAxwmyE8LN-f"
      }
    },
    {
      "cell_type": "code",
      "source": [
        "import requests\n",
        "from bs4 import BeautifulSoup\n",
        "import csv\n",
        "\n",
        "# Fetch the webpage\n",
        "url = \"https://quotes.toscrape.com/\"\n",
        "response = requests.get(url)\n",
        "\n",
        "# Parse the HTML content\n",
        "soup = BeautifulSoup(response.text, \"html.parser\")\n",
        "\n",
        "# Extract all quotes and authors\n",
        "quotes = soup.find_all(\"span\", class_=\"text\")\n",
        "authors = soup.find_all(\"small\", class_=\"author\")\n",
        "\n",
        "# Open a CSV file to write the data\n",
        "with open(\"quotes.csv\", \"w\", newline=\"\", encoding=\"utf-8-sig\") as f:\n",
        "    writer = csv.writer(f)\n",
        "    # Write the header row\n",
        "    writer.writerow([\"Quote\", \"Author\"])\n",
        "    # Loop through quotes and authors and write them to the CSV file\n",
        "    for q, a in zip(quotes, authors):\n",
        "        writer.writerow([q.text, a.text])"
      ],
      "metadata": {
        "id": "bFsl6nh_LMW1"
      },
      "execution_count": 4,
      "outputs": []
    }
  ]
}
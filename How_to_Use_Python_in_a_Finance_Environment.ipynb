{
  "nbformat": 4,
  "nbformat_minor": 0,
  "metadata": {
    "colab": {
      "name": "How to Use Python in a Finance Environment.ipynb",
      "provenance": [],
      "authorship_tag": "ABX9TyPrC9EedJS80kwQZYMTM4YS"
    },
    "kernelspec": {
      "name": "python3",
      "display_name": "Python 3"
    },
    "language_info": {
      "name": "python"
    }
  },
  "cells": [
    {
      "cell_type": "markdown",
      "metadata": {
        "id": "oJVzHYFSWoCz"
      },
      "source": [
        "[Reference](https://medium.com/the-marquee-group/how-to-use-python-in-a-finance-environment-3c830538768)"
      ]
    },
    {
      "cell_type": "code",
      "metadata": {
        "id": "DAvrXa9IWkVG"
      },
      "source": [
        "# -*- coding: utf-8 -*-\n",
        "\"\"\"\n",
        "Program creates a quick comps table using live data from Yahoo Finance\n",
        "\"\"\"\n",
        "#%% Import Packages\n",
        "import urllib.request #package to connect to website\n",
        "import json #package to manipulate the JSON data\n",
        "import pandas as pd\n",
        "\n",
        "#%% JSON for Yahoo Finance\n",
        "#function that grabs a Yahoo Finance JSON URL and outputs the results as a dictionary\n",
        "def fnYFinJSON(stock):\n",
        "\turlData = \"https://query2.finance.yahoo.com/v7/finance/quote?symbols=\"+stock\n",
        "\twebUrl = urllib.request.urlopen(urlData)\n",
        "\tif (webUrl.getcode() == 200):\n",
        "\t\tdata = webUrl.read()\n",
        "\telse:\n",
        "\t    print (\"Received an error from server, cannot retrieve results \" + str(webUrl.getcode()))\n",
        "\tyFinJSON = json.loads(data)\n",
        "\treturn yFinJSON[\"quoteResponse\"][\"result\"][0]\n",
        "\t\n",
        "#%% Create a comps table based on tickers and fields needed\n",
        "tickers = ['AAPL', 'MSFT', 'TSLA', 'BA', 'FB', 'AMZN', 'NFLX']\n",
        "fields = {'shortName':'Company', 'bookValue':'Book Value', 'currency':'Curr',\n",
        "\t\t  'fiftyTwoWeekLow':'52W L', 'fiftyTwoWeekHigh':'52W H',\n",
        "\t\t  'regularMarketPrice':'Price',\n",
        "\t\t  'regularMarketDayHigh':'High', 'regularMarketDayLow':'Low',\n",
        "\t\t  'priceToBook':'P/B', 'trailingPE':'LTM P/E'}\n",
        "\n",
        "results = {}\n",
        "for ticker in tickers:\n",
        "\ttickerData = fnYFinJSON(ticker)\n",
        "\tsingleResult = {}\n",
        "\tfor key in fields.keys():\n",
        "\t\tif key in tickerData:\n",
        "\t\t\tsingleResult[fields[key]] = tickerData[key]\n",
        "\t\telse:\n",
        "\t\t\tsingleResult[fields[key]] = \"N/A\"\n",
        "\tresults[ticker] = singleResult\n",
        "\n",
        "#%% Results as DataFrame\n",
        "#default is keys are columns\n",
        "dfTransp = pd.DataFrame.from_dict(results)\n",
        "\n",
        "#unless you set orient as index\n",
        "df = pd.DataFrame.from_dict(results, orient='index')\n",
        "df.to_excel(\"OutputYFin.xlsx\")"
      ],
      "execution_count": 1,
      "outputs": []
    }
  ]
}
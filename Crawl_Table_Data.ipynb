{
  "nbformat": 4,
  "nbformat_minor": 0,
  "metadata": {
    "colab": {
      "name": "Crawl Table Data.ipynb",
      "provenance": [],
      "authorship_tag": "ABX9TyMWj8BvrrL1NoqyDH46mT/P"
    },
    "kernelspec": {
      "name": "python3",
      "display_name": "Python 3"
    }
  },
  "cells": [
    {
      "cell_type": "markdown",
      "metadata": {
        "id": "xjuiOQD0_EOh"
      },
      "source": [
        "[Reference](https://medium.com/swlh/crawl-table-data-with-just-a-few-lines-of-code-3caf2df774ae)"
      ]
    },
    {
      "cell_type": "code",
      "metadata": {
        "id": "q2M_HtVh-9O_"
      },
      "source": [
        "from bs4 import BeautifulSoup\n",
        "import requests\n",
        "import pandas as pd"
      ],
      "execution_count": 1,
      "outputs": []
    },
    {
      "cell_type": "code",
      "metadata": {
        "id": "ZrOlOSBD_HJM"
      },
      "source": [
        "url = \"https://en.wikipedia.org/wiki/Hanoi\"\n",
        "html_content = requests.get(url).text\n",
        "\n",
        "# Parse HTML code for the entire site\n",
        "df_soup = BeautifulSoup(html_content, \"lxml\")"
      ],
      "execution_count": 2,
      "outputs": []
    },
    {
      "cell_type": "code",
      "metadata": {
        "colab": {
          "base_uri": "https://localhost:8080/"
        },
        "id": "NQzjIQUt_JO8",
        "outputId": "bffea2e1-364a-442b-986f-db611f4565d4"
      },
      "source": [
        "a = df_soup.find_all(\"table\", class_= \"wikitable\")\n",
        "print(\"Number of tables on site: \",len(a))\n",
        "\n",
        "#select our wanted table\n",
        "a1 = df_soup.findAll(\"table\", class_= \"wikitable\")[2]"
      ],
      "execution_count": 4,
      "outputs": [
        {
          "output_type": "stream",
          "text": [
            "Number of tables on site:  3\n"
          ],
          "name": "stdout"
        }
      ]
    },
    {
      "cell_type": "code",
      "metadata": {
        "id": "5vla0clv_MH1"
      },
      "source": [
        "table_rows = a1.find_all(\"tr\")"
      ],
      "execution_count": 5,
      "outputs": []
    },
    {
      "cell_type": "code",
      "metadata": {
        "id": "OzKomqG3_RWm"
      },
      "source": [
        "head = table_rows[1]\n",
        "headings = []\n",
        "for item in head.find_all(\"th\"):\n",
        "    item = (item.text).rstrip(\"\\n\")\n",
        "    headings.append(item)"
      ],
      "execution_count": 6,
      "outputs": []
    },
    {
      "cell_type": "code",
      "metadata": {
        "id": "Y4asTXTl_SiX"
      },
      "source": [
        "demographics = []\n",
        "for tr in table_rows:\n",
        "    district_demo = tr.find_all(\"td\")\n",
        "    row_demo = [tr.text for tr in district_demo]\n",
        "    demographics.append(row_demo) "
      ],
      "execution_count": 7,
      "outputs": []
    },
    {
      "cell_type": "code",
      "metadata": {
        "colab": {
          "base_uri": "https://localhost:8080/"
        },
        "id": "Q8lBeQox_knd",
        "outputId": "cb43b561-2e8f-40c1-a5e1-f3a4a25c33d6"
      },
      "source": [
        "demographics"
      ],
      "execution_count": 12,
      "outputs": [
        {
          "output_type": "execute_result",
          "data": {
            "text/plain": [
              "[[],\n",
              " [],\n",
              " ['12 urban districts (Quận)\\n'],\n",
              " ['Ba Đình', '14', '9.224', '247,100\\n'],\n",
              " ['Bắc Từ Liêm', '13', '43.35', '333,300\\n'],\n",
              " ['Cầu Giấy', '8', '12.04', '266,800\\n'],\n",
              " ['Đống Đa', '21', '9.96', '420,900\\n'],\n",
              " ['Hai Bà Trưng', '20', '10.09', '318,000\\n'],\n",
              " ['Hà ĐôngHT', '17', '47.917', '319,800\\n'],\n",
              " ['Hoàn Kiếm', '18', '5.29', '160,600\\n'],\n",
              " ['Hoàng Mai', '14', '41.04', '411,500\\n'],\n",
              " ['Long Biên', '14', '60.38', '291,900\\n'],\n",
              " ['Nam Từ Liêm', '10', '32.27', '236,700\\n'],\n",
              " ['Tây Hồ', '8', '24', '168,300\\n'],\n",
              " ['Thanh Xuân', '11', '9.11', '285,400\\n'],\n",
              " ['Subtotal', '168', '', '3,460,300\\n'],\n",
              " ['1 town (Thị xã)\\n'],\n",
              " ['Sơn TâyHT', '15', '117.43', '150,300\\n'],\n",
              " ['17 rural districts (Huyện)\\n'],\n",
              " ['Ba VìHT', '30 + 1 town', '428.0', '282,600\\n'],\n",
              " ['Chương MỹHT', '30 + 2 towns', '237.4', '331,100\\n'],\n",
              " ['Đan PhượngHT', '15 + 1 town', '78.8', '162,900\\n'],\n",
              " ['Đông Anh', '23 + 1 town', '185.6', '381,500\\n'],\n",
              " ['Gia Lâm', '20 + 2 towns', '116.0', '276,000\\n'],\n",
              " ['Hoài ĐứcHT', '19 + 1 town', '95.3', '229,400\\n'],\n",
              " ['Mê Linh', '16 + 2 towns', '142.26', '226,800\\n'],\n",
              " ['Mỹ ĐứcHT', '21 + 1 town', '230.0', '194,400\\n'],\n",
              " ['Phú XuyênHT', '26 + 2 towns', '171.1', '211,100\\n'],\n",
              " ['Phúc ThọHT', '22 + 1 town', '113.2', '182,300\\n'],\n",
              " ['Quốc OaiHT', '20 + 1 town', '151.1', '188,000\\n'],\n",
              " ['Sóc Sơn', '25 + 1 town', '306.51', '340,700\\n'],\n",
              " ['Thanh Trì', '15 + 1 town', '63.4', '256,800\\n'],\n",
              " ['Thanh OaiHT', '20 + 1 town', '129.6', '205,200\\n'],\n",
              " ['Thạch ThấtHT', '22 + 1 town', '128.1', '207,500\\n'],\n",
              " ['Thường TínHT', '28 + 1 town', '130.7', '247,700\\n'],\n",
              " ['Ứng HòaHT', '28 + 1 town', '188.72', '204,800\\n'],\n",
              " ['Subtotal', '380 + 21 towns', '', '4,128,200\\n'],\n",
              " ['Total', '553 + 21 towns', '', '7,739,400\\n']]"
            ]
          },
          "metadata": {
            "tags": []
          },
          "execution_count": 12
        }
      ]
    },
    {
      "cell_type": "code",
      "metadata": {
        "colab": {
          "base_uri": "https://localhost:8080/",
          "height": 421
        },
        "id": "kZmZL1Jp_UBh",
        "outputId": "d80d2745-e0b9-458f-d5c5-09f2f0d87bde"
      },
      "source": [
        "demographics2 = pd.DataFrame(data=demographics,columns=headings)\n",
        "demographics3 = demographics2.loc[3:14].rename(columns={\"Provincial Cities/Districts[39]\":\"Provincial Cities/Districts\",\"Wards[39]\":\"Wards\",\"Area (km2)[39]\":\"Area (km2)\",\"Population (2017)[39]\":\"Population (2017)\"}).reset_index(drop=True)\n",
        "demographics3['Population (2017)'] = demographics3['Population (2017)'].str.replace(\"\\n\", \"\").str.strip() \n",
        "demographics3"
      ],
      "execution_count": 14,
      "outputs": [
        {
          "output_type": "execute_result",
          "data": {
            "text/html": [
              "<div>\n",
              "<style scoped>\n",
              "    .dataframe tbody tr th:only-of-type {\n",
              "        vertical-align: middle;\n",
              "    }\n",
              "\n",
              "    .dataframe tbody tr th {\n",
              "        vertical-align: top;\n",
              "    }\n",
              "\n",
              "    .dataframe thead th {\n",
              "        text-align: right;\n",
              "    }\n",
              "</style>\n",
              "<table border=\"1\" class=\"dataframe\">\n",
              "  <thead>\n",
              "    <tr style=\"text-align: right;\">\n",
              "      <th></th>\n",
              "      <th>Provincial Cities/Districts</th>\n",
              "      <th>Wards</th>\n",
              "      <th>Area (km2)</th>\n",
              "      <th>Population (2017)</th>\n",
              "    </tr>\n",
              "  </thead>\n",
              "  <tbody>\n",
              "    <tr>\n",
              "      <th>0</th>\n",
              "      <td>Ba Đình</td>\n",
              "      <td>14</td>\n",
              "      <td>9.224</td>\n",
              "      <td>247,100</td>\n",
              "    </tr>\n",
              "    <tr>\n",
              "      <th>1</th>\n",
              "      <td>Bắc Từ Liêm</td>\n",
              "      <td>13</td>\n",
              "      <td>43.35</td>\n",
              "      <td>333,300</td>\n",
              "    </tr>\n",
              "    <tr>\n",
              "      <th>2</th>\n",
              "      <td>Cầu Giấy</td>\n",
              "      <td>8</td>\n",
              "      <td>12.04</td>\n",
              "      <td>266,800</td>\n",
              "    </tr>\n",
              "    <tr>\n",
              "      <th>3</th>\n",
              "      <td>Đống Đa</td>\n",
              "      <td>21</td>\n",
              "      <td>9.96</td>\n",
              "      <td>420,900</td>\n",
              "    </tr>\n",
              "    <tr>\n",
              "      <th>4</th>\n",
              "      <td>Hai Bà Trưng</td>\n",
              "      <td>20</td>\n",
              "      <td>10.09</td>\n",
              "      <td>318,000</td>\n",
              "    </tr>\n",
              "    <tr>\n",
              "      <th>5</th>\n",
              "      <td>Hà ĐôngHT</td>\n",
              "      <td>17</td>\n",
              "      <td>47.917</td>\n",
              "      <td>319,800</td>\n",
              "    </tr>\n",
              "    <tr>\n",
              "      <th>6</th>\n",
              "      <td>Hoàn Kiếm</td>\n",
              "      <td>18</td>\n",
              "      <td>5.29</td>\n",
              "      <td>160,600</td>\n",
              "    </tr>\n",
              "    <tr>\n",
              "      <th>7</th>\n",
              "      <td>Hoàng Mai</td>\n",
              "      <td>14</td>\n",
              "      <td>41.04</td>\n",
              "      <td>411,500</td>\n",
              "    </tr>\n",
              "    <tr>\n",
              "      <th>8</th>\n",
              "      <td>Long Biên</td>\n",
              "      <td>14</td>\n",
              "      <td>60.38</td>\n",
              "      <td>291,900</td>\n",
              "    </tr>\n",
              "    <tr>\n",
              "      <th>9</th>\n",
              "      <td>Nam Từ Liêm</td>\n",
              "      <td>10</td>\n",
              "      <td>32.27</td>\n",
              "      <td>236,700</td>\n",
              "    </tr>\n",
              "    <tr>\n",
              "      <th>10</th>\n",
              "      <td>Tây Hồ</td>\n",
              "      <td>8</td>\n",
              "      <td>24</td>\n",
              "      <td>168,300</td>\n",
              "    </tr>\n",
              "    <tr>\n",
              "      <th>11</th>\n",
              "      <td>Thanh Xuân</td>\n",
              "      <td>11</td>\n",
              "      <td>9.11</td>\n",
              "      <td>285,400</td>\n",
              "    </tr>\n",
              "  </tbody>\n",
              "</table>\n",
              "</div>"
            ],
            "text/plain": [
              "   Provincial Cities/Districts Wards Area (km2) Population (2017)\n",
              "0                      Ba Đình    14      9.224           247,100\n",
              "1                  Bắc Từ Liêm    13      43.35           333,300\n",
              "2                     Cầu Giấy     8      12.04           266,800\n",
              "3                      Đống Đa    21       9.96           420,900\n",
              "4                 Hai Bà Trưng    20      10.09           318,000\n",
              "5                    Hà ĐôngHT    17     47.917           319,800\n",
              "6                    Hoàn Kiếm    18       5.29           160,600\n",
              "7                    Hoàng Mai    14      41.04           411,500\n",
              "8                    Long Biên    14      60.38           291,900\n",
              "9                  Nam Từ Liêm    10      32.27           236,700\n",
              "10                      Tây Hồ     8         24           168,300\n",
              "11                  Thanh Xuân    11       9.11           285,400"
            ]
          },
          "metadata": {
            "tags": []
          },
          "execution_count": 14
        }
      ]
    }
  ]
}
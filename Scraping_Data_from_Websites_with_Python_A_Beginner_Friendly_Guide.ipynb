{
  "nbformat": 4,
  "nbformat_minor": 0,
  "metadata": {
    "colab": {
      "provenance": [],
      "authorship_tag": "ABX9TyMfXJKFiob/BBJ1eM+3n+6f"
    },
    "kernelspec": {
      "name": "python3",
      "display_name": "Python 3"
    },
    "language_info": {
      "name": "python"
    }
  },
  "cells": [
    {
      "cell_type": "markdown",
      "source": [
        "[Reference](https://medium.com/@huzaifazahoor654/scraping-data-from-websites-with-python-a-beginner-friendly-guide-aff904755ebe)"
      ],
      "metadata": {
        "id": "JeboYSpIE2yu"
      }
    },
    {
      "cell_type": "code",
      "execution_count": 2,
      "metadata": {
        "id": "LBrQRnl_E0rH"
      },
      "outputs": [],
      "source": [
        "import requests\n",
        "from bs4 import BeautifulSoup\n",
        "import pandas as pd\n",
        "\n",
        "# Step 1: Send an HTTP request to the website\n",
        "url = 'https://www.worldometers.info/world-population/population-by-country/'\n",
        "response = requests.get(url)\n",
        "\n",
        "# Step 2: Parse the HTML content\n",
        "soup = BeautifulSoup(response.content, 'html.parser')\n",
        "\n",
        "# Step 3: Find the table containing the data\n",
        "table = soup.find('table', {'class': 'table table-striped'})\n",
        "\n",
        "# Step 4: Extract the data from the table\n",
        "data = []\n",
        "\n",
        "for row in table.find_all('tr')[1:]:\n",
        "    columns = row.find_all('td')\n",
        "    rank = columns[0].text.strip()\n",
        "    country = columns[1].text.strip()\n",
        "    population = columns[2].text.strip()\n",
        "    percentage = columns[3].text.strip()\n",
        "\n",
        "    data.append({'Rank': rank, 'Country': country, 'Population': population, 'Percentage': percentage})\n",
        "\n",
        "# Step 5: Transform the data\n",
        "df = pd.DataFrame(data)\n",
        "\n",
        "# Step 6: Load the data in CSV\n",
        "df.to_csv('population_data.csv', index=False)"
      ]
    }
  ]
}
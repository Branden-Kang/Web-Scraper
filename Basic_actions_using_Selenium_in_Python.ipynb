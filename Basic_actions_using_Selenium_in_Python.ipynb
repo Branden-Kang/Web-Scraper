{
  "nbformat": 4,
  "nbformat_minor": 0,
  "metadata": {
    "colab": {
      "name": "Basic actions using Selenium in Python.ipynb",
      "provenance": [],
      "authorship_tag": "ABX9TyMfCo8R8bJoBHyXOTIOw30p"
    },
    "kernelspec": {
      "name": "python3",
      "display_name": "Python 3"
    },
    "language_info": {
      "name": "python"
    }
  },
  "cells": [
    {
      "cell_type": "markdown",
      "metadata": {
        "id": "2P4p1keFVVZM"
      },
      "source": [
        "[Referencce](https://medium.com/analytics-vidhya/basic-actions-using-selenium-in-python-4e8f9f251602)"
      ]
    },
    {
      "cell_type": "code",
      "metadata": {
        "colab": {
          "base_uri": "https://localhost:8080/"
        },
        "id": "u0EflJvuVf_W",
        "outputId": "ec507709-1610-400c-bebe-c8574d9509fe"
      },
      "source": [
        "!pip install selenium"
      ],
      "execution_count": 2,
      "outputs": [
        {
          "output_type": "stream",
          "name": "stdout",
          "text": [
            "Collecting selenium\n",
            "  Downloading selenium-4.0.0-py3-none-any.whl (954 kB)\n",
            "\u001b[?25l\r\u001b[K     |▍                               | 10 kB 21.3 MB/s eta 0:00:01\r\u001b[K     |▊                               | 20 kB 27.5 MB/s eta 0:00:01\r\u001b[K     |█                               | 30 kB 22.9 MB/s eta 0:00:01\r\u001b[K     |█▍                              | 40 kB 18.3 MB/s eta 0:00:01\r\u001b[K     |█▊                              | 51 kB 8.2 MB/s eta 0:00:01\r\u001b[K     |██                              | 61 kB 6.6 MB/s eta 0:00:01\r\u001b[K     |██▍                             | 71 kB 7.5 MB/s eta 0:00:01\r\u001b[K     |██▊                             | 81 kB 8.3 MB/s eta 0:00:01\r\u001b[K     |███                             | 92 kB 8.3 MB/s eta 0:00:01\r\u001b[K     |███▍                            | 102 kB 7.4 MB/s eta 0:00:01\r\u001b[K     |███▊                            | 112 kB 7.4 MB/s eta 0:00:01\r\u001b[K     |████▏                           | 122 kB 7.4 MB/s eta 0:00:01\r\u001b[K     |████▌                           | 133 kB 7.4 MB/s eta 0:00:01\r\u001b[K     |████▉                           | 143 kB 7.4 MB/s eta 0:00:01\r\u001b[K     |█████▏                          | 153 kB 7.4 MB/s eta 0:00:01\r\u001b[K     |█████▌                          | 163 kB 7.4 MB/s eta 0:00:01\r\u001b[K     |█████▉                          | 174 kB 7.4 MB/s eta 0:00:01\r\u001b[K     |██████▏                         | 184 kB 7.4 MB/s eta 0:00:01\r\u001b[K     |██████▌                         | 194 kB 7.4 MB/s eta 0:00:01\r\u001b[K     |██████▉                         | 204 kB 7.4 MB/s eta 0:00:01\r\u001b[K     |███████▏                        | 215 kB 7.4 MB/s eta 0:00:01\r\u001b[K     |███████▌                        | 225 kB 7.4 MB/s eta 0:00:01\r\u001b[K     |████████                        | 235 kB 7.4 MB/s eta 0:00:01\r\u001b[K     |████████▎                       | 245 kB 7.4 MB/s eta 0:00:01\r\u001b[K     |████████▋                       | 256 kB 7.4 MB/s eta 0:00:01\r\u001b[K     |█████████                       | 266 kB 7.4 MB/s eta 0:00:01\r\u001b[K     |█████████▎                      | 276 kB 7.4 MB/s eta 0:00:01\r\u001b[K     |█████████▋                      | 286 kB 7.4 MB/s eta 0:00:01\r\u001b[K     |██████████                      | 296 kB 7.4 MB/s eta 0:00:01\r\u001b[K     |██████████▎                     | 307 kB 7.4 MB/s eta 0:00:01\r\u001b[K     |██████████▋                     | 317 kB 7.4 MB/s eta 0:00:01\r\u001b[K     |███████████                     | 327 kB 7.4 MB/s eta 0:00:01\r\u001b[K     |███████████▎                    | 337 kB 7.4 MB/s eta 0:00:01\r\u001b[K     |███████████▊                    | 348 kB 7.4 MB/s eta 0:00:01\r\u001b[K     |████████████                    | 358 kB 7.4 MB/s eta 0:00:01\r\u001b[K     |████████████▍                   | 368 kB 7.4 MB/s eta 0:00:01\r\u001b[K     |████████████▊                   | 378 kB 7.4 MB/s eta 0:00:01\r\u001b[K     |█████████████                   | 389 kB 7.4 MB/s eta 0:00:01\r\u001b[K     |█████████████▍                  | 399 kB 7.4 MB/s eta 0:00:01\r\u001b[K     |█████████████▊                  | 409 kB 7.4 MB/s eta 0:00:01\r\u001b[K     |██████████████                  | 419 kB 7.4 MB/s eta 0:00:01\r\u001b[K     |██████████████▍                 | 430 kB 7.4 MB/s eta 0:00:01\r\u001b[K     |██████████████▊                 | 440 kB 7.4 MB/s eta 0:00:01\r\u001b[K     |███████████████                 | 450 kB 7.4 MB/s eta 0:00:01\r\u001b[K     |███████████████▌                | 460 kB 7.4 MB/s eta 0:00:01\r\u001b[K     |███████████████▉                | 471 kB 7.4 MB/s eta 0:00:01\r\u001b[K     |████████████████▏               | 481 kB 7.4 MB/s eta 0:00:01\r\u001b[K     |████████████████▌               | 491 kB 7.4 MB/s eta 0:00:01\r\u001b[K     |████████████████▉               | 501 kB 7.4 MB/s eta 0:00:01\r\u001b[K     |█████████████████▏              | 512 kB 7.4 MB/s eta 0:00:01\r\u001b[K     |█████████████████▌              | 522 kB 7.4 MB/s eta 0:00:01\r\u001b[K     |█████████████████▉              | 532 kB 7.4 MB/s eta 0:00:01\r\u001b[K     |██████████████████▏             | 542 kB 7.4 MB/s eta 0:00:01\r\u001b[K     |██████████████████▌             | 552 kB 7.4 MB/s eta 0:00:01\r\u001b[K     |██████████████████▉             | 563 kB 7.4 MB/s eta 0:00:01\r\u001b[K     |███████████████████▎            | 573 kB 7.4 MB/s eta 0:00:01\r\u001b[K     |███████████████████▋            | 583 kB 7.4 MB/s eta 0:00:01\r\u001b[K     |████████████████████            | 593 kB 7.4 MB/s eta 0:00:01\r\u001b[K     |████████████████████▎           | 604 kB 7.4 MB/s eta 0:00:01\r\u001b[K     |████████████████████▋           | 614 kB 7.4 MB/s eta 0:00:01\r\u001b[K     |█████████████████████           | 624 kB 7.4 MB/s eta 0:00:01\r\u001b[K     |█████████████████████▎          | 634 kB 7.4 MB/s eta 0:00:01\r\u001b[K     |█████████████████████▋          | 645 kB 7.4 MB/s eta 0:00:01\r\u001b[K     |██████████████████████          | 655 kB 7.4 MB/s eta 0:00:01\r\u001b[K     |██████████████████████▎         | 665 kB 7.4 MB/s eta 0:00:01\r\u001b[K     |██████████████████████▋         | 675 kB 7.4 MB/s eta 0:00:01\r\u001b[K     |███████████████████████         | 686 kB 7.4 MB/s eta 0:00:01\r\u001b[K     |███████████████████████▍        | 696 kB 7.4 MB/s eta 0:00:01\r\u001b[K     |███████████████████████▊        | 706 kB 7.4 MB/s eta 0:00:01\r\u001b[K     |████████████████████████        | 716 kB 7.4 MB/s eta 0:00:01\r\u001b[K     |████████████████████████▍       | 727 kB 7.4 MB/s eta 0:00:01\r\u001b[K     |████████████████████████▊       | 737 kB 7.4 MB/s eta 0:00:01\r\u001b[K     |█████████████████████████       | 747 kB 7.4 MB/s eta 0:00:01\r\u001b[K     |█████████████████████████▍      | 757 kB 7.4 MB/s eta 0:00:01\r\u001b[K     |█████████████████████████▊      | 768 kB 7.4 MB/s eta 0:00:01\r\u001b[K     |██████████████████████████      | 778 kB 7.4 MB/s eta 0:00:01\r\u001b[K     |██████████████████████████▍     | 788 kB 7.4 MB/s eta 0:00:01\r\u001b[K     |██████████████████████████▉     | 798 kB 7.4 MB/s eta 0:00:01\r\u001b[K     |███████████████████████████▏    | 808 kB 7.4 MB/s eta 0:00:01\r\u001b[K     |███████████████████████████▌    | 819 kB 7.4 MB/s eta 0:00:01\r\u001b[K     |███████████████████████████▉    | 829 kB 7.4 MB/s eta 0:00:01\r\u001b[K     |████████████████████████████▏   | 839 kB 7.4 MB/s eta 0:00:01\r\u001b[K     |████████████████████████████▌   | 849 kB 7.4 MB/s eta 0:00:01\r\u001b[K     |████████████████████████████▉   | 860 kB 7.4 MB/s eta 0:00:01\r\u001b[K     |█████████████████████████████▏  | 870 kB 7.4 MB/s eta 0:00:01\r\u001b[K     |█████████████████████████████▌  | 880 kB 7.4 MB/s eta 0:00:01\r\u001b[K     |█████████████████████████████▉  | 890 kB 7.4 MB/s eta 0:00:01\r\u001b[K     |██████████████████████████████▏ | 901 kB 7.4 MB/s eta 0:00:01\r\u001b[K     |██████████████████████████████▋ | 911 kB 7.4 MB/s eta 0:00:01\r\u001b[K     |███████████████████████████████ | 921 kB 7.4 MB/s eta 0:00:01\r\u001b[K     |███████████████████████████████▎| 931 kB 7.4 MB/s eta 0:00:01\r\u001b[K     |███████████████████████████████▋| 942 kB 7.4 MB/s eta 0:00:01\r\u001b[K     |████████████████████████████████| 952 kB 7.4 MB/s eta 0:00:01\r\u001b[K     |████████████████████████████████| 954 kB 7.4 MB/s \n",
            "\u001b[?25hCollecting trio~=0.17\n",
            "  Downloading trio-0.19.0-py3-none-any.whl (356 kB)\n",
            "\u001b[K     |████████████████████████████████| 356 kB 64.4 MB/s \n",
            "\u001b[?25hCollecting urllib3[secure]~=1.26\n",
            "  Downloading urllib3-1.26.7-py2.py3-none-any.whl (138 kB)\n",
            "\u001b[K     |████████████████████████████████| 138 kB 22.7 MB/s \n",
            "\u001b[?25hCollecting trio-websocket~=0.9\n",
            "  Downloading trio_websocket-0.9.2-py3-none-any.whl (16 kB)\n",
            "Requirement already satisfied: idna in /usr/local/lib/python3.7/dist-packages (from trio~=0.17->selenium) (2.10)\n",
            "Collecting sniffio\n",
            "  Downloading sniffio-1.2.0-py3-none-any.whl (10 kB)\n",
            "Requirement already satisfied: sortedcontainers in /usr/local/lib/python3.7/dist-packages (from trio~=0.17->selenium) (2.4.0)\n",
            "Requirement already satisfied: attrs>=19.2.0 in /usr/local/lib/python3.7/dist-packages (from trio~=0.17->selenium) (21.2.0)\n",
            "Collecting outcome\n",
            "  Downloading outcome-1.1.0-py2.py3-none-any.whl (9.7 kB)\n",
            "Collecting async-generator>=1.9\n",
            "  Downloading async_generator-1.10-py3-none-any.whl (18 kB)\n",
            "Collecting wsproto>=0.14\n",
            "  Downloading wsproto-1.0.0-py3-none-any.whl (24 kB)\n",
            "Collecting pyOpenSSL>=0.14\n",
            "  Downloading pyOpenSSL-21.0.0-py2.py3-none-any.whl (55 kB)\n",
            "\u001b[K     |████████████████████████████████| 55 kB 2.8 MB/s \n",
            "\u001b[?25hRequirement already satisfied: certifi in /usr/local/lib/python3.7/dist-packages (from urllib3[secure]~=1.26->selenium) (2021.5.30)\n",
            "Collecting cryptography>=1.3.4\n",
            "  Downloading cryptography-35.0.0-cp36-abi3-manylinux_2_24_x86_64.whl (3.5 MB)\n",
            "\u001b[K     |████████████████████████████████| 3.5 MB 17.5 MB/s \n",
            "\u001b[?25hRequirement already satisfied: cffi>=1.12 in /usr/local/lib/python3.7/dist-packages (from cryptography>=1.3.4->urllib3[secure]~=1.26->selenium) (1.14.6)\n",
            "Requirement already satisfied: pycparser in /usr/local/lib/python3.7/dist-packages (from cffi>=1.12->cryptography>=1.3.4->urllib3[secure]~=1.26->selenium) (2.20)\n",
            "Requirement already satisfied: six>=1.5.2 in /usr/local/lib/python3.7/dist-packages (from pyOpenSSL>=0.14->urllib3[secure]~=1.26->selenium) (1.15.0)\n",
            "Collecting h11<1,>=0.9.0\n",
            "  Downloading h11-0.12.0-py3-none-any.whl (54 kB)\n",
            "\u001b[K     |████████████████████████████████| 54 kB 3.1 MB/s \n",
            "\u001b[?25hInstalling collected packages: sniffio, outcome, h11, cryptography, async-generator, wsproto, urllib3, trio, pyOpenSSL, trio-websocket, selenium\n",
            "  Attempting uninstall: urllib3\n",
            "    Found existing installation: urllib3 1.24.3\n",
            "    Uninstalling urllib3-1.24.3:\n",
            "      Successfully uninstalled urllib3-1.24.3\n",
            "\u001b[31mERROR: pip's dependency resolver does not currently take into account all the packages that are installed. This behaviour is the source of the following dependency conflicts.\n",
            "requests 2.23.0 requires urllib3!=1.25.0,!=1.25.1,<1.26,>=1.21.1, but you have urllib3 1.26.7 which is incompatible.\n",
            "datascience 0.10.6 requires folium==0.2.1, but you have folium 0.8.3 which is incompatible.\u001b[0m\n",
            "Successfully installed async-generator-1.10 cryptography-35.0.0 h11-0.12.0 outcome-1.1.0 pyOpenSSL-21.0.0 selenium-4.0.0 sniffio-1.2.0 trio-0.19.0 trio-websocket-0.9.2 urllib3-1.26.7 wsproto-1.0.0\n"
          ]
        }
      ]
    },
    {
      "cell_type": "code",
      "metadata": {
        "id": "bbevqcN4VRwW"
      },
      "source": [
        "import time\n",
        "from selenium import webdriver\n",
        "from selenium.webdriver.common.keys import Keys\n",
        "from selenium.webdriver.support.ui import Select\n",
        "from selenium.webdriver.support.select import Select\n",
        "from selenium.webdriver.common.action_chains import ActionChains\n",
        "from selenium.webdriver.common.by import By \n",
        "from selenium.webdriver.support.ui import WebDriverWait \n",
        "from selenium.webdriver.support import expected_conditions as EC"
      ],
      "execution_count": 3,
      "outputs": []
    },
    {
      "cell_type": "code",
      "metadata": {
        "id": "fHwE5odtVbE4"
      },
      "source": [
        "PATH = \"C:\\Program Files (x86)\\chromedriver.exe\"\n",
        "driver = webdriver.Chrome(PATH)"
      ],
      "execution_count": 4,
      "outputs": []
    },
    {
      "cell_type": "code",
      "metadata": {
        "id": "Ij_-locoVcNg"
      },
      "source": [
        "driver.get(\"https://podcasts.google.com/\")"
      ],
      "execution_count": 6,
      "outputs": []
    },
    {
      "cell_type": "code",
      "metadata": {
        "id": "T9DWK34RVdcx"
      },
      "source": [
        "search = driver.find_element_by_xpath('//*[@id=\"sdgBod\"]/span[2]')\n",
        "search.click()"
      ],
      "execution_count": 7,
      "outputs": []
    },
    {
      "cell_type": "code",
      "metadata": {
        "id": "YUjwu_F8VfBB"
      },
      "source": [
        "search = driver.find_element_by_xpath('//*[@id=\"gb\"]/div[2]/div[2]/div/form/div/div/div/div/div/div[1]/input[2]')\n",
        "search.send_keys('Lex Fridman Podcast')"
      ],
      "execution_count": 8,
      "outputs": []
    }
  ]
}
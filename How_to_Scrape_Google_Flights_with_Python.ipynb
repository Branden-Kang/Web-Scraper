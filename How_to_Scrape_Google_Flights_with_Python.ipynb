{
  "nbformat": 4,
  "nbformat_minor": 0,
  "metadata": {
    "colab": {
      "provenance": [],
      "authorship_tag": "ABX9TyMoJ6rlrrzAqkweqFcRXNAt"
    },
    "kernelspec": {
      "name": "python3",
      "display_name": "Python 3"
    },
    "language_info": {
      "name": "python"
    }
  },
  "cells": [
    {
      "cell_type": "markdown",
      "source": [
        "[Reference](https://medium.com/@datajournal/scrape-google-flights-4b0cde1621ee)"
      ],
      "metadata": {
        "id": "0SkcYkeCfG7i"
      }
    },
    {
      "cell_type": "markdown",
      "source": [
        "# Create and Activate a Virtual Environment\n",
        "```\n",
        "# Create a virtual environment\n",
        "python -m venv flights-scraper-env\n",
        "# Activate the virtual environment\n",
        "# On Windows:\n",
        ".\\flights-scraper-env\\Scripts\\activate\n",
        "# On macOS/Linux:\n",
        "source flights-scraper-env/bin/activate\n",
        "```"
      ],
      "metadata": {
        "id": "QGlcRgJOfKiX"
      }
    },
    {
      "cell_type": "markdown",
      "source": [
        "# Install Necessary Packages"
      ],
      "metadata": {
        "id": "BWUQ_b-7fNcc"
      }
    },
    {
      "cell_type": "code",
      "execution_count": 1,
      "metadata": {
        "colab": {
          "base_uri": "https://localhost:8080/",
          "height": 439
        },
        "id": "KYZf34WafDyH",
        "outputId": "d2968775-0519-4cec-d0dc-580929d38106"
      },
      "outputs": [
        {
          "output_type": "stream",
          "name": "stdout",
          "text": [
            "Collecting playwright\n",
            "  Downloading playwright-1.48.0-py3-none-manylinux1_x86_64.whl.metadata (3.5 kB)\n",
            "Requirement already satisfied: tenacity in /usr/local/lib/python3.10/dist-packages (9.0.0)\n",
            "Collecting asyncio\n",
            "  Downloading asyncio-3.4.3-py3-none-any.whl.metadata (1.7 kB)\n",
            "Requirement already satisfied: greenlet==3.1.1 in /usr/local/lib/python3.10/dist-packages (from playwright) (3.1.1)\n",
            "Collecting pyee==12.0.0 (from playwright)\n",
            "  Downloading pyee-12.0.0-py3-none-any.whl.metadata (2.8 kB)\n",
            "Requirement already satisfied: typing-extensions in /usr/local/lib/python3.10/dist-packages (from pyee==12.0.0->playwright) (4.12.2)\n",
            "Downloading playwright-1.48.0-py3-none-manylinux1_x86_64.whl (38.2 MB)\n",
            "\u001b[2K   \u001b[90m━━━━━━━━━━━━━━━━━━━━━━━━━━━━━━━━━━━━━━━━\u001b[0m \u001b[32m38.2/38.2 MB\u001b[0m \u001b[31m16.4 MB/s\u001b[0m eta \u001b[36m0:00:00\u001b[0m\n",
            "\u001b[?25hDownloading pyee-12.0.0-py3-none-any.whl (14 kB)\n",
            "Downloading asyncio-3.4.3-py3-none-any.whl (101 kB)\n",
            "\u001b[2K   \u001b[90m━━━━━━━━━━━━━━━━━━━━━━━━━━━━━━━━━━━━━━━━\u001b[0m \u001b[32m101.8/101.8 kB\u001b[0m \u001b[31m6.0 MB/s\u001b[0m eta \u001b[36m0:00:00\u001b[0m\n",
            "\u001b[?25hInstalling collected packages: asyncio, pyee, playwright\n",
            "Successfully installed asyncio-3.4.3 playwright-1.48.0 pyee-12.0.0\n"
          ]
        },
        {
          "output_type": "display_data",
          "data": {
            "application/vnd.colab-display-data+json": {
              "pip_warning": {
                "packages": [
                  "asyncio"
                ]
              },
              "id": "f879e2f66278475e99178668f714f39d"
            }
          },
          "metadata": {}
        },
        {
          "output_type": "stream",
          "name": "stdout",
          "text": [
            "Downloading Chromium 130.0.6723.31 (playwright build v1140)\u001b[2m from https://playwright.azureedge.net/builds/chromium/1140/chromium-linux.zip\u001b[22m\n",
            "\u001b[1G164.5 MiB [] 0% 0.0s\u001b[0K\u001b[1G164.5 MiB [] 0% 63.8s\u001b[0K\u001b[1G164.5 MiB [] 0% 17.9s\u001b[0K\u001b[1G164.5 MiB [] 0% 10.5s\u001b[0K\u001b[1G164.5 MiB [] 0% 7.4s\u001b[0K\u001b[1G164.5 MiB [] 1% 6.2s\u001b[0K\u001b[1G164.5 MiB [] 1% 5.6s\u001b[0K\u001b[1G164.5 MiB [] 2% 5.1s\u001b[0K\u001b[1G164.5 MiB [] 2% 4.9s\u001b[0K\u001b[1G164.5 MiB [] 2% 4.8s\u001b[0K\u001b[1G164.5 MiB [] 3% 5.2s\u001b[0K\u001b[1G164.5 MiB [] 3% 13.1s\u001b[0K\u001b[1G164.5 MiB [] 3% 13.4s\u001b[0K\u001b[1G164.5 MiB [] 3% 12.7s\u001b[0K\u001b[1G164.5 MiB [] 3% 12.0s\u001b[0K\u001b[1G164.5 MiB [] 4% 11.1s\u001b[0K\u001b[1G164.5 MiB [] 4% 11.0s\u001b[0K\u001b[1G164.5 MiB [] 4% 10.4s\u001b[0K\u001b[1G164.5 MiB [] 5% 9.7s\u001b[0K\u001b[1G164.5 MiB [] 5% 9.2s\u001b[0K\u001b[1G164.5 MiB [] 6% 8.6s\u001b[0K\u001b[1G164.5 MiB [] 6% 8.1s\u001b[0K\u001b[1G164.5 MiB [] 7% 7.7s\u001b[0K\u001b[1G164.5 MiB [] 7% 7.4s\u001b[0K\u001b[1G164.5 MiB [] 7% 7.3s\u001b[0K\u001b[1G164.5 MiB [] 8% 6.9s\u001b[0K\u001b[1G164.5 MiB [] 9% 6.7s\u001b[0K\u001b[1G164.5 MiB [] 9% 6.6s\u001b[0K\u001b[1G164.5 MiB [] 9% 6.4s\u001b[0K\u001b[1G164.5 MiB [] 10% 6.2s\u001b[0K\u001b[1G164.5 MiB [] 10% 6.3s\u001b[0K\u001b[1G164.5 MiB [] 10% 6.1s\u001b[0K\u001b[1G164.5 MiB [] 11% 6.0s\u001b[0K\u001b[1G164.5 MiB [] 11% 5.9s\u001b[0K\u001b[1G164.5 MiB [] 12% 5.7s\u001b[0K\u001b[1G164.5 MiB [] 12% 5.6s\u001b[0K\u001b[1G164.5 MiB [] 13% 5.4s\u001b[0K\u001b[1G164.5 MiB [] 14% 5.3s\u001b[0K\u001b[1G164.5 MiB [] 14% 5.2s\u001b[0K\u001b[1G164.5 MiB [] 15% 5.1s\u001b[0K\u001b[1G164.5 MiB [] 15% 5.0s\u001b[0K\u001b[1G164.5 MiB [] 16% 4.9s\u001b[0K\u001b[1G164.5 MiB [] 17% 4.8s\u001b[0K\u001b[1G164.5 MiB [] 17% 4.6s\u001b[0K\u001b[1G164.5 MiB [] 18% 4.5s\u001b[0K\u001b[1G164.5 MiB [] 19% 4.3s\u001b[0K\u001b[1G164.5 MiB [] 19% 4.2s\u001b[0K\u001b[1G164.5 MiB [] 20% 4.1s\u001b[0K\u001b[1G164.5 MiB [] 21% 4.0s\u001b[0K\u001b[1G164.5 MiB [] 21% 3.9s\u001b[0K\u001b[1G164.5 MiB [] 22% 3.8s\u001b[0K\u001b[1G164.5 MiB [] 23% 3.7s\u001b[0K\u001b[1G164.5 MiB [] 24% 3.6s\u001b[0K\u001b[1G164.5 MiB [] 24% 3.5s\u001b[0K\u001b[1G164.5 MiB [] 25% 3.5s\u001b[0K\u001b[1G164.5 MiB [] 26% 3.4s\u001b[0K\u001b[1G164.5 MiB [] 27% 3.3s\u001b[0K\u001b[1G164.5 MiB [] 28% 3.2s\u001b[0K\u001b[1G164.5 MiB [] 29% 3.0s\u001b[0K\u001b[1G164.5 MiB [] 30% 3.0s\u001b[0K\u001b[1G164.5 MiB [] 30% 2.9s\u001b[0K\u001b[1G164.5 MiB [] 31% 2.8s\u001b[0K\u001b[1G164.5 MiB [] 32% 2.7s\u001b[0K\u001b[1G164.5 MiB [] 33% 2.7s\u001b[0K\u001b[1G164.5 MiB [] 34% 2.6s\u001b[0K\u001b[1G164.5 MiB [] 35% 2.5s\u001b[0K\u001b[1G164.5 MiB [] 36% 2.4s\u001b[0K"
          ]
        }
      ],
      "source": [
        "# Install required packages\n",
        "!pip install playwright tenacity asyncio\n",
        "# Install Playwright's browser dependencies\n",
        "!playwright install chromium"
      ]
    },
    {
      "cell_type": "markdown",
      "source": [
        "# Define Data Structures"
      ],
      "metadata": {
        "id": "IB5vl3pwfTze"
      }
    },
    {
      "cell_type": "code",
      "source": [
        "from dataclasses import dataclass\n",
        "from typing import Optional\n",
        "\n",
        "@dataclass\n",
        "class SearchParameters:\n",
        "    departure: str\n",
        "    destination: str\n",
        "    departure_date: str\n",
        "    return_date: Optional[str] = None\n",
        "    ticket_type: str = \"One way\"\n",
        "\n",
        "@dataclass\n",
        "class FlightData:\n",
        "    airline: str\n",
        "    departure_time: str\n",
        "    arrival_time: str\n",
        "    duration: str\n",
        "    stops: str\n",
        "    price: str\n",
        "    co2_emissions: str\n",
        "    emissions_variation: str"
      ],
      "metadata": {
        "id": "nuGetnpEfSaG"
      },
      "execution_count": 1,
      "outputs": []
    },
    {
      "cell_type": "markdown",
      "source": [
        "# Crafting the Flight Scraper Class"
      ],
      "metadata": {
        "id": "GFB2i4AgfZ5U"
      }
    },
    {
      "cell_type": "markdown",
      "source": [
        "## Define CSS Selectors"
      ],
      "metadata": {
        "id": "Q9aSZcUUfa_Y"
      }
    },
    {
      "cell_type": "code",
      "source": [
        "class FlightScraper:\n",
        "    SELECTORS = {\n",
        "        \"airline\": \"div.sSHqwe.tPgKwe.ogfYpf\",\n",
        "        \"departure_time\": 'span[aria-label^=\"Departure time\"]',\n",
        "        \"arrival_time\": 'span[aria-label^=\"Arrival time\"]',\n",
        "        \"duration\": 'div[aria-label^=\"Total duration\"]',\n",
        "        \"stops\": \"div.hF6lYb span.rGRiKd\",\n",
        "        \"price\": \"div.FpEdX span\",\n",
        "        \"co2_emissions\": \"div.O7CXue\",\n",
        "        \"emissions_variation\": \"div.N6PNV\",\n",
        "    }"
      ],
      "metadata": {
        "id": "5nI7gQlHfYCu"
      },
      "execution_count": 2,
      "outputs": []
    },
    {
      "cell_type": "markdown",
      "source": [
        "## Simulate Filling Out the Search Form"
      ],
      "metadata": {
        "id": "X_NpnXdLfiH8"
      }
    },
    {
      "cell_type": "code",
      "source": [
        "async def _fill_search_form(self, page, params: SearchParameters) -> None:\n",
        "    ticket_type_div = page.locator(\"div.VfPpkd-TkwUic[jsname='oYxtQd']\").first\n",
        "    await ticket_type_div.click()\n",
        "    await page.locator(\"li\").filter(has_text=params.ticket_type).nth(0).click()\n",
        "    from_input = page.locator(\"input[aria-label='Where from?']\")\n",
        "    await from_input.fill(params.departure)\n",
        "    to_input = page.locator(\"input[aria-label='Where to?']\")\n",
        "    await to_input.fill(params.destination)\n",
        "    date_input = page.locator(\"input[aria-label='Departure date']\")\n",
        "    await date_input.fill(params.departure_date)"
      ],
      "metadata": {
        "id": "-zOkBOm3fg3Q"
      },
      "execution_count": 3,
      "outputs": []
    },
    {
      "cell_type": "markdown",
      "source": [
        "## Load All Available Flights"
      ],
      "metadata": {
        "id": "Ql-cKv2HfoJE"
      }
    },
    {
      "cell_type": "code",
      "source": [
        "async def _load_all_flights(self, page) -> None:\n",
        "    while True:\n",
        "        try:\n",
        "            more_button = await page.wait_for_selector(\n",
        "            'button[aria-label*=\"more flights\"]', timeout=5000\n",
        "            )\n",
        "            if more_button:\n",
        "                await more_button.click()\n",
        "                await page.wait_for_timeout(2000)\n",
        "            else:\n",
        "                break\n",
        "        except:\n",
        "            break"
      ],
      "metadata": {
        "id": "TJ9-0WWlfm4-"
      },
      "execution_count": 4,
      "outputs": []
    },
    {
      "cell_type": "markdown",
      "source": [
        "## Extract Flight Data"
      ],
      "metadata": {
        "id": "xeP6tO1nfzgI"
      }
    },
    {
      "cell_type": "code",
      "source": [
        "async def _extract_flight_data(self, page) -> list[FlightData]:\n",
        "    await page.wait_for_selector(\"li.pIav2d\", timeout=30000)\n",
        "    flights = await page.query_selector_all(\"li.pIav2d\")\n",
        "    flights_data = []\n",
        "    for flight in flights:\n",
        "        flight_info = {}\n",
        "    for key, selector in self.SELECTORS.items():\n",
        "        element = await flight.query_selector(selector)\n",
        "        flight_info[key] = await self._extract_text(element)\n",
        "        flights_data.append(FlightData(**flight_info))\n",
        "    return flights_data"
      ],
      "metadata": {
        "id": "TDhrpFXgfyR9"
      },
      "execution_count": 5,
      "outputs": []
    },
    {
      "cell_type": "markdown",
      "source": [
        "# Implement Retry Logic for Reliability"
      ],
      "metadata": {
        "id": "LVknnKwff6KU"
      }
    },
    {
      "cell_type": "code",
      "source": [
        "from tenacity import retry, stop_after_attempt, wait_fixed\n",
        "@retry(stop=stop_after_attempt(3), wait=wait_fixed(5))\n",
        "async def search_flights(self, params: SearchParameters) -> list[FlightData]:\n",
        "    async with async_playwright() as p:\n",
        "        browser = await p.chromium.launch(headless=True)\n",
        "        context = await browser.new_context()\n",
        "        page = await context.new_page()\n",
        "        await page.goto(\"https://www.google.com/flights\")\n",
        "        await self._fill_search_form(page, params)\n",
        "        flights = await self._extract_flight_data(page)\n",
        "        await browser.close()\n",
        "        return flights"
      ],
      "metadata": {
        "id": "Akwi7xaHf5L9"
      },
      "execution_count": 6,
      "outputs": []
    },
    {
      "cell_type": "markdown",
      "source": [
        "# Save Results to a JSON File"
      ],
      "metadata": {
        "id": "3VlCgpEmgCtd"
      }
    },
    {
      "cell_type": "code",
      "source": [
        "import json\n",
        "from datetime import datetime\n",
        "\n",
        "def save_results(self, flights: list[FlightData], params: SearchParameters) -> str:\n",
        "    timestamp = datetime.now().strftime(\"%Y%m%d_%H%M%S\")\n",
        "    filename = f\"flight_results_{params.departure}_{params.destination}_{timestamp}.json\"\n",
        "    output_data = {\n",
        "    \"search_parameters\": vars(params),\n",
        "    \"flights\": [vars(flight) for flight in flights],\n",
        "    }\n",
        "    with open(filename, \"w\", encoding=\"utf-8\") as f:\n",
        "        json.dump(output_data, f, indent=2, ensure_ascii=False)\n",
        "    return filename"
      ],
      "metadata": {
        "id": "Mtfs3HGKgBg8"
      },
      "execution_count": 7,
      "outputs": []
    },
    {
      "cell_type": "markdown",
      "source": [
        "# Running the Scraper"
      ],
      "metadata": {
        "id": "YS_UCBMmgJig"
      }
    },
    {
      "cell_type": "code",
      "source": [
        "import asyncio\n",
        "async def main():\n",
        "    scraper = FlightScraper()\n",
        "    params = SearchParameters(\n",
        "    departure=\"LAX\",\n",
        "    destination=\"JFK\",\n",
        "    departure_date=\"2024–12–01\",\n",
        "    ticket_type=\"One way\"\n",
        "    )\n",
        "\n",
        "    try:\n",
        "        flights = await scraper.search_flights(params)\n",
        "        scraper.save_results(flights, params)\n",
        "        print(\"Flights scraped successfully.\")\n",
        "    except Exception as e:\n",
        "        print(f\"Error during flight search: {str(e)}\")\n",
        "\n",
        "if __name__ == \"__main__\":\n",
        "    asyncio.run(main())"
      ],
      "metadata": {
        "id": "9quVi8XIgItu"
      },
      "execution_count": 9,
      "outputs": []
    }
  ]
}
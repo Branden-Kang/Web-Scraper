{
  "nbformat": 4,
  "nbformat_minor": 0,
  "metadata": {
    "colab": {
      "provenance": [],
      "authorship_tag": "ABX9TyOxI7KfPPpjq7/iqwrwp/zE"
    },
    "kernelspec": {
      "name": "python3",
      "display_name": "Python 3"
    },
    "language_info": {
      "name": "python"
    }
  },
  "cells": [
    {
      "cell_type": "markdown",
      "source": [
        "[Reference](https://medium.com/@datajournal/best-python-html-parsers-67f0a638e454)"
      ],
      "metadata": {
        "id": "3xoqkLuj9cfj"
      }
    },
    {
      "cell_type": "markdown",
      "source": [
        "# BeautifulSoup"
      ],
      "metadata": {
        "id": "XvEtrbJQ9gyi"
      }
    },
    {
      "cell_type": "code",
      "execution_count": 1,
      "metadata": {
        "colab": {
          "base_uri": "https://localhost:8080/"
        },
        "id": "vGQRpM6b9V2w",
        "outputId": "677b3af9-36b5-455e-dfaf-72278afa84a1"
      },
      "outputs": [
        {
          "output_type": "stream",
          "name": "stdout",
          "text": [
            "<title>The Dormouse's story</title>\n",
            "<a class=\"sister\" href=\"http://example.com/elsie\" id=\"link1\">Elsie</a>\n"
          ]
        }
      ],
      "source": [
        "from bs4 import BeautifulSoup\n",
        "html_doc = \"\"\"\n",
        "<html><head><title>The Dormouse's story</title></head>\n",
        "<body><p class=\"title\"><b>The Dormouse's story</b></p>\n",
        "<p class=\"story\">Once upon a time there were three little sisters; and their names were\n",
        "<a href=\"http://example.com/elsie\" class=\"sister\" id=\"link1\">Elsie</a>,\n",
        "<a href=\"http://example.com/lacie\" class=\"sister\" id=\"link2\">Lacie</a> and\n",
        "<a href=\"http://example.com/tillie\" class=\"sister\" id=\"link3\">Tillie</a>;\n",
        "and they lived at the bottom of a well.</p>\n",
        "<p class=\"story\">…</p>\n",
        "</body>\n",
        "</html>\n",
        "\"\"\"\n",
        "soup = BeautifulSoup(html_doc, 'html.parser')\n",
        "print(soup.title)\n",
        "print(soup.a)"
      ]
    },
    {
      "cell_type": "markdown",
      "source": [
        "# html5lib"
      ],
      "metadata": {
        "id": "7wbiny9M9ifL"
      }
    },
    {
      "cell_type": "code",
      "source": [
        "import html5lib\n",
        "html = \"\"\"\n",
        "<!DOCTYPE html>\n",
        "<html>\n",
        "<head><title>Test</title></head>\n",
        "<body><p>Hello World</p></body>\n",
        "</html>\n",
        "\"\"\"\n",
        "parser = html5lib.HTMLParser(strict=True)\n",
        "tree = parser.parse(html)\n",
        "print(tree.getElementsByTagName('title')[0].firstChild.nodeValue)"
      ],
      "metadata": {
        "id": "wxgsvnnk9hRm"
      },
      "execution_count": 3,
      "outputs": []
    },
    {
      "cell_type": "markdown",
      "source": [
        "# lxml"
      ],
      "metadata": {
        "id": "6CX1qQKQ9lRb"
      }
    },
    {
      "cell_type": "code",
      "source": [
        "from lxml import etree\n",
        "html = \"\"\"\n",
        "<html>\n",
        "<head><title>Test</title></head>\n",
        "<body><p>Hello World</p></body>\n",
        "</html>\n",
        "\"\"\"\n",
        "parser = etree.HTMLParser()\n",
        "tree = etree.fromstring(html, parser)\n",
        "print(tree.findtext('.//title'))"
      ],
      "metadata": {
        "colab": {
          "base_uri": "https://localhost:8080/"
        },
        "id": "ogMyvPQh9j7Q",
        "outputId": "1afe3ac3-912c-4e7e-888f-a005d254259f"
      },
      "execution_count": 4,
      "outputs": [
        {
          "output_type": "stream",
          "name": "stdout",
          "text": [
            "Test\n"
          ]
        }
      ]
    },
    {
      "cell_type": "markdown",
      "source": [
        "# PyQuery"
      ],
      "metadata": {
        "id": "8tB20bTn9s54"
      }
    },
    {
      "cell_type": "code",
      "source": [
        "pip install pyquery"
      ],
      "metadata": {
        "colab": {
          "base_uri": "https://localhost:8080/"
        },
        "id": "zYMoe6oj9vzo",
        "outputId": "65dd3be9-a040-449c-f76c-027d988db78a"
      },
      "execution_count": 6,
      "outputs": [
        {
          "output_type": "stream",
          "name": "stdout",
          "text": [
            "Collecting pyquery\n",
            "  Downloading pyquery-2.0.1-py3-none-any.whl.metadata (9.0 kB)\n",
            "Requirement already satisfied: lxml>=2.1 in /usr/local/lib/python3.10/dist-packages (from pyquery) (5.3.0)\n",
            "Collecting cssselect>=1.2.0 (from pyquery)\n",
            "  Downloading cssselect-1.2.0-py2.py3-none-any.whl.metadata (2.2 kB)\n",
            "Downloading pyquery-2.0.1-py3-none-any.whl (22 kB)\n",
            "Downloading cssselect-1.2.0-py2.py3-none-any.whl (18 kB)\n",
            "Installing collected packages: cssselect, pyquery\n",
            "Successfully installed cssselect-1.2.0 pyquery-2.0.1\n"
          ]
        }
      ]
    },
    {
      "cell_type": "code",
      "source": [
        "from pyquery import PyQuery as pq\n",
        "\n",
        "html = \"\"\"\n",
        "<html>\n",
        "  <head><title>Test</title></head>\n",
        "  <body><p>Hello World</p></body>\n",
        "</html>\n",
        "\"\"\"\n",
        "\n",
        "d = pq(html)\n",
        "print(d('title').text())"
      ],
      "metadata": {
        "colab": {
          "base_uri": "https://localhost:8080/"
        },
        "id": "UkCea_p29qiQ",
        "outputId": "b6b6d076-8508-4117-a868-ad85153cc6a4"
      },
      "execution_count": 7,
      "outputs": [
        {
          "output_type": "stream",
          "name": "stdout",
          "text": [
            "Test\n"
          ]
        }
      ]
    }
  ]
}
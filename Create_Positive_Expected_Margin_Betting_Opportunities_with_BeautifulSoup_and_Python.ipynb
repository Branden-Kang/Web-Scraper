{
  "nbformat": 4,
  "nbformat_minor": 0,
  "metadata": {
    "colab": {
      "provenance": [],
      "authorship_tag": "ABX9TyPs66DeHFRBru7+XDqCzXi2"
    },
    "kernelspec": {
      "name": "python3",
      "display_name": "Python 3"
    },
    "language_info": {
      "name": "python"
    }
  },
  "cells": [
    {
      "cell_type": "markdown",
      "source": [
        "[Reference](https://levelup.gitconnected.com/create-positive-expected-margin-betting-opportunities-with-beautifulsoup-and-python-bed1b4164183)\n"
      ],
      "metadata": {
        "id": "vLRMblu96E1m"
      }
    },
    {
      "cell_type": "code",
      "execution_count": 1,
      "metadata": {
        "id": "LA1FHYxM56d8"
      },
      "outputs": [],
      "source": [
        "import pandas as pd\n",
        "import requests\n",
        "from bs4 import BeautifulSoup\n",
        "\n",
        "#default scrap time frame is 12 hours and anytime date range.\n",
        "\n",
        "url = 'https://www.betexplorer.com/odds-movements/soccer/'\n",
        "soup = BeautifulSoup(requests.get(url).content)\n",
        "matches = soup.find_all(\"td\", class_=\"table-main__tt\")\n",
        "best_odds = soup.find_all(\"td\",class_ =\"bestbet-odd\")\n",
        "BestOddsBookie = soup.find_all(\"td\",class_ =\"bestbet-logo\")\n",
        "dates = soup.find_all(\"th\",class_ =\"table-main__date\")\n",
        "\n",
        "data = []\n",
        "for m in soup.select('#odds-movements tr:has(.table-main__tt)'):\n",
        "    data.append({\n",
        "        'match':m.a.text,\n",
        "        'time':m.span.text,\n",
        "        'odds':[o.get('data-odd') for o in m.select('a[data-odd]')],\n",
        "    })"
      ]
    },
    {
      "cell_type": "code",
      "source": [
        "# best_odds = [m.get('data-odd') for m in best_odds]\n",
        "# bookieTitles = [m.get('title') for m in BestOddsBookie]\n",
        "\n",
        "# urls = []\n",
        "# for match in matches:\n",
        "#     link = 'https://www.betexplorer.com' + match.a.get('href')\n",
        "#     urls.append(link)\n",
        "\n",
        "# data = pd.DataFrame(data,columns=['match','time','odds','BestOdds','BestOddsBookie'])\n",
        "# data['BestOdds'] = best_odds\n",
        "# data['BestOdds'] = data['BestOdds'].astype(float)\n",
        "# data['BestOddsBookie'] = bookieTitles\n",
        "# data['odds'] = data['odds'].apply(lambda x: list(pd.unique(x)))\n",
        "# data['HomeOdds'] = data.odds.apply(lambda x: x[0]).astype(float)\n",
        "# data['DrawOdds'] = data.odds.apply(lambda x: x[1]).astype(float)\n",
        "# data['AwayOdds'] = data.odds.apply(lambda x: x[2]).astype(float)\n",
        "# data['url'] = urls\n",
        "# data['Home%'] = 1/data['HomeOdds']\n",
        "# data['Draw%'] = 1/data['DrawOdds']\n",
        "# data['Away%'] = 1/data['AwayOdds']\n",
        "# data['BestOdds%'] = 1/data['BestOdds']\n",
        "\n",
        "# for row in data['Home%']:\n",
        "#     data['Home%'] - data['BestOdds%'].abs()\n",
        "\n",
        "\n",
        "# data_final = data[['match','time','HomeOdds','DrawOdds','AwayOdds','BestOdds','Home%','Draw%','Away%','BestOdds%','BestOddsBookie','url']]\n",
        "\n",
        "# data_final"
      ],
      "metadata": {
        "id": "x6kSC_do59h-"
      },
      "execution_count": 3,
      "outputs": []
    }
  ]
}
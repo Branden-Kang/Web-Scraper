{
  "nbformat": 4,
  "nbformat_minor": 0,
  "metadata": {
    "colab": {
      "provenance": [],
      "authorship_tag": "ABX9TyPuRSiJrpRny1VmTOeWBJKT"
    },
    "kernelspec": {
      "name": "python3",
      "display_name": "Python 3"
    },
    "language_info": {
      "name": "python"
    }
  },
  "cells": [
    {
      "cell_type": "markdown",
      "source": [
        "[Reference](https://frank-andrade.medium.com/super-fast-web-scraping-with-polars-in-python-51e1e1b36215)"
      ],
      "metadata": {
        "id": "t_sZaztffzbW"
      }
    },
    {
      "cell_type": "code",
      "execution_count": 1,
      "metadata": {
        "colab": {
          "base_uri": "https://localhost:8080/"
        },
        "id": "A3JP7-dZezQR",
        "outputId": "b50ce8a2-d10e-496c-fb9d-2869d49a4d0f"
      },
      "outputs": [
        {
          "output_type": "stream",
          "name": "stdout",
          "text": [
            "Looking in indexes: https://pypi.org/simple, https://us-python.pkg.dev/colab-wheels/public/simple/\n",
            "Collecting polars\n",
            "  Downloading polars-0.16.13-cp37-abi3-manylinux_2_17_x86_64.manylinux2014_x86_64.whl (16.2 MB)\n",
            "\u001b[2K     \u001b[90m━━━━━━━━━━━━━━━━━━━━━━━━━━━━━━━━━━━━━━━━\u001b[0m \u001b[32m16.2/16.2 MB\u001b[0m \u001b[31m41.8 MB/s\u001b[0m eta \u001b[36m0:00:00\u001b[0m\n",
            "\u001b[?25hRequirement already satisfied: typing_extensions>=4.0.1 in /usr/local/lib/python3.9/dist-packages (from polars) (4.5.0)\n",
            "Installing collected packages: polars\n",
            "Successfully installed polars-0.16.13\n"
          ]
        }
      ],
      "source": [
        "pip install polars"
      ]
    },
    {
      "cell_type": "code",
      "source": [
        "import polars as pl\n",
        "pl.read_csv('https://www.football-data.co.uk/mmz4281/2122/E0.csv')"
      ],
      "metadata": {
        "colab": {
          "base_uri": "https://localhost:8080/",
          "height": 1000
        },
        "id": "oN0kfX5Qf3TW",
        "outputId": "9b145b22-1de0-4ea5-9956-4abc306c1556"
      },
      "execution_count": 2,
      "outputs": [
        {
          "output_type": "execute_result",
          "data": {
            "text/plain": [
              "shape: (380, 106)\n",
              "┌─────┬────────────┬───────┬────────────┬─────┬─────────┬─────────┬─────────┬─────────┐\n",
              "│ Div ┆ Date       ┆ Time  ┆ HomeTeam   ┆ ... ┆ MaxCAHH ┆ MaxCAHA ┆ AvgCAHH ┆ AvgCAHA │\n",
              "│ --- ┆ ---        ┆ ---   ┆ ---        ┆     ┆ ---     ┆ ---     ┆ ---     ┆ ---     │\n",
              "│ str ┆ str        ┆ str   ┆ str        ┆     ┆ f64     ┆ f64     ┆ f64     ┆ f64     │\n",
              "╞═════╪════════════╪═══════╪════════════╪═════╪═════════╪═════════╪═════════╪═════════╡\n",
              "│ E0  ┆ 13/08/2021 ┆ 20:00 ┆ Brentford  ┆ ... ┆ 2.05    ┆ 2.17    ┆ 1.8     ┆ 2.09    │\n",
              "│ E0  ┆ 14/08/2021 ┆ 12:30 ┆ Man United ┆ ... ┆ 2.19    ┆ 1.93    ┆ 2.1     ┆ 1.79    │\n",
              "│ E0  ┆ 14/08/2021 ┆ 15:00 ┆ Burnley    ┆ ... ┆ 1.82    ┆ 2.19    ┆ 1.79    ┆ 2.12    │\n",
              "│ E0  ┆ 14/08/2021 ┆ 15:00 ┆ Chelsea    ┆ ... ┆ 2.16    ┆ 1.93    ┆ 2.06    ┆ 1.82    │\n",
              "│ ... ┆ ...        ┆ ...   ┆ ...        ┆ ... ┆ ...     ┆ ...     ┆ ...     ┆ ...     │\n",
              "│ E0  ┆ 22/05/2022 ┆ 16:00 ┆ Leicester  ┆ ... ┆ 1.94    ┆ 2.26    ┆ 1.87    ┆ 2.01    │\n",
              "│ E0  ┆ 22/05/2022 ┆ 16:00 ┆ Liverpool  ┆ ... ┆ 2.19    ┆ 1.99    ┆ 2.07    ┆ 1.8     │\n",
              "│ E0  ┆ 22/05/2022 ┆ 16:00 ┆ Man City   ┆ ... ┆ 2.09    ┆ 2.03    ┆ 2.01    ┆ 1.87    │\n",
              "│ E0  ┆ 22/05/2022 ┆ 16:00 ┆ Norwich    ┆ ... ┆ 2.16    ┆ 1.98    ┆ 1.99    ┆ 1.89    │\n",
              "└─────┴────────────┴───────┴────────────┴─────┴─────────┴─────────┴─────────┴─────────┘"
            ],
            "text/html": [
              "<div><style>\n",
              ".dataframe > thead > tr > th,\n",
              ".dataframe > tbody > tr > td {\n",
              "  text-align: right;\n",
              "}\n",
              "</style>\n",
              "<small>shape: (380, 106)</small><table border=\"1\" class=\"dataframe\"><thead><tr><th>Div</th><th>Date</th><th>Time</th><th>HomeTeam</th><th>AwayTeam</th><th>FTHG</th><th>FTAG</th><th>FTR</th><th>HTHG</th><th>HTAG</th><th>HTR</th><th>Referee</th><th>HS</th><th>AS</th><th>HST</th><th>AST</th><th>HF</th><th>AF</th><th>HC</th><th>AC</th><th>HY</th><th>AY</th><th>HR</th><th>AR</th><th>B365H</th><th>B365D</th><th>B365A</th><th>BWH</th><th>BWD</th><th>BWA</th><th>IWH</th><th>IWD</th><th>IWA</th><th>PSH</th><th>PSD</th><th>PSA</th><th>WHH</th><th>...</th><th>BWCD</th><th>BWCA</th><th>IWCH</th><th>IWCD</th><th>IWCA</th><th>PSCH</th><th>PSCD</th><th>PSCA</th><th>WHCH</th><th>WHCD</th><th>WHCA</th><th>VCCH</th><th>VCCD</th><th>VCCA</th><th>MaxCH</th><th>MaxCD</th><th>MaxCA</th><th>AvgCH</th><th>AvgCD</th><th>AvgCA</th><th>B365C>2.5</th><th>B365C<2.5</th><th>PC>2.5</th><th>PC<2.5</th><th>MaxC>2.5</th><th>MaxC<2.5</th><th>AvgC>2.5</th><th>AvgC<2.5</th><th>AHCh</th><th>B365CAHH</th><th>B365CAHA</th><th>PCAHH</th><th>PCAHA</th><th>MaxCAHH</th><th>MaxCAHA</th><th>AvgCAHH</th><th>AvgCAHA</th></tr><tr><td>str</td><td>str</td><td>str</td><td>str</td><td>str</td><td>i64</td><td>i64</td><td>str</td><td>i64</td><td>i64</td><td>str</td><td>str</td><td>i64</td><td>i64</td><td>i64</td><td>i64</td><td>i64</td><td>i64</td><td>i64</td><td>i64</td><td>i64</td><td>i64</td><td>i64</td><td>i64</td><td>f64</td><td>f64</td><td>f64</td><td>f64</td><td>f64</td><td>f64</td><td>f64</td><td>f64</td><td>f64</td><td>f64</td><td>f64</td><td>f64</td><td>f64</td><td>...</td><td>f64</td><td>f64</td><td>f64</td><td>f64</td><td>f64</td><td>f64</td><td>f64</td><td>f64</td><td>f64</td><td>f64</td><td>f64</td><td>f64</td><td>f64</td><td>f64</td><td>f64</td><td>f64</td><td>f64</td><td>f64</td><td>f64</td><td>f64</td><td>f64</td><td>f64</td><td>f64</td><td>f64</td><td>f64</td><td>f64</td><td>f64</td><td>f64</td><td>f64</td><td>f64</td><td>f64</td><td>f64</td><td>f64</td><td>f64</td><td>f64</td><td>f64</td><td>f64</td></tr></thead><tbody><tr><td>&quot;E0&quot;</td><td>&quot;13/08/2021&quot;</td><td>&quot;20:00&quot;</td><td>&quot;Brentford&quot;</td><td>&quot;Arsenal&quot;</td><td>2</td><td>0</td><td>&quot;H&quot;</td><td>1</td><td>0</td><td>&quot;H&quot;</td><td>&quot;M Oliver&quot;</td><td>8</td><td>22</td><td>3</td><td>4</td><td>12</td><td>8</td><td>2</td><td>5</td><td>0</td><td>0</td><td>0</td><td>0</td><td>4.0</td><td>3.4</td><td>1.95</td><td>4.0</td><td>3.5</td><td>1.95</td><td>3.8</td><td>3.4</td><td>2.05</td><td>4.05</td><td>3.46</td><td>2.05</td><td>4.0</td><td>...</td><td>3.3</td><td>2.05</td><td>3.8</td><td>3.25</td><td>2.1</td><td>3.94</td><td>3.33</td><td>2.13</td><td>3.9</td><td>3.0</td><td>2.05</td><td>3.9</td><td>3.25</td><td>2.1</td><td>4.2</td><td>3.5</td><td>2.18</td><td>3.89</td><td>3.28</td><td>2.1</td><td>2.37</td><td>1.57</td><td>2.44</td><td>1.62</td><td>2.47</td><td>1.75</td><td>2.33</td><td>1.62</td><td>0.5</td><td>1.75</td><td>2.05</td><td>1.81</td><td>2.13</td><td>2.05</td><td>2.17</td><td>1.8</td><td>2.09</td></tr><tr><td>&quot;E0&quot;</td><td>&quot;14/08/2021&quot;</td><td>&quot;12:30&quot;</td><td>&quot;Man United&quot;</td><td>&quot;Leeds&quot;</td><td>5</td><td>1</td><td>&quot;H&quot;</td><td>1</td><td>0</td><td>&quot;H&quot;</td><td>&quot;P Tierney&quot;</td><td>16</td><td>10</td><td>8</td><td>3</td><td>11</td><td>9</td><td>5</td><td>4</td><td>1</td><td>2</td><td>0</td><td>0</td><td>1.53</td><td>4.5</td><td>5.75</td><td>1.53</td><td>4.5</td><td>5.75</td><td>1.55</td><td>4.4</td><td>5.75</td><td>1.56</td><td>4.57</td><td>5.96</td><td>1.52</td><td>...</td><td>4.1</td><td>5.25</td><td>1.65</td><td>4.2</td><td>4.9</td><td>1.67</td><td>4.2</td><td>5.4</td><td>1.57</td><td>4.2</td><td>5.5</td><td>1.65</td><td>4.1</td><td>5.25</td><td>1.71</td><td>4.33</td><td>5.8</td><td>1.64</td><td>4.19</td><td>5.22</td><td>1.66</td><td>2.2</td><td>1.7</td><td>2.27</td><td>1.75</td><td>2.37</td><td>1.67</td><td>2.25</td><td>-1.0</td><td>2.05</td><td>1.75</td><td>2.17</td><td>1.77</td><td>2.19</td><td>1.93</td><td>2.1</td><td>1.79</td></tr><tr><td>&quot;E0&quot;</td><td>&quot;14/08/2021&quot;</td><td>&quot;15:00&quot;</td><td>&quot;Burnley&quot;</td><td>&quot;Brighton&quot;</td><td>1</td><td>2</td><td>&quot;A&quot;</td><td>1</td><td>0</td><td>&quot;H&quot;</td><td>&quot;D Coote&quot;</td><td>14</td><td>14</td><td>3</td><td>8</td><td>10</td><td>7</td><td>7</td><td>6</td><td>2</td><td>1</td><td>0</td><td>0</td><td>3.1</td><td>3.1</td><td>2.45</td><td>3.2</td><td>3.1</td><td>2.4</td><td>3.15</td><td>3.05</td><td>2.45</td><td>3.3</td><td>3.12</td><td>2.51</td><td>3.2</td><td>...</td><td>3.1</td><td>2.4</td><td>3.1</td><td>3.05</td><td>2.45</td><td>3.27</td><td>3.14</td><td>2.51</td><td>3.1</td><td>3.0</td><td>2.45</td><td>3.13</td><td>3.13</td><td>2.5</td><td>3.35</td><td>3.2</td><td>2.56</td><td>3.19</td><td>3.1</td><td>2.48</td><td>2.3</td><td>1.61</td><td>2.33</td><td>1.67</td><td>2.42</td><td>1.71</td><td>2.34</td><td>1.62</td><td>0.25</td><td>1.79</td><td>2.15</td><td>1.81</td><td>2.14</td><td>1.82</td><td>2.19</td><td>1.79</td><td>2.12</td></tr><tr><td>&quot;E0&quot;</td><td>&quot;14/08/2021&quot;</td><td>&quot;15:00&quot;</td><td>&quot;Chelsea&quot;</td><td>&quot;Crystal Palace...</td><td>3</td><td>0</td><td>&quot;H&quot;</td><td>2</td><td>0</td><td>&quot;H&quot;</td><td>&quot;J Moss&quot;</td><td>13</td><td>4</td><td>6</td><td>1</td><td>15</td><td>11</td><td>5</td><td>2</td><td>0</td><td>0</td><td>0</td><td>0</td><td>1.25</td><td>5.75</td><td>13.0</td><td>1.28</td><td>5.75</td><td>10.5</td><td>1.25</td><td>6.0</td><td>13.0</td><td>1.26</td><td>6.24</td><td>12.74</td><td>1.25</td><td>...</td><td>5.0</td><td>10.0</td><td>1.3</td><td>5.25</td><td>11.0</td><td>1.34</td><td>5.4</td><td>11.0</td><td>1.3</td><td>5.25</td><td>10.0</td><td>1.33</td><td>5.0</td><td>11.0</td><td>1.36</td><td>5.5</td><td>11.5</td><td>1.33</td><td>5.17</td><td>10.58</td><td>1.9</td><td>1.9</td><td>1.93</td><td>1.98</td><td>1.96</td><td>2.07</td><td>1.9</td><td>1.94</td><td>-1.5</td><td>2.05</td><td>1.75</td><td>2.12</td><td>1.81</td><td>2.16</td><td>1.93</td><td>2.06</td><td>1.82</td></tr><tr><td>&quot;E0&quot;</td><td>&quot;14/08/2021&quot;</td><td>&quot;15:00&quot;</td><td>&quot;Everton&quot;</td><td>&quot;Southampton&quot;</td><td>3</td><td>1</td><td>&quot;H&quot;</td><td>0</td><td>1</td><td>&quot;A&quot;</td><td>&quot;A Madley&quot;</td><td>14</td><td>6</td><td>6</td><td>3</td><td>13</td><td>15</td><td>6</td><td>8</td><td>2</td><td>0</td><td>0</td><td>0</td><td>1.9</td><td>3.5</td><td>4.0</td><td>1.95</td><td>3.5</td><td>3.9</td><td>1.95</td><td>3.45</td><td>3.95</td><td>2.01</td><td>3.56</td><td>4.1</td><td>1.95</td><td>...</td><td>3.4</td><td>3.75</td><td>2.0</td><td>3.35</td><td>4.0</td><td>2.05</td><td>3.45</td><td>4.07</td><td>1.95</td><td>3.4</td><td>3.9</td><td>2.0</td><td>3.3</td><td>4.2</td><td>2.12</td><td>3.5</td><td>4.2</td><td>2.04</td><td>3.39</td><td>3.95</td><td>2.2</td><td>1.66</td><td>2.28</td><td>1.69</td><td>2.34</td><td>1.77</td><td>2.24</td><td>1.67</td><td>-0.5</td><td>2.05</td><td>1.88</td><td>2.05</td><td>1.88</td><td>2.08</td><td>1.9</td><td>2.03</td><td>1.86</td></tr><tr><td>&quot;E0&quot;</td><td>&quot;14/08/2021&quot;</td><td>&quot;15:00&quot;</td><td>&quot;Leicester&quot;</td><td>&quot;Wolves&quot;</td><td>1</td><td>0</td><td>&quot;H&quot;</td><td>1</td><td>0</td><td>&quot;H&quot;</td><td>&quot;C Pawson&quot;</td><td>9</td><td>17</td><td>5</td><td>3</td><td>6</td><td>10</td><td>5</td><td>4</td><td>1</td><td>2</td><td>0</td><td>0</td><td>1.66</td><td>3.8</td><td>5.25</td><td>1.67</td><td>3.9</td><td>5.25</td><td>1.7</td><td>3.75</td><td>5.25</td><td>1.73</td><td>3.79</td><td>5.47</td><td>1.7</td><td>...</td><td>3.7</td><td>5.0</td><td>1.73</td><td>3.7</td><td>4.9</td><td>1.76</td><td>3.77</td><td>5.22</td><td>1.66</td><td>3.8</td><td>5.0</td><td>1.73</td><td>3.7</td><td>5.25</td><td>1.82</td><td>4.13</td><td>5.5</td><td>1.74</td><td>3.72</td><td>5.06</td><td>2.0</td><td>1.8</td><td>2.08</td><td>1.82</td><td>2.15</td><td>1.93</td><td>2.06</td><td>1.79</td><td>-0.75</td><td>2.02</td><td>1.91</td><td>2.01</td><td>1.92</td><td>2.05</td><td>1.95</td><td>1.99</td><td>1.89</td></tr><tr><td>&quot;E0&quot;</td><td>&quot;14/08/2021&quot;</td><td>&quot;15:00&quot;</td><td>&quot;Watford&quot;</td><td>&quot;Aston Villa&quot;</td><td>3</td><td>2</td><td>&quot;H&quot;</td><td>2</td><td>0</td><td>&quot;H&quot;</td><td>&quot;M Dean&quot;</td><td>13</td><td>11</td><td>7</td><td>2</td><td>18</td><td>13</td><td>2</td><td>4</td><td>3</td><td>1</td><td>0</td><td>0</td><td>3.1</td><td>3.2</td><td>2.37</td><td>3.25</td><td>3.3</td><td>2.3</td><td>3.05</td><td>3.25</td><td>2.4</td><td>3.18</td><td>3.31</td><td>2.47</td><td>3.2</td><td>...</td><td>3.3</td><td>2.2</td><td>3.35</td><td>3.15</td><td>2.3</td><td>3.68</td><td>3.35</td><td>2.21</td><td>3.4</td><td>3.2</td><td>2.2</td><td>3.5</td><td>3.3</td><td>2.2</td><td>3.73</td><td>3.45</td><td>2.3</td><td>3.49</td><td>3.3</td><td>2.22</td><td>2.1</td><td>1.72</td><td>2.18</td><td>1.75</td><td>2.23</td><td>1.84</td><td>2.12</td><td>1.74</td><td>0.25</td><td>2.02</td><td>1.91</td><td>2.04</td><td>1.89</td><td>2.04</td><td>1.93</td><td>1.99</td><td>1.9</td></tr><tr><td>&quot;E0&quot;</td><td>&quot;14/08/2021&quot;</td><td>&quot;17:30&quot;</td><td>&quot;Norwich&quot;</td><td>&quot;Liverpool&quot;</td><td>0</td><td>3</td><td>&quot;A&quot;</td><td>0</td><td>1</td><td>&quot;A&quot;</td><td>&quot;A Marriner&quot;</td><td>14</td><td>19</td><td>3</td><td>8</td><td>4</td><td>14</td><td>3</td><td>11</td><td>1</td><td>1</td><td>0</td><td>0</td><td>9.0</td><td>5.75</td><td>1.3</td><td>9.0</td><td>6.0</td><td>1.3</td><td>7.75</td><td>5.5</td><td>1.35</td><td>8.35</td><td>5.86</td><td>1.36</td><td>9.0</td><td>...</td><td>4.75</td><td>1.45</td><td>6.5</td><td>5.25</td><td>1.43</td><td>7.0</td><td>4.9</td><td>1.48</td><td>7.5</td><td>5.0</td><td>1.38</td><td>7.0</td><td>4.8</td><td>1.45</td><td>8.0</td><td>5.5</td><td>1.5</td><td>6.8</td><td>4.85</td><td>1.46</td><td>1.57</td><td>2.37</td><td>1.57</td><td>2.56</td><td>1.61</td><td>2.6</td><td>1.55</td><td>2.48</td><td>1.25</td><td>1.85</td><td>2.08</td><td>1.85</td><td>2.09</td><td>2.03</td><td>2.1</td><td>1.88</td><td>2.01</td></tr><tr><td>&quot;E0&quot;</td><td>&quot;15/08/2021&quot;</td><td>&quot;14:00&quot;</td><td>&quot;Newcastle&quot;</td><td>&quot;West Ham&quot;</td><td>2</td><td>4</td><td>&quot;A&quot;</td><td>2</td><td>1</td><td>&quot;H&quot;</td><td>&quot;M Atkinson&quot;</td><td>17</td><td>8</td><td>3</td><td>9</td><td>4</td><td>3</td><td>7</td><td>6</td><td>1</td><td>0</td><td>0</td><td>0</td><td>3.2</td><td>3.5</td><td>2.2</td><td>3.3</td><td>3.4</td><td>2.2</td><td>3.15</td><td>3.45</td><td>2.25</td><td>3.21</td><td>3.59</td><td>2.32</td><td>3.1</td><td>...</td><td>3.4</td><td>2.2</td><td>3.3</td><td>3.45</td><td>2.2</td><td>3.46</td><td>3.55</td><td>2.21</td><td>3.4</td><td>3.3</td><td>2.15</td><td>3.4</td><td>3.5</td><td>2.15</td><td>3.62</td><td>3.6</td><td>2.27</td><td>3.36</td><td>3.5</td><td>2.19</td><td>1.9</td><td>1.9</td><td>1.92</td><td>1.99</td><td>1.97</td><td>2.05</td><td>1.88</td><td>1.95</td><td>0.25</td><td>2.01</td><td>1.92</td><td>2.02</td><td>1.91</td><td>2.12</td><td>1.94</td><td>2.0</td><td>1.89</td></tr><tr><td>&quot;E0&quot;</td><td>&quot;15/08/2021&quot;</td><td>&quot;16:30&quot;</td><td>&quot;Tottenham&quot;</td><td>&quot;Man City&quot;</td><td>1</td><td>0</td><td>&quot;H&quot;</td><td>0</td><td>0</td><td>&quot;D&quot;</td><td>&quot;A Taylor&quot;</td><td>13</td><td>18</td><td>3</td><td>4</td><td>11</td><td>8</td><td>3</td><td>11</td><td>2</td><td>1</td><td>0</td><td>0</td><td>5.5</td><td>4.2</td><td>1.6</td><td>5.25</td><td>4.25</td><td>1.6</td><td>5.25</td><td>4.1</td><td>1.63</td><td>5.56</td><td>4.09</td><td>1.67</td><td>5.5</td><td>...</td><td>4.2</td><td>1.55</td><td>5.5</td><td>3.95</td><td>1.63</td><td>5.97</td><td>4.25</td><td>1.61</td><td>5.8</td><td>3.8</td><td>1.6</td><td>6.0</td><td>4.0</td><td>1.6</td><td>6.53</td><td>4.33</td><td>1.65</td><td>5.88</td><td>4.12</td><td>1.6</td><td>1.8</td><td>2.0</td><td>1.88</td><td>2.03</td><td>2.0</td><td>2.17</td><td>1.85</td><td>1.99</td><td>1.0</td><td>1.84</td><td>2.09</td><td>1.87</td><td>2.06</td><td>1.94</td><td>2.15</td><td>1.84</td><td>2.05</td></tr><tr><td>&quot;E0&quot;</td><td>&quot;21/08/2021&quot;</td><td>&quot;12:30&quot;</td><td>&quot;Liverpool&quot;</td><td>&quot;Burnley&quot;</td><td>2</td><td>0</td><td>&quot;H&quot;</td><td>1</td><td>0</td><td>&quot;H&quot;</td><td>&quot;M Dean&quot;</td><td>27</td><td>9</td><td>9</td><td>3</td><td>6</td><td>12</td><td>8</td><td>4</td><td>0</td><td>0</td><td>0</td><td>0</td><td>1.18</td><td>7.5</td><td>13.0</td><td>1.2</td><td>7.0</td><td>13.5</td><td>1.22</td><td>6.5</td><td>13.0</td><td>1.21</td><td>6.98</td><td>15.68</td><td>1.2</td><td>...</td><td>6.25</td><td>11.5</td><td>1.25</td><td>6.5</td><td>11.0</td><td>1.25</td><td>6.75</td><td>13.5</td><td>1.2</td><td>6.5</td><td>13.0</td><td>1.22</td><td>6.5</td><td>13.0</td><td>1.31</td><td>7.1</td><td>14.0</td><td>1.24</td><td>6.57</td><td>12.29</td><td>1.44</td><td>2.75</td><td>1.47</td><td>2.79</td><td>1.54</td><td>2.85</td><td>1.47</td><td>2.7</td><td>-1.75</td><td>1.95</td><td>1.98</td><td>1.95</td><td>1.95</td><td>1.97</td><td>2.07</td><td>1.9</td><td>1.98</td></tr><tr><td>&quot;E0&quot;</td><td>&quot;21/08/2021&quot;</td><td>&quot;15:00&quot;</td><td>&quot;Aston Villa&quot;</td><td>&quot;Newcastle&quot;</td><td>2</td><td>0</td><td>&quot;H&quot;</td><td>1</td><td>0</td><td>&quot;H&quot;</td><td>&quot;D Coote&quot;</td><td>10</td><td>9</td><td>2</td><td>1</td><td>8</td><td>18</td><td>3</td><td>4</td><td>3</td><td>4</td><td>0</td><td>0</td><td>1.8</td><td>3.75</td><td>4.33</td><td>1.8</td><td>3.9</td><td>4.25</td><td>1.83</td><td>3.8</td><td>4.1</td><td>1.83</td><td>3.99</td><td>4.4</td><td>1.8</td><td>...</td><td>3.75</td><td>4.2</td><td>1.83</td><td>3.85</td><td>4.1</td><td>1.87</td><td>3.83</td><td>4.39</td><td>1.8</td><td>3.7</td><td>4.2</td><td>1.83</td><td>3.8</td><td>4.2</td><td>1.89</td><td>4.1</td><td>4.43</td><td>1.84</td><td>3.88</td><td>4.21</td><td>1.72</td><td>2.1</td><td>1.74</td><td>2.21</td><td>1.74</td><td>2.39</td><td>1.68</td><td>2.23</td><td>-0.5</td><td>1.85</td><td>2.08</td><td>1.87</td><td>2.06</td><td>1.88</td><td>2.11</td><td>1.84</td><td>2.05</td></tr><tr><td>...</td><td>...</td><td>...</td><td>...</td><td>...</td><td>...</td><td>...</td><td>...</td><td>...</td><td>...</td><td>...</td><td>...</td><td>...</td><td>...</td><td>...</td><td>...</td><td>...</td><td>...</td><td>...</td><td>...</td><td>...</td><td>...</td><td>...</td><td>...</td><td>...</td><td>...</td><td>...</td><td>...</td><td>...</td><td>...</td><td>...</td><td>...</td><td>...</td><td>...</td><td>...</td><td>...</td><td>...</td><td>...</td><td>...</td><td>...</td><td>...</td><td>...</td><td>...</td><td>...</td><td>...</td><td>...</td><td>...</td><td>...</td><td>...</td><td>...</td><td>...</td><td>...</td><td>...</td><td>...</td><td>...</td><td>...</td><td>...</td><td>...</td><td>...</td><td>...</td><td>...</td><td>...</td><td>...</td><td>...</td><td>...</td><td>...</td><td>...</td><td>...</td><td>...</td><td>...</td><td>...</td><td>...</td><td>...</td><td>...</td><td>...</td></tr><tr><td>&quot;E0&quot;</td><td>&quot;19/05/2022&quot;</td><td>&quot;20:00&quot;</td><td>&quot;Aston Villa&quot;</td><td>&quot;Burnley&quot;</td><td>1</td><td>1</td><td>&quot;D&quot;</td><td>0</td><td>1</td><td>&quot;A&quot;</td><td>&quot;P Tierney&quot;</td><td>22</td><td>10</td><td>9</td><td>5</td><td>11</td><td>20</td><td>13</td><td>6</td><td>0</td><td>1</td><td>0</td><td>1</td><td>2.05</td><td>3.5</td><td>3.6</td><td>1.98</td><td>3.5</td><td>3.7</td><td>2.1</td><td>3.45</td><td>3.5</td><td>2.07</td><td>3.59</td><td>3.75</td><td>2.0</td><td>...</td><td>3.3</td><td>3.7</td><td>2.1</td><td>3.4</td><td>3.5</td><td>2.04</td><td>3.46</td><td>4.1</td><td>2.1</td><td>3.25</td><td>3.6</td><td>2.0</td><td>3.4</td><td>4.0</td><td>2.11</td><td>3.91</td><td>4.1</td><td>2.04</td><td>3.45</td><td>3.88</td><td>2.0</td><td>1.8</td><td>2.12</td><td>1.79</td><td>2.15</td><td>1.91</td><td>2.07</td><td>1.78</td><td>-0.5</td><td>2.02</td><td>1.88</td><td>2.04</td><td>1.88</td><td>2.1</td><td>1.91</td><td>2.05</td><td>1.84</td></tr><tr><td>&quot;E0&quot;</td><td>&quot;19/05/2022&quot;</td><td>&quot;20:00&quot;</td><td>&quot;Chelsea&quot;</td><td>&quot;Leicester&quot;</td><td>1</td><td>1</td><td>&quot;D&quot;</td><td>1</td><td>1</td><td>&quot;D&quot;</td><td>&quot;S Attwell&quot;</td><td>20</td><td>2</td><td>7</td><td>1</td><td>13</td><td>7</td><td>6</td><td>0</td><td>4</td><td>1</td><td>0</td><td>0</td><td>1.4</td><td>4.75</td><td>8.0</td><td>1.38</td><td>4.75</td><td>8.5</td><td>1.4</td><td>4.6</td><td>8.75</td><td>1.39</td><td>4.97</td><td>9.07</td><td>1.35</td><td>...</td><td>4.75</td><td>6.75</td><td>1.43</td><td>4.6</td><td>7.5</td><td>1.44</td><td>4.87</td><td>7.49</td><td>1.42</td><td>4.6</td><td>7.0</td><td>1.4</td><td>5.0</td><td>8.0</td><td>1.48</td><td>5.26</td><td>8.17</td><td>1.42</td><td>4.94</td><td>7.48</td><td>1.57</td><td>2.37</td><td>1.57</td><td>2.52</td><td>1.58</td><td>2.6</td><td>1.55</td><td>2.48</td><td>-1.25</td><td>1.92</td><td>1.98</td><td>1.95</td><td>1.95</td><td>1.97</td><td>2.14</td><td>1.9</td><td>1.97</td></tr><tr><td>&quot;E0&quot;</td><td>&quot;22/05/2022&quot;</td><td>&quot;16:00&quot;</td><td>&quot;Arsenal&quot;</td><td>&quot;Everton&quot;</td><td>5</td><td>1</td><td>&quot;H&quot;</td><td>2</td><td>1</td><td>&quot;H&quot;</td><td>&quot;A Marriner&quot;</td><td>26</td><td>6</td><td>9</td><td>2</td><td>8</td><td>9</td><td>12</td><td>2</td><td>0</td><td>1</td><td>0</td><td>0</td><td>1.36</td><td>4.75</td><td>9.0</td><td>1.38</td><td>5.0</td><td>7.75</td><td>1.37</td><td>4.9</td><td>8.5</td><td>1.37</td><td>5.13</td><td>9.24</td><td>1.35</td><td>...</td><td>5.5</td><td>8.25</td><td>1.35</td><td>5.25</td><td>8.75</td><td>1.36</td><td>5.61</td><td>8.84</td><td>1.32</td><td>5.0</td><td>9.5</td><td>1.33</td><td>5.5</td><td>9.5</td><td>1.4</td><td>5.88</td><td>10.0</td><td>1.34</td><td>5.54</td><td>8.95</td><td>1.53</td><td>2.5</td><td>1.55</td><td>2.6</td><td>1.59</td><td>2.72</td><td>1.53</td><td>2.52</td><td>-1.5</td><td>1.97</td><td>1.93</td><td>1.99</td><td>1.93</td><td>2.01</td><td>2.08</td><td>1.95</td><td>1.92</td></tr><tr><td>&quot;E0&quot;</td><td>&quot;22/05/2022&quot;</td><td>&quot;16:00&quot;</td><td>&quot;Brentford&quot;</td><td>&quot;Leeds&quot;</td><td>1</td><td>2</td><td>&quot;A&quot;</td><td>0</td><td>0</td><td>&quot;D&quot;</td><td>&quot;P Tierney&quot;</td><td>14</td><td>14</td><td>5</td><td>6</td><td>11</td><td>13</td><td>3</td><td>2</td><td>2</td><td>1</td><td>1</td><td>0</td><td>2.45</td><td>3.8</td><td>2.62</td><td>2.4</td><td>3.6</td><td>2.75</td><td>2.45</td><td>3.6</td><td>2.75</td><td>2.38</td><td>3.9</td><td>2.85</td><td>2.4</td><td>...</td><td>3.7</td><td>2.8</td><td>2.4</td><td>3.7</td><td>2.75</td><td>2.38</td><td>3.9</td><td>2.89</td><td>2.35</td><td>3.6</td><td>2.8</td><td>2.3</td><td>3.8</td><td>2.88</td><td>2.43</td><td>3.94</td><td>3.12</td><td>2.33</td><td>3.8</td><td>2.88</td><td>1.5</td><td>2.62</td><td>1.55</td><td>2.61</td><td>1.59</td><td>2.72</td><td>1.53</td><td>2.52</td><td>-0.25</td><td>2.09</td><td>1.81</td><td>2.09</td><td>1.85</td><td>2.12</td><td>1.99</td><td>2.04</td><td>1.84</td></tr><tr><td>&quot;E0&quot;</td><td>&quot;22/05/2022&quot;</td><td>&quot;16:00&quot;</td><td>&quot;Brighton&quot;</td><td>&quot;West Ham&quot;</td><td>3</td><td>1</td><td>&quot;H&quot;</td><td>0</td><td>1</td><td>&quot;A&quot;</td><td>&quot;K Friend&quot;</td><td>18</td><td>7</td><td>7</td><td>2</td><td>9</td><td>9</td><td>5</td><td>6</td><td>1</td><td>1</td><td>0</td><td>0</td><td>2.37</td><td>3.5</td><td>2.9</td><td>2.35</td><td>3.5</td><td>2.87</td><td>2.4</td><td>3.5</td><td>2.85</td><td>2.38</td><td>3.69</td><td>2.97</td><td>2.4</td><td>...</td><td>3.4</td><td>2.6</td><td>2.65</td><td>3.45</td><td>2.6</td><td>2.75</td><td>3.4</td><td>2.74</td><td>2.62</td><td>3.4</td><td>2.6</td><td>2.7</td><td>3.5</td><td>2.63</td><td>2.9</td><td>3.6</td><td>2.86</td><td>2.66</td><td>3.47</td><td>2.68</td><td>1.8</td><td>2.0</td><td>1.84</td><td>2.06</td><td>1.87</td><td>2.17</td><td>1.8</td><td>2.04</td><td>0.0</td><td>1.97</td><td>1.93</td><td>1.96</td><td>1.96</td><td>2.12</td><td>2.0</td><td>1.93</td><td>1.95</td></tr><tr><td>&quot;E0&quot;</td><td>&quot;22/05/2022&quot;</td><td>&quot;16:00&quot;</td><td>&quot;Burnley&quot;</td><td>&quot;Newcastle&quot;</td><td>1</td><td>2</td><td>&quot;A&quot;</td><td>0</td><td>1</td><td>&quot;A&quot;</td><td>&quot;C Pawson&quot;</td><td>12</td><td>8</td><td>5</td><td>6</td><td>8</td><td>9</td><td>8</td><td>2</td><td>1</td><td>0</td><td>0</td><td>0</td><td>2.25</td><td>3.4</td><td>3.2</td><td>2.15</td><td>3.4</td><td>3.25</td><td>2.2</td><td>3.45</td><td>3.25</td><td>2.27</td><td>3.51</td><td>3.3</td><td>2.2</td><td>...</td><td>3.2</td><td>2.95</td><td>2.35</td><td>3.4</td><td>3.05</td><td>2.55</td><td>3.31</td><td>3.05</td><td>2.45</td><td>3.1</td><td>3.0</td><td>2.5</td><td>3.25</td><td>3.0</td><td>2.6</td><td>3.67</td><td>3.2</td><td>2.48</td><td>3.28</td><td>3.03</td><td>2.2</td><td>1.66</td><td>2.26</td><td>1.7</td><td>2.26</td><td>1.77</td><td>2.19</td><td>1.7</td><td>-0.25</td><td>2.15</td><td>1.76</td><td>2.17</td><td>1.78</td><td>2.21</td><td>1.89</td><td>2.11</td><td>1.79</td></tr><tr><td>&quot;E0&quot;</td><td>&quot;22/05/2022&quot;</td><td>&quot;16:00&quot;</td><td>&quot;Chelsea&quot;</td><td>&quot;Watford&quot;</td><td>2</td><td>1</td><td>&quot;H&quot;</td><td>1</td><td>0</td><td>&quot;H&quot;</td><td>&quot;M Dean&quot;</td><td>19</td><td>8</td><td>8</td><td>3</td><td>9</td><td>9</td><td>3</td><td>3</td><td>0</td><td>0</td><td>0</td><td>0</td><td>1.18</td><td>7.5</td><td>15.0</td><td>1.18</td><td>7.5</td><td>15.5</td><td>1.22</td><td>7.0</td><td>13.0</td><td>1.16</td><td>8.35</td><td>18.77</td><td>1.15</td><td>...</td><td>7.0</td><td>14.0</td><td>1.22</td><td>6.75</td><td>13.0</td><td>1.18</td><td>7.58</td><td>17.72</td><td>1.17</td><td>7.0</td><td>17.0</td><td>1.17</td><td>8.0</td><td>18.0</td><td>1.22</td><td>8.3</td><td>19.0</td><td>1.19</td><td>7.51</td><td>16.11</td><td>1.44</td><td>2.75</td><td>1.46</td><td>2.8</td><td>1.48</td><td>2.99</td><td>1.45</td><td>2.78</td><td>-2.0</td><td>1.89</td><td>2.01</td><td>1.93</td><td>1.96</td><td>1.96</td><td>2.1</td><td>1.89</td><td>1.98</td></tr><tr><td>&quot;E0&quot;</td><td>&quot;22/05/2022&quot;</td><td>&quot;16:00&quot;</td><td>&quot;Crystal Palace...</td><td>&quot;Man United&quot;</td><td>1</td><td>0</td><td>&quot;H&quot;</td><td>1</td><td>0</td><td>&quot;H&quot;</td><td>&quot;M Atkinson&quot;</td><td>6</td><td>10</td><td>3</td><td>4</td><td>12</td><td>22</td><td>3</td><td>6</td><td>2</td><td>4</td><td>0</td><td>0</td><td>3.0</td><td>3.6</td><td>2.25</td><td>3.0</td><td>3.5</td><td>2.25</td><td>3.15</td><td>3.55</td><td>2.2</td><td>3.15</td><td>3.79</td><td>2.24</td><td>3.0</td><td>...</td><td>3.4</td><td>2.45</td><td>2.95</td><td>3.45</td><td>2.4</td><td>2.82</td><td>3.57</td><td>2.59</td><td>2.8</td><td>3.4</td><td>2.45</td><td>2.8</td><td>3.5</td><td>2.5</td><td>3.01</td><td>3.65</td><td>2.64</td><td>2.81</td><td>3.49</td><td>2.53</td><td>1.8</td><td>2.0</td><td>1.83</td><td>2.08</td><td>1.84</td><td>2.17</td><td>1.8</td><td>2.04</td><td>0.25</td><td>1.68</td><td>2.15</td><td>1.74</td><td>2.23</td><td>1.88</td><td>2.25</td><td>1.74</td><td>2.16</td></tr><tr><td>&quot;E0&quot;</td><td>&quot;22/05/2022&quot;</td><td>&quot;16:00&quot;</td><td>&quot;Leicester&quot;</td><td>&quot;Southampton&quot;</td><td>4</td><td>1</td><td>&quot;H&quot;</td><td>0</td><td>0</td><td>&quot;D&quot;</td><td>&quot;J Moss&quot;</td><td>12</td><td>7</td><td>6</td><td>2</td><td>10</td><td>5</td><td>3</td><td>3</td><td>0</td><td>1</td><td>0</td><td>0</td><td>1.85</td><td>4.0</td><td>3.8</td><td>1.85</td><td>3.9</td><td>3.8</td><td>1.85</td><td>3.95</td><td>3.8</td><td>1.88</td><td>4.13</td><td>3.91</td><td>1.88</td><td>...</td><td>4.1</td><td>4.4</td><td>1.73</td><td>4.2</td><td>4.3</td><td>1.7</td><td>4.39</td><td>4.67</td><td>1.7</td><td>4.0</td><td>4.5</td><td>1.7</td><td>4.2</td><td>4.8</td><td>1.77</td><td>4.45</td><td>4.8</td><td>1.71</td><td>4.29</td><td>4.52</td><td>1.5</td><td>2.62</td><td>1.51</td><td>2.67</td><td>1.53</td><td>2.85</td><td>1.49</td><td>2.63</td><td>-0.75</td><td>1.83</td><td>2.07</td><td>1.88</td><td>2.03</td><td>1.94</td><td>2.26</td><td>1.87</td><td>2.01</td></tr><tr><td>&quot;E0&quot;</td><td>&quot;22/05/2022&quot;</td><td>&quot;16:00&quot;</td><td>&quot;Liverpool&quot;</td><td>&quot;Wolves&quot;</td><td>3</td><td>1</td><td>&quot;H&quot;</td><td>1</td><td>1</td><td>&quot;D&quot;</td><td>&quot;A Taylor&quot;</td><td>29</td><td>7</td><td>8</td><td>5</td><td>6</td><td>3</td><td>5</td><td>3</td><td>1</td><td>0</td><td>0</td><td>0</td><td>1.14</td><td>8.5</td><td>15.0</td><td>1.16</td><td>7.75</td><td>15.0</td><td>1.17</td><td>7.75</td><td>16.0</td><td>1.15</td><td>8.49</td><td>21.36</td><td>1.15</td><td>...</td><td>8.75</td><td>16.5</td><td>1.15</td><td>8.0</td><td>17.0</td><td>1.14</td><td>9.75</td><td>19.0</td><td>1.12</td><td>8.0</td><td>21.0</td><td>1.14</td><td>8.5</td><td>20.0</td><td>1.17</td><td>10.9</td><td>24.0</td><td>1.14</td><td>9.22</td><td>19.12</td><td>1.33</td><td>3.4</td><td>1.34</td><td>3.43</td><td>1.39</td><td>3.48</td><td>1.34</td><td>3.28</td><td>-2.5</td><td>2.02</td><td>1.77</td><td>2.06</td><td>1.83</td><td>2.19</td><td>1.99</td><td>2.07</td><td>1.8</td></tr><tr><td>&quot;E0&quot;</td><td>&quot;22/05/2022&quot;</td><td>&quot;16:00&quot;</td><td>&quot;Man City&quot;</td><td>&quot;Aston Villa&quot;</td><td>3</td><td>2</td><td>&quot;H&quot;</td><td>0</td><td>1</td><td>&quot;A&quot;</td><td>&quot;M Oliver&quot;</td><td>24</td><td>4</td><td>5</td><td>2</td><td>5</td><td>11</td><td>13</td><td>1</td><td>0</td><td>1</td><td>0</td><td>0</td><td>1.16</td><td>8.0</td><td>17.0</td><td>1.17</td><td>8.0</td><td>15.0</td><td>1.15</td><td>7.5</td><td>18.0</td><td>1.15</td><td>8.74</td><td>20.27</td><td>1.15</td><td>...</td><td>8.0</td><td>14.0</td><td>1.15</td><td>8.0</td><td>17.0</td><td>1.17</td><td>8.4</td><td>17.0</td><td>1.17</td><td>7.5</td><td>15.0</td><td>1.18</td><td>8.0</td><td>15.0</td><td>1.2</td><td>8.8</td><td>19.0</td><td>1.17</td><td>8.27</td><td>15.87</td><td>1.3</td><td>3.5</td><td>1.34</td><td>3.41</td><td>1.37</td><td>3.7</td><td>1.33</td><td>3.36</td><td>-2.25</td><td>2.06</td><td>1.84</td><td>2.05</td><td>1.86</td><td>2.09</td><td>2.03</td><td>2.01</td><td>1.87</td></tr><tr><td>&quot;E0&quot;</td><td>&quot;22/05/2022&quot;</td><td>&quot;16:00&quot;</td><td>&quot;Norwich&quot;</td><td>&quot;Tottenham&quot;</td><td>0</td><td>5</td><td>&quot;A&quot;</td><td>0</td><td>2</td><td>&quot;A&quot;</td><td>&quot;C Kavanagh&quot;</td><td>9</td><td>19</td><td>0</td><td>13</td><td>13</td><td>7</td><td>3</td><td>2</td><td>3</td><td>1</td><td>0</td><td>0</td><td>9.5</td><td>6.5</td><td>1.25</td><td>11.0</td><td>6.5</td><td>1.24</td><td>11.0</td><td>6.25</td><td>1.25</td><td>11.2</td><td>6.23</td><td>1.27</td><td>10.0</td><td>...</td><td>5.5</td><td>1.31</td><td>12.0</td><td>6.25</td><td>1.25</td><td>9.82</td><td>5.51</td><td>1.34</td><td>9.5</td><td>5.25</td><td>1.32</td><td>10.0</td><td>5.25</td><td>1.33</td><td>12.0</td><td>6.25</td><td>1.36</td><td>9.99</td><td>5.59</td><td>1.31</td><td>1.61</td><td>2.3</td><td>1.63</td><td>2.37</td><td>1.63</td><td>2.58</td><td>1.58</td><td>2.4</td><td>1.5</td><td>1.95</td><td>1.95</td><td>1.96</td><td>1.94</td><td>2.16</td><td>1.98</td><td>1.99</td><td>1.89</td></tr></tbody></table></div>"
            ]
          },
          "metadata": {},
          "execution_count": 2
        }
      ]
    },
    {
      "cell_type": "code",
      "source": [
        "import pandas as pd"
      ],
      "metadata": {
        "id": "iFuwMrvDf_xg"
      },
      "execution_count": 4,
      "outputs": []
    },
    {
      "cell_type": "code",
      "source": [
        "# import polars as pl\n",
        "\n",
        "# leagues = ['E0', 'E1', 'E2', 'E3', 'EC'] # list of leagues\n",
        "# frames = []\n",
        "# for league in leagues:\n",
        "#     df = pd.read_csv(root + \"2122\" + \"/\"  + league + \".csv\")\n",
        "#     frames.append(df)"
      ],
      "metadata": {
        "id": "YhRVB3H4f4Tu"
      },
      "execution_count": 10,
      "outputs": []
    },
    {
      "cell_type": "code",
      "source": [
        "import pandas as pd\n",
        "my_list = pd.read_html('https://en.wikipedia.org/wiki/List_of_The_Simpsons_episodes_(seasons_1%E2%80%9320)')"
      ],
      "metadata": {
        "id": "YtniDLMTf57z"
      },
      "execution_count": 11,
      "outputs": []
    },
    {
      "cell_type": "code",
      "source": [
        "pandas_df = my_list[5]"
      ],
      "metadata": {
        "id": "4twQL6Fhf9nG"
      },
      "execution_count": 12,
      "outputs": []
    },
    {
      "cell_type": "code",
      "source": [
        "polars_df = pl.from_pandas(pandas_df)"
      ],
      "metadata": {
        "id": "R0CP26hdgBbn"
      },
      "execution_count": 13,
      "outputs": []
    },
    {
      "cell_type": "code",
      "source": [
        "my_new_list = [pl.from_pandas(pandas_df) for pandas_df in my_list]"
      ],
      "metadata": {
        "id": "S8PenXxxgB9C"
      },
      "execution_count": 14,
      "outputs": []
    }
  ]
}
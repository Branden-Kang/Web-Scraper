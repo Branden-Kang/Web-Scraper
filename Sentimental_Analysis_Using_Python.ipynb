{
  "nbformat": 4,
  "nbformat_minor": 0,
  "metadata": {
    "colab": {
      "provenance": [],
      "authorship_tag": "ABX9TyPYrxut6Kr5b8A34iKJ16+K"
    },
    "kernelspec": {
      "name": "python3",
      "display_name": "Python 3"
    },
    "language_info": {
      "name": "python"
    }
  },
  "cells": [
    {
      "cell_type": "markdown",
      "source": [
        "[Reference](https://scrapingking.medium.com/sentimental-analysis-using-python-4144f2896af7)"
      ],
      "metadata": {
        "id": "xFY4bz0VNjbc"
      }
    },
    {
      "cell_type": "code",
      "source": [
        "pip install vaderSentiment"
      ],
      "metadata": {
        "colab": {
          "base_uri": "https://localhost:8080/"
        },
        "id": "S5Jud3yqNm5W",
        "outputId": "2f7ad5a1-80a0-4c01-92b3-62fba12616fe"
      },
      "execution_count": 2,
      "outputs": [
        {
          "output_type": "stream",
          "name": "stdout",
          "text": [
            "Collecting vaderSentiment\n",
            "  Downloading vaderSentiment-3.3.2-py2.py3-none-any.whl (125 kB)\n",
            "\u001b[?25l     \u001b[90m━━━━━━━━━━━━━━━━━━━━━━━━━━━━━━━━━━━━━━━━\u001b[0m \u001b[32m0.0/126.0 kB\u001b[0m \u001b[31m?\u001b[0m eta \u001b[36m-:--:--\u001b[0m\r\u001b[2K     \u001b[91m━━━━━━━━━━━━━━━━━━━\u001b[0m\u001b[91m╸\u001b[0m\u001b[90m━━━━━━━━━━━━━━━━━━━━\u001b[0m \u001b[32m61.4/126.0 kB\u001b[0m \u001b[31m1.7 MB/s\u001b[0m eta \u001b[36m0:00:01\u001b[0m\r\u001b[2K     \u001b[90m━━━━━━━━━━━━━━━━━━━━━━━━━━━━━━━━━━━━━━━\u001b[0m \u001b[32m126.0/126.0 kB\u001b[0m \u001b[31m2.4 MB/s\u001b[0m eta \u001b[36m0:00:00\u001b[0m\n",
            "\u001b[?25hRequirement already satisfied: requests in /usr/local/lib/python3.10/dist-packages (from vaderSentiment) (2.31.0)\n",
            "Requirement already satisfied: charset-normalizer<4,>=2 in /usr/local/lib/python3.10/dist-packages (from requests->vaderSentiment) (3.2.0)\n",
            "Requirement already satisfied: idna<4,>=2.5 in /usr/local/lib/python3.10/dist-packages (from requests->vaderSentiment) (3.4)\n",
            "Requirement already satisfied: urllib3<3,>=1.21.1 in /usr/local/lib/python3.10/dist-packages (from requests->vaderSentiment) (2.0.4)\n",
            "Requirement already satisfied: certifi>=2017.4.17 in /usr/local/lib/python3.10/dist-packages (from requests->vaderSentiment) (2023.7.22)\n",
            "Installing collected packages: vaderSentiment\n",
            "Successfully installed vaderSentiment-3.3.2\n"
          ]
        }
      ]
    },
    {
      "cell_type": "code",
      "execution_count": 4,
      "metadata": {
        "id": "AbXvmhoDLear"
      },
      "outputs": [],
      "source": [
        "import requests\n",
        "from bs4 import BeautifulSoup\n",
        "from vaderSentiment.vaderSentiment import SentimentIntensityAnalyzer\n",
        "l=[]\n",
        "o={}\n",
        "target_url = 'https://www.amazon.com/Apple-MacBook-Laptop-12%E2%80%91core-19%E2%80%91core/product-reviews/B0BSHF7WHW/ref=cm_cr_dp_d_show_all_btm'\n",
        "headers={\"accept-language\": \"en-US,en;q=0.9\",\"accept-encoding\": \"gzip, deflate, br\",\"User-Agent\":\"Mozilla/5.0 (Windows NT 10.0; Win64; x64) AppleWebKit/537.36 (KHTML, like Gecko) Chrome/111.0.0.0 Safari/537.36\",\"accept\": \"text/html,application/xhtml+xml,application/xml;q=0.9,image/avif,image/webp,image/apng,*/*;q=0.8,application/signed-exchange;v=b3;q=0.7\"}\n",
        "resp = requests.get(target_url, verify=False, headers=headers)\n",
        "\n",
        "soup = BeautifulSoup(resp.text, 'html.parser')\n",
        "\n",
        "fulldivcontainer = soup.find_all(\"div\",{\"class\":\"reviews-content\"})[1]\n",
        "\n",
        "reviewdata = fulldivcontainer.find_all(\"span\",{\"data-hook\":\"review-body\"})\n",
        "\n",
        "for i in range(0,len(reviewdata)):\n",
        "    o[\"review{}\".format(i+1)]=reviewdata[i].text\n",
        "\n",
        "\n",
        "\n",
        "l.append(o)\n",
        "sentiment = SentimentIntensityAnalyzer()\n",
        "for x in range(0,10):\n",
        "    sent = sentiment.polarity_scores(l[0][\"review{}\".format(x+1)])\n",
        "    print(\"Sentiment of review {}\".format(x+1))\n",
        "    print(sent)"
      ]
    }
  ]
}
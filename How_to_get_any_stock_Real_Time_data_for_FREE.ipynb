{
  "nbformat": 4,
  "nbformat_minor": 0,
  "metadata": {
    "colab": {
      "name": "How to get any stock Real-Time data for FREE.ipynb",
      "provenance": [],
      "authorship_tag": "ABX9TyP7gsVypVSh9ubuSoe7oR5G"
    },
    "kernelspec": {
      "name": "python3",
      "display_name": "Python 3"
    },
    "language_info": {
      "name": "python"
    }
  },
  "cells": [
    {
      "cell_type": "markdown",
      "source": [
        "[Reference](https://medium.com/@PhysicistMarianna/how-to-get-any-stock-real-time-data-for-free-b464fc00ef16)"
      ],
      "metadata": {
        "id": "W4U8uvsd3hT3"
      }
    },
    {
      "cell_type": "code",
      "execution_count": 1,
      "metadata": {
        "id": "Hdr9DYDb3eu1"
      },
      "outputs": [],
      "source": [
        "import requests"
      ]
    },
    {
      "cell_type": "code",
      "source": [
        "url = \"https://real-time-stock-prices.p.rapidapi.com/get_ticker\"\n",
        "querystring = {\"ticker\":\"MSFT\"}\n",
        "headers = {\n",
        "    'x-rapidapi-host': \"real-time-stock-prices.p.rapidapi.com\",\n",
        "    'x-rapidapi-key': \"c9b0f33f81msha80ec30b5ba68e9p18f16djsn9ab73ccbbf85\"\n",
        "    }\n",
        "\n",
        "response = requests.request(\"GET\", url, headers=headers, params=querystring)\n",
        "print(response.text)"
      ],
      "metadata": {
        "colab": {
          "base_uri": "https://localhost:8080/"
        },
        "id": "1vCtsTsz3kE9",
        "outputId": "4ba53ec3-17f7-4479-ba4c-c12d5f270579"
      },
      "execution_count": 2,
      "outputs": [
        {
          "output_type": "stream",
          "name": "stdout",
          "text": [
            "<html>\r\n",
            "<head><title>504 Gateway Time-out</title></head>\r\n",
            "<body>\r\n",
            "<center><h1>504 Gateway Time-out</h1></center>\r\n",
            "</body>\r\n",
            "</html>\r\n",
            "\n"
          ]
        }
      ]
    }
  ]
}
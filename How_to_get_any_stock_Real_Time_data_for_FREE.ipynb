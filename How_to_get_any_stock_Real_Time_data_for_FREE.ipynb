{
  "nbformat": 4,
  "nbformat_minor": 0,
  "metadata": {
    "colab": {
      "name": "How to get any stock Real-Time data for FREE.ipynb",
      "provenance": [],
      "collapsed_sections": [],
      "authorship_tag": "ABX9TyPD998RoO9OBxKUIkIhOb3W"
    },
    "kernelspec": {
      "name": "python3",
      "display_name": "Python 3"
    },
    "language_info": {
      "name": "python"
    }
  },
  "cells": [
    {
      "cell_type": "markdown",
      "source": [
        "[Reference](https://medium.com/@PhysicistMarianna/how-to-get-any-stock-real-time-data-for-free-b464fc00ef16)"
      ],
      "metadata": {
        "id": "H_b0q_TTktDw"
      }
    },
    {
      "cell_type": "code",
      "execution_count": 1,
      "metadata": {
        "id": "BuE6GCXykqNe"
      },
      "outputs": [],
      "source": [
        "import requests"
      ]
    },
    {
      "cell_type": "code",
      "source": [
        "url = \"https://real-time-stock-prices.p.rapidapi.com/get_ticker\""
      ],
      "metadata": {
        "id": "wfwvPxL_kvkf"
      },
      "execution_count": 2,
      "outputs": []
    },
    {
      "cell_type": "code",
      "source": [
        "querystring = {\"ticker\":\"MSFT\"}"
      ],
      "metadata": {
        "id": "mUn7N6Dsk0jM"
      },
      "execution_count": 3,
      "outputs": []
    },
    {
      "cell_type": "code",
      "source": [
        "headers = {\n",
        "    'x-rapidapi-host': \"real-time-stock-prices.p.rapidapi.com\",\n",
        "    'x-rapidapi-key': \"c9b0f33f81msha80ec30b5ba68e9p18f16djsn9ab73ccbbf85\"\n",
        "    }"
      ],
      "metadata": {
        "id": "P7y9e_Dhk1j9"
      },
      "execution_count": 4,
      "outputs": []
    },
    {
      "cell_type": "code",
      "source": [
        "response = requests.request(\"GET\", url, headers=headers, params=querystring)"
      ],
      "metadata": {
        "id": "5TvOK6_mk2k9"
      },
      "execution_count": 5,
      "outputs": []
    },
    {
      "cell_type": "code",
      "source": [
        "print(response.text)"
      ],
      "metadata": {
        "colab": {
          "base_uri": "https://localhost:8080/"
        },
        "id": "cCcEl5oak3ux",
        "outputId": "fd0da3ef-348b-464a-b094-f5255c8cbfb2"
      },
      "execution_count": 6,
      "outputs": [
        {
          "output_type": "stream",
          "name": "stdout",
          "text": [
            "{\"messages\":\"The API is unreachable, please contact the API provider\", \"info\": \"Your Client (working) ---> Gateway (working) ---> API (not working)\"}\n"
          ]
        }
      ]
    }
  ]
}
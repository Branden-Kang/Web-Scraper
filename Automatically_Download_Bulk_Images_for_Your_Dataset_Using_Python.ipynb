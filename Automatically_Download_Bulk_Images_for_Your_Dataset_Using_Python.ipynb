{
  "nbformat": 4,
  "nbformat_minor": 0,
  "metadata": {
    "colab": {
      "name": "Automatically Download Bulk Images for Your Dataset Using Python.ipynb",
      "provenance": [],
      "authorship_tag": "ABX9TyO9/cXQG5oE6P4gQDP1R09u"
    },
    "kernelspec": {
      "name": "python3",
      "display_name": "Python 3"
    },
    "language_info": {
      "name": "python"
    }
  },
  "cells": [
    {
      "cell_type": "markdown",
      "metadata": {
        "id": "mbFGvrkD2ln9"
      },
      "source": [
        "[Reference](https://python.plainenglish.io/how-to-automatically-download-bulk-images-for-your-dataset-using-python-f1efffba7a03)"
      ]
    },
    {
      "cell_type": "code",
      "metadata": {
        "id": "RbtD0xsaz5or"
      },
      "source": [
        "import os\n",
        "import requests\n",
        "from bs4 import BeautifulSoup"
      ],
      "execution_count": 4,
      "outputs": []
    },
    {
      "cell_type": "code",
      "metadata": {
        "id": "mnMdvvHvz6Sa"
      },
      "source": [
        "google_image = \"https://www.google.com/search?site=&tbm=isch&source=hp&biw=1873&bih=990&\"\n",
        "\n",
        "user_agent = {\n",
        "    \"User-Agent\": \"Mozilla/5.0 (Windows NT 10.0; Win64; x64) AppleWebKit/537.36 (KHTML, like Gecko) Chrome/70.0.3538.77 Safari/537.36\"\n",
        "}"
      ],
      "execution_count": 5,
      "outputs": []
    },
    {
      "cell_type": "code",
      "metadata": {
        "id": "F5ZL35r12RBL"
      },
      "source": [
        "def download_images():\n",
        "    data = input('What are you looking for? ')\n",
        "    n_images = int(input('How many images do you want? '))\n",
        "\n",
        "    print('searching...')\n",
        "\n",
        "    search_url = google_image + 'q=' + data\n",
        "\n",
        "    response = requests.get(search_url, headers=user_agent)\n",
        "\n",
        "    html = response.text\n",
        "\n",
        "    soup = BeautifulSoup(html, 'html.parser')\n",
        "\n",
        "    results = soup.findAll('img', {'class': 'rg_i Q4LuWd'})\n",
        "\n",
        "    count = 1\n",
        "    links = []\n",
        "    for result in results:\n",
        "        try:\n",
        "            link = result['data-src']\n",
        "            links.append(link)\n",
        "            count += 1\n",
        "            if(count > n_images):\n",
        "                break\n",
        "\n",
        "        except KeyError:\n",
        "            continue\n",
        "\n",
        "    print(f\"Downloading {len(links)} images...\")\n",
        "\n",
        "    for i, link in enumerate(links):\n",
        "        response = requests.get(link)\n",
        "\n",
        "        image_name = saved_folder + '/' + data + str(i+1) + '.jpg'\n",
        "\n",
        "        with open(image_name, 'wb') as fh:\n",
        "            fh.write(response.content)"
      ],
      "execution_count": 6,
      "outputs": []
    },
    {
      "cell_type": "code",
      "metadata": {
        "id": "IkLh3cT2z8Hh"
      },
      "source": [
        "saved_folder = 'images'\n",
        "\n",
        "\n",
        "def main():\n",
        "    if not os.path.exists(saved_folder):\n",
        "        os.mkdir(saved_folder)\n",
        "    download_images()"
      ],
      "execution_count": 8,
      "outputs": []
    },
    {
      "cell_type": "code",
      "metadata": {
        "colab": {
          "base_uri": "https://localhost:8080/"
        },
        "id": "WTUXybM62Rzz",
        "outputId": "010a3da3-3a5e-4dfa-9f62-fbb3d755cf69"
      },
      "source": [
        "!ls"
      ],
      "execution_count": 10,
      "outputs": [
        {
          "output_type": "stream",
          "text": [
            "sample_data\n"
          ],
          "name": "stdout"
        }
      ]
    },
    {
      "cell_type": "code",
      "metadata": {
        "colab": {
          "base_uri": "https://localhost:8080/"
        },
        "id": "JgBCXLmK2Uq-",
        "outputId": "7468976f-8f60-4aae-8fac-e4eafe6bfaa1"
      },
      "source": [
        "if __name__ == \"__main__\":\n",
        "    main()"
      ],
      "execution_count": 11,
      "outputs": [
        {
          "output_type": "stream",
          "text": [
            "What are you looking for? cat\n",
            "How many images do you want? 1\n",
            "searching...\n",
            "Downloading 1 images...\n"
          ],
          "name": "stdout"
        }
      ]
    },
    {
      "cell_type": "code",
      "metadata": {
        "colab": {
          "base_uri": "https://localhost:8080/"
        },
        "id": "NbckVRB42aTa",
        "outputId": "7a44d3a1-0823-4262-b2d5-9086c25348d5"
      },
      "source": [
        "!ls"
      ],
      "execution_count": 12,
      "outputs": [
        {
          "output_type": "stream",
          "text": [
            "images\tsample_data\n"
          ],
          "name": "stdout"
        }
      ]
    },
    {
      "cell_type": "code",
      "metadata": {
        "colab": {
          "base_uri": "https://localhost:8080/"
        },
        "id": "sTEwe3NR2dLj",
        "outputId": "d79acd9c-f529-49c7-f328-1e24e6576f80"
      },
      "source": [
        "cd images"
      ],
      "execution_count": 13,
      "outputs": [
        {
          "output_type": "stream",
          "text": [
            "/content/images\n"
          ],
          "name": "stdout"
        }
      ]
    },
    {
      "cell_type": "code",
      "metadata": {
        "colab": {
          "base_uri": "https://localhost:8080/"
        },
        "id": "3eglPlXR2e2g",
        "outputId": "5ed3ae80-52a2-48eb-b6c8-93e6c4bb2845"
      },
      "source": [
        "!ls"
      ],
      "execution_count": 14,
      "outputs": [
        {
          "output_type": "stream",
          "text": [
            "cat1.jpg\n"
          ],
          "name": "stdout"
        }
      ]
    }
  ]
}
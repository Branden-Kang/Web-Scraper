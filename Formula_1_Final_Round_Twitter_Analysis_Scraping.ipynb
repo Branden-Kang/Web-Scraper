{
  "nbformat": 4,
  "nbformat_minor": 0,
  "metadata": {
    "colab": {
      "name": "Formula 1 Final Round Twitter Analysis: Scraping.ipynb",
      "provenance": [],
      "authorship_tag": "ABX9TyMV+hKIfkFJcO0A4AHZX1QE"
    },
    "kernelspec": {
      "name": "python3",
      "display_name": "Python 3"
    },
    "language_info": {
      "name": "python"
    }
  },
  "cells": [
    {
      "cell_type": "markdown",
      "source": [
        "[Reference](https://medium.com/analytics-vidhya/formula-1-final-round-twitter-analysis-scraping-5a78669025c)"
      ],
      "metadata": {
        "id": "CkdKvSeX-4-n"
      }
    },
    {
      "cell_type": "code",
      "execution_count": 1,
      "metadata": {
        "colab": {
          "base_uri": "https://localhost:8080/"
        },
        "id": "wntZZKtE-1nz",
        "outputId": "f2c792b5-acfc-46a9-c1f4-10dd22c2a4ad"
      },
      "outputs": [
        {
          "output_type": "stream",
          "name": "stdout",
          "text": [
            "Collecting git+https://github.com/JustAnotherArchivist/snscrape.git\n",
            "  Cloning https://github.com/JustAnotherArchivist/snscrape.git to /tmp/pip-req-build-qqugso5k\n",
            "  Running command git clone -q https://github.com/JustAnotherArchivist/snscrape.git /tmp/pip-req-build-qqugso5k\n",
            "Requirement already satisfied: requests[socks] in /usr/local/lib/python3.7/dist-packages (from snscrape==0.4.3.20220107.dev45+ged3ea94) (2.23.0)\n",
            "Requirement already satisfied: lxml in /usr/local/lib/python3.7/dist-packages (from snscrape==0.4.3.20220107.dev45+ged3ea94) (4.2.6)\n",
            "Requirement already satisfied: beautifulsoup4 in /usr/local/lib/python3.7/dist-packages (from snscrape==0.4.3.20220107.dev45+ged3ea94) (4.6.3)\n",
            "Requirement already satisfied: filelock in /usr/local/lib/python3.7/dist-packages (from snscrape==0.4.3.20220107.dev45+ged3ea94) (3.6.0)\n",
            "Requirement already satisfied: pytz in /usr/local/lib/python3.7/dist-packages (from snscrape==0.4.3.20220107.dev45+ged3ea94) (2022.1)\n",
            "\u001b[31mERROR: Package 'snscrape' requires a different Python: 3.7.13 not in '~=3.8'\u001b[0m\n"
          ]
        }
      ],
      "source": [
        "pip install git+https://github.com/JustAnotherArchivist/snscrape.git"
      ]
    },
    {
      "cell_type": "code",
      "source": [
        "import os\n",
        "dates = [\"2021-12-13\", \"2021-12-14\", \"2021-12-15\", \"2021-12-16\"]\n",
        "hashtags = [\"f1\", \"formula1\", \"formulaone\", \"fia\", \"abudhabigp\", \"maxverstappen33\", \"lewishamilton44\"]\n",
        "for hashtag in hashtags:\n",
        "    for date in dates:\n",
        "        os.system(f\"snscrape --jsonl --max-results 50000 twitter-   hashtag '{hashtag} until:{date}' > hash{hashtag}{date}.json\")\n",
        "        print(f\"Scrape {hashtag} on {date} done!\")\n",
        "    print(f\"Scrape of {hashtag} done!\")\n",
        "print(\"All done!\")"
      ],
      "metadata": {
        "colab": {
          "base_uri": "https://localhost:8080/"
        },
        "id": "-TpGtSrp-8wZ",
        "outputId": "51aace01-8e04-470e-d0d2-34b9a88f98e3"
      },
      "execution_count": 2,
      "outputs": [
        {
          "output_type": "stream",
          "name": "stdout",
          "text": [
            "Scrape f1 on 2021-12-13 done!\n",
            "Scrape f1 on 2021-12-14 done!\n",
            "Scrape f1 on 2021-12-15 done!\n",
            "Scrape f1 on 2021-12-16 done!\n",
            "Scrape of f1 done!\n",
            "Scrape formula1 on 2021-12-13 done!\n",
            "Scrape formula1 on 2021-12-14 done!\n",
            "Scrape formula1 on 2021-12-15 done!\n",
            "Scrape formula1 on 2021-12-16 done!\n",
            "Scrape of formula1 done!\n",
            "Scrape formulaone on 2021-12-13 done!\n",
            "Scrape formulaone on 2021-12-14 done!\n",
            "Scrape formulaone on 2021-12-15 done!\n",
            "Scrape formulaone on 2021-12-16 done!\n",
            "Scrape of formulaone done!\n",
            "Scrape fia on 2021-12-13 done!\n",
            "Scrape fia on 2021-12-14 done!\n",
            "Scrape fia on 2021-12-15 done!\n",
            "Scrape fia on 2021-12-16 done!\n",
            "Scrape of fia done!\n",
            "Scrape abudhabigp on 2021-12-13 done!\n",
            "Scrape abudhabigp on 2021-12-14 done!\n",
            "Scrape abudhabigp on 2021-12-15 done!\n",
            "Scrape abudhabigp on 2021-12-16 done!\n",
            "Scrape of abudhabigp done!\n",
            "Scrape maxverstappen33 on 2021-12-13 done!\n",
            "Scrape maxverstappen33 on 2021-12-14 done!\n",
            "Scrape maxverstappen33 on 2021-12-15 done!\n",
            "Scrape maxverstappen33 on 2021-12-16 done!\n",
            "Scrape of maxverstappen33 done!\n",
            "Scrape lewishamilton44 on 2021-12-13 done!\n",
            "Scrape lewishamilton44 on 2021-12-14 done!\n",
            "Scrape lewishamilton44 on 2021-12-15 done!\n",
            "Scrape lewishamilton44 on 2021-12-16 done!\n",
            "Scrape of lewishamilton44 done!\n",
            "All done!\n"
          ]
        }
      ]
    }
  ]
}
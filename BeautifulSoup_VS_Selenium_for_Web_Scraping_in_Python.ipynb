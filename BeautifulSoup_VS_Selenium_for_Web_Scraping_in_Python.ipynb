{
  "nbformat": 4,
  "nbformat_minor": 0,
  "metadata": {
    "colab": {
      "provenance": [],
      "authorship_tag": "ABX9TyPHgh5Tml7XQOcg6v3p663R"
    },
    "kernelspec": {
      "name": "python3",
      "display_name": "Python 3"
    },
    "language_info": {
      "name": "python"
    }
  },
  "cells": [
    {
      "cell_type": "markdown",
      "source": [
        "[Reference](https://python.plainenglish.io/beautifulsoup-vs-selenium-for-web-scraping-in-python-a-comparison-9e0a783e1617)"
      ],
      "metadata": {
        "id": "B4m9J32lqp1i"
      }
    },
    {
      "cell_type": "code",
      "execution_count": 1,
      "metadata": {
        "colab": {
          "base_uri": "https://localhost:8080/"
        },
        "id": "ZIYVTDn1qogA",
        "outputId": "ef90bde1-4880-473b-d5a0-4819b48d38cc"
      },
      "outputs": [
        {
          "output_type": "stream",
          "name": "stdout",
          "text": [
            "An apple is an edible fruit produced by an apple tree (Malus domestica). \n",
            "            Apple trees are cultivated worldwide and are the most widely grown species in the genus Malus. \n",
            "            The tree originated in Central Asia, where its wild ancestor, Malus sieversii, is still found today. \n",
            "            Apples have been grown for thousands of years in Asia and Europe and were brought to North America by European colonists. \n",
            "            Apples have religious and mythological significance in many cultures, including Norse, Greek, and European Christian tradition.\n",
            "            Apples grown from seed tend to be very different from those of the parents, \n",
            "            and the resultant fruit frequently lack desired characteristics. \n",
            "            Generally then, apple cultivars are propagated by clonal grafting onto rootstocks. \n",
            "            Apple trees grown without rootstocks tend to be larger and much slower to fruit after planting. \n",
            "            Rootstocks are used to control speed of growth and the size of the resulting tree allowing for easier harvesting.\n",
            "            There are more than 7,500 known cultivars of apples. \n",
            "            Different cultivars are bred for various tastes and use, including cooking, eating raw and cider production.\n",
            "            Trees and fruit are prone to a number of fungal, bacterial and pest problems, \n",
            "            which can be controlled by a number of organic and non-organic means. \n",
            "            In 2010, the fruit's genome was sequenced as part of research on disease control and selective breeding in apple production.\n",
            "            Worldwide production of apples in 2018 was 86 million tonnes, with China accounting for nearly half of the total.\n",
            "None\n",
            "None\n"
          ]
        }
      ],
      "source": [
        "import requests\n",
        "from bs4 import BeautifulSoup\n",
        "r = requests.get(\"https://zlliu.s3.ap-southeast-1.amazonaws.com/index2.html\")\n",
        "soup = BeautifulSoup(r.content, \"html.parser\")\n",
        "apple = soup.find(\"div\", {\"id\": \"apple-description\"})\n",
        "print(apple.text.strip())\n",
        "orange = soup.find(\"div\", {\"id\", \"orange-description\"})\n",
        "print(orange)\n",
        "desc = soup.find(\"div\", {\"id\": \"description\"})\n",
        "print(desc)"
      ]
    },
    {
      "cell_type": "code",
      "source": [
        "from selenium import webdriver\n",
        "from time import sleep\n",
        "driver = webdriver.Chrome(executable_path=\"./chromedriver\")\n",
        "driver.get(\"https://zlliu.s3.ap-southeast-1.amazonaws.com/index2.html\")\n",
        "\n",
        "apple = driver.find_element_by_id(\"apple-description\")\n",
        "print(apple.text[:50])\n",
        "sleep(1) # waiting for orange to load\n",
        "\n",
        "orange = driver.find_element_by_id(\"orange-description\")\n",
        "print(orange.text[:50])\n",
        "\n",
        "driver.switch_to.frame(driver.find_element_by_tag_name(\"iframe\"))\n",
        "desc = driver.find_element_by_id(\"description\")\n",
        "print(desc.text[:50])\n",
        "driver.close()"
      ],
      "metadata": {
        "id": "1lmMBNcmqxqN"
      },
      "execution_count": 2,
      "outputs": []
    }
  ]
}
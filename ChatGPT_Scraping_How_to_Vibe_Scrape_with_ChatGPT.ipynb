{
  "nbformat": 4,
  "nbformat_minor": 0,
  "metadata": {
    "colab": {
      "provenance": [],
      "authorship_tag": "ABX9TyOcG9XN+DEsD1mpJlQwbK/7"
    },
    "kernelspec": {
      "name": "python3",
      "display_name": "Python 3"
    },
    "language_info": {
      "name": "python"
    }
  },
  "cells": [
    {
      "cell_type": "markdown",
      "source": [
        "[Reference](https://medium.com/@datajournal/web-scraping-with-chatgpt-aab68342b849)"
      ],
      "metadata": {
        "id": "54FkoCSd2fmP"
      }
    },
    {
      "cell_type": "code",
      "execution_count": 2,
      "metadata": {
        "id": "LymHHgtO2WLW"
      },
      "outputs": [],
      "source": [
        "import requests\n",
        "from bs4 import BeautifulSoup\n",
        "\n",
        "def get_refurbished_iphone_urls():\n",
        "    url = \"https://www.apple.com/shop/refurbished/iphone\"\n",
        "    headers = {\"User-Agent\": \"Mozilla/5.0\"}\n",
        "    response = requests.get(url, headers=headers)\n",
        "    if response.status_code != 200:\n",
        "        print(\"Failed to retrieve the page\")\n",
        "        return []\n",
        "\n",
        "    soup = BeautifulSoup(response.text, \"html.parser\")\n",
        "    product_links = []\n",
        "\n",
        "    for link in soup.find_all(\"a\", href=True):\n",
        "        if \"/shop/product/\" in link[\"href\"]:\n",
        "            full_url = \"https://www.apple.com\" + link[\"href\"]\n",
        "            product_links.append(full_url)\n",
        "    return product_links"
      ]
    },
    {
      "cell_type": "code",
      "source": [
        "import json\n",
        "import traceback\n",
        "from bs4 import BeautifulSoup\n",
        "import requests\n",
        "\n",
        "def scrape_iphone_details(url):\n",
        "    \"\"\"Scrapes iPhone data from a given Apple product page.\"\"\"\n",
        "    response = requests.get(url)\n",
        "    soup = BeautifulSoup(response.text, 'html.parser')\n",
        "    try:\n",
        "    # Extract product name, price, and stock status from schema.org JSON-LD\n",
        "        json_ld_script = soup.find(\"script\", type=\"application/ld+json\")\n",
        "        product_data = json.loads(json_ld_script.string)\n",
        "        phone_name = product_data.get(\"name\", \"Unknown Model\")\n",
        "        price = product_data.get(\"offers\", {}).get(\"price\", \"Unknown Price\")\n",
        "        stock_status = \"In Stock\" if \"InStock\" in product_data.get(\"offers\", {}).get(\"availability\", \"\") else \"Out of Stock\"\n",
        "        return {\n",
        "            \"Phone Model Name\": phone_name,\n",
        "            \"Price\": price,\n",
        "            \"Stock Status\": stock_status\n",
        "        }\n",
        "    except Exception as e:\n",
        "        print(f\"Error scraping {url}: {e}\")\n",
        "        return None"
      ],
      "metadata": {
        "id": "JoJtPish2oUb"
      },
      "execution_count": 3,
      "outputs": []
    },
    {
      "cell_type": "code",
      "source": [
        "import time\n",
        "from datetime import datetime\n",
        "import os\n",
        "\n",
        "def price_monitor():\n",
        "    \"\"\"Monitors price changes daily.\"\"\"\n",
        "    while True:\n",
        "        print(\"Running daily price check…\")\n",
        "\n",
        "        # Get list of URLs\n",
        "        urls = get_refurbished_iphone_urls()\n",
        "\n",
        "        # Scrape data from each URL\n",
        "        iphone_data = []\n",
        "\n",
        "        for url in urls:\n",
        "            details = scrape_iphone_details(url)\n",
        "        if details:\n",
        "            iphone_data.append(details)\n",
        "        # Save the data to a CSV or markdown file\n",
        "        timestamp = datetime.now().strftime(\"%Y-%m-%d\")\n",
        "        file_path = f\"iphone_prices_{timestamp}.csv\"\n",
        "        with open(file_path, 'w') as file:\n",
        "            for data in iphone_data:\n",
        "                file.write(f\"{data['Phone Model Name']},{data['Price']},{data['Stock Status']}\\n\")\n",
        "            print(f\"Data saved to {file_path}\")\n",
        "\n",
        "        # Wait for 24 hours before running again\n",
        "        time.sleep(86400)\n",
        "\n",
        "if __name__ == \"__main__\":\n",
        "    price_monitor()"
      ],
      "metadata": {
        "colab": {
          "base_uri": "https://localhost:8080/",
          "height": 584
        },
        "id": "DJJbCvz-28GI",
        "outputId": "21f61f1c-ee4d-4bc1-ce89-95110b88275c"
      },
      "execution_count": 4,
      "outputs": [
        {
          "output_type": "stream",
          "name": "stdout",
          "text": [
            "Running daily price check…\n",
            "Error scraping https://www.apple.com/shop/product/FQ3R3LL/A/refurbished-iphone-14-plus-128gb-midnight-unlocked?fnode=89d3d652d4a6944753f4dd838586541cca2c2ea93367e860281611303e14607240e664a7b88bdae5a9f6b9c26c9c46a62e602e982962c2d8941caf1b24909172e0d5f8cfaef718ada77b94766c6ae2a30219e8b145750fda5b0e4d1ac1b5dda4: 'list' object has no attribute 'get'\n",
            "Error scraping https://www.apple.com/shop/product/FQ1K3LL/A/Refurbished-iPhone-14-Pro-512GB-Space-Black-Unlocked?fnode=89d3d652d4a6944753f4dd838586541cca2c2ea93367e860281611303e14607240e664a7b88bdae5a9f6b9c26c9c46a62e602e982962c2d8941caf1b24909172e0d5f8cfaef718ada77b94766c6ae2a30219e8b145750fda5b0e4d1ac1b5dda4: 'list' object has no attribute 'get'\n",
            "Error scraping https://www.apple.com/shop/product/FQ213LL/A/Refurbished-iPhone-14-Pro-512GB-Gold-Unlocked?fnode=89d3d652d4a6944753f4dd838586541cca2c2ea93367e860281611303e14607240e664a7b88bdae5a9f6b9c26c9c46a62e602e982962c2d8941caf1b24909172e0d5f8cfaef718ada77b94766c6ae2a30219e8b145750fda5b0e4d1ac1b5dda4: 'list' object has no attribute 'get'\n",
            "Error scraping https://www.apple.com/shop/product/FQ273LL/A/Refurbished-iPhone-14-Pro-512GB-Deep-Purple-Unlocked?fnode=89d3d652d4a6944753f4dd838586541cca2c2ea93367e860281611303e14607240e664a7b88bdae5a9f6b9c26c9c46a62e602e982962c2d8941caf1b24909172e0d5f8cfaef718ada77b94766c6ae2a30219e8b145750fda5b0e4d1ac1b5dda4: 'list' object has no attribute 'get'\n",
            "Error scraping https://www.apple.com/shop/product/FU043LL/A?fnode=89d3d652d4a6944753f4dd838586541cca2c2ea93367e860281611303e14607240e664a7b88bdae5a9f6b9c26c9c46a62e602e982962c2d8941caf1b24909172e0d5f8cfaef718ada77b94766c6ae2a30219e8b145750fda5b0e4d1ac1b5dda4: 'list' object has no attribute 'get'\n",
            "Error scraping https://www.apple.com/shop/product/FQ2L3LL/A/Refurbished-iPhone-14-Pro-1TB-Silver-Unlocked?fnode=89d3d652d4a6944753f4dd838586541cca2c2ea93367e860281611303e14607240e664a7b88bdae5a9f6b9c26c9c46a62e602e982962c2d8941caf1b24909172e0d5f8cfaef718ada77b94766c6ae2a30219e8b145750fda5b0e4d1ac1b5dda4: 'list' object has no attribute 'get'\n",
            "Error scraping https://www.apple.com/shop/product/FQ303LL/A/Refurbished-iPhone-14-Pro-1TB-Deep-Purple-Unlocked?fnode=89d3d652d4a6944753f4dd838586541cca2c2ea93367e860281611303e14607240e664a7b88bdae5a9f6b9c26c9c46a62e602e982962c2d8941caf1b24909172e0d5f8cfaef718ada77b94766c6ae2a30219e8b145750fda5b0e4d1ac1b5dda4: 'list' object has no attribute 'get'\n",
            "Error scraping https://www.apple.com/shop/product/FQ923LL/A/Refurbished-iPhone-14-Pro-Max-1TB-Space-Black-Unlocked?fnode=89d3d652d4a6944753f4dd838586541cca2c2ea93367e860281611303e14607240e664a7b88bdae5a9f6b9c26c9c46a62e602e982962c2d8941caf1b24909172e0d5f8cfaef718ada77b94766c6ae2a30219e8b145750fda5b0e4d1ac1b5dda4: 'list' object has no attribute 'get'\n",
            "Error scraping https://www.apple.com/shop/product/FQ953LL/A/Refurbished-iPhone-14-Pro-Max-1-TB-Deep-Purple-Unlocked?fnode=89d3d652d4a6944753f4dd838586541cca2c2ea93367e860281611303e14607240e664a7b88bdae5a9f6b9c26c9c46a62e602e982962c2d8941caf1b24909172e0d5f8cfaef718ada77b94766c6ae2a30219e8b145750fda5b0e4d1ac1b5dda4: 'list' object has no attribute 'get'\n",
            "Error scraping https://www.apple.com/shop/product/FTU63LL/A/Refurbished-iPhone-15-Pro-1TB-Blue-Titanium-Unlocked?fnode=89d3d652d4a6944753f4dd838586541cca2c2ea93367e860281611303e14607240e664a7b88bdae5a9f6b9c26c9c46a62e602e982962c2d8941caf1b24909172e0d5f8cfaef718ada77b94766c6ae2a30219e8b145750fda5b0e4d1ac1b5dda4: 'list' object has no attribute 'get'\n",
            "Error scraping https://www.apple.com/shop/product/FU6F3LL/A/refurbished-iphone-15-pro-max-1tb-black-titanium-unlocked?fnode=89d3d652d4a6944753f4dd838586541cca2c2ea93367e860281611303e14607240e664a7b88bdae5a9f6b9c26c9c46a62e602e982962c2d8941caf1b24909172e0d5f8cfaef718ada77b94766c6ae2a30219e8b145750fda5b0e4d1ac1b5dda4: 'list' object has no attribute 'get'\n",
            "Error scraping https://www.apple.com/shop/product/FU6G3LL/A/refurbished-iphone-15-pro-max-1tb-white-titanium-unlocked?fnode=89d3d652d4a6944753f4dd838586541cca2c2ea93367e860281611303e14607240e664a7b88bdae5a9f6b9c26c9c46a62e602e982962c2d8941caf1b24909172e0d5f8cfaef718ada77b94766c6ae2a30219e8b145750fda5b0e4d1ac1b5dda4: 'list' object has no attribute 'get'\n",
            "Error scraping https://www.apple.com/shop/product/FU6H3LL/A/refurbished-iphone-15-pro-max-1tb-natural-titanium-unlocked?fnode=89d3d652d4a6944753f4dd838586541cca2c2ea93367e860281611303e14607240e664a7b88bdae5a9f6b9c26c9c46a62e602e982962c2d8941caf1b24909172e0d5f8cfaef718ada77b94766c6ae2a30219e8b145750fda5b0e4d1ac1b5dda4: 'list' object has no attribute 'get'\n",
            "Error scraping https://www.apple.com/shop/product/FU6J3LL/A/refurbished-iphone-15-pro-max-1tb-blue-titanium-unlocked?fnode=89d3d652d4a6944753f4dd838586541cca2c2ea93367e860281611303e14607240e664a7b88bdae5a9f6b9c26c9c46a62e602e982962c2d8941caf1b24909172e0d5f8cfaef718ada77b94766c6ae2a30219e8b145750fda5b0e4d1ac1b5dda4: 'list' object has no attribute 'get'\n",
            "Data saved to iphone_prices_2025-08-07.csv\n"
          ]
        },
        {
          "output_type": "error",
          "ename": "KeyboardInterrupt",
          "evalue": "",
          "traceback": [
            "\u001b[0;31m---------------------------------------------------------------------------\u001b[0m",
            "\u001b[0;31mKeyboardInterrupt\u001b[0m                         Traceback (most recent call last)",
            "\u001b[0;32m/tmp/ipython-input-3510199422.py\u001b[0m in \u001b[0;36m<cell line: 0>\u001b[0;34m()\u001b[0m\n\u001b[1;32m     30\u001b[0m \u001b[0;34m\u001b[0m\u001b[0m\n\u001b[1;32m     31\u001b[0m \u001b[0;32mif\u001b[0m \u001b[0m__name__\u001b[0m \u001b[0;34m==\u001b[0m \u001b[0;34m\"__main__\"\u001b[0m\u001b[0;34m:\u001b[0m\u001b[0;34m\u001b[0m\u001b[0;34m\u001b[0m\u001b[0m\n\u001b[0;32m---> 32\u001b[0;31m     \u001b[0mprice_monitor\u001b[0m\u001b[0;34m(\u001b[0m\u001b[0;34m)\u001b[0m\u001b[0;34m\u001b[0m\u001b[0;34m\u001b[0m\u001b[0m\n\u001b[0m",
            "\u001b[0;32m/tmp/ipython-input-3510199422.py\u001b[0m in \u001b[0;36mprice_monitor\u001b[0;34m()\u001b[0m\n\u001b[1;32m     27\u001b[0m \u001b[0;34m\u001b[0m\u001b[0m\n\u001b[1;32m     28\u001b[0m         \u001b[0;31m# Wait for 24 hours before running again\u001b[0m\u001b[0;34m\u001b[0m\u001b[0;34m\u001b[0m\u001b[0m\n\u001b[0;32m---> 29\u001b[0;31m         \u001b[0mtime\u001b[0m\u001b[0;34m.\u001b[0m\u001b[0msleep\u001b[0m\u001b[0;34m(\u001b[0m\u001b[0;36m86400\u001b[0m\u001b[0;34m)\u001b[0m\u001b[0;34m\u001b[0m\u001b[0;34m\u001b[0m\u001b[0m\n\u001b[0m\u001b[1;32m     30\u001b[0m \u001b[0;34m\u001b[0m\u001b[0m\n\u001b[1;32m     31\u001b[0m \u001b[0;32mif\u001b[0m \u001b[0m__name__\u001b[0m \u001b[0;34m==\u001b[0m \u001b[0;34m\"__main__\"\u001b[0m\u001b[0;34m:\u001b[0m\u001b[0;34m\u001b[0m\u001b[0;34m\u001b[0m\u001b[0m\n",
            "\u001b[0;31mKeyboardInterrupt\u001b[0m: "
          ]
        }
      ]
    }
  ]
}
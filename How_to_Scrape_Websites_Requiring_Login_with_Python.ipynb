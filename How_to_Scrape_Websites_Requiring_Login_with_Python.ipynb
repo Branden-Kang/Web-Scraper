{
  "nbformat": 4,
  "nbformat_minor": 0,
  "metadata": {
    "colab": {
      "provenance": [],
      "authorship_tag": "ABX9TyOsLE3LHVuqv2LrE6wEQqT5"
    },
    "kernelspec": {
      "name": "python3",
      "display_name": "Python 3"
    },
    "language_info": {
      "name": "python"
    }
  },
  "cells": [
    {
      "cell_type": "markdown",
      "source": [
        "[Reference](https://medium.com/@estebanthi/how-to-scrape-websites-requiring-login-with-python-970427519497)"
      ],
      "metadata": {
        "id": "SUL-OWzxhNm1"
      }
    },
    {
      "cell_type": "code",
      "source": [
        "import requests"
      ],
      "metadata": {
        "id": "HRlmuU6yhaay"
      },
      "execution_count": 2,
      "outputs": []
    },
    {
      "cell_type": "code",
      "execution_count": 3,
      "metadata": {
        "colab": {
          "base_uri": "https://localhost:8080/"
        },
        "id": "pD3drKtShL01",
        "outputId": "23bbd24b-f2c9-4c5d-dea6-a33088ef4e1a"
      },
      "outputs": [
        {
          "output_type": "stream",
          "name": "stdout",
          "text": [
            "200\n"
          ]
        }
      ],
      "source": [
        "url = \"https://www.pianostreet.com/amember/login\"\n",
        "data = {\n",
        "    \"amember_login\": \"your_login\",\n",
        "    \"amember_pass\": \"your_pass\",\n",
        "}\n",
        "\n",
        "with requests.Session() as s:\n",
        "    r = s.post(url, data=data)\n",
        "    print(r.status_code)"
      ]
    },
    {
      "cell_type": "code",
      "source": [
        "from bs4 import BeautifulSoup"
      ],
      "metadata": {
        "id": "ujkP5SBUhc7r"
      },
      "execution_count": 6,
      "outputs": []
    },
    {
      "cell_type": "code",
      "source": [
        "r = s.get(\"https://www.pianostreet.com/amember/profile\")\n",
        "soup = BeautifulSoup(r.content, \"html.parser\")\n",
        "print(soup.find(\"div\", {\"class\": \"am-form\"}).text)"
      ],
      "metadata": {
        "colab": {
          "base_uri": "https://localhost:8080/"
        },
        "id": "iFWWmbHKhXQx",
        "outputId": "b35c42da-5e5c-4560-f6b7-b2367e59beba"
      },
      "execution_count": 7,
      "outputs": [
        {
          "output_type": "stream",
          "name": "stdout",
          "text": [
            "\n",
            "\n",
            "\n",
            "Login to your Account\n",
            "\n",
            "\n",
            "\n",
            "\n",
            "\n",
            "\n",
            "\n",
            "Username/Email\n",
            "\n",
            "\n",
            "\n",
            "\n",
            "\n",
            "\n",
            "\n",
            "Password\n",
            "\n",
            "\n",
            "\n",
            "\n",
            "\n",
            "\n",
            "\n",
            "\n",
            "Forgot password?\n",
            "\n",
            "\n",
            "\n",
            "\n",
            "\n",
            " \n"
          ]
        }
      ]
    },
    {
      "cell_type": "code",
      "source": [
        "import yaml"
      ],
      "metadata": {
        "id": "1U13prWuh59m"
      },
      "execution_count": 9,
      "outputs": []
    },
    {
      "cell_type": "code",
      "source": [
        "# url = \"https://www.pianostreet.com/amember/login\"\n",
        "# data = {\n",
        "#     \"amember_login\": yaml.safe_load(open(\"config.yml\"))[\"user\"],\n",
        "#     \"amember_pass\": yaml.safe_load(open(\"config.yml\"))[\"pass\"],\n",
        "# }\n",
        "\n",
        "# with requests.Session() as s:\n",
        "#     r = s.post(url, data=data, allow_redirects=False)\n",
        "#     print(r.status_code)\n",
        "\n",
        "#     r = s.get(\"https://www.pianostreet.com/amember/profile\")\n",
        "#     soup = BeautifulSoup(r.content, \"html.parser\")\n",
        "#     print(soup.find(\"div\", {\"class\": \"am-form\"}).text)"
      ],
      "metadata": {
        "id": "kCoJI3vZhcEN"
      },
      "execution_count": 11,
      "outputs": []
    },
    {
      "cell_type": "code",
      "source": [
        "import requests\n",
        "from bs4 import BeautifulSoup\n",
        "import yaml\n",
        "\n",
        "from selenium import webdriver\n",
        "from selenium.webdriver.common.by import By\n",
        "from selenium.webdriver.support.ui import WebDriverWait\n",
        "from selenium.webdriver.support import expected_conditions as EC\n",
        "\n",
        "\n",
        "def login_with_requests():\n",
        "    url = \"https://www.pianostreet.com/amember/login\"\n",
        "    data = {\n",
        "        \"amember_login\": yaml.safe_load(open(\"config.yml\"))[\"user\"],\n",
        "        \"amember_pass\": yaml.safe_load(open(\"config.yml\"))[\"pass\"],\n",
        "    }\n",
        "\n",
        "    with requests.Session() as s:\n",
        "        r = s.post(url, data=data, allow_redirects=False)\n",
        "        print(r.status_code)\n",
        "\n",
        "        r = s.get(\"https://www.pianostreet.com/amember/profile\")\n",
        "        soup = BeautifulSoup(r.content, \"html.parser\")\n",
        "        print(soup.find(\"div\", {\"class\": \"am-form\"}).text)\n",
        "\n",
        "\n",
        "def login_with_selenium():\n",
        "    driver_path = \"./chromedriver.exe\"\n",
        "    brave_path = \"C:/Program Files/BraveSoftware/Brave-Browser/Application/brave.exe\"\n",
        "    options = webdriver.ChromeOptions()\n",
        "    options.binary_location = brave_path\n",
        "    driver = webdriver.Chrome(executable_path=driver_path, options=options)\n",
        "\n",
        "    driver.get(\"https://www.pianostreet.com/amember/login\")\n",
        "    driver.find_element(By.NAME, \"amember_login\").send_keys(yaml.safe_load(open(\"config.yml\"))[\"user\"])\n",
        "    driver.find_element(By.NAME, \"amember_pass\").send_keys(yaml.safe_load(open(\"config.yml\"))[\"pass\"])\n",
        "    driver.find_element(By.NAME, \"login\").submit()\n",
        "\n",
        "    WebDriverWait(driver, 10).until(EC.url_contains(\"https://www.pianostreet.com/amember/member\"))\n",
        "    driver.get(\"https://www.pianostreet.com/amember/profile\")\n",
        "    WebDriverWait(driver, 10).until(EC.presence_of_element_located((By.CLASS_NAME, \"am-form\")))\n",
        "    print(driver.find_element(By.CLASS_NAME, \"am-form\").text)\n",
        "\n",
        "    name = driver.find_element(By.ID, \"name_f\").get_attribute(\"value\")\n",
        "    print(name)\n",
        "\n",
        "\n",
        "if __name__ == \"__main__\":\n",
        "    login_with_requests()\n",
        "    login_with_selenium()"
      ],
      "metadata": {
        "id": "Kyx9DtLOh5BU"
      },
      "execution_count": null,
      "outputs": []
    }
  ]
}
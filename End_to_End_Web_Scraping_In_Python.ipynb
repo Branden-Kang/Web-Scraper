{
  "nbformat": 4,
  "nbformat_minor": 0,
  "metadata": {
    "colab": {
      "provenance": [],
      "authorship_tag": "ABX9TyPgKhxBM1fyR+9hQsdyQOfK"
    },
    "kernelspec": {
      "name": "python3",
      "display_name": "Python 3"
    },
    "language_info": {
      "name": "python"
    }
  },
  "cells": [
    {
      "cell_type": "markdown",
      "source": [
        "[Reference](https://medium.com/@mkalmus/end-to-end-web-scraping-project-with-requests-selenium-and-beautifulsoup-ca2de995c585)"
      ],
      "metadata": {
        "id": "2iNUiu53cU-0"
      }
    },
    {
      "cell_type": "code",
      "execution_count": 1,
      "metadata": {
        "colab": {
          "base_uri": "https://localhost:8080/"
        },
        "id": "Z7CThbn0bg9g",
        "outputId": "06747476-726d-44ea-ff2c-eafbb5b5a58d"
      },
      "outputs": [
        {
          "output_type": "stream",
          "name": "stdout",
          "text": [
            "<Response [200]>\n"
          ]
        }
      ],
      "source": [
        "import requests\n",
        "\n",
        "BASE_URL = 'https://soundcloud.com/charts'\n",
        "r = requests.get(BASE_URL)\n",
        "print(r)"
      ]
    },
    {
      "cell_type": "code",
      "source": [
        "import requests\n",
        "\n",
        "BASE_URL = 'https://soundcloud.com/charts'\n",
        "r = requests.get(BASE_URL)\n",
        "#note now we print the text\n",
        "print(r.text)"
      ],
      "metadata": {
        "colab": {
          "base_uri": "https://localhost:8080/"
        },
        "id": "fYBZaKHvb9X2",
        "outputId": "790ce6a3-a214-4f55-9422-0504d3edeb98"
      },
      "execution_count": 2,
      "outputs": [
        {
          "output_type": "stream",
          "name": "stdout",
          "text": [
            "<!DOCTYPE html>\n",
            "<html lang=\"en\">\n",
            "<head>\n",
            "<meta charset=\"utf-8\">\n",
            "<meta name=\"theme-color\" content=\"#333\">\n",
            "<link rel=\"dns-prefetch\" href=\"//style.sndcdn.com\">\n",
            "<link rel=\"dns-prefetch\" href=\"//a-v2.sndcdn.com\">\n",
            "<link rel=\"dns-prefetch\" href=\"//api-v2.soundcloud.com\">\n",
            "<link rel=\"dns-prefetch\" href=\"//sb.scorecardresearch.com\">\n",
            "<link rel=\"dns-prefetch\" href=\"//secure.quantserve.com\">\n",
            "<link rel=\"dns-prefetch\" href=\"//eventlogger.soundcloud.com\">\n",
            "<link rel=\"dns-prefetch\" href=\"//api.soundcloud.com\">\n",
            "<link rel=\"dns-prefetch\" href=\"//ssl.google-analytics.com\">\n",
            "<link rel=\"dns-prefetch\" href=\"//i1.sndcdn.com\">\n",
            "<link rel=\"dns-prefetch\" href=\"//i2.sndcdn.com\">\n",
            "<link rel=\"dns-prefetch\" href=\"//i3.sndcdn.com\">\n",
            "<link rel=\"dns-prefetch\" href=\"//i4.sndcdn.com\">\n",
            "<link rel=\"dns-prefetch\" href=\"//wis.sndcdn.com\">\n",
            "<link rel=\"dns-prefetch\" href=\"//va.sndcdn.com\">\n",
            "<link rel=\"dns-prefetch\" href=\"//pixel.quantserve.com\">\n",
            "<title>Listen to the top played music charts on SoundCloud this week</title>\n",
            "<meta content=\"record, sounds, share, sound, audio, tracks, music, soundcloud\" name=\"keywords\">\n",
            "<meta name=\"referrer\" content=\"origin\">\n",
            "<meta name=\"google-site-verification\" content=\"dY0CigqM8Inubs_hgrYMwk-zGchKwrvJLcvI_G8631Q\">\n",
            "<link crossorigin=\"use-credentials\" rel=\"manifest\" href=\"/webmanifest.json\">\n",
            "<meta name=\"viewport\" content=\"width=device-width,minimum-scale=1,maximum-scale=1,user-scalable=no\">\n",
            "<meta content=\"19507961798\" property=\"fb:app_id\">\n",
            "<meta content=\"SoundCloud\" property=\"og:site_name\">\n",
            "<meta content=\"SoundCloud\" property=\"twitter:site\">\n",
            "<meta content=\"SoundCloud\" property=\"twitter:app:name:iphone\">\n",
            "<meta content=\"336353151\" property=\"twitter:app:id:iphone\">\n",
            "<meta content=\"SoundCloud\" property=\"twitter:app:name:ipad\">\n",
            "<meta content=\"336353151\" property=\"twitter:app:id:ipad\">\n",
            "<meta content=\"SoundCloud\" property=\"twitter:app:name:googleplay\">\n",
            "<meta content=\"com.soundcloud.android\" property=\"twitter:app:id:googleplay\">\n",
            "<link href=\"/sc-opensearch.xml\" rel=\"search\" title=\"SoundCloud\" type=\"application/opensearchdescription+xml\">\n",
            "<meta name=\"description\" content=\"Discover and play SoundCloud&#39;s top tracks of the week on desktop and mobile.\">\n",
            "<link rel=\"canonical\" href=\"https://soundcloud.com/charts/top?genre=all-music\">\n",
            "<meta name=\"application-name\" content=\"SoundCloud\">\n",
            "<meta name=\"msapplication-tooltip\" content=\"Launch SoundCloud\">\n",
            "<meta name=\"msapplication-TileImage\" content=\"https://a-v2.sndcdn.com/assets/images/sc-icons/win8-2dc974a18a.png\">\n",
            "<meta name=\"msapplication-TileColor\" content=\"#ff5500\">\n",
            "<meta name=\"msapplication-starturl\" content=\"https://soundcloud.com\">\n",
            "<link href=\"https://a-v2.sndcdn.com/assets/images/sc-icons/favicon-2cadd14bdb.ico\" rel=\"icon\">\n",
            "<link href=\"https://a-v2.sndcdn.com/assets/images/sc-icons/ios-a62dfc8fe7.png\" rel=\"apple-touch-icon\">\n",
            "<link href=\"https://a-v2.sndcdn.com/assets/images/sc-icons/fluid-b4e7a64b8b.png\" rel=\"fluid-icon\">\n",
            "<script>!function(){var o,a,r;function e(a){return a.test(o)}o=window.navigator.userAgent.toLowerCase();var i,t,n,s=void 0!==window.opera&&\"[object Opera]\"===window.opera.toString(),p=o.match(/\\sopr\\/([0-9]+)\\./),d=e(/chrome/),c=e(/webkit/),m=!d&&e(/safari/),w=!s&&e(/msie|trident/),f=!c&&e(/gecko/);i=p?parseInt(p[1],10):(n=o.match(/(opera|chrome|safari|firefox|msie|rv:)\\/?\\s*(\\.?\\d+(\\.\\d+)*)/i))&&(t=o.match(/version\\/([.\\d]+)/i))?parseInt(t[1],10):n?parseInt(n[2],10):null;var h=e(/mobile|android|iphone|ipod|symbianos|nokia|s60|playbook|playstation/);f&&(r=(a=o.match(/(firefox)\\/?\\s*(\\.?\\d+(\\.\\d+)*)/i))&&a.length>1&&parseInt(a[2],10)>=41),i&&!h&&(d&&!p&&i<49||f&&!p&&!1===r||m&&i<9||w||s&&i<13||p&&i<27)&&(window.__sc_abortApp=!0)}()</script>\n",
            "<link rel=\"stylesheet\" href=\"https://style.sndcdn.com/css/interstate-a86f07cf94ae5a496b24.css\">\n",
            "\n",
            "<link rel=\"stylesheet\" href=\"https://a-v2.sndcdn.com/assets/css/app-440803ce3e9b9c59a645.css\">\n",
            "</head>\n",
            "<body class=\"ot-hide-banner sc-classic\">\n",
            "\n",
            "<div id=\"app\">\n",
            "<style>.header{width:100%;background:var(--background-surface-color);height:46px}.sc-classic .header{background:#333}.header__logo{background:var(--background-surface-color)}.sc-classic .header__logo{background:#333}body:not(.sc-classic) .header__logoLink{display:flex;flex-direction:column;justify-content:center;align-content:center}.header__logoLink{height:46px;width:48px}.header__logoLink svg{color:var(--primary-color)}.sc-classic .header__logoLink{background:transparent url(https://a-v2.sndcdn.com/assets/images/header/brand-1b72dd8210.svg) no-repeat 0 11px;background-size:49px 22px;display:block;height:46px;width:49px;margin-right:23px}.sc-classic .header__logoLink{background-image:url(https://a-v2.sndcdn.com/assets/images/header/cloud-e365a472bf.png);background-position-x:12px;background-size:48px 22px;width:69px;margin-right:unset}.sc-classic .header__logoLink svg{display:none}.header__logoLink:focus{background-color:rgba(255,72,0,.8);outline:0}#header__loading{margin:13px auto 0;width:16px;background:url(https://a-v2.sndcdn.com/assets/images/loader-dark-45940ae3d4.gif) center no-repeat;background-size:16px 16px}@media (-webkit-min-device-pixel-ratio:2),(min-resolution:192dpi),(min-resolution:2dppx){.sc-classic .header__logoLink{background-image:url(https://a-v2.sndcdn.com/assets/images/header/cloud@2x-e5fba4606d.png)}}</style>\n",
            "<div role=\"banner\" class=\"header sc-selection-disabled show fixed g-dark g-z-index-header\">\n",
            "<div class=\"header__inner l-container l-fullwidth\">\n",
            "<div class=\"header__left left\">\n",
            "<div class=\"header__logo left\">\n",
            "<a href=\"/\" title=\"Home\" class=\"header__logoLink sc-border-box sc-ir\">\n",
            "<svg viewBox=\"0 0 143 64\" xmlns=\"http://www.w3.org/2000/svg\" aria-hidden=\"true\">\n",
            "<path fill=\"currentColor\" transform=\"translate(-166.000000, -1125.000000)\" d=\"M308.984235,1169.99251 C308.382505,1180.70295 299.444837,1189.03525 288.718543,1188.88554 L240.008437,1188.88554 C237.777524,1188.86472 235.977065,1187.05577 235.966737,1184.82478 L235.966737,1132.37801 C235.894282,1130.53582 236.962478,1128.83883 238.654849,1128.10753 C238.654849,1128.10753 243.135035,1124.99996 252.572022,1124.99996 C258.337036,1124.99309 263.996267,1126.54789 268.948531,1129.49925 C276.76341,1134.09703 282.29495,1141.75821 284.200228,1150.62285 C285.880958,1150.14737 287.620063,1149.90993 289.36674,1149.91746 C294.659738,1149.88414 299.738952,1152.0036 303.438351,1155.78928 C307.13775,1159.57496 309.139562,1164.70168 308.984235,1169.99251 Z M229.885123,1135.69525 C231.353099,1153.48254 232.420718,1169.70654 229.885123,1187.43663 C229.796699,1188.23857 229.119091,1188.84557 228.312292,1188.84557 C227.505494,1188.84557 226.827885,1188.23857 226.739461,1187.43663 C224.375448,1169.85905 225.404938,1153.33003 226.739461,1135.69525 C226.672943,1135.09199 226.957336,1134.50383 227.471487,1134.18133 C227.985639,1133.85884 228.638946,1133.85884 229.153097,1134.18133 C229.667248,1134.50383 229.951641,1135.09199 229.885123,1135.69525 Z M220.028715,1187.4557 C219.904865,1188.26549 219.208361,1188.86356 218.389157,1188.86356 C217.569953,1188.86356 216.87345,1188.26549 216.7496,1187.4557 C214.986145,1172.28686 214.986145,1156.96477 216.7496,1141.79593 C216.840309,1140.9535 217.551388,1140.31488 218.398689,1140.31488 C219.245991,1140.31488 219.95707,1140.9535 220.047779,1141.79593 C222.005153,1156.95333 221.998746,1172.29994 220.028715,1187.4557 Z M210.153241,1140.2517 C211.754669,1156.55195 212.479125,1171.15545 210.134176,1187.41757 C210.134176,1188.29148 209.425728,1188.99993 208.551813,1188.99993 C207.677898,1188.99993 206.969449,1188.29148 206.969449,1187.41757 C204.70076,1171.36516 205.463344,1156.34224 206.969449,1140.2517 C207.05845,1139.43964 207.744425,1138.82474 208.561345,1138.82474 C209.378266,1138.82474 210.06424,1139.43964 210.153241,1140.2517 Z M200.258703,1187.47476 C200.169129,1188.29694 199.474788,1188.91975 198.647742,1188.91975 C197.820697,1188.91975 197.126356,1188.29694 197.036782,1187.47476 C195.216051,1173.32359 195.216051,1158.99744 197.036782,1144.84627 C197.036782,1143.94077 197.770837,1143.20671 198.676339,1143.20671 C199.581842,1143.20671 200.315897,1143.94077 200.315897,1144.84627 C202.251054,1158.99121 202.231809,1173.33507 200.258703,1187.47476 Z M190.383229,1155.50339 C192.880695,1166.56087 191.755882,1176.32196 190.287906,1187.58915 C190.168936,1188.33924 189.522207,1188.89148 188.762737,1188.89148 C188.003266,1188.89148 187.356537,1188.33924 187.237567,1187.58915 C185.903044,1176.47448 184.797296,1166.48462 187.142244,1155.50339 C187.142244,1154.60842 187.867763,1153.8829 188.762737,1153.8829 C189.65771,1153.8829 190.383229,1154.60842 190.383229,1155.50339 Z M180.526821,1153.82571 C182.814575,1165.15009 182.071055,1174.7396 180.469627,1186.10211 C180.27898,1187.7798 177.400223,1187.79886 177.247706,1186.10211 C175.798795,1174.91118 175.112468,1165.0357 177.190512,1153.82571 C177.281785,1152.97315 178.001234,1152.32661 178.858666,1152.32661 C179.716099,1152.32661 180.435548,1152.97315 180.526821,1153.82571 Z M170.575089,1159.31632 C172.977231,1166.82778 172.157452,1172.92846 170.479765,1180.63056 C170.391921,1181.42239 169.722678,1182.02149 168.925999,1182.02149 C168.12932,1182.02149 167.460077,1181.42239 167.372232,1180.63056 C165.923321,1173.08097 165.332318,1166.84684 167.23878,1159.31632 C167.330053,1158.46376 168.049502,1157.81722 168.906934,1157.81722 C169.764367,1157.81722 170.483816,1158.46376 170.575089,1159.31632 Z\"></path>\n",
            "</svg>\n",
            "SoundCloud\n",
            "</a>\n",
            "</div>\n",
            "</div>\n",
            "<div id=\"header__loading\" class=\"sc-hidden\"></div>\n",
            "</div>\n",
            "</div>\n",
            "<script>window.setTimeout((function(){if(!window.__sc_abortApp){var e=window.document.getElementById(\"header__loading\");e&&(e.className=\"\")}}),6e3)</script>\n",
            "<style>.errorPage__inner{width:580px;margin:0 auto;position:relative;padding-top:460px;background:url(https://a-v2.sndcdn.com/assets/images/errors/500-e5a180b7a8.png) no-repeat 50% 80px;text-align:center;transition:all 1s linear}.errorTitle{margin-bottom:10px;font-size:30px}.errorText{line-height:28px;color:#666;font-size:20px}.errorButtons{margin-top:30px}@media (max-width:1280px){.errorPage__inner{background-size:80%}}</style>\n",
            "<noscript class=\"errorPage__inner\">\n",
            "<div class=\"errorPage__inner\">\n",
            "<p class=\"errorTitle\">JavaScript is disabled</p>\n",
            "<p class=\"errorText sc-font-light\">You need to enable JavaScript to use SoundCloud</p>\n",
            "<div class=\"errorButtons\">\n",
            "<a href=\"http://www.enable-javascript.com/\" target=\"_blank\" class=\"sc-button sc-button-medium\">Show me how to enable it</a>\n",
            "</div>\n",
            "</div>\n",
            "</noscript>\n",
            "<noscript><section>\n",
            "  <header>\n",
            "    <h1>Top charts and tracks</h1>\n",
            "  </header>\n",
            "  <section class=\"categories\">\n",
            "    <article>\n",
            "      <h2>Top 50 or Trending</h2>\n",
            "      <ul>\n",
            "          <li class=\"active\">\n",
            "            <a href=\"/charts/top?genre&#x3D;all-music\">Top 50</a>\n",
            "          </li>\n",
            "          <li >\n",
            "            <a href=\"/charts/new?genre&#x3D;all-music\">New &amp; hot</a>\n",
            "          </li>\n",
            "      </ul>\n",
            "    </article>\n",
            "    <article>\n",
            "      <h2>Choose a genre</h2>\n",
            "      <ul>\n",
            "          <li class=\"active\">\n",
            "            <a href=\"/charts/top?genre&#x3D;all-music\">All music genres</a>\n",
            "          </li>\n",
            "          <li >\n",
            "            <a href=\"/charts/top?genre&#x3D;all-audio\">All audio genres</a>\n",
            "          </li>\n",
            "          <li >\n",
            "            <a href=\"/charts/top?genre&#x3D;alternativerock\">Alternative Rock</a>\n",
            "          </li>\n",
            "          <li >\n",
            "            <a href=\"/charts/top?genre&#x3D;ambient\">Ambient</a>\n",
            "          </li>\n",
            "          <li >\n",
            "            <a href=\"/charts/top?genre&#x3D;classical\">Classical</a>\n",
            "          </li>\n",
            "          <li >\n",
            "            <a href=\"/charts/top?genre&#x3D;country\">Country</a>\n",
            "          </li>\n",
            "          <li >\n",
            "            <a href=\"/charts/top?genre&#x3D;danceedm\">Dance &amp; EDM</a>\n",
            "          </li>\n",
            "          <li >\n",
            "            <a href=\"/charts/top?genre&#x3D;dancehall\">Dancehall</a>\n",
            "          </li>\n",
            "          <li >\n",
            "            <a href=\"/charts/top?genre&#x3D;deephouse\">Deep House</a>\n",
            "          </li>\n",
            "          <li >\n",
            "            <a href=\"/charts/top?genre&#x3D;disco\">Disco</a>\n",
            "          </li>\n",
            "          <li >\n",
            "            <a href=\"/charts/top?genre&#x3D;drumbass\">Drum &amp; Bass</a>\n",
            "          </li>\n",
            "          <li >\n",
            "            <a href=\"/charts/top?genre&#x3D;dubstep\">Dubstep</a>\n",
            "          </li>\n",
            "          <li >\n",
            "            <a href=\"/charts/top?genre&#x3D;electronic\">Electronic</a>\n",
            "          </li>\n",
            "          <li >\n",
            "            <a href=\"/charts/top?genre&#x3D;folksingersongwriter\">Folk &amp; Singer-Songwriter</a>\n",
            "          </li>\n",
            "          <li >\n",
            "            <a href=\"/charts/top?genre&#x3D;hiphoprap\">Hip-hop &amp; Rap</a>\n",
            "          </li>\n",
            "          <li >\n",
            "            <a href=\"/charts/top?genre&#x3D;house\">House</a>\n",
            "          </li>\n",
            "          <li >\n",
            "            <a href=\"/charts/top?genre&#x3D;indie\">Indie</a>\n",
            "          </li>\n",
            "          <li >\n",
            "            <a href=\"/charts/top?genre&#x3D;jazzblues\">Jazz &amp; Blues</a>\n",
            "          </li>\n",
            "          <li >\n",
            "            <a href=\"/charts/top?genre&#x3D;latin\">Latin</a>\n",
            "          </li>\n",
            "          <li >\n",
            "            <a href=\"/charts/top?genre&#x3D;metal\">Metal</a>\n",
            "          </li>\n",
            "          <li >\n",
            "            <a href=\"/charts/top?genre&#x3D;piano\">Piano</a>\n",
            "          </li>\n",
            "          <li >\n",
            "            <a href=\"/charts/top?genre&#x3D;pop\">Pop</a>\n",
            "          </li>\n",
            "          <li >\n",
            "            <a href=\"/charts/top?genre&#x3D;rbsoul\">R&amp;B &amp; Soul</a>\n",
            "          </li>\n",
            "          <li >\n",
            "            <a href=\"/charts/top?genre&#x3D;reggae\">Reggae</a>\n",
            "          </li>\n",
            "          <li >\n",
            "            <a href=\"/charts/top?genre&#x3D;reggaeton\">Reggaeton</a>\n",
            "          </li>\n",
            "          <li >\n",
            "            <a href=\"/charts/top?genre&#x3D;rock\">Rock</a>\n",
            "          </li>\n",
            "          <li >\n",
            "            <a href=\"/charts/top?genre&#x3D;soundtrack\">Soundtrack</a>\n",
            "          </li>\n",
            "          <li >\n",
            "            <a href=\"/charts/top?genre&#x3D;techno\">Techno</a>\n",
            "          </li>\n",
            "          <li >\n",
            "            <a href=\"/charts/top?genre&#x3D;trance\">Trance</a>\n",
            "          </li>\n",
            "          <li >\n",
            "            <a href=\"/charts/top?genre&#x3D;trap\">Trap</a>\n",
            "          </li>\n",
            "          <li >\n",
            "            <a href=\"/charts/top?genre&#x3D;triphop\">Triphop</a>\n",
            "          </li>\n",
            "          <li >\n",
            "            <a href=\"/charts/top?genre&#x3D;world\">World</a>\n",
            "          </li>\n",
            "          <li >\n",
            "            <a href=\"/charts/top?genre&#x3D;audiobooks\">Audiobooks</a>\n",
            "          </li>\n",
            "          <li >\n",
            "            <a href=\"/charts/top?genre&#x3D;business\">Business</a>\n",
            "          </li>\n",
            "          <li >\n",
            "            <a href=\"/charts/top?genre&#x3D;comedy\">Comedy</a>\n",
            "          </li>\n",
            "          <li >\n",
            "            <a href=\"/charts/top?genre&#x3D;entertainment\">Entertainment</a>\n",
            "          </li>\n",
            "          <li >\n",
            "            <a href=\"/charts/top?genre&#x3D;learning\">Learning</a>\n",
            "          </li>\n",
            "          <li >\n",
            "            <a href=\"/charts/top?genre&#x3D;newspolitics\">News &amp; Politics</a>\n",
            "          </li>\n",
            "          <li >\n",
            "            <a href=\"/charts/top?genre&#x3D;religionspirituality\">Religion &amp; Spirituality</a>\n",
            "          </li>\n",
            "          <li >\n",
            "            <a href=\"/charts/top?genre&#x3D;science\">Science</a>\n",
            "          </li>\n",
            "          <li >\n",
            "            <a href=\"/charts/top?genre&#x3D;sports\">Sports</a>\n",
            "          </li>\n",
            "          <li >\n",
            "            <a href=\"/charts/top?genre&#x3D;storytelling\">Storytelling</a>\n",
            "          </li>\n",
            "          <li >\n",
            "            <a href=\"/charts/top?genre&#x3D;technology\">Technology</a>\n",
            "          </li>\n",
            "      </ul>\n",
            "    </article>\n",
            "  </section>\n",
            "  <section class=\"sounds\">\n",
            "    <h2>Tracks</h2>\n",
            "    <ol>\n",
            "        <li>\n",
            "          <article><h2 itemprop=\"name\"><a itemprop=\"url\" href=\"/liluzivert/lil-uzi-vert-just-wanna-rock\">Lil Uzi Vert - Just Wanna Rock</a>\n",
            "by <a href=\"/liluzivert\">Lil Uzi Vert</a></h2>\n",
            "published on <time pubdate>2022-10-15T09:19:38Z</time></article>\n",
            "        </li>\n",
            "        <li>\n",
            "          <article><h2 itemprop=\"name\"><a itemprop=\"url\" href=\"/octobersveryown/drake-21-savage-rich-flex\">Drake, 21 Savage - Rich Flex</a>\n",
            "by <a href=\"/octobersveryown\">octobersveryown</a></h2>\n",
            "published on <time pubdate>2022-11-04T06:31:56Z</time></article>\n",
            "        </li>\n",
            "        <li>\n",
            "          <article><h2 itemprop=\"name\"><a itemprop=\"url\" href=\"/a8ani2/ywgpwvb1gsyr\">ÙØ³ÙÙ Ø¬ÙØ¨ Ø§ÙØ³Ø§ÙÙ ÙÙÙÙÙ ÙØ£Ø¬ÙÙÙ Ø§ÙØ§ Ø¬ÙØ¨Ù ØµØ§Ø­Ø¨Ù ÙØ­Ø¨ÙØ¨Ù</a>\n",
            "by <a href=\"/a8ani2\">Sasa</a></h2>\n",
            "published on <time pubdate>2022-09-16T14:45:59Z</time></article>\n",
            "        </li>\n",
            "        <li>\n",
            "          <article><h2 itemprop=\"name\"><a itemprop=\"url\" href=\"/a8ani2/pxphroz3omzp\">ÙØ±ÙØ¯ - Ø¨Ø£ÙØ§Ø±Ø© ÙÙÙ (ÙÙ Ø¬Ø§Ù ÙÙ Ø±Ø¬ÙØ¹ Ø¥ÙØ³Ø§ÙÙ)</a>\n",
            "by <a href=\"/a8ani2\">Sasa</a></h2>\n",
            "published on <time pubdate>2022-10-23T11:27:11Z</time></article>\n",
            "        </li>\n",
            "        <li>\n",
            "          <article><h2 itemprop=\"name\"><a itemprop=\"url\" href=\"/futureisnow/og-dayv-future-limoncello\">OG DAYV, Future - Limoncello</a>\n",
            "by <a href=\"/futureisnow\">Future</a></h2>\n",
            "published on <time pubdate>2022-11-03T04:41:53Z</time></article>\n",
            "        </li>\n",
            "        <li>\n",
            "          <article><h2 itemprop=\"name\"><a itemprop=\"url\" href=\"/muslimmusico/hhjavql9rqmd\">ÙÙØ±Ø¬Ø§Ù Ø¹Ø±Ù ÙØ§ÙÙ Ø¹Ø§ÙÙ ÙØºØ§ÙØ± ( Ø¨Øª Ø§ÙØªÙ Ø­Ø¨ Ø­ÙØ§ØªÙ ) Ø¹ØµØ§Ù ØµØ§ØµØ§ Ø§ÙÙØ±ÙØ§Ù - ØªÙØ²ÙØ¹ ÙÙØ³Ù Ø§ÙØ´Ø§</a>\n",
            "by <a href=\"/muslimmusico\">Marwan Pablo - Barbary | ÙØ±ÙØ§Ù Ø¨Ø§Ø¨ÙÙ - Ø¨Ø±Ø¨Ø±Ù</a></h2>\n",
            "published on <time pubdate>2022-08-03T15:25:54Z</time></article>\n",
            "        </li>\n",
            "        <li>\n",
            "          <article><h2 itemprop=\"name\"><a itemprop=\"url\" href=\"/trapbrasileiroriginal/orochi-ft-mc-ryan-sp-xama-oruam-sereia\">Orochi &quot;SEREIA&quot;ð§ð¼ââï¸ feat. MC Ryan SP, XamÃ£, Oruam (prod. NeoBeats, Kizzy)</a>\n",
            "by <a href=\"/trapbrasileiroriginal\">Trap Brasileiro Â® (1</a></h2>\n",
            "published on <time pubdate>2022-10-27T00:30:25Z</time></article>\n",
            "        </li>\n",
            "        <li>\n",
            "          <article><h2 itemprop=\"name\"><a itemprop=\"url\" href=\"/a8ani2/gmgmg\">ÙÙØ±Ø¬Ø§Ù ÙØ¯Ù ÙÙ ÙÙØ¨Ù Ø·ÙÙÙ ( ÙÙ Ø¹ÙØ²Øª ØªÙÙÙÙÙ ) Ø¹ØµØ§Ù ØµØ§ØµØ§ Ø§ÙÙØ±ÙØ§Ù - ØªÙØ²ÙØ¹ ÙÙØ³Ù Ø§ÙØ´Ø§</a>\n",
            "by <a href=\"/a8ani2\">Sasa</a></h2>\n",
            "published on <time pubdate>2022-10-22T21:35:06Z</time></article>\n",
            "        </li>\n",
            "        <li>\n",
            "          <article><h2 itemprop=\"name\"><a itemprop=\"url\" href=\"/free-music-egypt/ana-ghaltan\">Bahaa Sultan - Ana Ghaltan | Ø¨ÙØ§Ø¡ Ø³ÙØ·Ø§Ù - Ø£ÙØ§ ØºÙØ·Ø§Ù</a>\n",
            "by <a href=\"/free-music-egypt\">Free Music - ÙØ±Ù ÙÙÙØ²ÙÙ</a></h2>\n",
            "published on <time pubdate>2022-06-22T14:27:12Z</time></article>\n",
            "        </li>\n",
            "        <li>\n",
            "          <article><h2 itemprop=\"name\"><a itemprop=\"url\" href=\"/doja-alshaafi/hwr1hh5azjjd\">Ø±ØµÙØ¯ Ø§ÙØ³ØªØ± ÙØ­ÙØ¯ Ø´Ø§ÙÙÙ</a>\n",
            "by <a href=\"/doja-alshaafi\">DEEJA ð¨ð¾</a></h2>\n",
            "published on <time pubdate>2022-11-15T13:07:10Z</time></article>\n",
            "        </li>\n",
            "        <li>\n",
            "          <article><h2 itemprop=\"name\"><a itemprop=\"url\" href=\"/jasminelkhateeb/2022a-2\">Ø£Ø­ÙØ¯ Ø³Ø¹Ø¯ / Ø§ÙÙÙÙ Ø§ÙØ­ÙÙ Ø¯Ù / ÙÙ ÙÙÙÙ Ø¹ÙÙÙ 2022</a>\n",
            "by <a href=\"/jasminelkhateeb\">Jasmin@AlKhateebð</a></h2>\n",
            "published on <time pubdate>2022-07-18T02:29:38Z</time></article>\n",
            "        </li>\n",
            "        <li>\n",
            "          <article><h2 itemprop=\"name\"><a itemprop=\"url\" href=\"/d4vddd/romantic-homicide\">Romantic Homicide</a>\n",
            "by <a href=\"/d4vddd\">d4vd (@d4vddd)</a></h2>\n",
            "published on <time pubdate>2022-07-20T22:02:02Z</time></article>\n",
            "        </li>\n",
            "        <li>\n",
            "          <article><h2 itemprop=\"name\"><a itemprop=\"url\" href=\"/oruammc/horas-iguais-wiu-oruauuj\">Horas Iguais ð°ï¸ð - WIU &amp; Oruam</a>\n",
            "by <a href=\"/oruammc\">oruam</a></h2>\n",
            "published on <time pubdate>2022-10-10T22:05:34Z</time></article>\n",
            "        </li>\n",
            "        <li>\n",
            "          <article><h2 itemprop=\"name\"><a itemprop=\"url\" href=\"/lil-kizzle/dont-step-1\">Don&#x27;t Step</a>\n",
            "by <a href=\"/lil-kizzle\">Lil Kizzle</a></h2>\n",
            "published on <time pubdate>2022-08-26T08:50:18Z</time></article>\n",
            "        </li>\n",
            "        <li>\n",
            "          <article><h2 itemprop=\"name\"><a itemprop=\"url\" href=\"/myabandonedhome/snowfall-w-oneheart\">snowfall w/ Ãneheart</a>\n",
            "by <a href=\"/myabandonedhome\">reidenshi</a></h2>\n",
            "published on <time pubdate>2022-01-14T00:14:40Z</time></article>\n",
            "        </li>\n",
            "        <li>\n",
            "          <article><h2 itemprop=\"name\"><a itemprop=\"url\" href=\"/trapbrasileiro03/poesia-acustica-13-mc-cabelinhotz-da-coroneloruaml7nnonchefinninachrisxamaluisa-sonza\">Poesia AcÃºstica 13 - MC Cabelinho,Tz da Coronel,Oruam,L7NNON,Chefin,N.I.N.A,Chris,XamÃ£,Luisa Sonza</a>\n",
            "by <a href=\"/trapbrasileiro03\">Trap Brasileiro Â® (3</a></h2>\n",
            "published on <time pubdate>2022-09-20T16:45:12Z</time></article>\n",
            "        </li>\n",
            "        <li>\n",
            "          <article><h2 itemprop=\"name\"><a itemprop=\"url\" href=\"/uiceheidd/in-my-head\">In My Head</a>\n",
            "by <a href=\"/uiceheidd\">Juice WRLD</a></h2>\n",
            "published on <time pubdate>2022-10-28T00:41:29Z</time></article>\n",
            "        </li>\n",
            "        <li>\n",
            "          <article><h2 itemprop=\"name\"><a itemprop=\"url\" href=\"/lilyeat/out-the-way\">Out thÃ« way</a>\n",
            "by <a href=\"/lilyeat\">Yeat</a></h2>\n",
            "published on <time pubdate>2022-09-06T20:23:32Z</time></article>\n",
            "        </li>\n",
            "        <li>\n",
            "          <article><h2 itemprop=\"name\"><a itemprop=\"url\" href=\"/nevi_nevi_nevi/patience\">Patience</a>\n",
            "by <a href=\"/nevi_nevi_nevi\">Nevi</a></h2>\n",
            "published on <time pubdate>2022-11-04T02:49:25Z</time></article>\n",
            "        </li>\n",
            "        <li>\n",
            "          <article><h2 itemprop=\"name\"><a itemprop=\"url\" href=\"/olivertree/miss-you\">Oliver Tree &amp; Robin Schulz - Miss You</a>\n",
            "by <a href=\"/olivertree\">Oliver Tree</a></h2>\n",
            "published on <time pubdate>2022-08-04T22:27:57Z</time></article>\n",
            "        </li>\n",
            "        <li>\n",
            "          <article><h2 itemprop=\"name\"><a itemprop=\"url\" href=\"/666astra666-ffdd/metamorphosis\">METAMORPHOSIS</a>\n",
            "by <a href=\"/666astra666-ffdd\">INTERWORLD</a></h2>\n",
            "published on <time pubdate>2021-11-24T20:27:12Z</time></article>\n",
            "        </li>\n",
            "        <li>\n",
            "          <article><h2 itemprop=\"name\"><a itemprop=\"url\" href=\"/behani/behani-ne-yo-real-man\">Behani &amp; Ne-Yo - Real Man</a>\n",
            "by <a href=\"/behani\">Behani</a></h2>\n",
            "published on <time pubdate>2022-11-10T21:11:16Z</time></article>\n",
            "        </li>\n",
            "        <li>\n",
            "          <article><h2 itemprop=\"name\"><a itemprop=\"url\" href=\"/lionelwavyy/one-night-stand\">One Night Stand</a>\n",
            "by <a href=\"/lionelwavyy\">Lonnie</a></h2>\n",
            "published on <time pubdate>2022-11-08T17:20:34Z</time></article>\n",
            "        </li>\n",
            "        <li>\n",
            "          <article><h2 itemprop=\"name\"><a itemprop=\"url\" href=\"/zizo-salamony/njdl8f1gfhyx\">Ø¹ØµØ§Ù ØµØ§ØµØ§ ÙØ¹ÙØ¨Ù</a>\n",
            "by <a href=\"/zizo-salamony\">âª ZÍ¡Íðððð ð¤´</a></h2>\n",
            "published on <time pubdate>2022-11-08T20:08:28Z</time></article>\n",
            "        </li>\n",
            "        <li>\n",
            "          <article><h2 itemprop=\"name\"><a itemprop=\"url\" href=\"/user-894394120-615016070/we-are-the-people-remix\">We Are The People (southstar remix)</a>\n",
            "by <a href=\"/user-894394120-615016070\">southstar</a></h2>\n",
            "published on <time pubdate>2022-06-27T16:47:34Z</time></article>\n",
            "        </li>\n",
            "        <li>\n",
            "          <article><h2 itemprop=\"name\"><a itemprop=\"url\" href=\"/steevlacy/bad-habit\">Bad Habit</a>\n",
            "by <a href=\"/steevlacy\">Steve Lacy</a></h2>\n",
            "published on <time pubdate>2022-07-14T15:13:40Z</time></article>\n",
            "        </li>\n",
            "        <li>\n",
            "          <article><h2 itemprop=\"name\"><a itemprop=\"url\" href=\"/glorillapimp/nut-quick\">Nut Quick</a>\n",
            "by <a href=\"/glorillapimp\">GloRilla</a></h2>\n",
            "published on <time pubdate>2022-11-03T03:39:13Z</time></article>\n",
            "        </li>\n",
            "        <li>\n",
            "          <article><h2 itemprop=\"name\"><a itemprop=\"url\" href=\"/kordhell/murder-in-my-mind\">MURDER IN MY MIND</a>\n",
            "by <a href=\"/kordhell\">KORDHELL</a></h2>\n",
            "published on <time pubdate>2022-01-21T00:52:37Z</time></article>\n",
            "        </li>\n",
            "        <li>\n",
            "          <article><h2 itemprop=\"name\"><a itemprop=\"url\" href=\"/a8ani2/04mioehzjfdt\">Ø±Ø¶Ø§ Ø§ÙØ¨Ø­Ø±Ø§ÙÙ - Ø§ÙØ§ØºÙÙØ© Ø§ÙÙÙ ÙØ³Ø±Øª Ø§ÙØªÙÙ ØªÙÙ ( ÙØ­Ø¯Ø´ ÙÙÙ Ø®ÙØ± Ø¹ÙÙØ§ - ÙØ§Ø³ ÙÙÙ ÙÙÙ Ø¯ÙÙ ) ØªÙØ²ÙØ¹ Ø­Ø³Ø§Ù ÙØ§Ø±ÙÙ</a>\n",
            "by <a href=\"/a8ani2\">Sasa</a></h2>\n",
            "published on <time pubdate>2022-09-15T13:37:42Z</time></article>\n",
            "        </li>\n",
            "        <li>\n",
            "          <article><h2 itemprop=\"name\"><a itemprop=\"url\" href=\"/thxsomch/spit-in-my-face\">SPIT IN MY FACE!</a>\n",
            "by <a href=\"/thxsomch\">ThxSoMch</a></h2>\n",
            "published on <time pubdate>2022-10-31T19:23:48Z</time></article>\n",
            "        </li>\n",
            "        <li>\n",
            "          <article><h2 itemprop=\"name\"><a itemprop=\"url\" href=\"/thxsomuch/spit-in-my-face-2\">SPIT IN MY FACE!</a>\n",
            "by <a href=\"/thxsomuch\">ThxSoMuch</a></h2>\n",
            "published on <time pubdate>2022-11-03T07:28:18Z</time></article>\n",
            "        </li>\n",
            "        <li>\n",
            "          <article><h2 itemprop=\"name\"><a itemprop=\"url\" href=\"/meek-mill-dc/god-did\">GOD DID</a>\n",
            "by <a href=\"/meek-mill-dc\">MEEK MILL</a></h2>\n",
            "published on <time pubdate>2022-11-21T18:56:57Z</time></article>\n",
            "        </li>\n",
            "        <li>\n",
            "          <article><h2 itemprop=\"name\"><a itemprop=\"url\" href=\"/bigceoormrc4/007-chokehold\">CHOKEHOLD</a>\n",
            "by <a href=\"/bigceoormrc4\">CEO Trayle</a></h2>\n",
            "published on <time pubdate>2022-10-28T04:31:37Z</time></article>\n",
            "        </li>\n",
            "        <li>\n",
            "          <article><h2 itemprop=\"name\"><a itemprop=\"url\" href=\"/glorillapimp/unh-unh\">Unh Unh</a>\n",
            "by <a href=\"/glorillapimp\">GloRilla</a></h2>\n",
            "published on <time pubdate>2022-11-09T20:25:23Z</time></article>\n",
            "        </li>\n",
            "        <li>\n",
            "          <article><h2 itemprop=\"name\"><a itemprop=\"url\" href=\"/quavoofficial/hotel-lobby-unc-and-phew\">Quavo, Takeoff - HOTEL LOBBY (Unc &amp; Phew)</a>\n",
            "by <a href=\"/quavoofficial\">Quavo</a></h2>\n",
            "published on <time pubdate>2022-05-19T20:17:43Z</time></article>\n",
            "        </li>\n",
            "        <li>\n",
            "          <article><h2 itemprop=\"name\"><a itemprop=\"url\" href=\"/trapbrasileiroriginal/mc-poze-do-rodo-mundo-covarde-ft-oruam-album-o-sabio\">MC Poze do Rodo - &quot;Mundo Covarde&quot; ft. Oruam | Ãlbum O SÃ¡bio</a>\n",
            "by <a href=\"/trapbrasileiroriginal\">Trap Brasileiro Â® (1</a></h2>\n",
            "published on <time pubdate>2022-11-10T00:26:02Z</time></article>\n",
            "        </li>\n",
            "        <li>\n",
            "          <article><h2 itemprop=\"name\"><a itemprop=\"url\" href=\"/octobersveryown/drake-21-savage-on-bs\">Drake, 21 Savage - On BS</a>\n",
            "by <a href=\"/octobersveryown\">octobersveryown</a></h2>\n",
            "published on <time pubdate>2022-11-04T06:30:56Z</time></article>\n",
            "        </li>\n",
            "        <li>\n",
            "          <article><h2 itemprop=\"name\"><a itemprop=\"url\" href=\"/arthousemusicc/si63h7dwxmwg\">ÙÙØ±Ø¬Ø§Ù ÙØ¹Ø±ÙØ´ Ø§Ø®Ø§Ù ÙÙ Ø­Ø¯ ( Ø§Ø¯ÙØ±Øª ØµØ­ØªÙ ÙØ¨ÙØªØ´ Ø²Ù Ø²ÙØ§Ù ) Ø¹ØµØ§Ù ØµØ§ØµØ§ Ø§ÙÙØ±ÙØ§Ù - ØªÙØ²ÙØ¹ ÙÙØ³Ù Ø§ÙØ´Ø§</a>\n",
            "by <a href=\"/arthousemusicc\">ÙÙØ¬Ø²</a></h2>\n",
            "published on <time pubdate>2022-03-06T22:29:50Z</time></article>\n",
            "        </li>\n",
            "        <li>\n",
            "          <article><h2 itemprop=\"name\"><a itemprop=\"url\" href=\"/trapbrasileiroriginal/mc-poze-do-rodo-o-sabio-album-completo\">MC Poze do Rodo - &quot;O SÃ¡bio&quot; | Ãlbum Completo</a>\n",
            "by <a href=\"/trapbrasileiroriginal\">Trap Brasileiro Â® (1</a></h2>\n",
            "published on <time pubdate>2022-11-10T11:05:19Z</time></article>\n",
            "        </li>\n",
            "        <li>\n",
            "          <article><h2 itemprop=\"name\"><a itemprop=\"url\" href=\"/octobersveryown/drake-21-savage-major\">Drake, 21 Savage - Major Distribution</a>\n",
            "by <a href=\"/octobersveryown\">octobersveryown</a></h2>\n",
            "published on <time pubdate>2022-11-04T06:29:31Z</time></article>\n",
            "        </li>\n",
            "        <li>\n",
            "          <article><h2 itemprop=\"name\"><a itemprop=\"url\" href=\"/free-music-egypt/bahaa-sultan-ta3ala-adalla3ak\">Bahaa Sultan - Ta3ala Adalla3ak | Ø¨ÙØ§Ø¡ Ø³ÙØ·Ø§Ù - ØªØ¹Ø§ÙÙ Ø£Ø¯ÙØ¹Ù</a>\n",
            "by <a href=\"/free-music-egypt\">Free Music - ÙØ±Ù ÙÙÙØ²ÙÙ</a></h2>\n",
            "published on <time pubdate>2022-07-20T09:24:02Z</time></article>\n",
            "        </li>\n",
            "        <li>\n",
            "          <article><h2 itemprop=\"name\"><a itemprop=\"url\" href=\"/futureisnow/future-feat-drake-tems-wait\">Future feat. Drake &amp; Tems - WAIT FOR U</a>\n",
            "by <a href=\"/futureisnow\">Future</a></h2>\n",
            "published on <time pubdate>2022-04-27T17:23:17Z</time></article>\n",
            "        </li>\n",
            "        <li>\n",
            "          <article><h2 itemprop=\"name\"><a itemprop=\"url\" href=\"/bigceoormrc4/craxk-flow\">CRAXK FLOW</a>\n",
            "by <a href=\"/bigceoormrc4\">CEO Trayle</a></h2>\n",
            "published on <time pubdate>2022-10-31T03:58:40Z</time></article>\n",
            "        </li>\n",
            "        <li>\n",
            "          <article><h2 itemprop=\"name\"><a itemprop=\"url\" href=\"/night_lovell/eye-spy\">Eye Spy</a>\n",
            "by <a href=\"/night_lovell\">Night Lovell</a></h2>\n",
            "published on <time pubdate>2022-10-14T15:34:36Z</time></article>\n",
            "        </li>\n",
            "        <li>\n",
            "          <article><h2 itemprop=\"name\"><a itemprop=\"url\" href=\"/futureisnow/future-puffin-on-zootiez\">Future - PUFFIN ON ZOOTIEZ</a>\n",
            "by <a href=\"/futureisnow\">Future</a></h2>\n",
            "published on <time pubdate>2022-04-27T17:22:55Z</time></article>\n",
            "        </li>\n",
            "        <li>\n",
            "          <article><h2 itemprop=\"name\"><a itemprop=\"url\" href=\"/lewisfy/babydoll-x-the-perfect-girl\">Babydoll X The perfect girl ( full version)</a>\n",
            "by <a href=\"/lewisfy\">Lewisfy</a></h2>\n",
            "published on <time pubdate>2022-11-04T14:11:17Z</time></article>\n",
            "        </li>\n",
            "        <li>\n",
            "          <article><h2 itemprop=\"name\"><a itemprop=\"url\" href=\"/toniyouseftoni/ahxoxx6bq7ck\">ÙØ³Ø¹ ÙØ³Ø¹ - Ø§Ø­ÙØ¯ Ø³Ø¹Ø¯</a>\n",
            "by <a href=\"/toniyouseftoni\">â¨ Private â¡</a></h2>\n",
            "published on <time pubdate>2022-08-01T07:03:43Z</time></article>\n",
            "        </li>\n",
            "        <li>\n",
            "          <article><h2 itemprop=\"name\"><a itemprop=\"url\" href=\"/glorillapimp/tomorrow-2-with-cardi-b\">Tomorrow 2 (with Cardi B)</a>\n",
            "by <a href=\"/glorillapimp\">GloRilla</a></h2>\n",
            "published on <time pubdate>2022-09-20T20:22:36Z</time></article>\n",
            "        </li>\n",
            "        <li>\n",
            "          <article><h2 itemprop=\"name\"><a itemprop=\"url\" href=\"/chris_brown/under-the-influence\">Under The Influence</a>\n",
            "by <a href=\"/chris_brown\">Chris_Brown</a></h2>\n",
            "published on <time pubdate>2019-10-01T19:11:21Z</time></article>\n",
            "        </li>\n",
            "        <li>\n",
            "          <article><h2 itemprop=\"name\"><a itemprop=\"url\" href=\"/muslimmusico/yala-neft7-el-7esab\">Ø§Ø­ÙØ¯ ÙÙØ²Ø© Ù Ø¹ØµØ§Ù ØµØ§ØµØ§ - ÙÙØ§ ÙÙØªØ­ Ø§ÙØ­Ø³Ø§Ø¨ 2022</a>\n",
            "by <a href=\"/muslimmusico\">Marwan Pablo - Barbary | ÙØ±ÙØ§Ù Ø¨Ø§Ø¨ÙÙ - Ø¨Ø±Ø¨Ø±Ù</a></h2>\n",
            "published on <time pubdate>2021-12-10T19:18:04Z</time></article>\n",
            "        </li>\n",
            "    </ol>\n",
            "  </section>\n",
            "</section>\n",
            "</noscript>\n",
            "<style>#updateBrowserMessage{width:600px;margin:0 auto;position:relative;padding-top:410px;background:url(https://a-v2.sndcdn.com/assets/images/errors/browser-9cdd4e6df7.png) no-repeat 50% 130px;text-align:center;display:none}#updateBrowserMessage .messageText{line-height:26px;font-size:20px;margin-bottom:5px}#updateBrowserMessage .downloadLinks{margin-top:0}</style>\n",
            "<div id=\"updateBrowserMessage\">\n",
            "<p class=\"messageText sc-text-light sc-text-secondary\">\n",
            "Your current browser isn't compatible with SoundCloud. <br>\n",
            "Please download one of our supported browsers.\n",
            "<a href=\"https://help.soundcloud.com/hc/articles/115003564308-Technical-requirements\">Need help?</a>\n",
            "</p>\n",
            "<div class=\"downloadLinks sc-type-h3 sc-text-h3 sc-text-light sc-text-secondary\">\n",
            "<a href=\"http://google.com/chrome\" target=\"_blank\" title=\"Chrome\">Chrome</a>\n",
            "| <a href=\"http://firefox.com\" target=\"_blank\" title=\"Firefox\">Firefox</a> |\n",
            "<a href=\"http://apple.com/safari\" target=\"_blank\" title=\"Safari\">Safari</a>\n",
            "|\n",
            "<a href=\"https://www.microsoft.com/edge\" target=\"_blank\" title=\"Edge\">Edge</a>\n",
            "</div>\n",
            "</div>\n",
            "<script>window.__sc_abortApp&&(window.document.getElementById(\"updateBrowserMessage\").style.display=\"block\")</script>\n",
            "<div id=\"error__timeout\" class=\"errorPage__inner sc-hidden\">\n",
            "<p class=\"errorTitle sc-type-h1 sc-text-h1\">Sorry! Something went wrong</p>\n",
            "<div class=\"errorText sc-font-light\">\n",
            "<p>Is your network connection unstable or browser outdated?</p>\n",
            "</div>\n",
            "<div class=\"errorButtons\">\n",
            "<a class=\"sc-button\" href=\"https://help.soundcloud.com\" target=\"_blank\" id=\"try-again\">I need help</a>\n",
            "</div>\n",
            "</div>\n",
            "<script>function displayError(){if(!window.__sc_abortApp){var r=window.document,e=r.getElementById(\"error__timeout\"),o=r.getElementById(\"header__loading\");e&&o&&(e.className=\"errorPage__inner\",o.className=\"sc-hidden\")}}window.setTimeout(displayError,15e3),window.onerror=displayError</script>\n",
            "<p>\n",
            "<a href=\"/popular/searches\" title=\"Popular searches\">Popular searches</a>\n",
            "</p>\n",
            "</div>\n",
            "<script crossorigin src=\"https://a-v2.sndcdn.com/assets/53-aed4402d.js\"></script>\n",
            "<script crossorigin src=\"https://a-v2.sndcdn.com/assets/51-e25a3a14.js\"></script>\n",
            "<script\n",
            "  async\n",
            "  src=\"https://cdn.cookielaw.org/consent/7e62c772-c97a-4d95-8d0a-f99bbeadcf61/otSDKStub.js\"\n",
            "  type=\"text/javascript\"\n",
            "  charset=\"UTF-8\"\n",
            "  data-domain-script=\"7e62c772-c97a-4d95-8d0a-f99bbeadcf61\"\n",
            "></script>\n",
            "<style>\n",
            "  body.ot-hide-banner #onetrust-banner-sdk {\n",
            "    visibility: hidden;\n",
            "    transform: translateY(110%);\n",
            "  }\n",
            "  #onetrust-banner-sdk {\n",
            "    transition: transform 1s ease 200ms;\n",
            "    transform: translateY(0%);\n",
            "  }\n",
            "  body.ot-hide-banner .onetrust-pc-dark-filter {\n",
            "    background: initial;\n",
            "    width: initial;\n",
            "    height: initial;\n",
            "    overflow: initial;\n",
            "    position: initial;\n",
            "  }\n",
            "</style>\n",
            "<script type=\"text/javascript\">\n",
            "  (function (global) {\n",
            "    function OptanonWrapper() {\n",
            "      var activeGroups = (global.OptanonActiveGroups || '').split(',');\n",
            "\n",
            "      if (Array.isArray(OptanonWrapper.callbacks)) {\n",
            "        for (var i = 0, max = OptanonWrapper.callbacks.length; i < max; i++) {\n",
            "          try {\n",
            "            OptanonWrapper.callbacks[i](activeGroups);\n",
            "          } catch (e) {}\n",
            "        }\n",
            "      }\n",
            "\n",
            "      OptanonWrapper.isLoaded = true;\n",
            "    };\n",
            "\n",
            "    OptanonWrapper.callbacks = [];\n",
            "    OptanonWrapper.isLoaded = false;\n",
            "\n",
            "    global.OptanonWrapper = OptanonWrapper;\n",
            "  }(window));\n",
            "</script>\n",
            "\n",
            "<script>window.__sc_version=\"1669893788\"</script>\n",
            "<script>window.__sc_hydration = [{\"hydratable\":\"anonymousId\",\"data\":\"706811-649206-638142-221595\"},{\"hydratable\":\"features\",\"data\":{\"features\":[\"mobi_use_onetrust_gb\",\"v2_enable_onetrust_user_id\",\"v2_use_onetrust_tcfv2_eu1\",\"cd_repost_to_artists\",\"v2_use_updated_alert_banner_quota_upsell\",\"checkout_use_new_plan_picker\",\"v2_use_onetrust_eu2\",\"mobi_enable_onetrust_tcfv2\",\"mobi_tracking_send_session_id\",\"mobi_use_onetrust_eu1\",\"v2_use_onetrust_user_id_eu2\",\"v2_enable_sourcepoint_tcfv2\",\"mobi_peace_ukraine_logo_takeover\",\"mobi_use_auth_internal_analytics\",\"v2_peace_ukraine_logo_takeover\",\"mobi_use_onetrust_tcfv2_eu2\",\"v2_test_feature_toggle\",\"checkout_send_segment_events_to_event_gateway\",\"mobi_use_onetrust_user_id_eu1\",\"mobi_enable_onetrust_user_id\",\"mobi_use_onetrust_user_id_ex_us\",\"mobi_use_onetrust_tcfv2_eu1\",\"v2_post_with_caption\",\"mobi_use_onetrust_eu4\",\"featured_artists_banner\",\"v2_repost_redirect_page\",\"v2_use_onetrust_gb\",\"mobi_use_onetrust_user_id_global\",\"use_onetrust_async\",\"v2_signals_collection\",\"v2_track_level_distro_to_plan_picker\",\"v2_direct_support_link\",\"v2_api_auth_sign_out\",\"v2_ie11_support_end\",\"v2_hq_file_storage_release\",\"mobi_use_onetrust_user_id_eu2\",\"creator_plan_names_repositioning\",\"v2_use_onetrust_eu4\",\"v2_stories_onboarding\",\"v2_enable_onetrust\",\"v2_import_playlist_experiment\",\"v2_disable_sidebar_comments_count\",\"v2_use_onetrust_us\",\"checkout_use_recurly_with_paypal\",\"v2_use_onetrust_tcfv2_ex_us\",\"mobi_use_onetrust_eu3\",\"mobi_use_onetrust_elsewhere\",\"v2_use_onetrust_eu3\",\"mobi_use_onetrust_us\",\"v2_oscp_german_tax_fields_support\",\"v2_use_onetrust_user_id_ex_us\",\"v2_use_new_connect\",\"v2_use_onetrust_tcfv2_eu2\",\"v2_send_segment_events_to_event_gateway\",\"v2_use_onetrust_eu1\",\"v2_enable_sourcepoint\",\"v2_repost_with_caption_graphql\",\"next_pro_annual_discount_promotion_2022\",\"mobi_use_onetrust_tcfv2_ex_us\",\"v2_tags_recent_tracks\",\"mobi_use_onetrust_eu2\",\"v2_use_onetrust_elsewhere\",\"v2_webauth_use_local_tracking\",\"mobi_sign_in_experiment\",\"mobi_enable_onetrust\",\"v2_can_see_insights\",\"mobi_trinity\",\"v2_webauth_oauth_mode\",\"v2_google_one_tap\",\"v2_enable_pwa\",\"mobi_use_hls_hack\",\"v2_stories\",\"v2_use_onetrust_user_id_eu1\",\"v2_use_onetrust_user_id_global\",\"use_recurly_checkout\",\"v2_show_side_by_side_upsell_experience\",\"v2_enable_onetrust_tcfv2\",\"v2_enable_tcfv2_consent_string_cache\",\"mobi_send_segment_events_to_event_gateway\",\"use_on_soundcloud_short_links\"]}},{\"hydratable\":\"experiments\",\"data\":{}},{\"hydratable\":\"geoip\",\"data\":{\"country_code\":\"US\",\"country_name\":\"United States\",\"region\":\"SC\",\"city\":\"North Charleston\",\"postal_code\":\"29415\",\"latitude\":32.8608,\"longitude\":-79.9746}},{\"hydratable\":\"privacySettings\",\"data\":{\"allows_messages_from_unfollowed_users\":false,\"analytics_opt_in\":true,\"communications_opt_in\":true,\"targeted_advertising_opt_in\":false,\"legislation\":[]}},{\"hydratable\":\"trackingBrowserTabId\",\"data\":\"1875fc\"}];</script>\n",
            "\n",
            "\n",
            "\n",
            "<script src=\"https://a-v2.sndcdn.com/assets/8-fe1ef83f.js\" crossorigin></script>\n",
            "<script crossorigin src=\"https://a-v2.sndcdn.com/assets/52-11a18771.js\"></script>\n",
            "<script crossorigin src=\"https://a-v2.sndcdn.com/assets/1-149cf3c1.js\"></script>\n",
            "<script crossorigin src=\"https://a-v2.sndcdn.com/assets/3-87e70f20.js\"></script>\n",
            "<script crossorigin src=\"https://a-v2.sndcdn.com/assets/2-bd40b412.js\"></script>\n",
            "<script crossorigin src=\"https://a-v2.sndcdn.com/assets/0-3cc118fa.js\"></script>\n",
            "<script crossorigin src=\"https://a-v2.sndcdn.com/assets/50-f54944a9.js\"></script>\n",
            "</body>\n",
            "</html>\n",
            "\n"
          ]
        }
      ]
    },
    {
      "cell_type": "code",
      "source": [
        "import json\n",
        "\n",
        "# Note that this file does not need to exist yet\n",
        "# We will create later when we save the cache\n",
        "CACHE_FILENAME = 'cache.json'\n",
        "\n",
        "def open_cache():\n",
        "    try:\n",
        "        cache_file = open(CACHE_FILENAME, 'r')\n",
        "        cache_contents = cache_file.read()\n",
        "        cache_dict = json.loads(cache_contents)\n",
        "        cache_file.close()\n",
        "    except:\n",
        "        cache_dict = {}\n",
        "\n",
        "    return cache_dict"
      ],
      "metadata": {
        "id": "6A-IIv3Bb-g_"
      },
      "execution_count": 3,
      "outputs": []
    },
    {
      "cell_type": "code",
      "source": [
        "import json\n",
        "\n",
        "def save_cache(cache_dict):\n",
        "    dumped_json_cache = json.dumps(cache_dict, indent=2)\n",
        "    fw = open(CACHE_FILENAME,\"w\")\n",
        "    fw.write(dumped_json_cache)\n",
        "    fw.close()\n",
        "    return None"
      ],
      "metadata": {
        "id": "u9Mc7fbjcBXU"
      },
      "execution_count": 4,
      "outputs": []
    },
    {
      "cell_type": "code",
      "source": [
        "import requests\n",
        "\n",
        "def request_with_cache(url):\n",
        "    cache_dict = open_cache()\n",
        "    if url in cache_dict.keys():\n",
        "        print('Fetching from cache...')\n",
        "        return cache_dict[url]\n",
        "    else:\n",
        "        print('Fetching new data...')\n",
        "        r = requests.get(url)\n",
        "        html = r.text\n",
        "        cache_dict[url] = html\n",
        "        save_cache(cache_dict)\n",
        "        return html"
      ],
      "metadata": {
        "id": "y1_Yo_ufcDjV"
      },
      "execution_count": 5,
      "outputs": []
    },
    {
      "cell_type": "code",
      "source": [
        "import requests\n",
        "from bs4 import BeautifulSoup\n",
        "\n",
        "# Use our function from earlier\n",
        "html = request_with_cache(BASE_URL)\n",
        "soup = BeautifulSoup(html, \"html.parser\")\n",
        "\n",
        "# Find all links\n",
        "all_links = soup.find_all('a')\n",
        "print(all_links)"
      ],
      "metadata": {
        "colab": {
          "base_uri": "https://localhost:8080/"
        },
        "id": "D4DXIwMKcFAO",
        "outputId": "227153e8-3116-4cc3-be82-d2e42726fc41"
      },
      "execution_count": 6,
      "outputs": [
        {
          "output_type": "stream",
          "name": "stdout",
          "text": [
            "Fetching new data...\n",
            "[<a class=\"header__logoLink sc-border-box sc-ir\" href=\"/\" title=\"Home\">\n",
            "<svg aria-hidden=\"true\" viewbox=\"0 0 143 64\" xmlns=\"http://www.w3.org/2000/svg\">\n",
            "<path d=\"M308.984235,1169.99251 C308.382505,1180.70295 299.444837,1189.03525 288.718543,1188.88554 L240.008437,1188.88554 C237.777524,1188.86472 235.977065,1187.05577 235.966737,1184.82478 L235.966737,1132.37801 C235.894282,1130.53582 236.962478,1128.83883 238.654849,1128.10753 C238.654849,1128.10753 243.135035,1124.99996 252.572022,1124.99996 C258.337036,1124.99309 263.996267,1126.54789 268.948531,1129.49925 C276.76341,1134.09703 282.29495,1141.75821 284.200228,1150.62285 C285.880958,1150.14737 287.620063,1149.90993 289.36674,1149.91746 C294.659738,1149.88414 299.738952,1152.0036 303.438351,1155.78928 C307.13775,1159.57496 309.139562,1164.70168 308.984235,1169.99251 Z M229.885123,1135.69525 C231.353099,1153.48254 232.420718,1169.70654 229.885123,1187.43663 C229.796699,1188.23857 229.119091,1188.84557 228.312292,1188.84557 C227.505494,1188.84557 226.827885,1188.23857 226.739461,1187.43663 C224.375448,1169.85905 225.404938,1153.33003 226.739461,1135.69525 C226.672943,1135.09199 226.957336,1134.50383 227.471487,1134.18133 C227.985639,1133.85884 228.638946,1133.85884 229.153097,1134.18133 C229.667248,1134.50383 229.951641,1135.09199 229.885123,1135.69525 Z M220.028715,1187.4557 C219.904865,1188.26549 219.208361,1188.86356 218.389157,1188.86356 C217.569953,1188.86356 216.87345,1188.26549 216.7496,1187.4557 C214.986145,1172.28686 214.986145,1156.96477 216.7496,1141.79593 C216.840309,1140.9535 217.551388,1140.31488 218.398689,1140.31488 C219.245991,1140.31488 219.95707,1140.9535 220.047779,1141.79593 C222.005153,1156.95333 221.998746,1172.29994 220.028715,1187.4557 Z M210.153241,1140.2517 C211.754669,1156.55195 212.479125,1171.15545 210.134176,1187.41757 C210.134176,1188.29148 209.425728,1188.99993 208.551813,1188.99993 C207.677898,1188.99993 206.969449,1188.29148 206.969449,1187.41757 C204.70076,1171.36516 205.463344,1156.34224 206.969449,1140.2517 C207.05845,1139.43964 207.744425,1138.82474 208.561345,1138.82474 C209.378266,1138.82474 210.06424,1139.43964 210.153241,1140.2517 Z M200.258703,1187.47476 C200.169129,1188.29694 199.474788,1188.91975 198.647742,1188.91975 C197.820697,1188.91975 197.126356,1188.29694 197.036782,1187.47476 C195.216051,1173.32359 195.216051,1158.99744 197.036782,1144.84627 C197.036782,1143.94077 197.770837,1143.20671 198.676339,1143.20671 C199.581842,1143.20671 200.315897,1143.94077 200.315897,1144.84627 C202.251054,1158.99121 202.231809,1173.33507 200.258703,1187.47476 Z M190.383229,1155.50339 C192.880695,1166.56087 191.755882,1176.32196 190.287906,1187.58915 C190.168936,1188.33924 189.522207,1188.89148 188.762737,1188.89148 C188.003266,1188.89148 187.356537,1188.33924 187.237567,1187.58915 C185.903044,1176.47448 184.797296,1166.48462 187.142244,1155.50339 C187.142244,1154.60842 187.867763,1153.8829 188.762737,1153.8829 C189.65771,1153.8829 190.383229,1154.60842 190.383229,1155.50339 Z M180.526821,1153.82571 C182.814575,1165.15009 182.071055,1174.7396 180.469627,1186.10211 C180.27898,1187.7798 177.400223,1187.79886 177.247706,1186.10211 C175.798795,1174.91118 175.112468,1165.0357 177.190512,1153.82571 C177.281785,1152.97315 178.001234,1152.32661 178.858666,1152.32661 C179.716099,1152.32661 180.435548,1152.97315 180.526821,1153.82571 Z M170.575089,1159.31632 C172.977231,1166.82778 172.157452,1172.92846 170.479765,1180.63056 C170.391921,1181.42239 169.722678,1182.02149 168.925999,1182.02149 C168.12932,1182.02149 167.460077,1181.42239 167.372232,1180.63056 C165.923321,1173.08097 165.332318,1166.84684 167.23878,1159.31632 C167.330053,1158.46376 168.049502,1157.81722 168.906934,1157.81722 C169.764367,1157.81722 170.483816,1158.46376 170.575089,1159.31632 Z\" fill=\"currentColor\" transform=\"translate(-166.000000, -1125.000000)\"></path>\n",
            "</svg>\n",
            "SoundCloud\n",
            "</a>, <a class=\"sc-button sc-button-medium\" href=\"http://www.enable-javascript.com/\" target=\"_blank\">Show me how to enable it</a>, <a href=\"/charts/top?genre=all-music\">Top 50</a>, <a href=\"/charts/new?genre=all-music\">New &amp; hot</a>, <a href=\"/charts/top?genre=all-music\">All music genres</a>, <a href=\"/charts/top?genre=all-audio\">All audio genres</a>, <a href=\"/charts/top?genre=alternativerock\">Alternative Rock</a>, <a href=\"/charts/top?genre=ambient\">Ambient</a>, <a href=\"/charts/top?genre=classical\">Classical</a>, <a href=\"/charts/top?genre=country\">Country</a>, <a href=\"/charts/top?genre=danceedm\">Dance &amp; EDM</a>, <a href=\"/charts/top?genre=dancehall\">Dancehall</a>, <a href=\"/charts/top?genre=deephouse\">Deep House</a>, <a href=\"/charts/top?genre=disco\">Disco</a>, <a href=\"/charts/top?genre=drumbass\">Drum &amp; Bass</a>, <a href=\"/charts/top?genre=dubstep\">Dubstep</a>, <a href=\"/charts/top?genre=electronic\">Electronic</a>, <a href=\"/charts/top?genre=folksingersongwriter\">Folk &amp; Singer-Songwriter</a>, <a href=\"/charts/top?genre=hiphoprap\">Hip-hop &amp; Rap</a>, <a href=\"/charts/top?genre=house\">House</a>, <a href=\"/charts/top?genre=indie\">Indie</a>, <a href=\"/charts/top?genre=jazzblues\">Jazz &amp; Blues</a>, <a href=\"/charts/top?genre=latin\">Latin</a>, <a href=\"/charts/top?genre=metal\">Metal</a>, <a href=\"/charts/top?genre=piano\">Piano</a>, <a href=\"/charts/top?genre=pop\">Pop</a>, <a href=\"/charts/top?genre=rbsoul\">R&amp;B &amp; Soul</a>, <a href=\"/charts/top?genre=reggae\">Reggae</a>, <a href=\"/charts/top?genre=reggaeton\">Reggaeton</a>, <a href=\"/charts/top?genre=rock\">Rock</a>, <a href=\"/charts/top?genre=soundtrack\">Soundtrack</a>, <a href=\"/charts/top?genre=techno\">Techno</a>, <a href=\"/charts/top?genre=trance\">Trance</a>, <a href=\"/charts/top?genre=trap\">Trap</a>, <a href=\"/charts/top?genre=triphop\">Triphop</a>, <a href=\"/charts/top?genre=world\">World</a>, <a href=\"/charts/top?genre=audiobooks\">Audiobooks</a>, <a href=\"/charts/top?genre=business\">Business</a>, <a href=\"/charts/top?genre=comedy\">Comedy</a>, <a href=\"/charts/top?genre=entertainment\">Entertainment</a>, <a href=\"/charts/top?genre=learning\">Learning</a>, <a href=\"/charts/top?genre=newspolitics\">News &amp; Politics</a>, <a href=\"/charts/top?genre=religionspirituality\">Religion &amp; Spirituality</a>, <a href=\"/charts/top?genre=science\">Science</a>, <a href=\"/charts/top?genre=sports\">Sports</a>, <a href=\"/charts/top?genre=storytelling\">Storytelling</a>, <a href=\"/charts/top?genre=technology\">Technology</a>, <a href=\"/liluzivert/lil-uzi-vert-just-wanna-rock\" itemprop=\"url\">Lil Uzi Vert - Just Wanna Rock</a>, <a href=\"/liluzivert\">Lil Uzi Vert</a>, <a href=\"/octobersveryown/drake-21-savage-rich-flex\" itemprop=\"url\">Drake, 21 Savage - Rich Flex</a>, <a href=\"/octobersveryown\">octobersveryown</a>, <a href=\"/a8ani2/ywgpwvb1gsyr\" itemprop=\"url\">ÙØ³ÙÙ Ø¬ÙØ¨ Ø§ÙØ³Ø§ÙÙ ÙÙÙÙÙ ÙØ£Ø¬ÙÙÙ Ø§ÙØ§ Ø¬ÙØ¨Ù ØµØ§Ø­Ø¨Ù ÙØ­Ø¨ÙØ¨Ù</a>, <a href=\"/a8ani2\">Sasa</a>, <a href=\"/a8ani2/pxphroz3omzp\" itemprop=\"url\">ÙØ±ÙØ¯ - Ø¨Ø£ÙØ§Ø±Ø© ÙÙÙ (ÙÙ Ø¬Ø§Ù ÙÙ Ø±Ø¬ÙØ¹ Ø¥ÙØ³Ø§ÙÙ)</a>, <a href=\"/a8ani2\">Sasa</a>, <a href=\"/futureisnow/og-dayv-future-limoncello\" itemprop=\"url\">OG DAYV, Future - Limoncello</a>, <a href=\"/futureisnow\">Future</a>, <a href=\"/muslimmusico/hhjavql9rqmd\" itemprop=\"url\">ÙÙØ±Ø¬Ø§Ù Ø¹Ø±Ù ÙØ§ÙÙ Ø¹Ø§ÙÙ ÙØºØ§ÙØ± ( Ø¨Øª Ø§ÙØªÙ Ø­Ø¨ Ø­ÙØ§ØªÙ ) Ø¹ØµØ§Ù ØµØ§ØµØ§ Ø§ÙÙØ±ÙØ§Ù - ØªÙØ²ÙØ¹ ÙÙØ³Ù Ø§ÙØ´Ø§</a>, <a href=\"/muslimmusico\">Marwan Pablo - Barbary | ÙØ±ÙØ§Ù Ø¨Ø§Ø¨ÙÙ - Ø¨Ø±Ø¨Ø±Ù</a>, <a href=\"/trapbrasileiroriginal/orochi-ft-mc-ryan-sp-xama-oruam-sereia\" itemprop=\"url\">Orochi \"SEREIA\"ð§ð¼ââï¸ feat. MC Ryan SP, XamÃ£, Oruam (prod. NeoBeats, Kizzy)</a>, <a href=\"/trapbrasileiroriginal\">Trap Brasileiro Â® (1</a>, <a href=\"/a8ani2/gmgmg\" itemprop=\"url\">ÙÙØ±Ø¬Ø§Ù ÙØ¯Ù ÙÙ ÙÙØ¨Ù Ø·ÙÙÙ ( ÙÙ Ø¹ÙØ²Øª ØªÙÙÙÙÙ ) Ø¹ØµØ§Ù ØµØ§ØµØ§ Ø§ÙÙØ±ÙØ§Ù - ØªÙØ²ÙØ¹ ÙÙØ³Ù Ø§ÙØ´Ø§</a>, <a href=\"/a8ani2\">Sasa</a>, <a href=\"/free-music-egypt/ana-ghaltan\" itemprop=\"url\">Bahaa Sultan - Ana Ghaltan | Ø¨ÙØ§Ø¡ Ø³ÙØ·Ø§Ù - Ø£ÙØ§ ØºÙØ·Ø§Ù</a>, <a href=\"/free-music-egypt\">Free Music - ÙØ±Ù ÙÙÙØ²ÙÙ</a>, <a href=\"/doja-alshaafi/hwr1hh5azjjd\" itemprop=\"url\">Ø±ØµÙØ¯ Ø§ÙØ³ØªØ± ÙØ­ÙØ¯ Ø´Ø§ÙÙÙ</a>, <a href=\"/doja-alshaafi\">DEEJA ð¨ð¾</a>, <a href=\"/jasminelkhateeb/2022a-2\" itemprop=\"url\">Ø£Ø­ÙØ¯ Ø³Ø¹Ø¯ / Ø§ÙÙÙÙ Ø§ÙØ­ÙÙ Ø¯Ù / ÙÙ ÙÙÙÙ Ø¹ÙÙÙ 2022</a>, <a href=\"/jasminelkhateeb\">Jasmin@AlKhateebð</a>, <a href=\"/d4vddd/romantic-homicide\" itemprop=\"url\">Romantic Homicide</a>, <a href=\"/d4vddd\">d4vd (@d4vddd)</a>, <a href=\"/oruammc/horas-iguais-wiu-oruauuj\" itemprop=\"url\">Horas Iguais ð°ï¸ð - WIU &amp; Oruam</a>, <a href=\"/oruammc\">oruam</a>, <a href=\"/lil-kizzle/dont-step-1\" itemprop=\"url\">Don't Step</a>, <a href=\"/lil-kizzle\">Lil Kizzle</a>, <a href=\"/myabandonedhome/snowfall-w-oneheart\" itemprop=\"url\">snowfall w/ Ãneheart</a>, <a href=\"/myabandonedhome\">reidenshi</a>, <a href=\"/trapbrasileiro03/poesia-acustica-13-mc-cabelinhotz-da-coroneloruaml7nnonchefinninachrisxamaluisa-sonza\" itemprop=\"url\">Poesia AcÃºstica 13 - MC Cabelinho,Tz da Coronel,Oruam,L7NNON,Chefin,N.I.N.A,Chris,XamÃ£,Luisa Sonza</a>, <a href=\"/trapbrasileiro03\">Trap Brasileiro Â® (3</a>, <a href=\"/uiceheidd/in-my-head\" itemprop=\"url\">In My Head</a>, <a href=\"/uiceheidd\">Juice WRLD</a>, <a href=\"/lilyeat/out-the-way\" itemprop=\"url\">Out thÃ« way</a>, <a href=\"/lilyeat\">Yeat</a>, <a href=\"/nevi_nevi_nevi/patience\" itemprop=\"url\">Patience</a>, <a href=\"/nevi_nevi_nevi\">Nevi</a>, <a href=\"/olivertree/miss-you\" itemprop=\"url\">Oliver Tree &amp; Robin Schulz - Miss You</a>, <a href=\"/olivertree\">Oliver Tree</a>, <a href=\"/666astra666-ffdd/metamorphosis\" itemprop=\"url\">METAMORPHOSIS</a>, <a href=\"/666astra666-ffdd\">INTERWORLD</a>, <a href=\"/behani/behani-ne-yo-real-man\" itemprop=\"url\">Behani &amp; Ne-Yo - Real Man</a>, <a href=\"/behani\">Behani</a>, <a href=\"/lionelwavyy/one-night-stand\" itemprop=\"url\">One Night Stand</a>, <a href=\"/lionelwavyy\">Lonnie</a>, <a href=\"/zizo-salamony/njdl8f1gfhyx\" itemprop=\"url\">Ø¹ØµØ§Ù ØµØ§ØµØ§ ÙØ¹ÙØ¨Ù</a>, <a href=\"/zizo-salamony\">âª ZÍ¡Íðððð ð¤´</a>, <a href=\"/user-894394120-615016070/we-are-the-people-remix\" itemprop=\"url\">We Are The People (southstar remix)</a>, <a href=\"/user-894394120-615016070\">southstar</a>, <a href=\"/steevlacy/bad-habit\" itemprop=\"url\">Bad Habit</a>, <a href=\"/steevlacy\">Steve Lacy</a>, <a href=\"/glorillapimp/nut-quick\" itemprop=\"url\">Nut Quick</a>, <a href=\"/glorillapimp\">GloRilla</a>, <a href=\"/kordhell/murder-in-my-mind\" itemprop=\"url\">MURDER IN MY MIND</a>, <a href=\"/kordhell\">KORDHELL</a>, <a href=\"/a8ani2/04mioehzjfdt\" itemprop=\"url\">Ø±Ø¶Ø§ Ø§ÙØ¨Ø­Ø±Ø§ÙÙ - Ø§ÙØ§ØºÙÙØ© Ø§ÙÙÙ ÙØ³Ø±Øª Ø§ÙØªÙÙ ØªÙÙ ( ÙØ­Ø¯Ø´ ÙÙÙ Ø®ÙØ± Ø¹ÙÙØ§ - ÙØ§Ø³ ÙÙÙ ÙÙÙ Ø¯ÙÙ ) ØªÙØ²ÙØ¹ Ø­Ø³Ø§Ù ÙØ§Ø±ÙÙ</a>, <a href=\"/a8ani2\">Sasa</a>, <a href=\"/thxsomch/spit-in-my-face\" itemprop=\"url\">SPIT IN MY FACE!</a>, <a href=\"/thxsomch\">ThxSoMch</a>, <a href=\"/thxsomuch/spit-in-my-face-2\" itemprop=\"url\">SPIT IN MY FACE!</a>, <a href=\"/thxsomuch\">ThxSoMuch</a>, <a href=\"/meek-mill-dc/god-did\" itemprop=\"url\">GOD DID</a>, <a href=\"/meek-mill-dc\">MEEK MILL</a>, <a href=\"/bigceoormrc4/007-chokehold\" itemprop=\"url\">CHOKEHOLD</a>, <a href=\"/bigceoormrc4\">CEO Trayle</a>, <a href=\"/glorillapimp/unh-unh\" itemprop=\"url\">Unh Unh</a>, <a href=\"/glorillapimp\">GloRilla</a>, <a href=\"/quavoofficial/hotel-lobby-unc-and-phew\" itemprop=\"url\">Quavo, Takeoff - HOTEL LOBBY (Unc &amp; Phew)</a>, <a href=\"/quavoofficial\">Quavo</a>, <a href=\"/trapbrasileiroriginal/mc-poze-do-rodo-mundo-covarde-ft-oruam-album-o-sabio\" itemprop=\"url\">MC Poze do Rodo - \"Mundo Covarde\" ft. Oruam | Ãlbum O SÃ¡bio</a>, <a href=\"/trapbrasileiroriginal\">Trap Brasileiro Â® (1</a>, <a href=\"/octobersveryown/drake-21-savage-on-bs\" itemprop=\"url\">Drake, 21 Savage - On BS</a>, <a href=\"/octobersveryown\">octobersveryown</a>, <a href=\"/arthousemusicc/si63h7dwxmwg\" itemprop=\"url\">ÙÙØ±Ø¬Ø§Ù ÙØ¹Ø±ÙØ´ Ø§Ø®Ø§Ù ÙÙ Ø­Ø¯ ( Ø§Ø¯ÙØ±Øª ØµØ­ØªÙ ÙØ¨ÙØªØ´ Ø²Ù Ø²ÙØ§Ù ) Ø¹ØµØ§Ù ØµØ§ØµØ§ Ø§ÙÙØ±ÙØ§Ù - ØªÙØ²ÙØ¹ ÙÙØ³Ù Ø§ÙØ´Ø§</a>, <a href=\"/arthousemusicc\">ÙÙØ¬Ø²</a>, <a href=\"/trapbrasileiroriginal/mc-poze-do-rodo-o-sabio-album-completo\" itemprop=\"url\">MC Poze do Rodo - \"O SÃ¡bio\" | Ãlbum Completo</a>, <a href=\"/trapbrasileiroriginal\">Trap Brasileiro Â® (1</a>, <a href=\"/octobersveryown/drake-21-savage-major\" itemprop=\"url\">Drake, 21 Savage - Major Distribution</a>, <a href=\"/octobersveryown\">octobersveryown</a>, <a href=\"/free-music-egypt/bahaa-sultan-ta3ala-adalla3ak\" itemprop=\"url\">Bahaa Sultan - Ta3ala Adalla3ak | Ø¨ÙØ§Ø¡ Ø³ÙØ·Ø§Ù - ØªØ¹Ø§ÙÙ Ø£Ø¯ÙØ¹Ù</a>, <a href=\"/free-music-egypt\">Free Music - ÙØ±Ù ÙÙÙØ²ÙÙ</a>, <a href=\"/futureisnow/future-feat-drake-tems-wait\" itemprop=\"url\">Future feat. Drake &amp; Tems - WAIT FOR U</a>, <a href=\"/futureisnow\">Future</a>, <a href=\"/bigceoormrc4/craxk-flow\" itemprop=\"url\">CRAXK FLOW</a>, <a href=\"/bigceoormrc4\">CEO Trayle</a>, <a href=\"/night_lovell/eye-spy\" itemprop=\"url\">Eye Spy</a>, <a href=\"/night_lovell\">Night Lovell</a>, <a href=\"/futureisnow/future-puffin-on-zootiez\" itemprop=\"url\">Future - PUFFIN ON ZOOTIEZ</a>, <a href=\"/futureisnow\">Future</a>, <a href=\"/lewisfy/babydoll-x-the-perfect-girl\" itemprop=\"url\">Babydoll X The perfect girl ( full version)</a>, <a href=\"/lewisfy\">Lewisfy</a>, <a href=\"/toniyouseftoni/ahxoxx6bq7ck\" itemprop=\"url\">ÙØ³Ø¹ ÙØ³Ø¹ - Ø§Ø­ÙØ¯ Ø³Ø¹Ø¯</a>, <a href=\"/toniyouseftoni\">â¨ Private â¡</a>, <a href=\"/glorillapimp/tomorrow-2-with-cardi-b\" itemprop=\"url\">Tomorrow 2 (with Cardi B)</a>, <a href=\"/glorillapimp\">GloRilla</a>, <a href=\"/chris_brown/under-the-influence\" itemprop=\"url\">Under The Influence</a>, <a href=\"/chris_brown\">Chris_Brown</a>, <a href=\"/muslimmusico/yala-neft7-el-7esab\" itemprop=\"url\">Ø§Ø­ÙØ¯ ÙÙØ²Ø© Ù Ø¹ØµØ§Ù ØµØ§ØµØ§ - ÙÙØ§ ÙÙØªØ­ Ø§ÙØ­Ø³Ø§Ø¨ 2022</a>, <a href=\"/muslimmusico\">Marwan Pablo - Barbary | ÙØ±ÙØ§Ù Ø¨Ø§Ø¨ÙÙ - Ø¨Ø±Ø¨Ø±Ù</a>, <a href=\"https://help.soundcloud.com/hc/articles/115003564308-Technical-requirements\">Need help?</a>, <a href=\"http://google.com/chrome\" target=\"_blank\" title=\"Chrome\">Chrome</a>, <a href=\"http://firefox.com\" target=\"_blank\" title=\"Firefox\">Firefox</a>, <a href=\"http://apple.com/safari\" target=\"_blank\" title=\"Safari\">Safari</a>, <a href=\"https://www.microsoft.com/edge\" target=\"_blank\" title=\"Edge\">Edge</a>, <a class=\"sc-button\" href=\"https://help.soundcloud.com\" id=\"try-again\" target=\"_blank\">I need help</a>, <a href=\"/popular/searches\" title=\"Popular searches\">Popular searches</a>]\n"
          ]
        }
      ]
    },
    {
      "cell_type": "code",
      "source": [
        "import re\n",
        "# Links to all genres (e.g. alternativerock, dancehall)\n",
        "category_links = soup.find_all('a', href=re.compile(\"^(/charts/top)((?!all-).)*$\"))\n",
        "print(category_links)"
      ],
      "metadata": {
        "colab": {
          "base_uri": "https://localhost:8080/"
        },
        "id": "mwBcfUGZcITU",
        "outputId": "3977ac1b-80e8-4b34-eede-128e35a06c90"
      },
      "execution_count": 7,
      "outputs": [
        {
          "output_type": "stream",
          "name": "stdout",
          "text": [
            "[<a href=\"/charts/top?genre=alternativerock\">Alternative Rock</a>, <a href=\"/charts/top?genre=ambient\">Ambient</a>, <a href=\"/charts/top?genre=classical\">Classical</a>, <a href=\"/charts/top?genre=country\">Country</a>, <a href=\"/charts/top?genre=danceedm\">Dance &amp; EDM</a>, <a href=\"/charts/top?genre=dancehall\">Dancehall</a>, <a href=\"/charts/top?genre=deephouse\">Deep House</a>, <a href=\"/charts/top?genre=disco\">Disco</a>, <a href=\"/charts/top?genre=drumbass\">Drum &amp; Bass</a>, <a href=\"/charts/top?genre=dubstep\">Dubstep</a>, <a href=\"/charts/top?genre=electronic\">Electronic</a>, <a href=\"/charts/top?genre=folksingersongwriter\">Folk &amp; Singer-Songwriter</a>, <a href=\"/charts/top?genre=hiphoprap\">Hip-hop &amp; Rap</a>, <a href=\"/charts/top?genre=house\">House</a>, <a href=\"/charts/top?genre=indie\">Indie</a>, <a href=\"/charts/top?genre=jazzblues\">Jazz &amp; Blues</a>, <a href=\"/charts/top?genre=latin\">Latin</a>, <a href=\"/charts/top?genre=metal\">Metal</a>, <a href=\"/charts/top?genre=piano\">Piano</a>, <a href=\"/charts/top?genre=pop\">Pop</a>, <a href=\"/charts/top?genre=rbsoul\">R&amp;B &amp; Soul</a>, <a href=\"/charts/top?genre=reggae\">Reggae</a>, <a href=\"/charts/top?genre=reggaeton\">Reggaeton</a>, <a href=\"/charts/top?genre=rock\">Rock</a>, <a href=\"/charts/top?genre=soundtrack\">Soundtrack</a>, <a href=\"/charts/top?genre=techno\">Techno</a>, <a href=\"/charts/top?genre=trance\">Trance</a>, <a href=\"/charts/top?genre=trap\">Trap</a>, <a href=\"/charts/top?genre=triphop\">Triphop</a>, <a href=\"/charts/top?genre=world\">World</a>, <a href=\"/charts/top?genre=audiobooks\">Audiobooks</a>, <a href=\"/charts/top?genre=business\">Business</a>, <a href=\"/charts/top?genre=comedy\">Comedy</a>, <a href=\"/charts/top?genre=entertainment\">Entertainment</a>, <a href=\"/charts/top?genre=learning\">Learning</a>, <a href=\"/charts/top?genre=newspolitics\">News &amp; Politics</a>, <a href=\"/charts/top?genre=religionspirituality\">Religion &amp; Spirituality</a>, <a href=\"/charts/top?genre=science\">Science</a>, <a href=\"/charts/top?genre=sports\">Sports</a>, <a href=\"/charts/top?genre=storytelling\">Storytelling</a>, <a href=\"/charts/top?genre=technology\">Technology</a>]\n"
          ]
        }
      ]
    }
  ]
}
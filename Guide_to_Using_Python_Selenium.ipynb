{
  "nbformat": 4,
  "nbformat_minor": 0,
  "metadata": {
    "colab": {
      "provenance": [],
      "authorship_tag": "ABX9TyM++R7vxikFgeuA/oXLE8Uk"
    },
    "kernelspec": {
      "name": "python3",
      "display_name": "Python 3"
    },
    "language_info": {
      "name": "python"
    }
  },
  "cells": [
    {
      "cell_type": "markdown",
      "source": [
        "[Reference](https://medium.com/@moraneus/guide-to-using-python-selenium-873342d5fdad)"
      ],
      "metadata": {
        "id": "ochm8vJ8XaXc"
      }
    },
    {
      "cell_type": "code",
      "execution_count": 1,
      "metadata": {
        "id": "DwbB1VzhXYLg"
      },
      "outputs": [],
      "source": [
        "import time\n",
        "from selenium import webdriver\n",
        "\n",
        "# Set up the WebDriver (assuming Chrome)\n",
        "driver = webdriver.Chrome()\n",
        "\n",
        "# Open a web page\n",
        "driver.get(\"https://www.example.com\")\n",
        "\n",
        "# Retrieve and print the title of the page\n",
        "print(driver.title)\n",
        "\n",
        "# Just for not let the browser immediate closed\n",
        "time.sleep(5)\n",
        "\n",
        "# Close the browser\n",
        "driver.quit()"
      ]
    },
    {
      "cell_type": "code",
      "source": [
        "from selenium import webdriver\n",
        "from selenium.webdriver.common.by import By\n",
        "from selenium.webdriver.common.keys import Keys\n",
        "import time\n",
        "\n",
        "# Set up the WebDriver\n",
        "driver = webdriver.Chrome()\n",
        "\n",
        "# Open Google\n",
        "driver.get(\"https://www.google.com\")\n",
        "\n",
        "# Find the search box using its name attribute value\n",
        "search_box = driver.find_element(By.NAME, \"q\")\n",
        "\n",
        "# Type 'Selenium Python' in the search box\n",
        "search_box.send_keys(\"Selenium Python\")\n",
        "\n",
        "# Simulate pressing the Enter key\n",
        "search_box.send_keys(Keys.RETURN)\n",
        "\n",
        "# Wait for a few seconds to see the results\n",
        "time.sleep(5)\n",
        "\n",
        "# Close the browser\n",
        "driver.quit()"
      ],
      "metadata": {
        "id": "fh6bRX4vXemV"
      },
      "execution_count": 2,
      "outputs": []
    },
    {
      "cell_type": "code",
      "source": [
        "from selenium import webdriver\n",
        "from selenium.webdriver.common.by import By\n",
        "import time\n",
        "\n",
        "# Set up the WebDriver\n",
        "driver = webdriver.Chrome()\n",
        "\n",
        "# Open the news website\n",
        "driver.get(\"https://www.example-news-website.com\")\n",
        "\n",
        "# Allow the page to load\n",
        "time.sleep(5)\n",
        "\n",
        "# Find the headlines using their HTML tag and class name\n",
        "headlines = driver.find_elements(By.CLASS_NAME, \"headline-class\")\n",
        "\n",
        "# Extract and print the text of each headline\n",
        "for headline in headlines:\n",
        "    print(headline.text)\n",
        "\n",
        "# Close the browser\n",
        "driver.quit()"
      ],
      "metadata": {
        "id": "4VaA1knEXfaO"
      },
      "execution_count": 3,
      "outputs": []
    },
    {
      "cell_type": "code",
      "source": [
        "from selenium import webdriver\n",
        "from selenium.webdriver.chrome.options import Options\n",
        "import time\n",
        "\n",
        "# Set up Chrome options\n",
        "chrome_options = Options()\n",
        "chrome_options.add_argument(\"--headless\")\n",
        "chrome_options.add_argument(\"user-agent=Mozilla/5.0 (Windows NT 10.0; Win64; x64) AppleWebKit/537.36 (KHTML, like Gecko) Chrome/58.0.3029.110 Safari/537.36\")\n",
        "chrome_options.add_argument(\"--blink-settings=imagesEnabled=false\")\n",
        "\n",
        "# Set up the WebDriver\n",
        "driver = webdriver.Chrome(options=chrome_options)\n",
        "\n",
        "# Open a web page\n",
        "driver.get(\"https://medium.com/@moraneus\")\n",
        "\n",
        "# Allow the page to load\n",
        "time.sleep(5)\n",
        "\n",
        "# Retrieve and print the title of the page\n",
        "print(driver.title)\n",
        "\n",
        "# Close the browser\n",
        "driver.quit()"
      ],
      "metadata": {
        "id": "scd_YanlXkZd"
      },
      "execution_count": 4,
      "outputs": []
    },
    {
      "cell_type": "code",
      "source": [
        "from selenium import webdriver\n",
        "from selenium.webdriver.common.by import By\n",
        "import time\n",
        "\n",
        "# Set up the WebDriver\n",
        "driver = webdriver.Chrome()\n",
        "\n",
        "# Open the login page\n",
        "driver.get(\"https://practicetestautomation.com/practice-test-login/\")\n",
        "\n",
        "# Find and fill the username field\n",
        "username_field = driver.find_element(By.NAME, \"username\")\n",
        "username_field.send_keys(\"student\")\n",
        "\n",
        "# Find and fill the password field\n",
        "password_field = driver.find_element(By.NAME, \"password\")\n",
        "password_field.send_keys(\"Password123\")\n",
        "\n",
        "# Find and click the login button\n",
        "login_button = driver.find_element(By.ID, \"submit\")\n",
        "login_button.click()\n",
        "\n",
        "# Wait for a few seconds to ensure login is successful\n",
        "time.sleep(5)\n",
        "\n",
        "# Close the browser\n",
        "driver.quit()"
      ],
      "metadata": {
        "id": "fSfJRJmTXmng"
      },
      "execution_count": 5,
      "outputs": []
    },
    {
      "cell_type": "code",
      "source": [
        "from selenium import webdriver\n",
        "from selenium.webdriver.common.by import By\n",
        "\n",
        "import time\n",
        "\n",
        "\n",
        "# Set up the WebDriver\n",
        "driver = webdriver.Chrome()\n",
        "\n",
        "# Open a web page that triggers an alert\n",
        "driver.get(\"https://demo.automationtesting.in/Alerts.html\")\n",
        "\n",
        "# Press on the button that activate the alert\n",
        "alert_activation_btn = driver.find_element(By.CLASS_NAME, \"btn-danger\")\n",
        "alert_activation_btn.click()\n",
        "\n",
        "# Wait for the alert to appear\n",
        "time.sleep(3)\n",
        "\n",
        "# Switch to the alert and accept it\n",
        "alert = driver.switch_to.alert\n",
        "alert.accept()\n",
        "\n",
        "# Let you see that the alert is pressed\n",
        "time.sleep(3)\n",
        "\n",
        "# Close the browser\n",
        "driver.quit()"
      ],
      "metadata": {
        "id": "oHfBNWZbXo11"
      },
      "execution_count": 6,
      "outputs": []
    },
    {
      "cell_type": "code",
      "source": [
        "from selenium import webdriver\n",
        "import time\n",
        "\n",
        "# Set up the WebDriver (assuming Chrome)\n",
        "driver = webdriver.Chrome()\n",
        "\n",
        "# Open a web page\n",
        "driver.get(\"https://www.example.com\")\n",
        "\n",
        "# Execute custom JavaScript code to create an alert\n",
        "driver.execute_script(\"alert('This is a test alert!');\")\n",
        "\n",
        "# Wait for the alert to appear\n",
        "time.sleep(2)\n",
        "\n",
        "# Switch to the alert\n",
        "alert = driver.switch_to.alert\n",
        "\n",
        "# Print the alert text\n",
        "print(\"Alert text: \", alert.text)\n",
        "\n",
        "# Accept the alert\n",
        "alert.accept()\n",
        "\n",
        "# Close the browser\n",
        "driver.quit()"
      ],
      "metadata": {
        "id": "A4xxwfN9Xq68"
      },
      "execution_count": 7,
      "outputs": []
    },
    {
      "cell_type": "code",
      "source": [
        "from selenium import webdriver\n",
        "from selenium.webdriver.chrome.options import Options\n",
        "\n",
        "# Set up Chrome options\n",
        "chrome_options = Options()\n",
        "chrome_options.add_argument(\"--proxy-server=http://my-proxy-server:8080\")\n",
        "\n",
        "# Set up the WebDriver\n",
        "driver = webdriver.Chrome(options=chrome_options)\n",
        "\n",
        "# Open a web page\n",
        "driver.get(\"https://www.example.com\")\n",
        "\n",
        "# Retrieve and print the title of the page\n",
        "print(driver.title)\n",
        "\n",
        "# Close the browser\n",
        "driver.quit()"
      ],
      "metadata": {
        "id": "rBbSnd-lXtt9"
      },
      "execution_count": 8,
      "outputs": []
    }
  ]
}
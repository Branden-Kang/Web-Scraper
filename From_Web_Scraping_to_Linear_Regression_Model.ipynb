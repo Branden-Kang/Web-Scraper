{
  "nbformat": 4,
  "nbformat_minor": 0,
  "metadata": {
    "colab": {
      "provenance": [],
      "authorship_tag": "ABX9TyNUS6tYiR9U6rObnL0FPVnO"
    },
    "kernelspec": {
      "name": "python3",
      "display_name": "Python 3"
    },
    "language_info": {
      "name": "python"
    }
  },
  "cells": [
    {
      "cell_type": "markdown",
      "source": [
        "[Reference](https://medium.com/i%CC%87stanbuldatascienceacademy/from-web-scraping-to-linear-regression-model-96c01169a305)"
      ],
      "metadata": {
        "id": "L18aYf2-6vXo"
      }
    },
    {
      "cell_type": "markdown",
      "source": [
        "# Step 1: Web Scraping via Beautiful Soup"
      ],
      "metadata": {
        "id": "q4YMqyiX6iWv"
      }
    },
    {
      "cell_type": "code",
      "source": [
        "pip install pytictoc"
      ],
      "metadata": {
        "colab": {
          "base_uri": "https://localhost:8080/"
        },
        "id": "BuJ4zPpO7G0L",
        "outputId": "0557ea70-8f8d-4073-dc15-72f76a65904d"
      },
      "execution_count": null,
      "outputs": [
        {
          "output_type": "stream",
          "name": "stdout",
          "text": [
            "Looking in indexes: https://pypi.org/simple, https://us-python.pkg.dev/colab-wheels/public/simple/\n",
            "Collecting pytictoc\n",
            "  Downloading pytictoc-1.5.2-py2.py3-none-any.whl (4.0 kB)\n",
            "Installing collected packages: pytictoc\n",
            "Successfully installed pytictoc-1.5.2\n"
          ]
        }
      ]
    },
    {
      "cell_type": "code",
      "execution_count": null,
      "metadata": {
        "id": "fkD44ml16gC1"
      },
      "outputs": [],
      "source": [
        "import requests\n",
        "from bs4 import BeautifulSoup as bts\n",
        "import pandas as pd\n",
        "import re\n",
        "import numpy as np\n",
        "from pytictoc import TicToc\n",
        "from datetime import datetime\n",
        "import time"
      ]
    },
    {
      "cell_type": "code",
      "source": [
        "def getAndParseURL(url):\n",
        "    result = requests.get(url, headers={\"User-Agent\":\"Chrome/103.0.0.0\"}) # Safari/537.36. Mozilla/5.0\n",
        "    soup = bts(result.text, \"html.parser\")\n",
        "    return soup"
      ],
      "metadata": {
        "id": "BjiUKWMx6jPF"
      },
      "execution_count": null,
      "outputs": []
    },
    {
      "cell_type": "code",
      "source": [
        "pages = [] #annual bestsellers&literary fiction\n",
        "for page in range(1,24): \n",
        "    pages.append(\"https://www.kitapyurdu.com/index.php?route=product/best_sellers&page=\"+str(page)+\"&list_id=18&filter_in_stock=1&filter_in_stock=1\")\n",
        "print(pages[0])\n",
        "print(pages[-1])\n",
        "print(len(pages))"
      ],
      "metadata": {
        "colab": {
          "base_uri": "https://localhost:8080/"
        },
        "id": "c8tv77Vc6x4D",
        "outputId": "988c41c4-e7a1-4c20-cee6-c2f8edf9c2e9"
      },
      "execution_count": null,
      "outputs": [
        {
          "output_type": "stream",
          "name": "stdout",
          "text": [
            "https://www.kitapyurdu.com/index.php?route=product/best_sellers&page=1&list_id=18&filter_in_stock=1&filter_in_stock=1\n",
            "https://www.kitapyurdu.com/index.php?route=product/best_sellers&page=23&list_id=18&filter_in_stock=1&filter_in_stock=1\n",
            "23\n"
          ]
        }
      ]
    },
    {
      "cell_type": "code",
      "source": [
        "products = []\n",
        "for page in pages:\n",
        "    html = getAndParseURL(page)\n",
        "    for product in html.findAll(\"div\",{\"class\":\"cover\"}):\n",
        "        products.append(product.a.get(\"href\"))\n",
        "print(products[:25])"
      ],
      "metadata": {
        "colab": {
          "base_uri": "https://localhost:8080/"
        },
        "id": "w2jwKMPk6kMb",
        "outputId": "e1f8c374-05bf-4b31-ac9a-67daadef706a"
      },
      "execution_count": null,
      "outputs": [
        {
          "output_type": "stream",
          "name": "stdout",
          "text": [
            "['https://www.kitapyurdu.com/kitap/gece-yarisi-kutuphanesi/582550.html', 'https://www.kitapyurdu.com/kitap/seker-portakali-ciltsiz/10139.html', 'https://www.kitapyurdu.com/kitap/simyaci-ciltsiz/27328.html', 'https://www.kitapyurdu.com/kitap/ben-kirke/512225.html', 'https://www.kitapyurdu.com/kitap/hayvan-ciftligi-ciltsiz/30574.html', 'https://www.kitapyurdu.com/kitap/veronika-olmek-istiyor/18703.html', 'https://www.kitapyurdu.com/kitap/kirmizi-pazartesi/13006.html', 'https://www.kitapyurdu.com/kitap/kaplanin-sirtinda/620136.html', 'https://www.kitapyurdu.com/kitap/cesur-yeni-dunya/21087.html', 'https://www.kitapyurdu.com/kitap/kurk-mantolu-madonna/12064.html', 'https://www.kitapyurdu.com/kitap/fahrenheit-451/455877.html', 'https://www.kitapyurdu.com/kitap/saatleri-ayarlama-enstitusu/4780.html', 'https://www.kitapyurdu.com/kitap/ceyiz/627269.html', 'https://www.kitapyurdu.com/kitap/tiamat-karton-kapak/608374.html', 'https://www.kitapyurdu.com/kitap/icimizdeki-seytan/12065.html', 'https://www.kitapyurdu.com/kitap/gunesi-uyandiralim/13562.html', 'https://www.kitapyurdu.com/kitap/kayip-tanrilar-ulkesi/583214.html', 'https://www.kitapyurdu.com/kitap/zeytindagi/62886.html', 'https://www.kitapyurdu.com/kitap/bir-ask-masali/627772.html', 'https://www.kitapyurdu.com/kitap/ince-memed-1/57300.html', 'https://www.kitapyurdu.com/kitap/yasamak/393974.html', 'https://www.kitapyurdu.com/kitap/aylak-adam/434326.html', 'https://www.kitapyurdu.com/kitap/kuyucakli-yusuf/62333.html', 'https://www.kitapyurdu.com/kitap/semerkant/12196.html', 'https://www.kitapyurdu.com/kitap/akhilleusun-sarkisi/534565.html']\n"
          ]
        }
      ]
    },
    {
      "cell_type": "code",
      "source": [
        "# name = html.find(\"h1\",{\"class\":\"pr_header__heading\"}).text.strip()\n",
        "# print(\"Name of the Book: \", name)\n",
        "# author = html.find(\"a\",{\"class\":\"pr_producers__link\"}).text.strip()\n",
        "# print(\"Author: \", author)\n",
        "# publisher = html.find(\"div\",{\"class\":\"pr_producers__publisher\"}).text.strip()\n",
        "# print(\"Publisher: \", publisher)\n",
        "# release_date = html.find(\"div\",{\"class\":\"attributes\"}).find(text=re.compile(\"Yayın Tarihi\")).findNext().text.strip().replace(\".\",\"/\")\n",
        "# print(\"Release Date: \", release_date)\n",
        "# purchase_info = html.find(\"div\",{\"class\":\"purchase-info\"}).text.strip().replace(\".\",\"\")\n",
        "# print(\"Purchase Info: \", purchase_info)\n",
        "# page_num = html.find(\"div\",{\"class\":\"attributes\"}).find(text=re.compile(\"Sayfa Sayısı:\")).findNext().text.strip()\n",
        "# print(\"Number of Pages: \", int(page_num))\n",
        "# cover =  html.find(\"div\",{\"class\":\"attributes\"}).find(text=re.compile(\"Cilt Tipi:\")).findNext().text.strip()\n",
        "# print(\"Type of the Book Cover: \", cover)\n",
        "# paper_type = html.find(\"div\",{\"class\":\"attributes\"}).find(text=re.compile(\"Kağıt Cinsi:\")).findNext().text.strip()\n",
        "# print(\"Type of the Paper: \", paper_type)\n",
        "# rating = float(html.find(\"meta\", itemprop=\"ratingValue\").attrs[\"content\"].replace(\".\",\"\"))\n",
        "# print(\"Rate: \", rating)\n",
        "# rating_count = int(html.find(\"meta\", itemprop=\"ratingCount\").attrs[\"content\"].replace(\".\",\"\"))\n",
        "# print(\"Rating Count: \", rating_count)\n",
        "# review_count = int(html.find(\"meta\", itemprop=\"reviewCount\").attrs[\"content\"].replace(\".\",\"\"))\n",
        "# print(\"Review Count: \", review_count)\n",
        "# fav_count = int(html.find(\"span\",{\"id\":\"favorite-count\"}).text.strip().replace(\".\",\"\"))\n",
        "# print(\"Fav Count: \", fav_count)\n",
        "# to_read_list = html.find(\"li\",{\"class\":\"readlists__item\"}).text.strip(\"\\n\").strip().replace(\".\",\"\")\n",
        "# print(\"To-Read List Count: \", to_read_list)\n",
        "# price = float(html.find(\"div\",{\"class\":\"price__item\"}).text.strip().replace(\",\",\".\"))\n",
        "# print(\"Price: \", price)\n",
        "# discount = html.find(\"p\",{\"class\":\"info-text\"}).text.replace(\",\",\".\")\n",
        "# print(\"Discount: \", discount)\n",
        "# manufacturer_price = float(html.find(\"span\",{\"class\":\"pr_price__strikeout-list\"}).text.strip().replace(\",\",\".\"))\n",
        "# print(\"Manufacturer Price: \", manufacturer_price)\n",
        "# df = pd.DataFrame.from_records(features, columns=df_columns)\n",
        "# df.to_pickle(\"./kitap_yurdu_literary.pkl\")"
      ],
      "metadata": {
        "id": "jEX_wPZz6lUR"
      },
      "execution_count": null,
      "outputs": []
    },
    {
      "cell_type": "code",
      "source": [
        "with TicToc():\n",
        "    features = []\n",
        "    for product in products:\n",
        "        html = getAndParseURL(product)\n",
        "        try:\n",
        "            name = html.find(\"h1\",{\"class\":\"pr_header__heading\"}).text.strip()\n",
        "        except:\n",
        "            name = np.nan\n",
        "        try:\n",
        "            author = html.find(\"a\",{\"class\":\"pr_producers__link\"}).text.strip()\n",
        "        except:\n",
        "            author = np.nan\n",
        "        try:\n",
        "            publisher = html.find(\"div\",{\"class\":\"pr_producers__publisher\"}).text.strip()\n",
        "        except:\n",
        "            publisher = np.nan   \n",
        "        try:\n",
        "            release_date = html.find(\"div\",{\"class\":\"attributes\"}).find(text=re.compile(\"Yayın Tarihi\")).findNext().text.strip().replace(\".\",\"/\")\n",
        "        except:\n",
        "            release_date = np.nan\n",
        "        try:\n",
        "            purchase_info = html.find(\"div\",{\"class\":\"purchase-info\"}).text.strip().replace(\".\",\"\")\n",
        "        except:       \n",
        "            purchase_info = np.nan\n",
        "        try:\n",
        "            page_num = int(html.find(\"div\",{\"class\":\"attributes\"}).find(text=re.compile(\"Sayfa Sayısı:\")).findNext().text.strip())\n",
        "        except:\n",
        "            page_num = np.nan\n",
        "        try:\n",
        "            cover =  html.find(\"div\",{\"class\":\"attributes\"}).find(text=re.compile(\"Cilt Tipi:\")).findNext().text.strip()\n",
        "        except:\n",
        "            cover = np.nan\n",
        "        try:\n",
        "            paper_type = html.find(\"div\",{\"class\":\"attributes\"}).find(text=re.compile(\"Kağıt Cinsi:\")).findNext().text.strip()\n",
        "        except:\n",
        "            paper_type = np.nan\n",
        "        try:\n",
        "            rating = float(html.find(\"meta\", itemprop=\"ratingValue\").attrs[\"content\"].replace(\".\",\"\"))\n",
        "        except:\n",
        "            rating = np.nan\n",
        "        try:\n",
        "            rating_count = int(html.find(\"meta\", itemprop=\"ratingCount\").attrs[\"content\"].replace(\".\",\"\"))\n",
        "        except:\n",
        "            rating_count = np.nan\n",
        "        try:\n",
        "            review_count = int(html.find(\"meta\", itemprop=\"reviewCount\").attrs[\"content\"].replace(\".\",\"\"))\n",
        "        except:\n",
        "            review_count = np.nan\n",
        "        try:\n",
        "            price = float(html.find(\"div\",{\"class\":\"price__item\"}).text.strip().replace(\",\",\".\"))\n",
        "        except:\n",
        "            price = np.nan\n",
        "        try:\n",
        "            discount = html.find(\"p\",{\"class\":\"info-text\"}).text.replace(\",\",\".\")\n",
        "        except:\n",
        "            discount = np.nan\n",
        "        try:\n",
        "            manufacturer_price = float(html.find(\"span\",{\"class\":\"pr_price__strikeout-list\"}).text.strip().replace(\",\",\".\"))\n",
        "        except:\n",
        "            manufacturer_price = np.nan\n",
        "        try:\n",
        "            fav_count = int(html.find(\"span\",{\"id\":\"favorite-count\"}).text.strip().replace(\".\",\"\"))\n",
        "        except:\n",
        "            fav_count = np.nan\n",
        "        try:\n",
        "             to_read_list = html.find(\"li\",{\"class\":\"readlists__item\"}).text.strip(\"\\n\").strip().replace(\".\",\"\")\n",
        "        except:\n",
        "            to_read_list = np.nan\n",
        "\n",
        "\n",
        "        features.append([name, author, publisher, release_date, purchase_info, page_num, cover, paper_type, \n",
        "                         rating, rating_count, review_count, fav_count, to_read_list, price, discount, manufacturer_price])\n",
        "        time.sleep(1)\n",
        "\n",
        "    df_columns = [\"Name of the Book\",\"Author\",\"Publisher\",\"Release Date\",\"Purchase Info\",\"Number of Pages\",\"Type of the Book Cover\",\n",
        "                  \"Type of the Paper\",\"Rate\",\"Rating Count\",\"Review Count\",\"Fav Count\",\"To-Read List Count\",\"Price\",\"Discount\",\"Manufacturer Price\"]\n",
        "\n",
        "    df = pd.DataFrame.from_records(features, columns=df_columns)\n",
        "    df.to_pickle(\"./kitap_yurdu_literary.pkl\") "
      ],
      "metadata": {
        "colab": {
          "base_uri": "https://localhost:8080/"
        },
        "id": "-ML-8qB-6zcr",
        "outputId": "f4ef4cea-548f-426a-db9b-0b4b15d4a027"
      },
      "execution_count": null,
      "outputs": [
        {
          "output_type": "stream",
          "name": "stdout",
          "text": [
            "Elapsed time is 1159.283453 seconds.\n"
          ]
        }
      ]
    },
    {
      "cell_type": "code",
      "source": [
        "html = getAndParseURL(\"https://www.kitapyurdu.com/kitap/gece-yarisi-kutuphanesi/582550.html\")\n",
        "name = html.find(\"h1\",{\"class\":\"pr_header__heading\"}).text.strip()\n",
        "print(\"Name of the Book: \", name)\n",
        "author = html.find(\"a\",{\"class\":\"pr_producers__link\"}).text.strip()\n",
        "print(\"Author: \", author)\n",
        "publisher = html.find(\"div\",{\"class\":\"pr_producers__publisher\"}).text.strip()\n",
        "print(\"Publisher: \", publisher)\n",
        "release_date = html.find(\"div\",{\"class\":\"attributes\"}).find(text=re.compile(\"Yayın Tarihi\")).findNext().text.strip().replace(\".\",\"/\")\n",
        "print(\"Release Date: \", release_date)\n",
        "purchase_info = html.find(\"div\",{\"class\":\"purchase-info\"}).text.strip().replace(\".\",\"\")\n",
        "print(\"Purchase Info: \", purchase_info)\n",
        "page_num = html.find(\"div\",{\"class\":\"attributes\"}).find(text=re.compile(\"Sayfa Sayısı:\")).findNext().text.strip()\n",
        "print(\"Number of Pages: \", int(page_num))\n",
        "cover =  html.find(\"div\",{\"class\":\"attributes\"}).find(text=re.compile(\"Cilt Tipi:\")).findNext().text.strip()\n",
        "print(\"Type of the Book Cover: \", cover)\n",
        "paper_type = html.find(\"div\",{\"class\":\"attributes\"}).find(text=re.compile(\"Kağıt Cinsi:\")).findNext().text.strip()\n",
        "print(\"Type of the Paper: \", paper_type)\n",
        "rating = float(html.find(\"meta\", itemprop=\"ratingValue\").attrs[\"content\"].replace(\".\",\"\"))\n",
        "print(\"Rate: \", rating)\n",
        "rating_count = int(html.find(\"meta\", itemprop=\"ratingCount\").attrs[\"content\"].replace(\".\",\"\"))\n",
        "print(\"Rating Count: \", rating_count)\n",
        "review_count = int(html.find(\"meta\", itemprop=\"reviewCount\").attrs[\"content\"].replace(\".\",\"\"))\n",
        "print(\"Review Count: \", review_count)\n",
        "fav_count = int(html.find(\"span\",{\"id\":\"favorite-count\"}).text.strip().replace(\".\",\"\"))\n",
        "print(\"Fav Count: \", fav_count)\n",
        "to_read_list = html.find(\"li\",{\"class\":\"readlists__item\"}).text.strip(\"\\n\").strip().replace(\".\",\"\")\n",
        "print(\"To-Read List Count: \", to_read_list)\n",
        "price = float(html.find(\"div\",{\"class\":\"price__item\"}).text.strip().replace(\",\",\".\"))\n",
        "print(\"Price: \", price)\n",
        "discount = html.find(\"p\",{\"class\":\"info-text\"}).text.replace(\",\",\".\")\n",
        "print(\"Discount: \", discount)\n",
        "manufacturer_price = float(html.find(\"span\",{\"class\":\"pr_price__strikeout-list\"}).text.strip().replace(\",\",\".\"))\n",
        "print(\"Manufacturer Price: \", manufacturer_price)"
      ],
      "metadata": {
        "colab": {
          "base_uri": "https://localhost:8080/"
        },
        "id": "DpEqFFIBCUUf",
        "outputId": "fc378096-2daf-47a7-cc3e-717f7ab5a42b"
      },
      "execution_count": null,
      "outputs": [
        {
          "output_type": "stream",
          "name": "stdout",
          "text": [
            "Name of the Book:  Gece Yarısı Kütüphanesi\n",
            "Author:  Matt Haig\n",
            "Publisher:  DOMİNGO YAYINEVİ\n",
            "Release Date:  23/02/2022\n",
            "Purchase Info:  Bu üründen 52599 adet satın alınmıştır\n",
            "Number of Pages:  283\n",
            "Type of the Book Cover:  Karton Kapak\n",
            "Type of the Paper:  Kitap Kağıdı\n",
            "Rate:  5.0\n",
            "Rating Count:  1223\n",
            "Review Count:  756\n",
            "Fav Count:  24911\n",
            "To-Read List Count:  Okuyacağım                \n",
            "\n",
            "\n",
            "                    2655\n",
            "Price:  37.76\n",
            "Discount:  Kazancınız:  46.24\n",
            "Manufacturer Price:  84.0\n"
          ]
        }
      ]
    },
    {
      "cell_type": "code",
      "source": [
        "pages = [] #çok satanlar-edebiyatdışı-yıllık\n",
        "for page in range(1,23): \n",
        "    pages.append(\"https://www.kitapyurdu.com/index.php?route=product/best_sellers&page=\"+str(page)+\"&list_id=21&filter_in_stock=1&filter_in_stock=1\")\n",
        "print(pages[0])\n",
        "print(pages[-1])\n",
        "print(len(pages))"
      ],
      "metadata": {
        "colab": {
          "base_uri": "https://localhost:8080/"
        },
        "id": "mY9rhh-kCW1i",
        "outputId": "319a75d2-bdeb-4cfc-ecdc-db338b70bac6"
      },
      "execution_count": null,
      "outputs": [
        {
          "output_type": "stream",
          "name": "stdout",
          "text": [
            "https://www.kitapyurdu.com/index.php?route=product/best_sellers&page=1&list_id=21&filter_in_stock=1&filter_in_stock=1\n",
            "https://www.kitapyurdu.com/index.php?route=product/best_sellers&page=22&list_id=21&filter_in_stock=1&filter_in_stock=1\n",
            "22\n"
          ]
        }
      ]
    },
    {
      "cell_type": "code",
      "source": [
        "products = []\n",
        "for page in pages:\n",
        "    html = getAndParseURL(page)\n",
        "    for product in html.findAll(\"div\",{\"class\":\"cover\"}):\n",
        "        products.append(product.a.get(\"href\"))\n",
        "print(products[:25])"
      ],
      "metadata": {
        "colab": {
          "base_uri": "https://localhost:8080/"
        },
        "id": "X9vR5eL_CX9f",
        "outputId": "a8b62113-aa61-440f-99af-06bb595d44cd"
      },
      "execution_count": null,
      "outputs": [
        {
          "output_type": "stream",
          "name": "stdout",
          "text": [
            "['https://www.kitapyurdu.com/kitap/var-misin-guclu-bir-yasam-icin-oneriler/568760.html', 'https://www.kitapyurdu.com/kitap/atomik-aliskanliklar/540793.html', 'https://www.kitapyurdu.com/kitap/insan-gelecegini-nasil-kurar-kendini-insa-etmenin-yollari/609007.html', 'https://www.kitapyurdu.com/kitap/benim-zurafam-ucabilir/589761.html', 'https://www.kitapyurdu.com/kitap/ezbere-yasayanlar-vazgecemedigimiz-aliskanliklarimizin-kokenleri/605078.html', 'https://www.kitapyurdu.com/kitap/pal-sokagi-cocuklari/125370.html', 'https://www.kitapyurdu.com/kitap/delifisek/13565.html', 'https://www.kitapyurdu.com/kitap/insanin-anlam-arayisi/131878.html', 'https://www.kitapyurdu.com/kitap/uzaya-giden-tren/623243.html', 'https://www.kitapyurdu.com/kitap/gelistiren-annebaba/599028.html', 'https://www.kitapyurdu.com/kitap/dervisin-teselli-koleksiyonu-dogudan-batidan-99-teselli-/421503.html', 'https://www.kitapyurdu.com/kitap/zaman-bisikleti/57439.html', 'https://www.kitapyurdu.com/kitap/101-deyim-101-oyku/392721.html', 'https://www.kitapyurdu.com/kitap/gercek-tip-yitik-sifanin-izinde/409003.html', 'https://www.kitapyurdu.com/kitap/kitaplardan-korkan-cocuk/40901.html', 'https://www.kitapyurdu.com/kitap/insan-olmak/50667.html', 'https://www.kitapyurdu.com/kitap/bir-omur-nasil-yasanir-hayatta-dogru-secimler-icin-oneriler/493305.html', 'https://www.kitapyurdu.com/kitap/kapra-felsefe-seti-10-kitap/592209.html', 'https://www.kitapyurdu.com/kitap/martiya-ucmayi-ogreten-kedi/16956.html', 'https://www.kitapyurdu.com/kitap/icimdeki-muzik-/389502.html', 'https://www.kitapyurdu.com/kitap/dirilis-neslinin-amentusu/6522.html', 'https://www.kitapyurdu.com/kitap/insan-vucudu-tiyatrosu/411661.html', 'https://www.kitapyurdu.com/kitap/basarisizlar-kulubu/604617.html', 'https://www.kitapyurdu.com/kitap/dedemin-bakkali/407454.html', 'https://www.kitapyurdu.com/kitap/keloglan-namaz-pesinde/592110.html']\n"
          ]
        }
      ]
    },
    {
      "cell_type": "code",
      "source": [
        "with TicToc():\n",
        "    features = []\n",
        "    for product in products:\n",
        "        html = getAndParseURL(product)\n",
        "        try:\n",
        "            name = html.find(\"h1\",{\"class\":\"pr_header__heading\"}).text.strip()\n",
        "        except:\n",
        "            name = np.nan\n",
        "        try:\n",
        "            author = html.find(\"a\",{\"class\":\"pr_producers__link\"}).text.strip()\n",
        "        except:\n",
        "            author = np.nan\n",
        "        try:\n",
        "            publisher = html.find(\"div\",{\"class\":\"pr_producers__publisher\"}).text.strip()\n",
        "        except:\n",
        "            publisher = np.nan   \n",
        "        try:\n",
        "            release_date = html.find(\"div\",{\"class\":\"attributes\"}).find(text=re.compile(\"Yayın Tarihi\")).findNext().text.strip().replace(\".\",\"/\")\n",
        "        except:\n",
        "            release_date = np.nan\n",
        "        try:\n",
        "            purchase_info = html.find(\"div\",{\"class\":\"purchase-info\"}).text.strip().replace(\".\",\"\")\n",
        "        except:       \n",
        "            purchase_info = np.nan\n",
        "        try:\n",
        "            page_num = int(html.find(\"div\",{\"class\":\"attributes\"}).find(text=re.compile(\"Sayfa Sayısı:\")).findNext().text.strip())\n",
        "        except:\n",
        "            page_num = np.nan\n",
        "        try:\n",
        "            cover =  html.find(\"div\",{\"class\":\"attributes\"}).find(text=re.compile(\"Cilt Tipi:\")).findNext().text.strip()\n",
        "        except:\n",
        "            cover = np.nan\n",
        "        try:\n",
        "            paper_type = html.find(\"div\",{\"class\":\"attributes\"}).find(text=re.compile(\"Kağıt Cinsi:\")).findNext().text.strip()\n",
        "        except:\n",
        "            paper_type = np.nan\n",
        "        try:\n",
        "            rating = float(html.find(\"meta\", itemprop=\"ratingValue\").attrs[\"content\"].replace(\".\",\"\"))\n",
        "        except:\n",
        "            rating = np.nan\n",
        "        try:\n",
        "            rating_count = int(html.find(\"meta\", itemprop=\"ratingCount\").attrs[\"content\"].replace(\".\",\"\"))\n",
        "        except:\n",
        "            rating_count = np.nan\n",
        "        try:\n",
        "            review_count = int(html.find(\"meta\", itemprop=\"reviewCount\").attrs[\"content\"].replace(\".\",\"\"))\n",
        "        except:\n",
        "            review_count = np.nan\n",
        "        try:\n",
        "            price = float(html.find(\"div\",{\"class\":\"price__item\"}).text.strip().replace(\",\",\".\"))\n",
        "        except:\n",
        "            price = np.nan\n",
        "        try:\n",
        "            discount = html.find(\"p\",{\"class\":\"info-text\"}).text.replace(\",\",\".\")\n",
        "        except:\n",
        "            discount = np.nan\n",
        "        try:\n",
        "            manufacturer_price = float(html.find(\"span\",{\"class\":\"pr_price__strikeout-list\"}).text.strip().replace(\",\",\".\"))\n",
        "        except:\n",
        "            manufacturer_price = np.nan\n",
        "        try:\n",
        "            fav_count = int(html.find(\"span\",{\"id\":\"favorite-count\"}).text.strip().replace(\".\",\"\"))\n",
        "        except:\n",
        "            fav_count = np.nan\n",
        "        try:\n",
        "             to_read_list = html.find(\"li\",{\"class\":\"readlists__item\"}).text.strip(\"\\n\").strip().replace(\".\",\"\")\n",
        "        except:\n",
        "            to_read_list = np.nan\n",
        "\n",
        "\n",
        "        features.append([name, author, publisher, release_date, purchase_info, page_num, cover, paper_type, \n",
        "                         rating, rating_count, review_count, fav_count, to_read_list, price, discount, manufacturer_price])\n",
        "        time.sleep(1)\n",
        "\n",
        "    df_columns = [\"Name of the book\",\"Author\",\"Publisher\",\"Release Date\",\"Purchase Info\",\"Number of Pages\",\"Type of the Book Cover\",\n",
        "                  \"Type of the Paper\",\"Rate\",\"Rating Count\",\"Review Count\",\"Fav Count\",\"To-Read List Count\",\"Price\",\"Discount\",\"Manufacturer Price\"]\n",
        "\n",
        "    df = pd.DataFrame.from_records(features, columns=df_columns)\n",
        "    df.to_pickle(\"./kitap_yurdu_edebiyat_disi.pkl\") \n"
      ],
      "metadata": {
        "colab": {
          "base_uri": "https://localhost:8080/"
        },
        "id": "4lk-Pw0dCZgx",
        "outputId": "e147d49b-c930-4f3d-fb39-e30603ec45ea"
      },
      "execution_count": null,
      "outputs": [
        {
          "output_type": "stream",
          "name": "stdout",
          "text": [
            "Elapsed time is 1132.377391 seconds.\n"
          ]
        }
      ]
    },
    {
      "cell_type": "markdown",
      "source": [
        "# Step 2: Feature Engineering\n"
      ],
      "metadata": {
        "id": "G50nzq_z7MgA"
      }
    },
    {
      "cell_type": "code",
      "source": [
        "!ls"
      ],
      "metadata": {
        "colab": {
          "base_uri": "https://localhost:8080/"
        },
        "id": "1G4d_Wa7ABKi",
        "outputId": "e0b63406-fb76-4b9e-d8da-d9220ecf1be1"
      },
      "execution_count": null,
      "outputs": [
        {
          "output_type": "stream",
          "name": "stdout",
          "text": [
            "kitap_yurdu_edebiyat_disi.pkl  kitap_yurdu_literary.pkl  sample_data\n"
          ]
        }
      ]
    },
    {
      "cell_type": "code",
      "source": [
        "with TicToc():\n",
        "    ky_ed = pd.read_pickle(\"./kitap_yurdu_edebiyat_disi.pkl\") \n",
        "    ky = pd.read_pickle(\"./kitap_yurdu_literary.pkl\") \n",
        "ky = ky.append(ky_ed, ignore_index=True)\n",
        "ky.head(10)"
      ],
      "metadata": {
        "colab": {
          "base_uri": "https://localhost:8080/",
          "height": 616
        },
        "id": "F8NZPEET7Evb",
        "outputId": "47146960-f534-4095-b0e3-1a047b1fa937"
      },
      "execution_count": null,
      "outputs": [
        {
          "output_type": "stream",
          "name": "stdout",
          "text": [
            "Elapsed time is 0.017924 seconds.\n"
          ]
        },
        {
          "output_type": "execute_result",
          "data": {
            "text/plain": [
              "            Name of the Book                     Author             Publisher  \\\n",
              "0    Gece Yarısı Kütüphanesi                  Matt Haig      DOMİNGO YAYINEVİ   \n",
              "1  Şeker Portakalı (Ciltsiz)  Jose Mauro De Vasconcelos         CAN YAYINLARI   \n",
              "2          Simyacı (Ciltsiz)               Paulo Coelho         CAN YAYINLARI   \n",
              "3                 Ben, Kirke            Madeline Miller      İTHAKİ YAYINLARI   \n",
              "4  Hayvan Çiftliği (Ciltsiz)              George Orwell         CAN YAYINLARI   \n",
              "5     Veronika Ölmek İstiyor               Paulo Coelho         CAN YAYINLARI   \n",
              "6          Kırmızı Pazartesi     Gabriel Garcia Marquez         CAN YAYINLARI   \n",
              "7          Kaplanın Sırtında             Zülfü Livaneli      İNKILAP KİTABEVİ   \n",
              "8           Cesur Yeni Dünya              Aldous Huxley      İTHAKİ YAYINLARI   \n",
              "9       Kürk Mantolu Madonna             Sabahattin Ali  YAPI KREDİ YAYINLARI   \n",
              "\n",
              "  Release Date                            Purchase Info  Number of Pages  \\\n",
              "0   23/02/2022   Bu üründen 52599 adet satın alınmıştır            283.0   \n",
              "1   06/09/2019  Bu üründen 272308 adet satın alınmıştır            182.0   \n",
              "2   28/09/2021  Bu üründen 187422 adet satın alınmıştır            184.0   \n",
              "3   25/01/2021   Bu üründen 51687 adet satın alınmıştır            408.0   \n",
              "4   04/10/2019  Bu üründen 201636 adet satın alınmıştır            152.0   \n",
              "5   06/08/2019   Bu üründen 65830 adet satın alınmıştır            198.0   \n",
              "6   15/04/2019  Bu üründen 111983 adet satın alınmıştır            120.0   \n",
              "7   25/06/2022   Bu üründen 14365 adet satın alınmıştır            324.0   \n",
              "8   20/08/2021  Bu üründen 112886 adet satın alınmıştır            272.0   \n",
              "9   13/06/2022  Bu üründen 210503 adet satın alınmıştır            160.0   \n",
              "\n",
              "  Type of the Book Cover Type of the Paper  Rate  Rating Count  Review Count  \\\n",
              "0           Karton Kapak      Kitap Kağıdı   5.0          1223           756   \n",
              "1           Karton Kapak      Kitap Kağıdı   5.0         21946         10140   \n",
              "2           Karton Kapak      Kitap Kağıdı   5.0         15987          7589   \n",
              "3           Karton Kapak      Kitap Kağıdı   4.0          1765           950   \n",
              "4           Karton Kapak      Kitap Kağıdı   5.0         19000          8749   \n",
              "5           Karton Kapak      Kitap Kağıdı   5.0          3755          1930   \n",
              "6           Karton Kapak      Kitap Kağıdı   4.0         10042          4407   \n",
              "7           Karton Kapak      Kitap Kağıdı   5.0           251           156   \n",
              "8           Karton Kapak      Kitap Kağıdı   5.0          6835          3152   \n",
              "9           Karton Kapak      Kitap Kağıdı   5.0         23796         12238   \n",
              "\n",
              "   Fav Count                                 To-Read List Count  Price  \\\n",
              "0      24911  Okuyacağım                \\n\\n\\n              ...  37.76   \n",
              "1      61991  Okuyacağım                \\n\\n\\n              ...  33.75   \n",
              "2      56500  Okuyacağım                \\n\\n\\n              ...  34.65   \n",
              "3      25108  Okuyacağım                \\n\\n\\n              ...  45.01   \n",
              "4      43491  Okuyacağım                \\n\\n\\n              ...  14.40   \n",
              "5      35609  Okuyacağım                \\n\\n\\n              ...  43.20   \n",
              "6      39291  Okuyacağım                \\n\\n\\n              ...  23.40   \n",
              "7       6978  Okuyacağım                \\n\\n\\n              ...  52.71   \n",
              "8      38706  Okuyacağım                \\n\\n\\n              ...  30.11   \n",
              "9      42870  Okuyacağım                \\n\\n\\n              ...   9.00   \n",
              "\n",
              "             Discount  Manufacturer Price Name of the book  \n",
              "0  Kazancınız:  46.24                84.0              NaN  \n",
              "1  Kazancınız:  41.25                75.0              NaN  \n",
              "2  Kazancınız:  42.35                77.0              NaN  \n",
              "3  Kazancınız:  44.99                90.0              NaN  \n",
              "4  Kazancınız:  17.60                32.0              NaN  \n",
              "5  Kazancınız:  36.80                80.0              NaN  \n",
              "6  Kazancınız:  28.60                52.0              NaN  \n",
              "7  Kazancınız:  32.29                85.0              NaN  \n",
              "8  Kazancınız:  39.89                70.0              NaN  \n",
              "9  Kazancınız:  10.00                19.0              NaN  "
            ],
            "text/html": [
              "\n",
              "  <div id=\"df-f851da0d-b997-473e-8d5d-23640589ab2c\">\n",
              "    <div class=\"colab-df-container\">\n",
              "      <div>\n",
              "<style scoped>\n",
              "    .dataframe tbody tr th:only-of-type {\n",
              "        vertical-align: middle;\n",
              "    }\n",
              "\n",
              "    .dataframe tbody tr th {\n",
              "        vertical-align: top;\n",
              "    }\n",
              "\n",
              "    .dataframe thead th {\n",
              "        text-align: right;\n",
              "    }\n",
              "</style>\n",
              "<table border=\"1\" class=\"dataframe\">\n",
              "  <thead>\n",
              "    <tr style=\"text-align: right;\">\n",
              "      <th></th>\n",
              "      <th>Name of the Book</th>\n",
              "      <th>Author</th>\n",
              "      <th>Publisher</th>\n",
              "      <th>Release Date</th>\n",
              "      <th>Purchase Info</th>\n",
              "      <th>Number of Pages</th>\n",
              "      <th>Type of the Book Cover</th>\n",
              "      <th>Type of the Paper</th>\n",
              "      <th>Rate</th>\n",
              "      <th>Rating Count</th>\n",
              "      <th>Review Count</th>\n",
              "      <th>Fav Count</th>\n",
              "      <th>To-Read List Count</th>\n",
              "      <th>Price</th>\n",
              "      <th>Discount</th>\n",
              "      <th>Manufacturer Price</th>\n",
              "      <th>Name of the book</th>\n",
              "    </tr>\n",
              "  </thead>\n",
              "  <tbody>\n",
              "    <tr>\n",
              "      <th>0</th>\n",
              "      <td>Gece Yarısı Kütüphanesi</td>\n",
              "      <td>Matt Haig</td>\n",
              "      <td>DOMİNGO YAYINEVİ</td>\n",
              "      <td>23/02/2022</td>\n",
              "      <td>Bu üründen 52599 adet satın alınmıştır</td>\n",
              "      <td>283.0</td>\n",
              "      <td>Karton Kapak</td>\n",
              "      <td>Kitap Kağıdı</td>\n",
              "      <td>5.0</td>\n",
              "      <td>1223</td>\n",
              "      <td>756</td>\n",
              "      <td>24911</td>\n",
              "      <td>Okuyacağım                \\n\\n\\n              ...</td>\n",
              "      <td>37.76</td>\n",
              "      <td>Kazancınız:  46.24</td>\n",
              "      <td>84.0</td>\n",
              "      <td>NaN</td>\n",
              "    </tr>\n",
              "    <tr>\n",
              "      <th>1</th>\n",
              "      <td>Şeker Portakalı (Ciltsiz)</td>\n",
              "      <td>Jose Mauro De Vasconcelos</td>\n",
              "      <td>CAN YAYINLARI</td>\n",
              "      <td>06/09/2019</td>\n",
              "      <td>Bu üründen 272308 adet satın alınmıştır</td>\n",
              "      <td>182.0</td>\n",
              "      <td>Karton Kapak</td>\n",
              "      <td>Kitap Kağıdı</td>\n",
              "      <td>5.0</td>\n",
              "      <td>21946</td>\n",
              "      <td>10140</td>\n",
              "      <td>61991</td>\n",
              "      <td>Okuyacağım                \\n\\n\\n              ...</td>\n",
              "      <td>33.75</td>\n",
              "      <td>Kazancınız:  41.25</td>\n",
              "      <td>75.0</td>\n",
              "      <td>NaN</td>\n",
              "    </tr>\n",
              "    <tr>\n",
              "      <th>2</th>\n",
              "      <td>Simyacı (Ciltsiz)</td>\n",
              "      <td>Paulo Coelho</td>\n",
              "      <td>CAN YAYINLARI</td>\n",
              "      <td>28/09/2021</td>\n",
              "      <td>Bu üründen 187422 adet satın alınmıştır</td>\n",
              "      <td>184.0</td>\n",
              "      <td>Karton Kapak</td>\n",
              "      <td>Kitap Kağıdı</td>\n",
              "      <td>5.0</td>\n",
              "      <td>15987</td>\n",
              "      <td>7589</td>\n",
              "      <td>56500</td>\n",
              "      <td>Okuyacağım                \\n\\n\\n              ...</td>\n",
              "      <td>34.65</td>\n",
              "      <td>Kazancınız:  42.35</td>\n",
              "      <td>77.0</td>\n",
              "      <td>NaN</td>\n",
              "    </tr>\n",
              "    <tr>\n",
              "      <th>3</th>\n",
              "      <td>Ben, Kirke</td>\n",
              "      <td>Madeline Miller</td>\n",
              "      <td>İTHAKİ YAYINLARI</td>\n",
              "      <td>25/01/2021</td>\n",
              "      <td>Bu üründen 51687 adet satın alınmıştır</td>\n",
              "      <td>408.0</td>\n",
              "      <td>Karton Kapak</td>\n",
              "      <td>Kitap Kağıdı</td>\n",
              "      <td>4.0</td>\n",
              "      <td>1765</td>\n",
              "      <td>950</td>\n",
              "      <td>25108</td>\n",
              "      <td>Okuyacağım                \\n\\n\\n              ...</td>\n",
              "      <td>45.01</td>\n",
              "      <td>Kazancınız:  44.99</td>\n",
              "      <td>90.0</td>\n",
              "      <td>NaN</td>\n",
              "    </tr>\n",
              "    <tr>\n",
              "      <th>4</th>\n",
              "      <td>Hayvan Çiftliği (Ciltsiz)</td>\n",
              "      <td>George Orwell</td>\n",
              "      <td>CAN YAYINLARI</td>\n",
              "      <td>04/10/2019</td>\n",
              "      <td>Bu üründen 201636 adet satın alınmıştır</td>\n",
              "      <td>152.0</td>\n",
              "      <td>Karton Kapak</td>\n",
              "      <td>Kitap Kağıdı</td>\n",
              "      <td>5.0</td>\n",
              "      <td>19000</td>\n",
              "      <td>8749</td>\n",
              "      <td>43491</td>\n",
              "      <td>Okuyacağım                \\n\\n\\n              ...</td>\n",
              "      <td>14.40</td>\n",
              "      <td>Kazancınız:  17.60</td>\n",
              "      <td>32.0</td>\n",
              "      <td>NaN</td>\n",
              "    </tr>\n",
              "    <tr>\n",
              "      <th>5</th>\n",
              "      <td>Veronika Ölmek İstiyor</td>\n",
              "      <td>Paulo Coelho</td>\n",
              "      <td>CAN YAYINLARI</td>\n",
              "      <td>06/08/2019</td>\n",
              "      <td>Bu üründen 65830 adet satın alınmıştır</td>\n",
              "      <td>198.0</td>\n",
              "      <td>Karton Kapak</td>\n",
              "      <td>Kitap Kağıdı</td>\n",
              "      <td>5.0</td>\n",
              "      <td>3755</td>\n",
              "      <td>1930</td>\n",
              "      <td>35609</td>\n",
              "      <td>Okuyacağım                \\n\\n\\n              ...</td>\n",
              "      <td>43.20</td>\n",
              "      <td>Kazancınız:  36.80</td>\n",
              "      <td>80.0</td>\n",
              "      <td>NaN</td>\n",
              "    </tr>\n",
              "    <tr>\n",
              "      <th>6</th>\n",
              "      <td>Kırmızı Pazartesi</td>\n",
              "      <td>Gabriel Garcia Marquez</td>\n",
              "      <td>CAN YAYINLARI</td>\n",
              "      <td>15/04/2019</td>\n",
              "      <td>Bu üründen 111983 adet satın alınmıştır</td>\n",
              "      <td>120.0</td>\n",
              "      <td>Karton Kapak</td>\n",
              "      <td>Kitap Kağıdı</td>\n",
              "      <td>4.0</td>\n",
              "      <td>10042</td>\n",
              "      <td>4407</td>\n",
              "      <td>39291</td>\n",
              "      <td>Okuyacağım                \\n\\n\\n              ...</td>\n",
              "      <td>23.40</td>\n",
              "      <td>Kazancınız:  28.60</td>\n",
              "      <td>52.0</td>\n",
              "      <td>NaN</td>\n",
              "    </tr>\n",
              "    <tr>\n",
              "      <th>7</th>\n",
              "      <td>Kaplanın Sırtında</td>\n",
              "      <td>Zülfü Livaneli</td>\n",
              "      <td>İNKILAP KİTABEVİ</td>\n",
              "      <td>25/06/2022</td>\n",
              "      <td>Bu üründen 14365 adet satın alınmıştır</td>\n",
              "      <td>324.0</td>\n",
              "      <td>Karton Kapak</td>\n",
              "      <td>Kitap Kağıdı</td>\n",
              "      <td>5.0</td>\n",
              "      <td>251</td>\n",
              "      <td>156</td>\n",
              "      <td>6978</td>\n",
              "      <td>Okuyacağım                \\n\\n\\n              ...</td>\n",
              "      <td>52.71</td>\n",
              "      <td>Kazancınız:  32.29</td>\n",
              "      <td>85.0</td>\n",
              "      <td>NaN</td>\n",
              "    </tr>\n",
              "    <tr>\n",
              "      <th>8</th>\n",
              "      <td>Cesur Yeni Dünya</td>\n",
              "      <td>Aldous Huxley</td>\n",
              "      <td>İTHAKİ YAYINLARI</td>\n",
              "      <td>20/08/2021</td>\n",
              "      <td>Bu üründen 112886 adet satın alınmıştır</td>\n",
              "      <td>272.0</td>\n",
              "      <td>Karton Kapak</td>\n",
              "      <td>Kitap Kağıdı</td>\n",
              "      <td>5.0</td>\n",
              "      <td>6835</td>\n",
              "      <td>3152</td>\n",
              "      <td>38706</td>\n",
              "      <td>Okuyacağım                \\n\\n\\n              ...</td>\n",
              "      <td>30.11</td>\n",
              "      <td>Kazancınız:  39.89</td>\n",
              "      <td>70.0</td>\n",
              "      <td>NaN</td>\n",
              "    </tr>\n",
              "    <tr>\n",
              "      <th>9</th>\n",
              "      <td>Kürk Mantolu Madonna</td>\n",
              "      <td>Sabahattin Ali</td>\n",
              "      <td>YAPI KREDİ YAYINLARI</td>\n",
              "      <td>13/06/2022</td>\n",
              "      <td>Bu üründen 210503 adet satın alınmıştır</td>\n",
              "      <td>160.0</td>\n",
              "      <td>Karton Kapak</td>\n",
              "      <td>Kitap Kağıdı</td>\n",
              "      <td>5.0</td>\n",
              "      <td>23796</td>\n",
              "      <td>12238</td>\n",
              "      <td>42870</td>\n",
              "      <td>Okuyacağım                \\n\\n\\n              ...</td>\n",
              "      <td>9.00</td>\n",
              "      <td>Kazancınız:  10.00</td>\n",
              "      <td>19.0</td>\n",
              "      <td>NaN</td>\n",
              "    </tr>\n",
              "  </tbody>\n",
              "</table>\n",
              "</div>\n",
              "      <button class=\"colab-df-convert\" onclick=\"convertToInteractive('df-f851da0d-b997-473e-8d5d-23640589ab2c')\"\n",
              "              title=\"Convert this dataframe to an interactive table.\"\n",
              "              style=\"display:none;\">\n",
              "        \n",
              "  <svg xmlns=\"http://www.w3.org/2000/svg\" height=\"24px\"viewBox=\"0 0 24 24\"\n",
              "       width=\"24px\">\n",
              "    <path d=\"M0 0h24v24H0V0z\" fill=\"none\"/>\n",
              "    <path d=\"M18.56 5.44l.94 2.06.94-2.06 2.06-.94-2.06-.94-.94-2.06-.94 2.06-2.06.94zm-11 1L8.5 8.5l.94-2.06 2.06-.94-2.06-.94L8.5 2.5l-.94 2.06-2.06.94zm10 10l.94 2.06.94-2.06 2.06-.94-2.06-.94-.94-2.06-.94 2.06-2.06.94z\"/><path d=\"M17.41 7.96l-1.37-1.37c-.4-.4-.92-.59-1.43-.59-.52 0-1.04.2-1.43.59L10.3 9.45l-7.72 7.72c-.78.78-.78 2.05 0 2.83L4 21.41c.39.39.9.59 1.41.59.51 0 1.02-.2 1.41-.59l7.78-7.78 2.81-2.81c.8-.78.8-2.07 0-2.86zM5.41 20L4 18.59l7.72-7.72 1.47 1.35L5.41 20z\"/>\n",
              "  </svg>\n",
              "      </button>\n",
              "      \n",
              "  <style>\n",
              "    .colab-df-container {\n",
              "      display:flex;\n",
              "      flex-wrap:wrap;\n",
              "      gap: 12px;\n",
              "    }\n",
              "\n",
              "    .colab-df-convert {\n",
              "      background-color: #E8F0FE;\n",
              "      border: none;\n",
              "      border-radius: 50%;\n",
              "      cursor: pointer;\n",
              "      display: none;\n",
              "      fill: #1967D2;\n",
              "      height: 32px;\n",
              "      padding: 0 0 0 0;\n",
              "      width: 32px;\n",
              "    }\n",
              "\n",
              "    .colab-df-convert:hover {\n",
              "      background-color: #E2EBFA;\n",
              "      box-shadow: 0px 1px 2px rgba(60, 64, 67, 0.3), 0px 1px 3px 1px rgba(60, 64, 67, 0.15);\n",
              "      fill: #174EA6;\n",
              "    }\n",
              "\n",
              "    [theme=dark] .colab-df-convert {\n",
              "      background-color: #3B4455;\n",
              "      fill: #D2E3FC;\n",
              "    }\n",
              "\n",
              "    [theme=dark] .colab-df-convert:hover {\n",
              "      background-color: #434B5C;\n",
              "      box-shadow: 0px 1px 3px 1px rgba(0, 0, 0, 0.15);\n",
              "      filter: drop-shadow(0px 1px 2px rgba(0, 0, 0, 0.3));\n",
              "      fill: #FFFFFF;\n",
              "    }\n",
              "  </style>\n",
              "\n",
              "      <script>\n",
              "        const buttonEl =\n",
              "          document.querySelector('#df-f851da0d-b997-473e-8d5d-23640589ab2c button.colab-df-convert');\n",
              "        buttonEl.style.display =\n",
              "          google.colab.kernel.accessAllowed ? 'block' : 'none';\n",
              "\n",
              "        async function convertToInteractive(key) {\n",
              "          const element = document.querySelector('#df-f851da0d-b997-473e-8d5d-23640589ab2c');\n",
              "          const dataTable =\n",
              "            await google.colab.kernel.invokeFunction('convertToInteractive',\n",
              "                                                     [key], {});\n",
              "          if (!dataTable) return;\n",
              "\n",
              "          const docLinkHtml = 'Like what you see? Visit the ' +\n",
              "            '<a target=\"_blank\" href=https://colab.research.google.com/notebooks/data_table.ipynb>data table notebook</a>'\n",
              "            + ' to learn more about interactive tables.';\n",
              "          element.innerHTML = '';\n",
              "          dataTable['output_type'] = 'display_data';\n",
              "          await google.colab.output.renderOutput(dataTable, element);\n",
              "          const docLink = document.createElement('div');\n",
              "          docLink.innerHTML = docLinkHtml;\n",
              "          element.appendChild(docLink);\n",
              "        }\n",
              "      </script>\n",
              "    </div>\n",
              "  </div>\n",
              "  "
            ]
          },
          "metadata": {},
          "execution_count": 31
        }
      ]
    },
    {
      "cell_type": "code",
      "source": [
        "def split_int(string):\n",
        "    for i in string.split():\n",
        "        try:\n",
        "            str_to_num = int(i)\n",
        "            return str_to_num\n",
        "        except ValueError:\n",
        "            pass"
      ],
      "metadata": {
        "id": "GlDNQkqZ8cTw"
      },
      "execution_count": null,
      "outputs": []
    },
    {
      "cell_type": "code",
      "source": [
        "def split_float(string):\n",
        "    for i in string.split():\n",
        "        try:\n",
        "            str_to_num = float(i)\n",
        "            return str_to_num\n",
        "        except ValueError:\n",
        "            pass"
      ],
      "metadata": {
        "id": "EE65Sa9e8dAF"
      },
      "execution_count": null,
      "outputs": []
    },
    {
      "cell_type": "code",
      "source": [
        "ky[\"Purchase Info\"] = ky.loc[ky[\"Purchase Info\"].notnull(), \"Purchase Info\"].apply(split_int)\n",
        "ky[\"Discount\"] = ky.loc[ky[\"Discount\"].notnull(), \"Discount\"].apply(split_float)\n",
        "ky[\"To-Read List Count\"] = ky.loc[ky[\"To-Read List Count\"].notnull(), \"To-Read List Count\"].apply(split_int)\n",
        "ky.drop_duplicates(inplace=True) \n",
        "ky[\"Type of the Book Cover\"].unique()\n",
        "book_cover_dict = { 'Karton Kapak':1, 'Ciltli':2}\n",
        "ky[\"Type of the Book Cover\"] = ky[\"Type of the Book Cover\"].map(book_cover_dict)\n",
        "ky[\"Type of the Book Cover\"]"
      ],
      "metadata": {
        "colab": {
          "base_uri": "https://localhost:8080/"
        },
        "id": "YIv3AQm-8eBq",
        "outputId": "2c89002f-c948-4dc3-b0bc-0ee1bac64026"
      },
      "execution_count": null,
      "outputs": [
        {
          "output_type": "execute_result",
          "data": {
            "text/plain": [
              "0      1.0\n",
              "1      1.0\n",
              "2      1.0\n",
              "3      1.0\n",
              "4      1.0\n",
              "      ... \n",
              "876    1.0\n",
              "877    1.0\n",
              "878    1.0\n",
              "879    1.0\n",
              "880    1.0\n",
              "Name: Type of the Book Cover, Length: 881, dtype: float64"
            ]
          },
          "metadata": {},
          "execution_count": 34
        }
      ]
    },
    {
      "cell_type": "code",
      "source": [
        "ky[\"Type of the Paper\"].unique()"
      ],
      "metadata": {
        "colab": {
          "base_uri": "https://localhost:8080/"
        },
        "id": "vieOY9Uc8jJe",
        "outputId": "f0ead325-a651-40df-8090-bb7eb469510b"
      },
      "execution_count": null,
      "outputs": [
        {
          "output_type": "execute_result",
          "data": {
            "text/plain": [
              "array(['Kitap Kağıdı', '3. Hm. Kağıt', '2. Hm. Kağıt', '1. Hm. Kağıt',\n",
              "       'Kuşe Kağıt', nan], dtype=object)"
            ]
          },
          "metadata": {},
          "execution_count": 35
        }
      ]
    },
    {
      "cell_type": "code",
      "source": [
        "paper_dict = { 'Kitap Kağıdı':2,\n",
        "                '2. Hm. Kağıt':2,\n",
        "                '1. Hm. Kağıt':3,                  \n",
        "                '3. Hm. Kağıt':1,\n",
        "                'Kuşe Kağıt':4 }"
      ],
      "metadata": {
        "id": "M6s_KmW78ke1"
      },
      "execution_count": null,
      "outputs": []
    },
    {
      "cell_type": "code",
      "source": [
        "# label encoding for paper type\n",
        "ky['Type of the Paper'] = ky['Type of the Paper'].map(paper_dict)\n",
        "ky['Type of the Paper']"
      ],
      "metadata": {
        "colab": {
          "base_uri": "https://localhost:8080/"
        },
        "id": "6HXb5O568lyX",
        "outputId": "c155002a-0ccb-4a9f-ad94-36209eb3719d"
      },
      "execution_count": null,
      "outputs": [
        {
          "output_type": "execute_result",
          "data": {
            "text/plain": [
              "0      2.0\n",
              "1      2.0\n",
              "2      2.0\n",
              "3      2.0\n",
              "4      2.0\n",
              "      ... \n",
              "876    2.0\n",
              "877    2.0\n",
              "878    2.0\n",
              "879    2.0\n",
              "880    2.0\n",
              "Name: Type of the Paper, Length: 881, dtype: float64"
            ]
          },
          "metadata": {},
          "execution_count": 37
        }
      ]
    },
    {
      "cell_type": "code",
      "source": [
        "\"\"\"rd = datetime.strptime(release_date, \"%d/%m/%Y\").date()\n",
        "today = datetime.now().date()\n",
        "time_since_publ = (today-rd).days\n",
        "print(time_since_publ)\"\"\""
      ],
      "metadata": {
        "colab": {
          "base_uri": "https://localhost:8080/",
          "height": 35
        },
        "id": "Ww0pHrEP8muA",
        "outputId": "c97935f4-b976-48c4-9848-a62c24f79be1"
      },
      "execution_count": null,
      "outputs": [
        {
          "output_type": "execute_result",
          "data": {
            "text/plain": [
              "'rd = datetime.strptime(release_date, \"%d/%m/%Y\").date()\\ntoday = datetime.now().date()\\ntime_since_publ = (today-rd).days\\nprint(time_since_publ)'"
            ],
            "application/vnd.google.colaboratory.intrinsic+json": {
              "type": "string"
            }
          },
          "metadata": {},
          "execution_count": 38
        }
      ]
    },
    {
      "cell_type": "code",
      "source": [
        "type(ky.loc[0,'Release Date'])"
      ],
      "metadata": {
        "colab": {
          "base_uri": "https://localhost:8080/"
        },
        "id": "-QBdEXku8nhF",
        "outputId": "84c70598-dc29-4ebd-c7d9-d2889852bda7"
      },
      "execution_count": null,
      "outputs": [
        {
          "output_type": "execute_result",
          "data": {
            "text/plain": [
              "str"
            ]
          },
          "metadata": {},
          "execution_count": 39
        }
      ]
    },
    {
      "cell_type": "code",
      "source": [
        "today = datetime.now().date()\n",
        "def time_passed(release_date):   \n",
        "    rd = datetime.strptime(release_date, \"%d/%m/%Y\").date()\n",
        "    time_since_publ = (today-rd).days\n",
        "    return(time_since_publ)"
      ],
      "metadata": {
        "id": "6ojgTIqb8odB"
      },
      "execution_count": null,
      "outputs": []
    },
    {
      "cell_type": "code",
      "source": [
        "ky['Time Passed Since Publication'] = ky.loc[ky[\"Release Date\"].notnull(), \"Release Date\"].apply(time_passed)"
      ],
      "metadata": {
        "id": "IrTU6BZb8pZj"
      },
      "execution_count": null,
      "outputs": []
    },
    {
      "cell_type": "code",
      "source": [
        "ky = ky.loc[:,ky.columns != \"Release Date\"]"
      ],
      "metadata": {
        "id": "KGA5fxSr8qTK"
      },
      "execution_count": null,
      "outputs": []
    },
    {
      "cell_type": "code",
      "source": [
        "ky.columns"
      ],
      "metadata": {
        "colab": {
          "base_uri": "https://localhost:8080/"
        },
        "id": "-F8BY6358rGb",
        "outputId": "d2c1e779-98e4-407f-d8ed-f6b5d5a74a46"
      },
      "execution_count": null,
      "outputs": [
        {
          "output_type": "execute_result",
          "data": {
            "text/plain": [
              "Index(['Name of the Book', 'Author', 'Publisher', 'Purchase Info',\n",
              "       'Number of Pages', 'Type of the Book Cover', 'Type of the Paper',\n",
              "       'Rate', 'Rating Count', 'Review Count', 'Fav Count',\n",
              "       'To-Read List Count', 'Price', 'Discount', 'Manufacturer Price',\n",
              "       'Name of the book', 'Time Passed Since Publication'],\n",
              "      dtype='object')"
            ]
          },
          "metadata": {},
          "execution_count": 43
        }
      ]
    },
    {
      "cell_type": "code",
      "source": [
        "ky_lr = ky.loc[:, ~ky.columns.isin([\"Name of the book\",\"Author\",\"Publisher\"])]\n",
        "ky_lr.head(10)"
      ],
      "metadata": {
        "colab": {
          "base_uri": "https://localhost:8080/",
          "height": 459
        },
        "id": "tSH7fNcN8sPx",
        "outputId": "ac51e855-c0d9-44ad-f52f-8391fcd218ef"
      },
      "execution_count": null,
      "outputs": [
        {
          "output_type": "execute_result",
          "data": {
            "text/plain": [
              "            Name of the Book  Purchase Info  Number of Pages  \\\n",
              "0    Gece Yarısı Kütüphanesi        52599.0            283.0   \n",
              "1  Şeker Portakalı (Ciltsiz)       272308.0            182.0   \n",
              "2          Simyacı (Ciltsiz)       187422.0            184.0   \n",
              "3                 Ben, Kirke        51687.0            408.0   \n",
              "4  Hayvan Çiftliği (Ciltsiz)       201636.0            152.0   \n",
              "5     Veronika Ölmek İstiyor        65830.0            198.0   \n",
              "6          Kırmızı Pazartesi       111983.0            120.0   \n",
              "7          Kaplanın Sırtında        14365.0            324.0   \n",
              "8           Cesur Yeni Dünya       112886.0            272.0   \n",
              "9       Kürk Mantolu Madonna       210503.0            160.0   \n",
              "\n",
              "   Type of the Book Cover  Type of the Paper  Rate  Rating Count  \\\n",
              "0                     1.0                2.0   5.0          1223   \n",
              "1                     1.0                2.0   5.0         21946   \n",
              "2                     1.0                2.0   5.0         15987   \n",
              "3                     1.0                2.0   4.0          1765   \n",
              "4                     1.0                2.0   5.0         19000   \n",
              "5                     1.0                2.0   5.0          3755   \n",
              "6                     1.0                2.0   4.0         10042   \n",
              "7                     1.0                2.0   5.0           251   \n",
              "8                     1.0                2.0   5.0          6835   \n",
              "9                     1.0                2.0   5.0         23796   \n",
              "\n",
              "   Review Count  Fav Count  To-Read List Count  Price  Discount  \\\n",
              "0           756      24911              2655.0  37.76     46.24   \n",
              "1         10140      61991              7902.0  33.75     41.25   \n",
              "2          7589      56500              5538.0  34.65     42.35   \n",
              "3           950      25108              2200.0  45.01     44.99   \n",
              "4          8749      43491              6071.0  14.40     17.60   \n",
              "5          1930      35609              2892.0  43.20     36.80   \n",
              "6          4407      39291              4570.0  23.40     28.60   \n",
              "7           156       6978               786.0  52.71     32.29   \n",
              "8          3152      38706              4647.0  30.11     39.89   \n",
              "9         12238      42870              5667.0   9.00     10.00   \n",
              "\n",
              "   Manufacturer Price  Time Passed Since Publication  \n",
              "0                84.0                          292.0  \n",
              "1                75.0                         1193.0  \n",
              "2                77.0                          440.0  \n",
              "3                90.0                          686.0  \n",
              "4                32.0                         1165.0  \n",
              "5                80.0                         1224.0  \n",
              "6                52.0                         1337.0  \n",
              "7                85.0                          170.0  \n",
              "8                70.0                          479.0  \n",
              "9                19.0                          182.0  "
            ],
            "text/html": [
              "\n",
              "  <div id=\"df-c77f8e61-3ada-4464-88ba-74ae4c83a8d7\">\n",
              "    <div class=\"colab-df-container\">\n",
              "      <div>\n",
              "<style scoped>\n",
              "    .dataframe tbody tr th:only-of-type {\n",
              "        vertical-align: middle;\n",
              "    }\n",
              "\n",
              "    .dataframe tbody tr th {\n",
              "        vertical-align: top;\n",
              "    }\n",
              "\n",
              "    .dataframe thead th {\n",
              "        text-align: right;\n",
              "    }\n",
              "</style>\n",
              "<table border=\"1\" class=\"dataframe\">\n",
              "  <thead>\n",
              "    <tr style=\"text-align: right;\">\n",
              "      <th></th>\n",
              "      <th>Name of the Book</th>\n",
              "      <th>Purchase Info</th>\n",
              "      <th>Number of Pages</th>\n",
              "      <th>Type of the Book Cover</th>\n",
              "      <th>Type of the Paper</th>\n",
              "      <th>Rate</th>\n",
              "      <th>Rating Count</th>\n",
              "      <th>Review Count</th>\n",
              "      <th>Fav Count</th>\n",
              "      <th>To-Read List Count</th>\n",
              "      <th>Price</th>\n",
              "      <th>Discount</th>\n",
              "      <th>Manufacturer Price</th>\n",
              "      <th>Time Passed Since Publication</th>\n",
              "    </tr>\n",
              "  </thead>\n",
              "  <tbody>\n",
              "    <tr>\n",
              "      <th>0</th>\n",
              "      <td>Gece Yarısı Kütüphanesi</td>\n",
              "      <td>52599.0</td>\n",
              "      <td>283.0</td>\n",
              "      <td>1.0</td>\n",
              "      <td>2.0</td>\n",
              "      <td>5.0</td>\n",
              "      <td>1223</td>\n",
              "      <td>756</td>\n",
              "      <td>24911</td>\n",
              "      <td>2655.0</td>\n",
              "      <td>37.76</td>\n",
              "      <td>46.24</td>\n",
              "      <td>84.0</td>\n",
              "      <td>292.0</td>\n",
              "    </tr>\n",
              "    <tr>\n",
              "      <th>1</th>\n",
              "      <td>Şeker Portakalı (Ciltsiz)</td>\n",
              "      <td>272308.0</td>\n",
              "      <td>182.0</td>\n",
              "      <td>1.0</td>\n",
              "      <td>2.0</td>\n",
              "      <td>5.0</td>\n",
              "      <td>21946</td>\n",
              "      <td>10140</td>\n",
              "      <td>61991</td>\n",
              "      <td>7902.0</td>\n",
              "      <td>33.75</td>\n",
              "      <td>41.25</td>\n",
              "      <td>75.0</td>\n",
              "      <td>1193.0</td>\n",
              "    </tr>\n",
              "    <tr>\n",
              "      <th>2</th>\n",
              "      <td>Simyacı (Ciltsiz)</td>\n",
              "      <td>187422.0</td>\n",
              "      <td>184.0</td>\n",
              "      <td>1.0</td>\n",
              "      <td>2.0</td>\n",
              "      <td>5.0</td>\n",
              "      <td>15987</td>\n",
              "      <td>7589</td>\n",
              "      <td>56500</td>\n",
              "      <td>5538.0</td>\n",
              "      <td>34.65</td>\n",
              "      <td>42.35</td>\n",
              "      <td>77.0</td>\n",
              "      <td>440.0</td>\n",
              "    </tr>\n",
              "    <tr>\n",
              "      <th>3</th>\n",
              "      <td>Ben, Kirke</td>\n",
              "      <td>51687.0</td>\n",
              "      <td>408.0</td>\n",
              "      <td>1.0</td>\n",
              "      <td>2.0</td>\n",
              "      <td>4.0</td>\n",
              "      <td>1765</td>\n",
              "      <td>950</td>\n",
              "      <td>25108</td>\n",
              "      <td>2200.0</td>\n",
              "      <td>45.01</td>\n",
              "      <td>44.99</td>\n",
              "      <td>90.0</td>\n",
              "      <td>686.0</td>\n",
              "    </tr>\n",
              "    <tr>\n",
              "      <th>4</th>\n",
              "      <td>Hayvan Çiftliği (Ciltsiz)</td>\n",
              "      <td>201636.0</td>\n",
              "      <td>152.0</td>\n",
              "      <td>1.0</td>\n",
              "      <td>2.0</td>\n",
              "      <td>5.0</td>\n",
              "      <td>19000</td>\n",
              "      <td>8749</td>\n",
              "      <td>43491</td>\n",
              "      <td>6071.0</td>\n",
              "      <td>14.40</td>\n",
              "      <td>17.60</td>\n",
              "      <td>32.0</td>\n",
              "      <td>1165.0</td>\n",
              "    </tr>\n",
              "    <tr>\n",
              "      <th>5</th>\n",
              "      <td>Veronika Ölmek İstiyor</td>\n",
              "      <td>65830.0</td>\n",
              "      <td>198.0</td>\n",
              "      <td>1.0</td>\n",
              "      <td>2.0</td>\n",
              "      <td>5.0</td>\n",
              "      <td>3755</td>\n",
              "      <td>1930</td>\n",
              "      <td>35609</td>\n",
              "      <td>2892.0</td>\n",
              "      <td>43.20</td>\n",
              "      <td>36.80</td>\n",
              "      <td>80.0</td>\n",
              "      <td>1224.0</td>\n",
              "    </tr>\n",
              "    <tr>\n",
              "      <th>6</th>\n",
              "      <td>Kırmızı Pazartesi</td>\n",
              "      <td>111983.0</td>\n",
              "      <td>120.0</td>\n",
              "      <td>1.0</td>\n",
              "      <td>2.0</td>\n",
              "      <td>4.0</td>\n",
              "      <td>10042</td>\n",
              "      <td>4407</td>\n",
              "      <td>39291</td>\n",
              "      <td>4570.0</td>\n",
              "      <td>23.40</td>\n",
              "      <td>28.60</td>\n",
              "      <td>52.0</td>\n",
              "      <td>1337.0</td>\n",
              "    </tr>\n",
              "    <tr>\n",
              "      <th>7</th>\n",
              "      <td>Kaplanın Sırtında</td>\n",
              "      <td>14365.0</td>\n",
              "      <td>324.0</td>\n",
              "      <td>1.0</td>\n",
              "      <td>2.0</td>\n",
              "      <td>5.0</td>\n",
              "      <td>251</td>\n",
              "      <td>156</td>\n",
              "      <td>6978</td>\n",
              "      <td>786.0</td>\n",
              "      <td>52.71</td>\n",
              "      <td>32.29</td>\n",
              "      <td>85.0</td>\n",
              "      <td>170.0</td>\n",
              "    </tr>\n",
              "    <tr>\n",
              "      <th>8</th>\n",
              "      <td>Cesur Yeni Dünya</td>\n",
              "      <td>112886.0</td>\n",
              "      <td>272.0</td>\n",
              "      <td>1.0</td>\n",
              "      <td>2.0</td>\n",
              "      <td>5.0</td>\n",
              "      <td>6835</td>\n",
              "      <td>3152</td>\n",
              "      <td>38706</td>\n",
              "      <td>4647.0</td>\n",
              "      <td>30.11</td>\n",
              "      <td>39.89</td>\n",
              "      <td>70.0</td>\n",
              "      <td>479.0</td>\n",
              "    </tr>\n",
              "    <tr>\n",
              "      <th>9</th>\n",
              "      <td>Kürk Mantolu Madonna</td>\n",
              "      <td>210503.0</td>\n",
              "      <td>160.0</td>\n",
              "      <td>1.0</td>\n",
              "      <td>2.0</td>\n",
              "      <td>5.0</td>\n",
              "      <td>23796</td>\n",
              "      <td>12238</td>\n",
              "      <td>42870</td>\n",
              "      <td>5667.0</td>\n",
              "      <td>9.00</td>\n",
              "      <td>10.00</td>\n",
              "      <td>19.0</td>\n",
              "      <td>182.0</td>\n",
              "    </tr>\n",
              "  </tbody>\n",
              "</table>\n",
              "</div>\n",
              "      <button class=\"colab-df-convert\" onclick=\"convertToInteractive('df-c77f8e61-3ada-4464-88ba-74ae4c83a8d7')\"\n",
              "              title=\"Convert this dataframe to an interactive table.\"\n",
              "              style=\"display:none;\">\n",
              "        \n",
              "  <svg xmlns=\"http://www.w3.org/2000/svg\" height=\"24px\"viewBox=\"0 0 24 24\"\n",
              "       width=\"24px\">\n",
              "    <path d=\"M0 0h24v24H0V0z\" fill=\"none\"/>\n",
              "    <path d=\"M18.56 5.44l.94 2.06.94-2.06 2.06-.94-2.06-.94-.94-2.06-.94 2.06-2.06.94zm-11 1L8.5 8.5l.94-2.06 2.06-.94-2.06-.94L8.5 2.5l-.94 2.06-2.06.94zm10 10l.94 2.06.94-2.06 2.06-.94-2.06-.94-.94-2.06-.94 2.06-2.06.94z\"/><path d=\"M17.41 7.96l-1.37-1.37c-.4-.4-.92-.59-1.43-.59-.52 0-1.04.2-1.43.59L10.3 9.45l-7.72 7.72c-.78.78-.78 2.05 0 2.83L4 21.41c.39.39.9.59 1.41.59.51 0 1.02-.2 1.41-.59l7.78-7.78 2.81-2.81c.8-.78.8-2.07 0-2.86zM5.41 20L4 18.59l7.72-7.72 1.47 1.35L5.41 20z\"/>\n",
              "  </svg>\n",
              "      </button>\n",
              "      \n",
              "  <style>\n",
              "    .colab-df-container {\n",
              "      display:flex;\n",
              "      flex-wrap:wrap;\n",
              "      gap: 12px;\n",
              "    }\n",
              "\n",
              "    .colab-df-convert {\n",
              "      background-color: #E8F0FE;\n",
              "      border: none;\n",
              "      border-radius: 50%;\n",
              "      cursor: pointer;\n",
              "      display: none;\n",
              "      fill: #1967D2;\n",
              "      height: 32px;\n",
              "      padding: 0 0 0 0;\n",
              "      width: 32px;\n",
              "    }\n",
              "\n",
              "    .colab-df-convert:hover {\n",
              "      background-color: #E2EBFA;\n",
              "      box-shadow: 0px 1px 2px rgba(60, 64, 67, 0.3), 0px 1px 3px 1px rgba(60, 64, 67, 0.15);\n",
              "      fill: #174EA6;\n",
              "    }\n",
              "\n",
              "    [theme=dark] .colab-df-convert {\n",
              "      background-color: #3B4455;\n",
              "      fill: #D2E3FC;\n",
              "    }\n",
              "\n",
              "    [theme=dark] .colab-df-convert:hover {\n",
              "      background-color: #434B5C;\n",
              "      box-shadow: 0px 1px 3px 1px rgba(0, 0, 0, 0.15);\n",
              "      filter: drop-shadow(0px 1px 2px rgba(0, 0, 0, 0.3));\n",
              "      fill: #FFFFFF;\n",
              "    }\n",
              "  </style>\n",
              "\n",
              "      <script>\n",
              "        const buttonEl =\n",
              "          document.querySelector('#df-c77f8e61-3ada-4464-88ba-74ae4c83a8d7 button.colab-df-convert');\n",
              "        buttonEl.style.display =\n",
              "          google.colab.kernel.accessAllowed ? 'block' : 'none';\n",
              "\n",
              "        async function convertToInteractive(key) {\n",
              "          const element = document.querySelector('#df-c77f8e61-3ada-4464-88ba-74ae4c83a8d7');\n",
              "          const dataTable =\n",
              "            await google.colab.kernel.invokeFunction('convertToInteractive',\n",
              "                                                     [key], {});\n",
              "          if (!dataTable) return;\n",
              "\n",
              "          const docLinkHtml = 'Like what you see? Visit the ' +\n",
              "            '<a target=\"_blank\" href=https://colab.research.google.com/notebooks/data_table.ipynb>data table notebook</a>'\n",
              "            + ' to learn more about interactive tables.';\n",
              "          element.innerHTML = '';\n",
              "          dataTable['output_type'] = 'display_data';\n",
              "          await google.colab.output.renderOutput(dataTable, element);\n",
              "          const docLink = document.createElement('div');\n",
              "          docLink.innerHTML = docLinkHtml;\n",
              "          element.appendChild(docLink);\n",
              "        }\n",
              "      </script>\n",
              "    </div>\n",
              "  </div>\n",
              "  "
            ]
          },
          "metadata": {},
          "execution_count": 44
        }
      ]
    },
    {
      "cell_type": "code",
      "source": [
        "ky_lr.info()"
      ],
      "metadata": {
        "colab": {
          "base_uri": "https://localhost:8080/"
        },
        "id": "u8Hz-Flo8t14",
        "outputId": "d7fb2b7b-03d2-4fa6-d4d5-b5509efe61bf"
      },
      "execution_count": null,
      "outputs": [
        {
          "output_type": "stream",
          "name": "stdout",
          "text": [
            "<class 'pandas.core.frame.DataFrame'>\n",
            "Int64Index: 881 entries, 0 to 880\n",
            "Data columns (total 14 columns):\n",
            " #   Column                         Non-Null Count  Dtype  \n",
            "---  ------                         --------------  -----  \n",
            " 0   Name of the Book               441 non-null    object \n",
            " 1   Purchase Info                  879 non-null    float64\n",
            " 2   Number of Pages                874 non-null    float64\n",
            " 3   Type of the Book Cover         879 non-null    float64\n",
            " 4   Type of the Paper              878 non-null    float64\n",
            " 5   Rate                           881 non-null    float64\n",
            " 6   Rating Count                   881 non-null    int64  \n",
            " 7   Review Count                   881 non-null    int64  \n",
            " 8   Fav Count                      881 non-null    int64  \n",
            " 9   To-Read List Count             878 non-null    float64\n",
            " 10  Price                          881 non-null    float64\n",
            " 11  Discount                       881 non-null    float64\n",
            " 12  Manufacturer Price             880 non-null    float64\n",
            " 13  Time Passed Since Publication  878 non-null    float64\n",
            "dtypes: float64(10), int64(3), object(1)\n",
            "memory usage: 135.5+ KB\n"
          ]
        }
      ]
    },
    {
      "cell_type": "code",
      "source": [
        "len(ky_lr)"
      ],
      "metadata": {
        "colab": {
          "base_uri": "https://localhost:8080/"
        },
        "id": "mqDaIZ2v8u2h",
        "outputId": "d69eab3c-b85e-4802-e8f6-34ff3c443618"
      },
      "execution_count": null,
      "outputs": [
        {
          "output_type": "execute_result",
          "data": {
            "text/plain": [
              "881"
            ]
          },
          "metadata": {},
          "execution_count": 46
        }
      ]
    },
    {
      "cell_type": "code",
      "source": [
        "ky_lr[ky_lr['Number of Pages'].isnull()].index.tolist()"
      ],
      "metadata": {
        "colab": {
          "base_uri": "https://localhost:8080/"
        },
        "id": "B_YVtREU8voH",
        "outputId": "006c0cf0-72a7-42e7-9894-c2aaa8c723fb"
      },
      "execution_count": null,
      "outputs": [
        {
          "output_type": "execute_result",
          "data": {
            "text/plain": [
              "[306, 687, 793, 794, 806, 811, 837]"
            ]
          },
          "metadata": {},
          "execution_count": 47
        }
      ]
    },
    {
      "cell_type": "code",
      "source": [
        "ky_lr = ky_lr.drop(labels=[303, 412, 647, 788, 795, 797, 817, 840, 847, 882], axis=0)"
      ],
      "metadata": {
        "colab": {
          "base_uri": "https://localhost:8080/",
          "height": 327
        },
        "id": "jyN_ZXCD8w6v",
        "outputId": "f52f605f-4eb2-4ced-8c8f-2e2dc64f9c4c"
      },
      "execution_count": null,
      "outputs": [
        {
          "output_type": "error",
          "ename": "KeyError",
          "evalue": "ignored",
          "traceback": [
            "\u001b[0;31m---------------------------------------------------------------------------\u001b[0m",
            "\u001b[0;31mKeyError\u001b[0m                                  Traceback (most recent call last)",
            "\u001b[0;32m<ipython-input-48-dc69a9e53d66>\u001b[0m in \u001b[0;36m<module>\u001b[0;34m\u001b[0m\n\u001b[0;32m----> 1\u001b[0;31m \u001b[0mky_lr\u001b[0m \u001b[0;34m=\u001b[0m \u001b[0mky_lr\u001b[0m\u001b[0;34m.\u001b[0m\u001b[0mdrop\u001b[0m\u001b[0;34m(\u001b[0m\u001b[0mlabels\u001b[0m\u001b[0;34m=\u001b[0m\u001b[0;34m[\u001b[0m\u001b[0;36m303\u001b[0m\u001b[0;34m,\u001b[0m \u001b[0;36m412\u001b[0m\u001b[0;34m,\u001b[0m \u001b[0;36m647\u001b[0m\u001b[0;34m,\u001b[0m \u001b[0;36m788\u001b[0m\u001b[0;34m,\u001b[0m \u001b[0;36m795\u001b[0m\u001b[0;34m,\u001b[0m \u001b[0;36m797\u001b[0m\u001b[0;34m,\u001b[0m \u001b[0;36m817\u001b[0m\u001b[0;34m,\u001b[0m \u001b[0;36m840\u001b[0m\u001b[0;34m,\u001b[0m \u001b[0;36m847\u001b[0m\u001b[0;34m,\u001b[0m \u001b[0;36m882\u001b[0m\u001b[0;34m]\u001b[0m\u001b[0;34m,\u001b[0m \u001b[0maxis\u001b[0m\u001b[0;34m=\u001b[0m\u001b[0;36m0\u001b[0m\u001b[0;34m)\u001b[0m\u001b[0;34m\u001b[0m\u001b[0;34m\u001b[0m\u001b[0m\n\u001b[0m",
            "\u001b[0;32m/usr/local/lib/python3.8/dist-packages/pandas/util/_decorators.py\u001b[0m in \u001b[0;36mwrapper\u001b[0;34m(*args, **kwargs)\u001b[0m\n\u001b[1;32m    309\u001b[0m                     \u001b[0mstacklevel\u001b[0m\u001b[0;34m=\u001b[0m\u001b[0mstacklevel\u001b[0m\u001b[0;34m,\u001b[0m\u001b[0;34m\u001b[0m\u001b[0;34m\u001b[0m\u001b[0m\n\u001b[1;32m    310\u001b[0m                 )\n\u001b[0;32m--> 311\u001b[0;31m             \u001b[0;32mreturn\u001b[0m \u001b[0mfunc\u001b[0m\u001b[0;34m(\u001b[0m\u001b[0;34m*\u001b[0m\u001b[0margs\u001b[0m\u001b[0;34m,\u001b[0m \u001b[0;34m**\u001b[0m\u001b[0mkwargs\u001b[0m\u001b[0;34m)\u001b[0m\u001b[0;34m\u001b[0m\u001b[0;34m\u001b[0m\u001b[0m\n\u001b[0m\u001b[1;32m    312\u001b[0m \u001b[0;34m\u001b[0m\u001b[0m\n\u001b[1;32m    313\u001b[0m         \u001b[0;32mreturn\u001b[0m \u001b[0mwrapper\u001b[0m\u001b[0;34m\u001b[0m\u001b[0;34m\u001b[0m\u001b[0m\n",
            "\u001b[0;32m/usr/local/lib/python3.8/dist-packages/pandas/core/frame.py\u001b[0m in \u001b[0;36mdrop\u001b[0;34m(self, labels, axis, index, columns, level, inplace, errors)\u001b[0m\n\u001b[1;32m   4904\u001b[0m                 \u001b[0mweight\u001b[0m  \u001b[0;36m1.0\u001b[0m     \u001b[0;36m0.8\u001b[0m\u001b[0;34m\u001b[0m\u001b[0;34m\u001b[0m\u001b[0m\n\u001b[1;32m   4905\u001b[0m         \"\"\"\n\u001b[0;32m-> 4906\u001b[0;31m         return super().drop(\n\u001b[0m\u001b[1;32m   4907\u001b[0m             \u001b[0mlabels\u001b[0m\u001b[0;34m=\u001b[0m\u001b[0mlabels\u001b[0m\u001b[0;34m,\u001b[0m\u001b[0;34m\u001b[0m\u001b[0;34m\u001b[0m\u001b[0m\n\u001b[1;32m   4908\u001b[0m             \u001b[0maxis\u001b[0m\u001b[0;34m=\u001b[0m\u001b[0maxis\u001b[0m\u001b[0;34m,\u001b[0m\u001b[0;34m\u001b[0m\u001b[0;34m\u001b[0m\u001b[0m\n",
            "\u001b[0;32m/usr/local/lib/python3.8/dist-packages/pandas/core/generic.py\u001b[0m in \u001b[0;36mdrop\u001b[0;34m(self, labels, axis, index, columns, level, inplace, errors)\u001b[0m\n\u001b[1;32m   4148\u001b[0m         \u001b[0;32mfor\u001b[0m \u001b[0maxis\u001b[0m\u001b[0;34m,\u001b[0m \u001b[0mlabels\u001b[0m \u001b[0;32min\u001b[0m \u001b[0maxes\u001b[0m\u001b[0;34m.\u001b[0m\u001b[0mitems\u001b[0m\u001b[0;34m(\u001b[0m\u001b[0;34m)\u001b[0m\u001b[0;34m:\u001b[0m\u001b[0;34m\u001b[0m\u001b[0;34m\u001b[0m\u001b[0m\n\u001b[1;32m   4149\u001b[0m             \u001b[0;32mif\u001b[0m \u001b[0mlabels\u001b[0m \u001b[0;32mis\u001b[0m \u001b[0;32mnot\u001b[0m \u001b[0;32mNone\u001b[0m\u001b[0;34m:\u001b[0m\u001b[0;34m\u001b[0m\u001b[0;34m\u001b[0m\u001b[0m\n\u001b[0;32m-> 4150\u001b[0;31m                 \u001b[0mobj\u001b[0m \u001b[0;34m=\u001b[0m \u001b[0mobj\u001b[0m\u001b[0;34m.\u001b[0m\u001b[0m_drop_axis\u001b[0m\u001b[0;34m(\u001b[0m\u001b[0mlabels\u001b[0m\u001b[0;34m,\u001b[0m \u001b[0maxis\u001b[0m\u001b[0;34m,\u001b[0m \u001b[0mlevel\u001b[0m\u001b[0;34m=\u001b[0m\u001b[0mlevel\u001b[0m\u001b[0;34m,\u001b[0m \u001b[0merrors\u001b[0m\u001b[0;34m=\u001b[0m\u001b[0merrors\u001b[0m\u001b[0;34m)\u001b[0m\u001b[0;34m\u001b[0m\u001b[0;34m\u001b[0m\u001b[0m\n\u001b[0m\u001b[1;32m   4151\u001b[0m \u001b[0;34m\u001b[0m\u001b[0m\n\u001b[1;32m   4152\u001b[0m         \u001b[0;32mif\u001b[0m \u001b[0minplace\u001b[0m\u001b[0;34m:\u001b[0m\u001b[0;34m\u001b[0m\u001b[0;34m\u001b[0m\u001b[0m\n",
            "\u001b[0;32m/usr/local/lib/python3.8/dist-packages/pandas/core/generic.py\u001b[0m in \u001b[0;36m_drop_axis\u001b[0;34m(self, labels, axis, level, errors)\u001b[0m\n\u001b[1;32m   4183\u001b[0m                 \u001b[0mnew_axis\u001b[0m \u001b[0;34m=\u001b[0m \u001b[0maxis\u001b[0m\u001b[0;34m.\u001b[0m\u001b[0mdrop\u001b[0m\u001b[0;34m(\u001b[0m\u001b[0mlabels\u001b[0m\u001b[0;34m,\u001b[0m \u001b[0mlevel\u001b[0m\u001b[0;34m=\u001b[0m\u001b[0mlevel\u001b[0m\u001b[0;34m,\u001b[0m \u001b[0merrors\u001b[0m\u001b[0;34m=\u001b[0m\u001b[0merrors\u001b[0m\u001b[0;34m)\u001b[0m\u001b[0;34m\u001b[0m\u001b[0;34m\u001b[0m\u001b[0m\n\u001b[1;32m   4184\u001b[0m             \u001b[0;32melse\u001b[0m\u001b[0;34m:\u001b[0m\u001b[0;34m\u001b[0m\u001b[0;34m\u001b[0m\u001b[0m\n\u001b[0;32m-> 4185\u001b[0;31m                 \u001b[0mnew_axis\u001b[0m \u001b[0;34m=\u001b[0m \u001b[0maxis\u001b[0m\u001b[0;34m.\u001b[0m\u001b[0mdrop\u001b[0m\u001b[0;34m(\u001b[0m\u001b[0mlabels\u001b[0m\u001b[0;34m,\u001b[0m \u001b[0merrors\u001b[0m\u001b[0;34m=\u001b[0m\u001b[0merrors\u001b[0m\u001b[0;34m)\u001b[0m\u001b[0;34m\u001b[0m\u001b[0;34m\u001b[0m\u001b[0m\n\u001b[0m\u001b[1;32m   4186\u001b[0m             \u001b[0mresult\u001b[0m \u001b[0;34m=\u001b[0m \u001b[0mself\u001b[0m\u001b[0;34m.\u001b[0m\u001b[0mreindex\u001b[0m\u001b[0;34m(\u001b[0m\u001b[0;34m**\u001b[0m\u001b[0;34m{\u001b[0m\u001b[0maxis_name\u001b[0m\u001b[0;34m:\u001b[0m \u001b[0mnew_axis\u001b[0m\u001b[0;34m}\u001b[0m\u001b[0;34m)\u001b[0m\u001b[0;34m\u001b[0m\u001b[0;34m\u001b[0m\u001b[0m\n\u001b[1;32m   4187\u001b[0m \u001b[0;34m\u001b[0m\u001b[0m\n",
            "\u001b[0;32m/usr/local/lib/python3.8/dist-packages/pandas/core/indexes/base.py\u001b[0m in \u001b[0;36mdrop\u001b[0;34m(self, labels, errors)\u001b[0m\n\u001b[1;32m   6015\u001b[0m         \u001b[0;32mif\u001b[0m \u001b[0mmask\u001b[0m\u001b[0;34m.\u001b[0m\u001b[0many\u001b[0m\u001b[0;34m(\u001b[0m\u001b[0;34m)\u001b[0m\u001b[0;34m:\u001b[0m\u001b[0;34m\u001b[0m\u001b[0;34m\u001b[0m\u001b[0m\n\u001b[1;32m   6016\u001b[0m             \u001b[0;32mif\u001b[0m \u001b[0merrors\u001b[0m \u001b[0;34m!=\u001b[0m \u001b[0;34m\"ignore\"\u001b[0m\u001b[0;34m:\u001b[0m\u001b[0;34m\u001b[0m\u001b[0;34m\u001b[0m\u001b[0m\n\u001b[0;32m-> 6017\u001b[0;31m                 \u001b[0;32mraise\u001b[0m \u001b[0mKeyError\u001b[0m\u001b[0;34m(\u001b[0m\u001b[0;34mf\"{labels[mask]} not found in axis\"\u001b[0m\u001b[0;34m)\u001b[0m\u001b[0;34m\u001b[0m\u001b[0;34m\u001b[0m\u001b[0m\n\u001b[0m\u001b[1;32m   6018\u001b[0m             \u001b[0mindexer\u001b[0m \u001b[0;34m=\u001b[0m \u001b[0mindexer\u001b[0m\u001b[0;34m[\u001b[0m\u001b[0;34m~\u001b[0m\u001b[0mmask\u001b[0m\u001b[0;34m]\u001b[0m\u001b[0;34m\u001b[0m\u001b[0;34m\u001b[0m\u001b[0m\n\u001b[1;32m   6019\u001b[0m         \u001b[0;32mreturn\u001b[0m \u001b[0mself\u001b[0m\u001b[0;34m.\u001b[0m\u001b[0mdelete\u001b[0m\u001b[0;34m(\u001b[0m\u001b[0mindexer\u001b[0m\u001b[0;34m)\u001b[0m\u001b[0;34m\u001b[0m\u001b[0;34m\u001b[0m\u001b[0m\n",
            "\u001b[0;31mKeyError\u001b[0m: '[882] not found in axis'"
          ]
        }
      ]
    },
    {
      "cell_type": "code",
      "source": [
        "ky_lr[ky_lr['Time Passed Since Publication'].isnull()].index.tolist()"
      ],
      "metadata": {
        "colab": {
          "base_uri": "https://localhost:8080/"
        },
        "id": "ZVCE7tU78xdN",
        "outputId": "3ad73733-2b21-4a98-b29f-8909ee158677"
      },
      "execution_count": null,
      "outputs": [
        {
          "output_type": "execute_result",
          "data": {
            "text/plain": [
              "[567, 818, 872]"
            ]
          },
          "metadata": {},
          "execution_count": 49
        }
      ]
    },
    {
      "cell_type": "code",
      "source": [
        "ky_lr = ky_lr.drop(labels=[603, 811], axis=0)"
      ],
      "metadata": {
        "id": "zwCz5OIi8yMR"
      },
      "execution_count": null,
      "outputs": []
    },
    {
      "cell_type": "code",
      "source": [
        "def mean_std_filling(column_name):    \n",
        "    mean = column_name.mean()\n",
        "    std = column_name.std()\n",
        "    is_null = column_name.isna().sum()\n",
        "    print('Mean:', mean, 'Std:', std, 'Null:', is_null)\n",
        "    rand_float = np.random.uniform(0, mean + std, size = is_null)\n",
        "    print('Numbers:', rand_float[:25])\n",
        "\n",
        "    column_name[np.isnan(column_name)] = rand_float\n",
        "    column_name = column_name.astype(float)"
      ],
      "metadata": {
        "id": "_SsBKF6w8zBJ"
      },
      "execution_count": null,
      "outputs": []
    },
    {
      "cell_type": "code",
      "source": [
        "mean_std_filling(ky_lr['Manufacturer Price'])"
      ],
      "metadata": {
        "colab": {
          "base_uri": "https://localhost:8080/"
        },
        "id": "hzgqy3b-80Cf",
        "outputId": "f2e05905-948b-4ecc-8f07-983c3d4fc2be"
      },
      "execution_count": null,
      "outputs": [
        {
          "output_type": "stream",
          "name": "stdout",
          "text": [
            "Mean: 65.59693621867882 Std: 49.64755179875965 Null: 1\n",
            "Numbers: [65.70625857]\n"
          ]
        },
        {
          "output_type": "stream",
          "name": "stderr",
          "text": [
            "<ipython-input-51-89a1961c8de6>:9: SettingWithCopyWarning: \n",
            "A value is trying to be set on a copy of a slice from a DataFrame\n",
            "\n",
            "See the caveats in the documentation: https://pandas.pydata.org/pandas-docs/stable/user_guide/indexing.html#returning-a-view-versus-a-copy\n",
            "  column_name[np.isnan(column_name)] = rand_float\n"
          ]
        }
      ]
    },
    {
      "cell_type": "code",
      "source": [
        "ky_lr[ky_lr['Type of the Paper'].isnull()].index.tolist()"
      ],
      "metadata": {
        "colab": {
          "base_uri": "https://localhost:8080/"
        },
        "id": "lhilxGhn81iV",
        "outputId": "fb2b68be-f4e7-4012-c212-35246aa5f5b1"
      },
      "execution_count": null,
      "outputs": [
        {
          "output_type": "execute_result",
          "data": {
            "text/plain": [
              "[687, 781]"
            ]
          },
          "metadata": {},
          "execution_count": 53
        }
      ]
    },
    {
      "cell_type": "code",
      "source": [
        "ky_lr.loc[684,'Type of the Paper'] = 2"
      ],
      "metadata": {
        "id": "8YAdNDoc82c3"
      },
      "execution_count": null,
      "outputs": []
    },
    {
      "cell_type": "code",
      "source": [
        "ky_lr.info()"
      ],
      "metadata": {
        "colab": {
          "base_uri": "https://localhost:8080/"
        },
        "id": "EeLgLdxG83e0",
        "outputId": "e08db4ff-8d41-47b7-9637-d5612402469d"
      },
      "execution_count": null,
      "outputs": [
        {
          "output_type": "stream",
          "name": "stdout",
          "text": [
            "<class 'pandas.core.frame.DataFrame'>\n",
            "Int64Index: 879 entries, 0 to 880\n",
            "Data columns (total 14 columns):\n",
            " #   Column                         Non-Null Count  Dtype  \n",
            "---  ------                         --------------  -----  \n",
            " 0   Name of the Book               441 non-null    object \n",
            " 1   Purchase Info                  878 non-null    float64\n",
            " 2   Number of Pages                873 non-null    float64\n",
            " 3   Type of the Book Cover         878 non-null    float64\n",
            " 4   Type of the Paper              877 non-null    float64\n",
            " 5   Rate                           879 non-null    float64\n",
            " 6   Rating Count                   879 non-null    int64  \n",
            " 7   Review Count                   879 non-null    int64  \n",
            " 8   Fav Count                      879 non-null    int64  \n",
            " 9   To-Read List Count             877 non-null    float64\n",
            " 10  Price                          879 non-null    float64\n",
            " 11  Discount                       879 non-null    float64\n",
            " 12  Manufacturer Price             879 non-null    float64\n",
            " 13  Time Passed Since Publication  876 non-null    float64\n",
            "dtypes: float64(10), int64(3), object(1)\n",
            "memory usage: 135.3+ KB\n"
          ]
        }
      ]
    },
    {
      "cell_type": "code",
      "source": [
        "from sklearn.model_selection import train_test_split\n",
        "ky_lr = ky_lr.dropna()\n",
        "X = ky_lr.loc[:,ky_lr.columns != \"Price\"]\n",
        "y = ky_lr.Price\n",
        "X = X.drop(['Name of the Book'],axis=1)\n",
        "# Train/Test \n",
        "X_train, x_test, Y_train, y_test = train_test_split(X, y, test_size=0.2, random_state=42)\n",
        "\n",
        "# Train/Validation \n",
        "x_train, x_cv, y_train, y_cv = train_test_split(X_train, Y_train, test_size=0.2, random_state=42)"
      ],
      "metadata": {
        "id": "tLywNyVM85xh"
      },
      "execution_count": null,
      "outputs": []
    },
    {
      "cell_type": "code",
      "source": [
        "print('X Train:', x_train.shape)\n",
        "print('X Validation:', x_cv.shape)\n",
        "print('X test:', x_test.shape)"
      ],
      "metadata": {
        "colab": {
          "base_uri": "https://localhost:8080/"
        },
        "id": "KAvsoXit87rV",
        "outputId": "63320a62-a32d-496c-cea6-46985764ec8d"
      },
      "execution_count": null,
      "outputs": [
        {
          "output_type": "stream",
          "name": "stdout",
          "text": [
            "X Train: (281, 12)\n",
            "X Validation: (71, 12)\n",
            "X test: (88, 12)\n"
          ]
        }
      ]
    },
    {
      "cell_type": "code",
      "source": [
        "x_train"
      ],
      "metadata": {
        "colab": {
          "base_uri": "https://localhost:8080/",
          "height": 424
        },
        "id": "U95Yx-T5HQJw",
        "outputId": "5df67004-e19f-4580-d9e5-c551798eaca7"
      },
      "execution_count": null,
      "outputs": [
        {
          "output_type": "execute_result",
          "data": {
            "text/plain": [
              "     Purchase Info  Number of Pages  Type of the Book Cover  \\\n",
              "197        29660.0            510.0                     1.0   \n",
              "331        11551.0            476.0                     1.0   \n",
              "322         2936.0             72.0                     1.0   \n",
              "431          828.0            144.0                     1.0   \n",
              "173        12175.0            296.0                     1.0   \n",
              "..             ...              ...                     ...   \n",
              "237        13496.0            408.0                     1.0   \n",
              "362        15059.0            632.0                     1.0   \n",
              "303         1050.0            296.0                     1.0   \n",
              "270         5020.0            632.0                     1.0   \n",
              "167         1879.0            152.0                     1.0   \n",
              "\n",
              "     Type of the Paper  Rate  Rating Count  Review Count  Fav Count  \\\n",
              "197                2.0   5.0          3371          1842      12921   \n",
              "331                2.0   4.0           893           371       6257   \n",
              "322                2.0   5.0            68            31        975   \n",
              "431                2.0   4.0            15             8        501   \n",
              "173                2.0   4.0           898           494       9547   \n",
              "..                 ...   ...           ...           ...        ...   \n",
              "237                1.0   5.0           751           353       8256   \n",
              "362                2.0   5.0          1103           591       9130   \n",
              "303                2.0   5.0            25            15        837   \n",
              "270                2.0   5.0           244           146       2444   \n",
              "167                2.0   5.0            70            35       1717   \n",
              "\n",
              "     To-Read List Count  Discount  Manufacturer Price  \\\n",
              "197              1381.0     18.00                72.0   \n",
              "331               702.0     33.32                98.0   \n",
              "322                92.0      2.10                10.0   \n",
              "431                50.0     22.00                55.0   \n",
              "173               687.0     25.19                94.0   \n",
              "..                  ...       ...                 ...   \n",
              "237               614.0     30.02                95.0   \n",
              "362               837.0     61.20               180.0   \n",
              "303                77.0     31.16                89.0   \n",
              "270               139.0     38.50               110.0   \n",
              "167                96.0     13.60                40.0   \n",
              "\n",
              "     Time Passed Since Publication  \n",
              "197                         3930.0  \n",
              "331                         1267.0  \n",
              "322                          744.0  \n",
              "431                          236.0  \n",
              "173                          718.0  \n",
              "..                             ...  \n",
              "237                         1064.0  \n",
              "362                         1119.0  \n",
              "303                          166.0  \n",
              "270                          348.0  \n",
              "167                          689.0  \n",
              "\n",
              "[281 rows x 12 columns]"
            ],
            "text/html": [
              "\n",
              "  <div id=\"df-1436ff7f-1abd-414b-a5a4-01476f2eed45\">\n",
              "    <div class=\"colab-df-container\">\n",
              "      <div>\n",
              "<style scoped>\n",
              "    .dataframe tbody tr th:only-of-type {\n",
              "        vertical-align: middle;\n",
              "    }\n",
              "\n",
              "    .dataframe tbody tr th {\n",
              "        vertical-align: top;\n",
              "    }\n",
              "\n",
              "    .dataframe thead th {\n",
              "        text-align: right;\n",
              "    }\n",
              "</style>\n",
              "<table border=\"1\" class=\"dataframe\">\n",
              "  <thead>\n",
              "    <tr style=\"text-align: right;\">\n",
              "      <th></th>\n",
              "      <th>Purchase Info</th>\n",
              "      <th>Number of Pages</th>\n",
              "      <th>Type of the Book Cover</th>\n",
              "      <th>Type of the Paper</th>\n",
              "      <th>Rate</th>\n",
              "      <th>Rating Count</th>\n",
              "      <th>Review Count</th>\n",
              "      <th>Fav Count</th>\n",
              "      <th>To-Read List Count</th>\n",
              "      <th>Discount</th>\n",
              "      <th>Manufacturer Price</th>\n",
              "      <th>Time Passed Since Publication</th>\n",
              "    </tr>\n",
              "  </thead>\n",
              "  <tbody>\n",
              "    <tr>\n",
              "      <th>197</th>\n",
              "      <td>29660.0</td>\n",
              "      <td>510.0</td>\n",
              "      <td>1.0</td>\n",
              "      <td>2.0</td>\n",
              "      <td>5.0</td>\n",
              "      <td>3371</td>\n",
              "      <td>1842</td>\n",
              "      <td>12921</td>\n",
              "      <td>1381.0</td>\n",
              "      <td>18.00</td>\n",
              "      <td>72.0</td>\n",
              "      <td>3930.0</td>\n",
              "    </tr>\n",
              "    <tr>\n",
              "      <th>331</th>\n",
              "      <td>11551.0</td>\n",
              "      <td>476.0</td>\n",
              "      <td>1.0</td>\n",
              "      <td>2.0</td>\n",
              "      <td>4.0</td>\n",
              "      <td>893</td>\n",
              "      <td>371</td>\n",
              "      <td>6257</td>\n",
              "      <td>702.0</td>\n",
              "      <td>33.32</td>\n",
              "      <td>98.0</td>\n",
              "      <td>1267.0</td>\n",
              "    </tr>\n",
              "    <tr>\n",
              "      <th>322</th>\n",
              "      <td>2936.0</td>\n",
              "      <td>72.0</td>\n",
              "      <td>1.0</td>\n",
              "      <td>2.0</td>\n",
              "      <td>5.0</td>\n",
              "      <td>68</td>\n",
              "      <td>31</td>\n",
              "      <td>975</td>\n",
              "      <td>92.0</td>\n",
              "      <td>2.10</td>\n",
              "      <td>10.0</td>\n",
              "      <td>744.0</td>\n",
              "    </tr>\n",
              "    <tr>\n",
              "      <th>431</th>\n",
              "      <td>828.0</td>\n",
              "      <td>144.0</td>\n",
              "      <td>1.0</td>\n",
              "      <td>2.0</td>\n",
              "      <td>4.0</td>\n",
              "      <td>15</td>\n",
              "      <td>8</td>\n",
              "      <td>501</td>\n",
              "      <td>50.0</td>\n",
              "      <td>22.00</td>\n",
              "      <td>55.0</td>\n",
              "      <td>236.0</td>\n",
              "    </tr>\n",
              "    <tr>\n",
              "      <th>173</th>\n",
              "      <td>12175.0</td>\n",
              "      <td>296.0</td>\n",
              "      <td>1.0</td>\n",
              "      <td>2.0</td>\n",
              "      <td>4.0</td>\n",
              "      <td>898</td>\n",
              "      <td>494</td>\n",
              "      <td>9547</td>\n",
              "      <td>687.0</td>\n",
              "      <td>25.19</td>\n",
              "      <td>94.0</td>\n",
              "      <td>718.0</td>\n",
              "    </tr>\n",
              "    <tr>\n",
              "      <th>...</th>\n",
              "      <td>...</td>\n",
              "      <td>...</td>\n",
              "      <td>...</td>\n",
              "      <td>...</td>\n",
              "      <td>...</td>\n",
              "      <td>...</td>\n",
              "      <td>...</td>\n",
              "      <td>...</td>\n",
              "      <td>...</td>\n",
              "      <td>...</td>\n",
              "      <td>...</td>\n",
              "      <td>...</td>\n",
              "    </tr>\n",
              "    <tr>\n",
              "      <th>237</th>\n",
              "      <td>13496.0</td>\n",
              "      <td>408.0</td>\n",
              "      <td>1.0</td>\n",
              "      <td>1.0</td>\n",
              "      <td>5.0</td>\n",
              "      <td>751</td>\n",
              "      <td>353</td>\n",
              "      <td>8256</td>\n",
              "      <td>614.0</td>\n",
              "      <td>30.02</td>\n",
              "      <td>95.0</td>\n",
              "      <td>1064.0</td>\n",
              "    </tr>\n",
              "    <tr>\n",
              "      <th>362</th>\n",
              "      <td>15059.0</td>\n",
              "      <td>632.0</td>\n",
              "      <td>1.0</td>\n",
              "      <td>2.0</td>\n",
              "      <td>5.0</td>\n",
              "      <td>1103</td>\n",
              "      <td>591</td>\n",
              "      <td>9130</td>\n",
              "      <td>837.0</td>\n",
              "      <td>61.20</td>\n",
              "      <td>180.0</td>\n",
              "      <td>1119.0</td>\n",
              "    </tr>\n",
              "    <tr>\n",
              "      <th>303</th>\n",
              "      <td>1050.0</td>\n",
              "      <td>296.0</td>\n",
              "      <td>1.0</td>\n",
              "      <td>2.0</td>\n",
              "      <td>5.0</td>\n",
              "      <td>25</td>\n",
              "      <td>15</td>\n",
              "      <td>837</td>\n",
              "      <td>77.0</td>\n",
              "      <td>31.16</td>\n",
              "      <td>89.0</td>\n",
              "      <td>166.0</td>\n",
              "    </tr>\n",
              "    <tr>\n",
              "      <th>270</th>\n",
              "      <td>5020.0</td>\n",
              "      <td>632.0</td>\n",
              "      <td>1.0</td>\n",
              "      <td>2.0</td>\n",
              "      <td>5.0</td>\n",
              "      <td>244</td>\n",
              "      <td>146</td>\n",
              "      <td>2444</td>\n",
              "      <td>139.0</td>\n",
              "      <td>38.50</td>\n",
              "      <td>110.0</td>\n",
              "      <td>348.0</td>\n",
              "    </tr>\n",
              "    <tr>\n",
              "      <th>167</th>\n",
              "      <td>1879.0</td>\n",
              "      <td>152.0</td>\n",
              "      <td>1.0</td>\n",
              "      <td>2.0</td>\n",
              "      <td>5.0</td>\n",
              "      <td>70</td>\n",
              "      <td>35</td>\n",
              "      <td>1717</td>\n",
              "      <td>96.0</td>\n",
              "      <td>13.60</td>\n",
              "      <td>40.0</td>\n",
              "      <td>689.0</td>\n",
              "    </tr>\n",
              "  </tbody>\n",
              "</table>\n",
              "<p>281 rows × 12 columns</p>\n",
              "</div>\n",
              "      <button class=\"colab-df-convert\" onclick=\"convertToInteractive('df-1436ff7f-1abd-414b-a5a4-01476f2eed45')\"\n",
              "              title=\"Convert this dataframe to an interactive table.\"\n",
              "              style=\"display:none;\">\n",
              "        \n",
              "  <svg xmlns=\"http://www.w3.org/2000/svg\" height=\"24px\"viewBox=\"0 0 24 24\"\n",
              "       width=\"24px\">\n",
              "    <path d=\"M0 0h24v24H0V0z\" fill=\"none\"/>\n",
              "    <path d=\"M18.56 5.44l.94 2.06.94-2.06 2.06-.94-2.06-.94-.94-2.06-.94 2.06-2.06.94zm-11 1L8.5 8.5l.94-2.06 2.06-.94-2.06-.94L8.5 2.5l-.94 2.06-2.06.94zm10 10l.94 2.06.94-2.06 2.06-.94-2.06-.94-.94-2.06-.94 2.06-2.06.94z\"/><path d=\"M17.41 7.96l-1.37-1.37c-.4-.4-.92-.59-1.43-.59-.52 0-1.04.2-1.43.59L10.3 9.45l-7.72 7.72c-.78.78-.78 2.05 0 2.83L4 21.41c.39.39.9.59 1.41.59.51 0 1.02-.2 1.41-.59l7.78-7.78 2.81-2.81c.8-.78.8-2.07 0-2.86zM5.41 20L4 18.59l7.72-7.72 1.47 1.35L5.41 20z\"/>\n",
              "  </svg>\n",
              "      </button>\n",
              "      \n",
              "  <style>\n",
              "    .colab-df-container {\n",
              "      display:flex;\n",
              "      flex-wrap:wrap;\n",
              "      gap: 12px;\n",
              "    }\n",
              "\n",
              "    .colab-df-convert {\n",
              "      background-color: #E8F0FE;\n",
              "      border: none;\n",
              "      border-radius: 50%;\n",
              "      cursor: pointer;\n",
              "      display: none;\n",
              "      fill: #1967D2;\n",
              "      height: 32px;\n",
              "      padding: 0 0 0 0;\n",
              "      width: 32px;\n",
              "    }\n",
              "\n",
              "    .colab-df-convert:hover {\n",
              "      background-color: #E2EBFA;\n",
              "      box-shadow: 0px 1px 2px rgba(60, 64, 67, 0.3), 0px 1px 3px 1px rgba(60, 64, 67, 0.15);\n",
              "      fill: #174EA6;\n",
              "    }\n",
              "\n",
              "    [theme=dark] .colab-df-convert {\n",
              "      background-color: #3B4455;\n",
              "      fill: #D2E3FC;\n",
              "    }\n",
              "\n",
              "    [theme=dark] .colab-df-convert:hover {\n",
              "      background-color: #434B5C;\n",
              "      box-shadow: 0px 1px 3px 1px rgba(0, 0, 0, 0.15);\n",
              "      filter: drop-shadow(0px 1px 2px rgba(0, 0, 0, 0.3));\n",
              "      fill: #FFFFFF;\n",
              "    }\n",
              "  </style>\n",
              "\n",
              "      <script>\n",
              "        const buttonEl =\n",
              "          document.querySelector('#df-1436ff7f-1abd-414b-a5a4-01476f2eed45 button.colab-df-convert');\n",
              "        buttonEl.style.display =\n",
              "          google.colab.kernel.accessAllowed ? 'block' : 'none';\n",
              "\n",
              "        async function convertToInteractive(key) {\n",
              "          const element = document.querySelector('#df-1436ff7f-1abd-414b-a5a4-01476f2eed45');\n",
              "          const dataTable =\n",
              "            await google.colab.kernel.invokeFunction('convertToInteractive',\n",
              "                                                     [key], {});\n",
              "          if (!dataTable) return;\n",
              "\n",
              "          const docLinkHtml = 'Like what you see? Visit the ' +\n",
              "            '<a target=\"_blank\" href=https://colab.research.google.com/notebooks/data_table.ipynb>data table notebook</a>'\n",
              "            + ' to learn more about interactive tables.';\n",
              "          element.innerHTML = '';\n",
              "          dataTable['output_type'] = 'display_data';\n",
              "          await google.colab.output.renderOutput(dataTable, element);\n",
              "          const docLink = document.createElement('div');\n",
              "          docLink.innerHTML = docLinkHtml;\n",
              "          element.appendChild(docLink);\n",
              "        }\n",
              "      </script>\n",
              "    </div>\n",
              "  </div>\n",
              "  "
            ]
          },
          "metadata": {},
          "execution_count": 72
        }
      ]
    },
    {
      "cell_type": "code",
      "source": [
        "from sklearn.linear_model import LinearRegression\n",
        "\n",
        "# Model Construction\n",
        "lreg = LinearRegression()\n",
        "\n",
        "lreg.fit(x_train,y_train)\n",
        "\n",
        "pred = lreg.predict(x_cv)\n",
        "\n",
        "# MSE \n",
        "mse = np.mean((pred - y_cv)**2)\n",
        "print(\"MSE: \", mse)\n",
        "\n",
        "# R2 Score\n",
        "print(\"R2 Score: \", lreg.score(x_cv, y_cv))"
      ],
      "metadata": {
        "colab": {
          "base_uri": "https://localhost:8080/"
        },
        "id": "LKrLKbV888gf",
        "outputId": "1421946c-e726-4e99-ba04-eee5b6fdc1af"
      },
      "execution_count": null,
      "outputs": [
        {
          "output_type": "stream",
          "name": "stdout",
          "text": [
            "MSE:  1.6174930762668323e-07\n",
            "R2 Score:  0.9999999997111438\n"
          ]
        }
      ]
    },
    {
      "cell_type": "code",
      "source": [
        "import seaborn as sns\n",
        "import matplotlib.pyplot as plt"
      ],
      "metadata": {
        "id": "acxgZ6F989rx"
      },
      "execution_count": null,
      "outputs": []
    },
    {
      "cell_type": "code",
      "source": [
        "def extract_whiskers(data):\n",
        "    median_value = np.median(data) # Median\n",
        "    upper_quartile = np.percentile(data, 75) # 75%\n",
        "    lower_quartile = np.percentile(data, 25) # 25% \n",
        "\n",
        "    iqr = upper_quartile - lower_quartile # Interquartile Range\n",
        "    upper = data[data<=upper_quartile+1.5*iqr].max()\n",
        "    print(\"Upper Whisker:\", data[data<=upper_quartile+1.5*iqr].max()) # Max\n",
        "    #print(\"Lower Whisker:\", data[data>=lower_quartile-1.5*iqr].min()) # Min\n",
        "    return upper"
      ],
      "metadata": {
        "id": "VNByVMkO8-aB"
      },
      "execution_count": null,
      "outputs": []
    },
    {
      "cell_type": "code",
      "source": [
        "ky_lr.columns"
      ],
      "metadata": {
        "colab": {
          "base_uri": "https://localhost:8080/"
        },
        "id": "DFNZ8zv78_PF",
        "outputId": "0859942a-7a58-4900-bfee-74cc0f259bbd"
      },
      "execution_count": null,
      "outputs": [
        {
          "output_type": "execute_result",
          "data": {
            "text/plain": [
              "Index(['Name of the Book', 'Purchase Info', 'Number of Pages',\n",
              "       'Type of the Book Cover', 'Type of the Paper', 'Rate', 'Rating Count',\n",
              "       'Review Count', 'Fav Count', 'To-Read List Count', 'Price', 'Discount',\n",
              "       'Manufacturer Price', 'Time Passed Since Publication'],\n",
              "      dtype='object')"
            ]
          },
          "metadata": {},
          "execution_count": 76
        }
      ]
    },
    {
      "cell_type": "code",
      "source": [
        "fig, axes = plt.subplots(2, 3)\n",
        "sns.histplot(data = ky_lr['Purchase Info'], kde=True, ax=axes[0,0]).set_title(\"Purchase Info\")\n",
        "sns.histplot(data = ky_lr['Rating Count'], kde=True, ax=axes[0,1]).set_title(\"Rating Count\")\n",
        "sns.histplot(data = ky_lr['Review Count'], kde=True, ax=axes[0,2]).set_title(\"Review Count\")\n",
        "sns.histplot(data = ky_lr['Discount'], kde=True, ax=axes[1,0]).set_title(\"Discount\")\n",
        "sns.histplot(data = ky_lr['Fav Count'], kde=True, ax=axes[1,1]).set_title(\"Fav Count\")\n",
        "sns.histplot(data = ky_lr['Time Passed Since Publication'], kde=True, ax=axes[1,2]).set_title(\"Time Passed Since Publication\")\n",
        "\n",
        "\n",
        "fig.set_figheight(10)\n",
        "fig.set_figwidth(15)\n",
        "fig.tight_layout(h_pad=5, w_pad=5)"
      ],
      "metadata": {
        "colab": {
          "base_uri": "https://localhost:8080/",
          "height": 729
        },
        "id": "3866C_Tg9DOP",
        "outputId": "cab6d024-133f-40f6-e64f-29243271b5cd"
      },
      "execution_count": null,
      "outputs": [
        {
          "output_type": "display_data",
          "data": {
            "text/plain": [
              "<Figure size 1080x720 with 6 Axes>"
            ],
            "image/png": "[encoded data removed]"
          },
          "metadata": {
            "needs_background": "light"
          }
        }
      ]
    },
    {
      "cell_type": "code",
      "source": [
        "extract_whiskers(ky_lr['Purchase Info'])"
      ],
      "metadata": {
        "colab": {
          "base_uri": "https://localhost:8080/"
        },
        "id": "kCkO7oq69EO9",
        "outputId": "1a0d5be4-00e2-462d-a515-9a795a42d23b"
      },
      "execution_count": null,
      "outputs": [
        {
          "output_type": "stream",
          "name": "stdout",
          "text": [
            "Upper Whisker: 32962.0\n"
          ]
        },
        {
          "output_type": "execute_result",
          "data": {
            "text/plain": [
              "32962.0"
            ]
          },
          "metadata": {},
          "execution_count": 78
        }
      ]
    },
    {
      "cell_type": "code",
      "source": [
        "pi = extract_whiskers(ky_lr['Purchase Info'])\n",
        "rac = extract_whiskers(ky_lr['Rating Count'])\n",
        "rec = extract_whiskers(ky_lr['Review Count'])\n",
        "dc = extract_whiskers(ky_lr['Discount'])\n",
        "fc = extract_whiskers(ky_lr['Fav Count'])\n",
        "tsp = extract_whiskers(ky_lr['Time Passed Since Publication'])"
      ],
      "metadata": {
        "colab": {
          "base_uri": "https://localhost:8080/"
        },
        "id": "QDeZHNYM9FTv",
        "outputId": "c55ffd8c-fb90-4c7a-8983-3ce1af7689c7"
      },
      "execution_count": null,
      "outputs": [
        {
          "output_type": "stream",
          "name": "stdout",
          "text": [
            "Upper Whisker: 32962.0\n",
            "Upper Whisker: 2421\n",
            "Upper Whisker: 1203\n",
            "Upper Whisker: 60.0\n",
            "Upper Whisker: 14770\n",
            "Upper Whisker: 2324.0\n"
          ]
        }
      ]
    },
    {
      "cell_type": "code",
      "source": [
        "ky_lr = ky_lr.loc[ky_lr['Purchase Info'] <= pi]\n",
        "ky_lr = ky_lr.loc[ky_lr['Rating Count'] <= rac]\n",
        "ky_lr = ky_lr.loc[ky_lr['Review Count'] <= rec]\n",
        "ky_lr = ky_lr.loc[ky_lr['Discount'] <= dc]\n",
        "ky_lr = ky_lr.loc[ky_lr['Fav Count'] <= fc]\n",
        "ky_lr = ky_lr.loc[ky_lr['Time Passed Since Publication'] <= tsp]"
      ],
      "metadata": {
        "id": "xfZmECFj9GIV"
      },
      "execution_count": null,
      "outputs": []
    },
    {
      "cell_type": "code",
      "source": [
        "fig, axes = plt.subplots(2, 3)\n",
        "sns.histplot(data = ky_lr['Purchase Info'], kde=True, ax=axes[0,0]).set_title(\"Purchase Info\")\n",
        "sns.histplot(data = ky_lr['Rating Count'], kde=True, ax=axes[0,1]).set_title(\"Rating Count\")\n",
        "sns.histplot(data = ky_lr['Review Count'], kde=True, ax=axes[0,2]).set_title(\"Review Count\")\n",
        "sns.histplot(data = ky_lr['Discount'], kde=True, ax=axes[1,0]).set_title(\"Discount\")\n",
        "sns.histplot(data = ky_lr['Fav Count'], kde=True, ax=axes[1,1]).set_title(\"Fav Count\")\n",
        "sns.histplot(data = ky_lr['Time Passed Since Publication'], kde=True, ax=axes[1,2]).set_title(\"Time Passed Since Publication\")\n",
        "\n",
        "\n",
        "fig.set_figheight(10)\n",
        "fig.set_figwidth(15)\n",
        "fig.tight_layout(h_pad=5, w_pad=5)"
      ],
      "metadata": {
        "colab": {
          "base_uri": "https://localhost:8080/",
          "height": 729
        },
        "id": "5aDXN0kK9HG1",
        "outputId": "d83b826b-ca05-4836-a5ae-70fa576d7bf9"
      },
      "execution_count": null,
      "outputs": [
        {
          "output_type": "display_data",
          "data": {
            "text/plain": [
              "<Figure size 1080x720 with 6 Axes>"
            ],
            "image/png": "[encoded data removed]"
          },
          "metadata": {
            "needs_background": "light"
          }
        }
      ]
    },
    {
      "cell_type": "code",
      "source": [
        "ky_lr['Purchase Info Log'] = np.log(ky_lr['Purchase Info'])\n",
        "sns.histplot(data = ky_lr['Purchase Info Log'], kde=True);"
      ],
      "metadata": {
        "colab": {
          "base_uri": "https://localhost:8080/",
          "height": 279
        },
        "id": "MOzJNGt39ISD",
        "outputId": "bb609dd5-069a-4de7-dbe2-d7343512f349"
      },
      "execution_count": null,
      "outputs": [
        {
          "output_type": "display_data",
          "data": {
            "text/plain": [
              "<Figure size 432x288 with 1 Axes>"
            ],
            "image/png": "[encoded data removed]"
          },
          "metadata": {
            "needs_background": "light"
          }
        }
      ]
    },
    {
      "cell_type": "code",
      "source": [
        "ky_lr['Fav Count Log'] = np.log(ky_lr['Fav Count'])\n",
        "sns.histplot(data = ky_lr['Fav Count Log'], kde=True);"
      ],
      "metadata": {
        "colab": {
          "base_uri": "https://localhost:8080/",
          "height": 279
        },
        "id": "1FRwRqxL9JA9",
        "outputId": "ed007e53-0c2f-4cc1-860e-dffc1a29c760"
      },
      "execution_count": null,
      "outputs": [
        {
          "output_type": "display_data",
          "data": {
            "text/plain": [
              "<Figure size 432x288 with 1 Axes>"
            ],
            "image/png": "[encoded data removed]"
          },
          "metadata": {
            "needs_background": "light"
          }
        }
      ]
    },
    {
      "cell_type": "code",
      "source": [
        "ky_lr['Review Count Log'] = np.log(ky_lr['Review Count'])\n",
        "sns.histplot(data = ky_lr['Review Count Log'], kde=True);"
      ],
      "metadata": {
        "colab": {
          "base_uri": "https://localhost:8080/",
          "height": 279
        },
        "id": "bOyyxQ-P9JxP",
        "outputId": "7b807369-8847-4674-d68b-f601e0056407"
      },
      "execution_count": null,
      "outputs": [
        {
          "output_type": "display_data",
          "data": {
            "text/plain": [
              "<Figure size 432x288 with 1 Axes>"
            ],
            "image/png": "[encoded data removed]"
          },
          "metadata": {
            "needs_background": "light"
          }
        }
      ]
    },
    {
      "cell_type": "code",
      "source": [
        "ky_lr['Rating Count Log'] = np.log(ky_lr['Rating Count'])\n",
        "sns.histplot(data = ky_lr['Rating Count Log'], kde=True);"
      ],
      "metadata": {
        "colab": {
          "base_uri": "https://localhost:8080/",
          "height": 279
        },
        "id": "-ocpuzKo9Klz",
        "outputId": "7e69ff1b-c492-491b-d3c6-3a9d0e4a80a3"
      },
      "execution_count": null,
      "outputs": [
        {
          "output_type": "display_data",
          "data": {
            "text/plain": [
              "<Figure size 432x288 with 1 Axes>"
            ],
            "image/png": "[encoded data removed]"
          },
          "metadata": {
            "needs_background": "light"
          }
        }
      ]
    },
    {
      "cell_type": "code",
      "source": [
        "fig, axes = plt.subplots(1, 4)\n",
        "sns.histplot(data = ky_lr['Purchase Info Log'], kde=True, ax=axes[0]).set_title(\"Purchase Info Log\");\n",
        "sns.histplot(data = ky_lr['Fav Count Log'], kde=True, ax=axes[1]).set_title(\"Fav Count Log\");\n",
        "sns.histplot(data = ky_lr['Review Count Log'], kde=True, ax=axes[2]).set_title(\"Review Count Log\");\n",
        "sns.histplot(data = ky_lr['Rating Count Log'], kde=True, ax=axes[3]).set_title(\"Rating Count Log\");\n",
        "\n",
        "fig.set_figheight(4)\n",
        "fig.set_figwidth(15)\n",
        "fig.tight_layout(h_pad=5, w_pad=5)"
      ],
      "metadata": {
        "colab": {
          "base_uri": "https://localhost:8080/",
          "height": 297
        },
        "id": "vgjmjrM19L9F",
        "outputId": "b0cb5b00-8ab1-4c0a-fb11-e7342ce5a85c"
      },
      "execution_count": null,
      "outputs": [
        {
          "output_type": "display_data",
          "data": {
            "text/plain": [
              "<Figure size 1080x288 with 4 Axes>"
            ],
            "image/png": "[encoded data removed]"
          },
          "metadata": {
            "needs_background": "light"
          }
        }
      ]
    },
    {
      "cell_type": "code",
      "source": [
        "ky_lr = ky_lr.drop([\"Purchase Info\",\"Fav Count\", \"Review Count\",\"Rating Count\"], axis=1)"
      ],
      "metadata": {
        "id": "nwxbfCz99PzH"
      },
      "execution_count": null,
      "outputs": []
    },
    {
      "cell_type": "code",
      "source": [
        "ky_lr"
      ],
      "metadata": {
        "colab": {
          "base_uri": "https://localhost:8080/",
          "height": 502
        },
        "id": "fp9QoUbo9Qw0",
        "outputId": "e91ca1d5-dfc1-4325-e615-0ace162483ab"
      },
      "execution_count": null,
      "outputs": [
        {
          "output_type": "execute_result",
          "data": {
            "text/plain": [
              "                              Name of the Book  Number of Pages  \\\n",
              "7                            Kaplanın Sırtında            324.0   \n",
              "12                                       Çeyiz            176.0   \n",
              "13                       Tiamat (Karton Kapak)            160.0   \n",
              "16                       Kayıp Tanrılar Ülkesi            504.0   \n",
              "18                              Bir Aşk Masalı            256.0   \n",
              "..                                         ...              ...   \n",
              "433                    Allah Cümlemizi Korusun            141.0   \n",
              "434                    Dindar Bir Doktor Hanım            296.0   \n",
              "435                                Zürafa Sözü             68.0   \n",
              "438                             Coşkuyla Ölmek            191.0   \n",
              "440  Olağanüstü Bir Gece (Cep Boy) (Tam Metin)             63.0   \n",
              "\n",
              "     Type of the Book Cover  Type of the Paper  Rate  To-Read List Count  \\\n",
              "7                       1.0                2.0   5.0               786.0   \n",
              "12                      1.0                2.0   5.0               374.0   \n",
              "13                      1.0                2.0   4.0               446.0   \n",
              "16                      1.0                2.0   5.0              1538.0   \n",
              "18                      1.0                2.0   4.0               659.0   \n",
              "..                      ...                ...   ...                 ...   \n",
              "433                     1.0                2.0   5.0               305.0   \n",
              "434                     1.0                2.0   5.0               353.0   \n",
              "435                     1.0                2.0   5.0                43.0   \n",
              "438                     1.0                2.0   5.0               174.0   \n",
              "440                     1.0                2.0   4.0               109.0   \n",
              "\n",
              "     Price  Discount  Manufacturer Price  Time Passed Since Publication  \\\n",
              "7    52.71     32.29                85.0                          170.0   \n",
              "12   34.48     25.52                60.0                           70.0   \n",
              "13   29.97     15.03                45.0                          300.0   \n",
              "16   47.58     47.42                95.0                          152.0   \n",
              "18   35.24     24.76                60.0                           63.0   \n",
              "..     ...       ...                 ...                            ...   \n",
              "433  29.70     15.30                45.0                         1099.0   \n",
              "434  52.49     22.51                75.0                          487.0   \n",
              "435  33.48     11.52                45.0                          693.0   \n",
              "438  53.44     19.56                73.0                           40.0   \n",
              "440   4.90      2.10                 7.0                         1308.0   \n",
              "\n",
              "     Purchase Info Log  Fav Count Log  Review Count Log  Rating Count Log  \n",
              "7             9.572550       8.850518          5.049856          5.525453  \n",
              "12            9.186560       7.750184          4.204693          4.499810  \n",
              "13            9.152817       8.172447          5.030438          5.620401  \n",
              "16           10.359265       9.275754          6.320768          6.792344  \n",
              "18            9.134862       8.261268          4.317488          4.779123  \n",
              "..                 ...            ...               ...               ...  \n",
              "433           9.209640       7.857868          5.713733          6.484635  \n",
              "434           9.243485       8.289288          5.529429          6.188264  \n",
              "435           7.738052       6.126869          3.583519          4.127134  \n",
              "438           8.253748       7.721792          4.736198          5.476464  \n",
              "440           8.969033       7.116394          4.276666          5.225747  \n",
              "\n",
              "[361 rows x 14 columns]"
            ],
            "text/html": [
              "\n",
              "  <div id=\"df-076eacf9-cec0-43c4-9af1-2e1d4565dde3\">\n",
              "    <div class=\"colab-df-container\">\n",
              "      <div>\n",
              "<style scoped>\n",
              "    .dataframe tbody tr th:only-of-type {\n",
              "        vertical-align: middle;\n",
              "    }\n",
              "\n",
              "    .dataframe tbody tr th {\n",
              "        vertical-align: top;\n",
              "    }\n",
              "\n",
              "    .dataframe thead th {\n",
              "        text-align: right;\n",
              "    }\n",
              "</style>\n",
              "<table border=\"1\" class=\"dataframe\">\n",
              "  <thead>\n",
              "    <tr style=\"text-align: right;\">\n",
              "      <th></th>\n",
              "      <th>Name of the Book</th>\n",
              "      <th>Number of Pages</th>\n",
              "      <th>Type of the Book Cover</th>\n",
              "      <th>Type of the Paper</th>\n",
              "      <th>Rate</th>\n",
              "      <th>To-Read List Count</th>\n",
              "      <th>Price</th>\n",
              "      <th>Discount</th>\n",
              "      <th>Manufacturer Price</th>\n",
              "      <th>Time Passed Since Publication</th>\n",
              "      <th>Purchase Info Log</th>\n",
              "      <th>Fav Count Log</th>\n",
              "      <th>Review Count Log</th>\n",
              "      <th>Rating Count Log</th>\n",
              "    </tr>\n",
              "  </thead>\n",
              "  <tbody>\n",
              "    <tr>\n",
              "      <th>7</th>\n",
              "      <td>Kaplanın Sırtında</td>\n",
              "      <td>324.0</td>\n",
              "      <td>1.0</td>\n",
              "      <td>2.0</td>\n",
              "      <td>5.0</td>\n",
              "      <td>786.0</td>\n",
              "      <td>52.71</td>\n",
              "      <td>32.29</td>\n",
              "      <td>85.0</td>\n",
              "      <td>170.0</td>\n",
              "      <td>9.572550</td>\n",
              "      <td>8.850518</td>\n",
              "      <td>5.049856</td>\n",
              "      <td>5.525453</td>\n",
              "    </tr>\n",
              "    <tr>\n",
              "      <th>12</th>\n",
              "      <td>Çeyiz</td>\n",
              "      <td>176.0</td>\n",
              "      <td>1.0</td>\n",
              "      <td>2.0</td>\n",
              "      <td>5.0</td>\n",
              "      <td>374.0</td>\n",
              "      <td>34.48</td>\n",
              "      <td>25.52</td>\n",
              "      <td>60.0</td>\n",
              "      <td>70.0</td>\n",
              "      <td>9.186560</td>\n",
              "      <td>7.750184</td>\n",
              "      <td>4.204693</td>\n",
              "      <td>4.499810</td>\n",
              "    </tr>\n",
              "    <tr>\n",
              "      <th>13</th>\n",
              "      <td>Tiamat (Karton Kapak)</td>\n",
              "      <td>160.0</td>\n",
              "      <td>1.0</td>\n",
              "      <td>2.0</td>\n",
              "      <td>4.0</td>\n",
              "      <td>446.0</td>\n",
              "      <td>29.97</td>\n",
              "      <td>15.03</td>\n",
              "      <td>45.0</td>\n",
              "      <td>300.0</td>\n",
              "      <td>9.152817</td>\n",
              "      <td>8.172447</td>\n",
              "      <td>5.030438</td>\n",
              "      <td>5.620401</td>\n",
              "    </tr>\n",
              "    <tr>\n",
              "      <th>16</th>\n",
              "      <td>Kayıp Tanrılar Ülkesi</td>\n",
              "      <td>504.0</td>\n",
              "      <td>1.0</td>\n",
              "      <td>2.0</td>\n",
              "      <td>5.0</td>\n",
              "      <td>1538.0</td>\n",
              "      <td>47.58</td>\n",
              "      <td>47.42</td>\n",
              "      <td>95.0</td>\n",
              "      <td>152.0</td>\n",
              "      <td>10.359265</td>\n",
              "      <td>9.275754</td>\n",
              "      <td>6.320768</td>\n",
              "      <td>6.792344</td>\n",
              "    </tr>\n",
              "    <tr>\n",
              "      <th>18</th>\n",
              "      <td>Bir Aşk Masalı</td>\n",
              "      <td>256.0</td>\n",
              "      <td>1.0</td>\n",
              "      <td>2.0</td>\n",
              "      <td>4.0</td>\n",
              "      <td>659.0</td>\n",
              "      <td>35.24</td>\n",
              "      <td>24.76</td>\n",
              "      <td>60.0</td>\n",
              "      <td>63.0</td>\n",
              "      <td>9.134862</td>\n",
              "      <td>8.261268</td>\n",
              "      <td>4.317488</td>\n",
              "      <td>4.779123</td>\n",
              "    </tr>\n",
              "    <tr>\n",
              "      <th>...</th>\n",
              "      <td>...</td>\n",
              "      <td>...</td>\n",
              "      <td>...</td>\n",
              "      <td>...</td>\n",
              "      <td>...</td>\n",
              "      <td>...</td>\n",
              "      <td>...</td>\n",
              "      <td>...</td>\n",
              "      <td>...</td>\n",
              "      <td>...</td>\n",
              "      <td>...</td>\n",
              "      <td>...</td>\n",
              "      <td>...</td>\n",
              "      <td>...</td>\n",
              "    </tr>\n",
              "    <tr>\n",
              "      <th>433</th>\n",
              "      <td>Allah Cümlemizi Korusun</td>\n",
              "      <td>141.0</td>\n",
              "      <td>1.0</td>\n",
              "      <td>2.0</td>\n",
              "      <td>5.0</td>\n",
              "      <td>305.0</td>\n",
              "      <td>29.70</td>\n",
              "      <td>15.30</td>\n",
              "      <td>45.0</td>\n",
              "      <td>1099.0</td>\n",
              "      <td>9.209640</td>\n",
              "      <td>7.857868</td>\n",
              "      <td>5.713733</td>\n",
              "      <td>6.484635</td>\n",
              "    </tr>\n",
              "    <tr>\n",
              "      <th>434</th>\n",
              "      <td>Dindar Bir Doktor Hanım</td>\n",
              "      <td>296.0</td>\n",
              "      <td>1.0</td>\n",
              "      <td>2.0</td>\n",
              "      <td>5.0</td>\n",
              "      <td>353.0</td>\n",
              "      <td>52.49</td>\n",
              "      <td>22.51</td>\n",
              "      <td>75.0</td>\n",
              "      <td>487.0</td>\n",
              "      <td>9.243485</td>\n",
              "      <td>8.289288</td>\n",
              "      <td>5.529429</td>\n",
              "      <td>6.188264</td>\n",
              "    </tr>\n",
              "    <tr>\n",
              "      <th>435</th>\n",
              "      <td>Zürafa Sözü</td>\n",
              "      <td>68.0</td>\n",
              "      <td>1.0</td>\n",
              "      <td>2.0</td>\n",
              "      <td>5.0</td>\n",
              "      <td>43.0</td>\n",
              "      <td>33.48</td>\n",
              "      <td>11.52</td>\n",
              "      <td>45.0</td>\n",
              "      <td>693.0</td>\n",
              "      <td>7.738052</td>\n",
              "      <td>6.126869</td>\n",
              "      <td>3.583519</td>\n",
              "      <td>4.127134</td>\n",
              "    </tr>\n",
              "    <tr>\n",
              "      <th>438</th>\n",
              "      <td>Coşkuyla Ölmek</td>\n",
              "      <td>191.0</td>\n",
              "      <td>1.0</td>\n",
              "      <td>2.0</td>\n",
              "      <td>5.0</td>\n",
              "      <td>174.0</td>\n",
              "      <td>53.44</td>\n",
              "      <td>19.56</td>\n",
              "      <td>73.0</td>\n",
              "      <td>40.0</td>\n",
              "      <td>8.253748</td>\n",
              "      <td>7.721792</td>\n",
              "      <td>4.736198</td>\n",
              "      <td>5.476464</td>\n",
              "    </tr>\n",
              "    <tr>\n",
              "      <th>440</th>\n",
              "      <td>Olağanüstü Bir Gece (Cep Boy) (Tam Metin)</td>\n",
              "      <td>63.0</td>\n",
              "      <td>1.0</td>\n",
              "      <td>2.0</td>\n",
              "      <td>4.0</td>\n",
              "      <td>109.0</td>\n",
              "      <td>4.90</td>\n",
              "      <td>2.10</td>\n",
              "      <td>7.0</td>\n",
              "      <td>1308.0</td>\n",
              "      <td>8.969033</td>\n",
              "      <td>7.116394</td>\n",
              "      <td>4.276666</td>\n",
              "      <td>5.225747</td>\n",
              "    </tr>\n",
              "  </tbody>\n",
              "</table>\n",
              "<p>361 rows × 14 columns</p>\n",
              "</div>\n",
              "      <button class=\"colab-df-convert\" onclick=\"convertToInteractive('df-076eacf9-cec0-43c4-9af1-2e1d4565dde3')\"\n",
              "              title=\"Convert this dataframe to an interactive table.\"\n",
              "              style=\"display:none;\">\n",
              "        \n",
              "  <svg xmlns=\"http://www.w3.org/2000/svg\" height=\"24px\"viewBox=\"0 0 24 24\"\n",
              "       width=\"24px\">\n",
              "    <path d=\"M0 0h24v24H0V0z\" fill=\"none\"/>\n",
              "    <path d=\"M18.56 5.44l.94 2.06.94-2.06 2.06-.94-2.06-.94-.94-2.06-.94 2.06-2.06.94zm-11 1L8.5 8.5l.94-2.06 2.06-.94-2.06-.94L8.5 2.5l-.94 2.06-2.06.94zm10 10l.94 2.06.94-2.06 2.06-.94-2.06-.94-.94-2.06-.94 2.06-2.06.94z\"/><path d=\"M17.41 7.96l-1.37-1.37c-.4-.4-.92-.59-1.43-.59-.52 0-1.04.2-1.43.59L10.3 9.45l-7.72 7.72c-.78.78-.78 2.05 0 2.83L4 21.41c.39.39.9.59 1.41.59.51 0 1.02-.2 1.41-.59l7.78-7.78 2.81-2.81c.8-.78.8-2.07 0-2.86zM5.41 20L4 18.59l7.72-7.72 1.47 1.35L5.41 20z\"/>\n",
              "  </svg>\n",
              "      </button>\n",
              "      \n",
              "  <style>\n",
              "    .colab-df-container {\n",
              "      display:flex;\n",
              "      flex-wrap:wrap;\n",
              "      gap: 12px;\n",
              "    }\n",
              "\n",
              "    .colab-df-convert {\n",
              "      background-color: #E8F0FE;\n",
              "      border: none;\n",
              "      border-radius: 50%;\n",
              "      cursor: pointer;\n",
              "      display: none;\n",
              "      fill: #1967D2;\n",
              "      height: 32px;\n",
              "      padding: 0 0 0 0;\n",
              "      width: 32px;\n",
              "    }\n",
              "\n",
              "    .colab-df-convert:hover {\n",
              "      background-color: #E2EBFA;\n",
              "      box-shadow: 0px 1px 2px rgba(60, 64, 67, 0.3), 0px 1px 3px 1px rgba(60, 64, 67, 0.15);\n",
              "      fill: #174EA6;\n",
              "    }\n",
              "\n",
              "    [theme=dark] .colab-df-convert {\n",
              "      background-color: #3B4455;\n",
              "      fill: #D2E3FC;\n",
              "    }\n",
              "\n",
              "    [theme=dark] .colab-df-convert:hover {\n",
              "      background-color: #434B5C;\n",
              "      box-shadow: 0px 1px 3px 1px rgba(0, 0, 0, 0.15);\n",
              "      filter: drop-shadow(0px 1px 2px rgba(0, 0, 0, 0.3));\n",
              "      fill: #FFFFFF;\n",
              "    }\n",
              "  </style>\n",
              "\n",
              "      <script>\n",
              "        const buttonEl =\n",
              "          document.querySelector('#df-076eacf9-cec0-43c4-9af1-2e1d4565dde3 button.colab-df-convert');\n",
              "        buttonEl.style.display =\n",
              "          google.colab.kernel.accessAllowed ? 'block' : 'none';\n",
              "\n",
              "        async function convertToInteractive(key) {\n",
              "          const element = document.querySelector('#df-076eacf9-cec0-43c4-9af1-2e1d4565dde3');\n",
              "          const dataTable =\n",
              "            await google.colab.kernel.invokeFunction('convertToInteractive',\n",
              "                                                     [key], {});\n",
              "          if (!dataTable) return;\n",
              "\n",
              "          const docLinkHtml = 'Like what you see? Visit the ' +\n",
              "            '<a target=\"_blank\" href=https://colab.research.google.com/notebooks/data_table.ipynb>data table notebook</a>'\n",
              "            + ' to learn more about interactive tables.';\n",
              "          element.innerHTML = '';\n",
              "          dataTable['output_type'] = 'display_data';\n",
              "          await google.colab.output.renderOutput(dataTable, element);\n",
              "          const docLink = document.createElement('div');\n",
              "          docLink.innerHTML = docLinkHtml;\n",
              "          element.appendChild(docLink);\n",
              "        }\n",
              "      </script>\n",
              "    </div>\n",
              "  </div>\n",
              "  "
            ]
          },
          "metadata": {},
          "execution_count": 88
        }
      ]
    },
    {
      "cell_type": "code",
      "source": [
        "plt.figure(figsize=[18,12])\n",
        "sns.heatmap(ky_lr.corr(), cmap=\"seismic\", annot=True, vmin=-1, vmax=1, fmt='.1f');"
      ],
      "metadata": {
        "colab": {
          "base_uri": "https://localhost:8080/",
          "height": 845
        },
        "id": "0yLL0HDT9SAq",
        "outputId": "1a373a71-6257-4eee-d9b0-1c2bbdda8e84"
      },
      "execution_count": null,
      "outputs": [
        {
          "output_type": "display_data",
          "data": {
            "text/plain": [
              "<Figure size 1296x864 with 2 Axes>"
            ],
            "image/png": "[encoded data removed]"
          },
          "metadata": {
            "needs_background": "light"
          }
        }
      ]
    },
    {
      "cell_type": "code",
      "source": [
        "corr_matrix = ky_lr.corr().abs()\n",
        "\n",
        "# Select upper triangle of correlation matrix\n",
        "upper = corr_matrix.where(np.triu(np.ones(corr_matrix.shape), k=1).astype(np.bool))\n",
        "\n",
        "# Find features with correlation greater than 0.8\n",
        "to_drop = [column for column in upper.columns if any(upper[column] > 0.85)]"
      ],
      "metadata": {
        "colab": {
          "base_uri": "https://localhost:8080/"
        },
        "id": "P82A5YhE9S7f",
        "outputId": "4dd1fa9c-238c-4df8-8af3-8fc05e87bca6"
      },
      "execution_count": null,
      "outputs": [
        {
          "output_type": "stream",
          "name": "stderr",
          "text": [
            "<ipython-input-90-c8106e1ffada>:4: DeprecationWarning: `np.bool` is a deprecated alias for the builtin `bool`. To silence this warning, use `bool` by itself. Doing this will not modify any behavior and is safe. If you specifically wanted the numpy scalar type, use `np.bool_` here.\n",
            "Deprecated in NumPy 1.20; for more details and guidance: https://numpy.org/devdocs/release/1.20.0-notes.html#deprecations\n",
            "  upper = corr_matrix.where(np.triu(np.ones(corr_matrix.shape), k=1).astype(np.bool))\n"
          ]
        }
      ]
    },
    {
      "cell_type": "code",
      "source": [
        "to_drop"
      ],
      "metadata": {
        "colab": {
          "base_uri": "https://localhost:8080/"
        },
        "id": "vRVoOXIO9TqO",
        "outputId": "5cdb1e26-b932-4144-8825-48afca7b159a"
      },
      "execution_count": null,
      "outputs": [
        {
          "output_type": "execute_result",
          "data": {
            "text/plain": [
              "['Discount',\n",
              " 'Manufacturer Price',\n",
              " 'Fav Count Log',\n",
              " 'Review Count Log',\n",
              " 'Rating Count Log']"
            ]
          },
          "metadata": {},
          "execution_count": 91
        }
      ]
    },
    {
      "cell_type": "code",
      "source": [
        "X = ky_lr.drop(columns=['Name of the Book','Review Count Log', \"Manufacturer Price\",\"Price\"])\n",
        "y = ky_lr.Price\n",
        "\n",
        "\n",
        "X_train, x_test, Y_train, y_test = train_test_split(X, y, test_size=0.2, random_state=42)\n",
        "\n",
        "x_train, x_cv, y_train, y_cv = train_test_split(X_train, Y_train, test_size=0.2, random_state=42)"
      ],
      "metadata": {
        "id": "3iut-y_Z9VQg"
      },
      "execution_count": null,
      "outputs": []
    },
    {
      "cell_type": "code",
      "source": [
        "lreg = LinearRegression()\n",
        "\n",
        "lreg.fit(x_train,y_train)\n",
        "\n",
        "pred = lreg.predict(x_cv)\n",
        "\n",
        "mse_cv = np.mean((pred - y_cv)**2)\n",
        "\n",
        "print(\"Validation Score: \", lreg.score(x_cv, y_cv))\n",
        "print(\"MSE: \", mse)"
      ],
      "metadata": {
        "colab": {
          "base_uri": "https://localhost:8080/"
        },
        "id": "q3ppjCpd9WW7",
        "outputId": "7b2287e4-1beb-47c6-cac3-7c790f1817e5"
      },
      "execution_count": null,
      "outputs": [
        {
          "output_type": "stream",
          "name": "stdout",
          "text": [
            "Validation Score:  0.8028981551404556\n",
            "MSE:  1.6174930762668323e-07\n"
          ]
        }
      ]
    },
    {
      "cell_type": "code",
      "source": [
        "lreg = LinearRegression()\n",
        "\n",
        "lreg.fit(x_train,y_train)\n",
        "\n",
        "pred = lreg.predict(x_test)\n",
        "\n",
        "mse_test = np.mean((pred - y_test)**2)\n",
        "\n",
        "print(\"Test Score: \", lreg.score(x_test, y_test))\n",
        "print(\"MSE: \", mse)"
      ],
      "metadata": {
        "colab": {
          "base_uri": "https://localhost:8080/"
        },
        "id": "jXQliHoc9XRg",
        "outputId": "bd1f47fd-5bad-4fc8-efec-7906888f2a85"
      },
      "execution_count": null,
      "outputs": [
        {
          "output_type": "stream",
          "name": "stdout",
          "text": [
            "Test Score:  0.7204087697752373\n",
            "MSE:  1.6174930762668323e-07\n"
          ]
        }
      ]
    },
    {
      "cell_type": "code",
      "source": [
        "print(\"Validation Score: \", lreg.score(x_cv, y_cv))\n",
        "print(\"MSE: \", mse_cv)\n",
        "\n",
        "print(\"Test Score: \", lreg.score(x_test, y_test))\n",
        "print(\"MSE: \", mse_test)"
      ],
      "metadata": {
        "colab": {
          "base_uri": "https://localhost:8080/"
        },
        "id": "oFh2X90z9YDU",
        "outputId": "ce1e58f8-5e80-42e1-d724-e545e62b911b"
      },
      "execution_count": null,
      "outputs": [
        {
          "output_type": "stream",
          "name": "stdout",
          "text": [
            "Validation Score:  0.8028981551404556\n",
            "MSE:  124.37819419903497\n",
            "Test Score:  0.7204087697752373\n",
            "MSE:  126.89321745678156\n"
          ]
        }
      ]
    },
    {
      "cell_type": "code",
      "source": [
        "from pandas import Series\n",
        "\n",
        "predictors = x_train.columns\n",
        "coef = Series(lreg.coef_,predictors).sort_values(ascending=False)\n",
        "plt.figure(figsize=[15,5])\n",
        "coef.plot(kind='bar', title='Model Coefficients');"
      ],
      "metadata": {
        "colab": {
          "base_uri": "https://localhost:8080/",
          "height": 476
        },
        "id": "Q-1JzzTK9ZjG",
        "outputId": "41622d0a-04e0-4f2a-b8c5-238076f8abed"
      },
      "execution_count": null,
      "outputs": [
        {
          "output_type": "display_data",
          "data": {
            "text/plain": [
              "<Figure size 1080x360 with 1 Axes>"
            ],
            "image/png": "[encoded data removed]"
          },
          "metadata": {
            "needs_background": "light"
          }
        }
      ]
    }
  ]
}
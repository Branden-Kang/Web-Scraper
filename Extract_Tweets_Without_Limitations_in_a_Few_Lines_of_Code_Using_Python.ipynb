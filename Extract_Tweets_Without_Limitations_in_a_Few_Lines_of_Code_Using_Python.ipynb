{
  "nbformat": 4,
  "nbformat_minor": 0,
  "metadata": {
    "colab": {
      "provenance": [],
      "authorship_tag": "ABX9TyMm69UmqEAsH1678r9dl4wJ"
    },
    "kernelspec": {
      "name": "python3",
      "display_name": "Python 3"
    },
    "language_info": {
      "name": "python"
    }
  },
  "cells": [
    {
      "cell_type": "markdown",
      "source": [
        "[Reference](https://pub.towardsai.net/extract-tweets-without-limitations-in-a-few-lines-of-code-using-python-21578f89a00c)"
      ],
      "metadata": {
        "id": "CqBkPwNYacLP"
      }
    },
    {
      "cell_type": "code",
      "execution_count": 1,
      "metadata": {
        "colab": {
          "base_uri": "https://localhost:8080/"
        },
        "id": "JZYveZkgaart",
        "outputId": "a4756ad8-8617-44f0-bd51-59b9ea0b3e76"
      },
      "outputs": [
        {
          "output_type": "stream",
          "name": "stdout",
          "text": [
            "Looking in indexes: https://pypi.org/simple, https://us-python.pkg.dev/colab-wheels/public/simple/\n",
            "Collecting snscrape\n",
            "  Downloading snscrape-0.5.0.20230113-py3-none-any.whl (69 kB)\n",
            "\u001b[2K     \u001b[90m━━━━━━━━━━━━━━━━━━━━━━━━━━━━━━━━━━━━━━━━\u001b[0m \u001b[32m69.2/69.2 KB\u001b[0m \u001b[31m3.3 MB/s\u001b[0m eta \u001b[36m0:00:00\u001b[0m\n",
            "\u001b[?25hRequirement already satisfied: filelock in /usr/local/lib/python3.8/dist-packages (from snscrape) (3.9.0)\n",
            "Requirement already satisfied: beautifulsoup4 in /usr/local/lib/python3.8/dist-packages (from snscrape) (4.6.3)\n",
            "Requirement already satisfied: requests[socks] in /usr/local/lib/python3.8/dist-packages (from snscrape) (2.25.1)\n",
            "Requirement already satisfied: lxml in /usr/local/lib/python3.8/dist-packages (from snscrape) (4.9.2)\n",
            "Requirement already satisfied: pytz in /usr/local/lib/python3.8/dist-packages (from snscrape) (2022.7.1)\n",
            "Requirement already satisfied: urllib3<1.27,>=1.21.1 in /usr/local/lib/python3.8/dist-packages (from requests[socks]->snscrape) (1.24.3)\n",
            "Requirement already satisfied: certifi>=2017.4.17 in /usr/local/lib/python3.8/dist-packages (from requests[socks]->snscrape) (2022.12.7)\n",
            "Requirement already satisfied: idna<3,>=2.5 in /usr/local/lib/python3.8/dist-packages (from requests[socks]->snscrape) (2.10)\n",
            "Requirement already satisfied: chardet<5,>=3.0.2 in /usr/local/lib/python3.8/dist-packages (from requests[socks]->snscrape) (4.0.0)\n",
            "Requirement already satisfied: PySocks!=1.5.7,>=1.5.6 in /usr/local/lib/python3.8/dist-packages (from requests[socks]->snscrape) (1.7.1)\n",
            "Installing collected packages: snscrape\n",
            "Successfully installed snscrape-0.5.0.20230113\n"
          ]
        }
      ],
      "source": [
        "!pip3 install snscrape "
      ]
    },
    {
      "cell_type": "code",
      "source": [
        "import snscrape.modules.twitter as snt"
      ],
      "metadata": {
        "id": "hLnoI6gLagdT"
      },
      "execution_count": 2,
      "outputs": []
    },
    {
      "cell_type": "code",
      "source": [
        "# Get Tweets with the #worldcup\n",
        "world_cup_scraper = snt.TwitterSearchScraper(\"#worldcup\")\n",
        "\n",
        "print(type(world_cup_scraper))"
      ],
      "metadata": {
        "colab": {
          "base_uri": "https://localhost:8080/"
        },
        "id": "wMss3ff8ahyn",
        "outputId": "9b45e294-8bff-4b65-8d1a-5ad11a06798c"
      },
      "execution_count": 3,
      "outputs": [
        {
          "output_type": "stream",
          "name": "stdout",
          "text": [
            "<class 'snscrape.modules.twitter.TwitterSearchScraper'>\n"
          ]
        }
      ]
    },
    {
      "cell_type": "code",
      "source": [
        "# Let's get the first tweet from the world_cup_scraper search\n",
        "for world_cup_tweet in world_cup_scraper.get_items():\n",
        "   break"
      ],
      "metadata": {
        "id": "xPB6MOXsajCw"
      },
      "execution_count": 4,
      "outputs": []
    },
    {
      "cell_type": "code",
      "source": [
        "world_cup_tweet"
      ],
      "metadata": {
        "colab": {
          "base_uri": "https://localhost:8080/"
        },
        "id": "vyCi2VbTaklf",
        "outputId": "6cd3e6a4-3cf9-44f7-dd0f-ae9f229991ab"
      },
      "execution_count": 5,
      "outputs": [
        {
          "output_type": "execute_result",
          "data": {
            "text/plain": [
              "Tweet(url='https://twitter.com/rahouldaswani/status/1623678403961565184', date=datetime.datetime(2023, 2, 9, 13, 41, 12, tzinfo=datetime.timezone.utc), rawContent='New Work. I forgot there is one more. A Messi special to end the Fifa World Cup 2022. #voice #voiceovertalent #voiceoverartist #messi #mbappe #football #worldcup #promo #rahouldaswan https://t.co/ldJx7dorQF', renderedContent='New Work. I forgot there is one more. A Messi special to end the Fifa World Cup 2022. #voice #voiceovertalent #voiceoverartist #messi #mbappe #football #worldcup #promo #rahouldaswan https://t.co/ldJx7dorQF', id=1623678403961565184, user=User(username='rahouldaswani', id=107304604, displayname='Rahoul Daswani', rawDescription=\"🎥 Filmmaker 🎙️ Voice Artist 🃏 Content Creator\\nSome even say I'm a Linguist.\", renderedDescription=\"🎥 Filmmaker 🎙️ Voice Artist 🃏 Content Creator\\nSome even say I'm a Linguist.\", descriptionLinks=None, verified=False, created=datetime.datetime(2010, 1, 22, 4, 3, 15, tzinfo=datetime.timezone.utc), followersCount=349, friendsCount=733, statusesCount=36, favouritesCount=364, listedCount=8, mediaCount=26, location='Mumbai, India', protected=False, link=TextLink(text='rahouldaswani.com', url='http://rahouldaswani.com', tcourl='https://t.co/zvaJ456zOt', indices=(0, 23)), profileImageUrl='https://pbs.twimg.com/profile_images/1619671463258386433/T8hatrF7_normal.jpg', profileBannerUrl='https://pbs.twimg.com/profile_banners/107304604/1628492759', label=None), replyCount=0, retweetCount=0, likeCount=0, quoteCount=0, conversationId=1623678403961565184, lang='en', source='<a href=\"https://mobile.twitter.com\" rel=\"nofollow\">Twitter Web App</a>', sourceUrl='https://mobile.twitter.com', sourceLabel='Twitter Web App', links=None, media=[Video(thumbnailUrl='https://pbs.twimg.com/ext_tw_video_thumb/1623678333077827584/pu/img/wWoJUKaBhf3RoaqJ.jpg', variants=[VideoVariant(url='https://video.twimg.com/ext_tw_video/1623678333077827584/pu/pl/cGGtPBO4jHWAlJRZ.m3u8?tag=12&container=fmp4', contentType='application/x-mpegURL', bitrate=None), VideoVariant(url='https://video.twimg.com/ext_tw_video/1623678333077827584/pu/vid/1280x720/Th83Hl5HtDHpmpuA.mp4?tag=12', contentType='video/mp4', bitrate=2176000), VideoVariant(url='https://video.twimg.com/ext_tw_video/1623678333077827584/pu/vid/640x360/-I1NfTFWqPKby03T.mp4?tag=12', contentType='video/mp4', bitrate=832000), VideoVariant(url='https://video.twimg.com/ext_tw_video/1623678333077827584/pu/vid/480x270/SiOqYjYF8MO7L_6A.mp4?tag=12', contentType='video/mp4', bitrate=256000)], duration=30.0, views=0, altText=None)], retweetedTweet=None, quotedTweet=None, inReplyToTweetId=None, inReplyToUser=None, mentionedUsers=None, coordinates=None, place=None, hashtags=['voice', 'voiceovertalent', 'voiceoverartist', 'messi', 'mbappe', 'football', 'worldcup', 'promo', 'rahouldaswan'], cashtags=None, card=None, viewCount=4, vibe=None)"
            ]
          },
          "metadata": {},
          "execution_count": 5
        }
      ]
    },
    {
      "cell_type": "code",
      "source": [
        "column_names = ['url', 'date', 'content', 'username','displayname',\n",
        "                'description', 'followersCount', 'friendsCount',\n",
        "                'likeCount', 'world_cup_tweet']"
      ],
      "metadata": {
        "id": "QSGz5iLKamOp"
      },
      "execution_count": 6,
      "outputs": []
    },
    {
      "cell_type": "code",
      "source": [
        "total_tweet = 20000"
      ],
      "metadata": {
        "id": "wIJ72WyTan3w"
      },
      "execution_count": 7,
      "outputs": []
    },
    {
      "cell_type": "code",
      "source": [
        "import pandas as pd"
      ],
      "metadata": {
        "id": "mBVgeT8rasqG"
      },
      "execution_count": 9,
      "outputs": []
    },
    {
      "cell_type": "code",
      "source": [
        "# Putting all togeter\n",
        "def grab_tweets(total_number):\n",
        "    \n",
        "    \n",
        "    final_tweets = []\n",
        "    \n",
        "    for index, world_cup_tweet in enumerate(world_cup_scraper.get_items()):\n",
        "\n",
        "        user = world_cup_tweet.user\n",
        "\n",
        "        tweet_data = [world_cup_tweet.url, \n",
        "                      world_cup_tweet.date, \n",
        "                      world_cup_tweet.content, \n",
        "                      user.username, \n",
        "                      user.displayname,\n",
        "                      user.description, \n",
        "                      user.followersCount,\n",
        "                      user.friendsCount,\n",
        "                      world_cup_tweet.likeCount, \n",
        "                      world_cup_tweet.retweetCount\n",
        "                      ]\n",
        "\n",
        "        final_tweets.append(tweet_data)\n",
        "\n",
        "        if(index == total_number):\n",
        "            break\n",
        "            \n",
        "        \n",
        "    # Create the dataframe\n",
        "    final_tweets_df = pd.DataFrame(final_tweets, columns = column_names)\n",
        "    \n",
        "    return final_tweets_df"
      ],
      "metadata": {
        "id": "ztpDFj9RapRu"
      },
      "execution_count": 10,
      "outputs": []
    },
    {
      "cell_type": "code",
      "source": [
        "# Call the grab_tweets() function\n",
        "final_tweets_data = grab_tweets(20000)\n",
        "\n",
        "# Show the shape\n",
        "print(final_tweets_data.shape)\n",
        "\n",
        "# Show the first 5 rows \n",
        "final_tweets_data.head()"
      ],
      "metadata": {
        "colab": {
          "base_uri": "https://localhost:8080/",
          "height": 625
        },
        "id": "aMKW2mKyarlI",
        "outputId": "af5f6896-1223-4678-a581-bc1cb3c0ccca"
      },
      "execution_count": 11,
      "outputs": [
        {
          "output_type": "stream",
          "name": "stderr",
          "text": [
            "<ipython-input-10-a96d5061f097>:13: FutureWarning: content is deprecated, use rawContent instead\n",
            "  world_cup_tweet.content,\n",
            "<ipython-input-10-a96d5061f097>:16: FutureWarning: description is deprecated, use renderedDescription instead\n",
            "  user.description,\n"
          ]
        },
        {
          "output_type": "stream",
          "name": "stdout",
          "text": [
            "(20001, 10)\n"
          ]
        },
        {
          "output_type": "execute_result",
          "data": {
            "text/plain": [
              "                                                 url  \\\n",
              "0  https://twitter.com/rahouldaswani/status/16236...   \n",
              "1  https://twitter.com/m1413_93/status/1623675567...   \n",
              "2  https://twitter.com/durraniakbar/status/162367...   \n",
              "3  https://twitter.com/fabucat/status/16236738555...   \n",
              "4  https://twitter.com/NieveAventura/status/16236...   \n",
              "\n",
              "                       date  \\\n",
              "0 2023-02-09 13:41:12+00:00   \n",
              "1 2023-02-09 13:29:56+00:00   \n",
              "2 2023-02-09 13:24:59+00:00   \n",
              "3 2023-02-09 13:23:08+00:00   \n",
              "4 2023-02-09 13:19:56+00:00   \n",
              "\n",
              "                                             content       username  \\\n",
              "0  New Work. I forgot there is one more. A Messi ...  rahouldaswani   \n",
              "1  The referee will lead the game between Al-Hila...       m1413_93   \n",
              "2            #HumanityFirst \\n#Gratitude \\n#WorldCup   durraniakbar   \n",
              "3                                          #WorldCup        fabucat   \n",
              "4  https://t.co/i5ti9HAyrS\\nLa velocista de Copa ...  NieveAventura   \n",
              "\n",
              "             displayname                                        description  \\\n",
              "0         Rahoul Daswani  🎥 Filmmaker 🎙️ Voice Artist 🃏 Content Creator\\...   \n",
              "1              𝐌𝐓𝐌𝐑𝐄𝐃…45  God gives his toughest battles to his stronges...   \n",
              "2       M. Akbar Durrani  #Humanity #SDGs #GlobalGoals #FoodSecurity #Wa...   \n",
              "3  Barbara, The Cat Lady  #M4All Socialist, cat waitress, attorney, punk...   \n",
              "4          NieveAventura                                                      \n",
              "\n",
              "   followersCount  friendsCount  likeCount  world_cup_tweet  \n",
              "0             349           733          0                0  \n",
              "1             874           676          0                0  \n",
              "2            1386          1365          0                0  \n",
              "3           14219         15619          0                0  \n",
              "4            1093           950          0                0  "
            ],
            "text/html": [
              "\n",
              "  <div id=\"df-2304231a-852b-41ce-a94e-2d2979ad1580\">\n",
              "    <div class=\"colab-df-container\">\n",
              "      <div>\n",
              "<style scoped>\n",
              "    .dataframe tbody tr th:only-of-type {\n",
              "        vertical-align: middle;\n",
              "    }\n",
              "\n",
              "    .dataframe tbody tr th {\n",
              "        vertical-align: top;\n",
              "    }\n",
              "\n",
              "    .dataframe thead th {\n",
              "        text-align: right;\n",
              "    }\n",
              "</style>\n",
              "<table border=\"1\" class=\"dataframe\">\n",
              "  <thead>\n",
              "    <tr style=\"text-align: right;\">\n",
              "      <th></th>\n",
              "      <th>url</th>\n",
              "      <th>date</th>\n",
              "      <th>content</th>\n",
              "      <th>username</th>\n",
              "      <th>displayname</th>\n",
              "      <th>description</th>\n",
              "      <th>followersCount</th>\n",
              "      <th>friendsCount</th>\n",
              "      <th>likeCount</th>\n",
              "      <th>world_cup_tweet</th>\n",
              "    </tr>\n",
              "  </thead>\n",
              "  <tbody>\n",
              "    <tr>\n",
              "      <th>0</th>\n",
              "      <td>https://twitter.com/rahouldaswani/status/16236...</td>\n",
              "      <td>2023-02-09 13:41:12+00:00</td>\n",
              "      <td>New Work. I forgot there is one more. A Messi ...</td>\n",
              "      <td>rahouldaswani</td>\n",
              "      <td>Rahoul Daswani</td>\n",
              "      <td>🎥 Filmmaker 🎙️ Voice Artist 🃏 Content Creator\\...</td>\n",
              "      <td>349</td>\n",
              "      <td>733</td>\n",
              "      <td>0</td>\n",
              "      <td>0</td>\n",
              "    </tr>\n",
              "    <tr>\n",
              "      <th>1</th>\n",
              "      <td>https://twitter.com/m1413_93/status/1623675567...</td>\n",
              "      <td>2023-02-09 13:29:56+00:00</td>\n",
              "      <td>The referee will lead the game between Al-Hila...</td>\n",
              "      <td>m1413_93</td>\n",
              "      <td>𝐌𝐓𝐌𝐑𝐄𝐃…45</td>\n",
              "      <td>God gives his toughest battles to his stronges...</td>\n",
              "      <td>874</td>\n",
              "      <td>676</td>\n",
              "      <td>0</td>\n",
              "      <td>0</td>\n",
              "    </tr>\n",
              "    <tr>\n",
              "      <th>2</th>\n",
              "      <td>https://twitter.com/durraniakbar/status/162367...</td>\n",
              "      <td>2023-02-09 13:24:59+00:00</td>\n",
              "      <td>#HumanityFirst \\n#Gratitude \\n#WorldCup</td>\n",
              "      <td>durraniakbar</td>\n",
              "      <td>M. Akbar Durrani</td>\n",
              "      <td>#Humanity #SDGs #GlobalGoals #FoodSecurity #Wa...</td>\n",
              "      <td>1386</td>\n",
              "      <td>1365</td>\n",
              "      <td>0</td>\n",
              "      <td>0</td>\n",
              "    </tr>\n",
              "    <tr>\n",
              "      <th>3</th>\n",
              "      <td>https://twitter.com/fabucat/status/16236738555...</td>\n",
              "      <td>2023-02-09 13:23:08+00:00</td>\n",
              "      <td>#WorldCup</td>\n",
              "      <td>fabucat</td>\n",
              "      <td>Barbara, The Cat Lady</td>\n",
              "      <td>#M4All Socialist, cat waitress, attorney, punk...</td>\n",
              "      <td>14219</td>\n",
              "      <td>15619</td>\n",
              "      <td>0</td>\n",
              "      <td>0</td>\n",
              "    </tr>\n",
              "    <tr>\n",
              "      <th>4</th>\n",
              "      <td>https://twitter.com/NieveAventura/status/16236...</td>\n",
              "      <td>2023-02-09 13:19:56+00:00</td>\n",
              "      <td>https://t.co/i5ti9HAyrS\\nLa velocista de Copa ...</td>\n",
              "      <td>NieveAventura</td>\n",
              "      <td>NieveAventura</td>\n",
              "      <td></td>\n",
              "      <td>1093</td>\n",
              "      <td>950</td>\n",
              "      <td>0</td>\n",
              "      <td>0</td>\n",
              "    </tr>\n",
              "  </tbody>\n",
              "</table>\n",
              "</div>\n",
              "      <button class=\"colab-df-convert\" onclick=\"convertToInteractive('df-2304231a-852b-41ce-a94e-2d2979ad1580')\"\n",
              "              title=\"Convert this dataframe to an interactive table.\"\n",
              "              style=\"display:none;\">\n",
              "        \n",
              "  <svg xmlns=\"http://www.w3.org/2000/svg\" height=\"24px\"viewBox=\"0 0 24 24\"\n",
              "       width=\"24px\">\n",
              "    <path d=\"M0 0h24v24H0V0z\" fill=\"none\"/>\n",
              "    <path d=\"M18.56 5.44l.94 2.06.94-2.06 2.06-.94-2.06-.94-.94-2.06-.94 2.06-2.06.94zm-11 1L8.5 8.5l.94-2.06 2.06-.94-2.06-.94L8.5 2.5l-.94 2.06-2.06.94zm10 10l.94 2.06.94-2.06 2.06-.94-2.06-.94-.94-2.06-.94 2.06-2.06.94z\"/><path d=\"M17.41 7.96l-1.37-1.37c-.4-.4-.92-.59-1.43-.59-.52 0-1.04.2-1.43.59L10.3 9.45l-7.72 7.72c-.78.78-.78 2.05 0 2.83L4 21.41c.39.39.9.59 1.41.59.51 0 1.02-.2 1.41-.59l7.78-7.78 2.81-2.81c.8-.78.8-2.07 0-2.86zM5.41 20L4 18.59l7.72-7.72 1.47 1.35L5.41 20z\"/>\n",
              "  </svg>\n",
              "      </button>\n",
              "      \n",
              "  <style>\n",
              "    .colab-df-container {\n",
              "      display:flex;\n",
              "      flex-wrap:wrap;\n",
              "      gap: 12px;\n",
              "    }\n",
              "\n",
              "    .colab-df-convert {\n",
              "      background-color: #E8F0FE;\n",
              "      border: none;\n",
              "      border-radius: 50%;\n",
              "      cursor: pointer;\n",
              "      display: none;\n",
              "      fill: #1967D2;\n",
              "      height: 32px;\n",
              "      padding: 0 0 0 0;\n",
              "      width: 32px;\n",
              "    }\n",
              "\n",
              "    .colab-df-convert:hover {\n",
              "      background-color: #E2EBFA;\n",
              "      box-shadow: 0px 1px 2px rgba(60, 64, 67, 0.3), 0px 1px 3px 1px rgba(60, 64, 67, 0.15);\n",
              "      fill: #174EA6;\n",
              "    }\n",
              "\n",
              "    [theme=dark] .colab-df-convert {\n",
              "      background-color: #3B4455;\n",
              "      fill: #D2E3FC;\n",
              "    }\n",
              "\n",
              "    [theme=dark] .colab-df-convert:hover {\n",
              "      background-color: #434B5C;\n",
              "      box-shadow: 0px 1px 3px 1px rgba(0, 0, 0, 0.15);\n",
              "      filter: drop-shadow(0px 1px 2px rgba(0, 0, 0, 0.3));\n",
              "      fill: #FFFFFF;\n",
              "    }\n",
              "  </style>\n",
              "\n",
              "      <script>\n",
              "        const buttonEl =\n",
              "          document.querySelector('#df-2304231a-852b-41ce-a94e-2d2979ad1580 button.colab-df-convert');\n",
              "        buttonEl.style.display =\n",
              "          google.colab.kernel.accessAllowed ? 'block' : 'none';\n",
              "\n",
              "        async function convertToInteractive(key) {\n",
              "          const element = document.querySelector('#df-2304231a-852b-41ce-a94e-2d2979ad1580');\n",
              "          const dataTable =\n",
              "            await google.colab.kernel.invokeFunction('convertToInteractive',\n",
              "                                                     [key], {});\n",
              "          if (!dataTable) return;\n",
              "\n",
              "          const docLinkHtml = 'Like what you see? Visit the ' +\n",
              "            '<a target=\"_blank\" href=https://colab.research.google.com/notebooks/data_table.ipynb>data table notebook</a>'\n",
              "            + ' to learn more about interactive tables.';\n",
              "          element.innerHTML = '';\n",
              "          dataTable['output_type'] = 'display_data';\n",
              "          await google.colab.output.renderOutput(dataTable, element);\n",
              "          const docLink = document.createElement('div');\n",
              "          docLink.innerHTML = docLinkHtml;\n",
              "          element.appendChild(docLink);\n",
              "        }\n",
              "      </script>\n",
              "    </div>\n",
              "  </div>\n",
              "  "
            ]
          },
          "metadata": {},
          "execution_count": 11
        }
      ]
    },
    {
      "cell_type": "code",
      "source": [
        "def get_language_specific_tweets(topic, total_number, lang=\"fr\"):\n",
        "    \n",
        "    # Get the topic from using the scraper and the language\n",
        "    topic_scraper = snt.TwitterSearchScraper(f\"{topic} lang:{lang}\")\n",
        "    \n",
        "    # Grab the tweets\n",
        "    final_tweets_as_df = grab_tweets(topic_scraper, total_number)\n",
        "    \n",
        "    return final_tweets_as_df"
      ],
      "metadata": {
        "id": "xvj2drK7awxh"
      },
      "execution_count": 12,
      "outputs": []
    },
    {
      "cell_type": "code",
      "source": [
        "# Putting all togeter\n",
        "def grab_tweets(scraper, total_number):\n",
        "    \n",
        "    \n",
        "    final_tweets = []\n",
        "    \n",
        "    for index, world_cup_tweet in enumerate(scraper.get_items()):\n",
        "\n",
        "        user = world_cup_tweet.user\n",
        "\n",
        "        tweet_data = [world_cup_tweet.url, \n",
        "                      world_cup_tweet.date, \n",
        "                      world_cup_tweet.content, \n",
        "                      user.username, \n",
        "                      user.displayname,\n",
        "                      user.description, \n",
        "                      user.followersCount,\n",
        "                      user.friendsCount,\n",
        "                      world_cup_tweet.likeCount, \n",
        "                      world_cup_tweet.retweetCount\n",
        "                      ]\n",
        "\n",
        "        final_tweets.append(tweet_data)\n",
        "\n",
        "        if(index == total_number):\n",
        "            break\n",
        "            \n",
        "        \n",
        "    # Create the dataframe\n",
        "    final_tweets_df = pd.DataFrame(final_tweets, columns = column_names)\n",
        "    \n",
        "    return final_tweets_df"
      ],
      "metadata": {
        "id": "-k7_nzzEayaT"
      },
      "execution_count": 13,
      "outputs": []
    },
    {
      "cell_type": "code",
      "source": [
        "# French Tweets\n",
        "topic = \"#worldcup\"\n",
        "lang = \"fr\"\n",
        "fr_df = get_language_specific_tweets(topic, 200, lang)\n",
        "\n",
        "fr_df.head()"
      ],
      "metadata": {
        "colab": {
          "base_uri": "https://localhost:8080/",
          "height": 642
        },
        "id": "_HWKEQP0az-r",
        "outputId": "88395841-7ca5-4f0f-a873-b3b95282943f"
      },
      "execution_count": 14,
      "outputs": [
        {
          "output_type": "stream",
          "name": "stderr",
          "text": [
            "<ipython-input-13-fd6efcefa34f>:13: FutureWarning: content is deprecated, use rawContent instead\n",
            "  world_cup_tweet.content,\n",
            "<ipython-input-13-fd6efcefa34f>:16: FutureWarning: description is deprecated, use renderedDescription instead\n",
            "  user.description,\n"
          ]
        },
        {
          "output_type": "execute_result",
          "data": {
            "text/plain": [
              "                                                 url  \\\n",
              "0  https://twitter.com/ibou1885/status/1623679360...   \n",
              "1  https://twitter.com/Ramco18973862/status/16236...   \n",
              "2  https://twitter.com/ibou1885/status/1623618960...   \n",
              "3  https://twitter.com/Ramco18973862/status/16236...   \n",
              "4  https://twitter.com/ibou1885/status/1623603861...   \n",
              "\n",
              "                       date  \\\n",
              "0 2023-02-09 13:45:00+00:00   \n",
              "1 2023-02-09 11:31:14+00:00   \n",
              "2 2023-02-09 09:45:00+00:00   \n",
              "3 2023-02-09 09:03:26+00:00   \n",
              "4 2023-02-09 08:45:00+00:00   \n",
              "\n",
              "                                             content       username  \\\n",
              "0  ⚽️🏀 Auteur d’un bon match contre l’OM, le port...       ibou1885   \n",
              "1  Lisandro Martinez and Muri Lopes Benitez #foot...  Ramco18973862   \n",
              "2  ⚽️🏀 20% de réduction @manscaped + frais de liv...       ibou1885   \n",
              "3  Lisandro Martinez and Muri Lopes Benitez #foot...  Ramco18973862   \n",
              "4  ⚽️🏀 [📺 RÉSUMÉ VIDÉO] 🏆 #CoupeDeFrance👏 Annecy ...       ibou1885   \n",
              "\n",
              "  displayname                                        description  \\\n",
              "0  🅸🅱🆁🅰🅷🅸🅼🅰 🚀  Lagui+ co-Founder 🚀 Web Developer 🤖 Build Twee...   \n",
              "1       Ramco                                                      \n",
              "2  🅸🅱🆁🅰🅷🅸🅼🅰 🚀  Lagui+ co-Founder 🚀 Web Developer 🤖 Build Twee...   \n",
              "3       Ramco                                                      \n",
              "4  🅸🅱🆁🅰🅷🅸🅼🅰 🚀  Lagui+ co-Founder 🚀 Web Developer 🤖 Build Twee...   \n",
              "\n",
              "   followersCount  friendsCount  likeCount  world_cup_tweet  \n",
              "0             121           234          0                0  \n",
              "1               1            12          0                0  \n",
              "2             121           234          0                0  \n",
              "3               1            12          0                0  \n",
              "4             121           234          0                0  "
            ],
            "text/html": [
              "\n",
              "  <div id=\"df-3ccba8b8-e398-4f1c-94ad-0e99b7d9680a\">\n",
              "    <div class=\"colab-df-container\">\n",
              "      <div>\n",
              "<style scoped>\n",
              "    .dataframe tbody tr th:only-of-type {\n",
              "        vertical-align: middle;\n",
              "    }\n",
              "\n",
              "    .dataframe tbody tr th {\n",
              "        vertical-align: top;\n",
              "    }\n",
              "\n",
              "    .dataframe thead th {\n",
              "        text-align: right;\n",
              "    }\n",
              "</style>\n",
              "<table border=\"1\" class=\"dataframe\">\n",
              "  <thead>\n",
              "    <tr style=\"text-align: right;\">\n",
              "      <th></th>\n",
              "      <th>url</th>\n",
              "      <th>date</th>\n",
              "      <th>content</th>\n",
              "      <th>username</th>\n",
              "      <th>displayname</th>\n",
              "      <th>description</th>\n",
              "      <th>followersCount</th>\n",
              "      <th>friendsCount</th>\n",
              "      <th>likeCount</th>\n",
              "      <th>world_cup_tweet</th>\n",
              "    </tr>\n",
              "  </thead>\n",
              "  <tbody>\n",
              "    <tr>\n",
              "      <th>0</th>\n",
              "      <td>https://twitter.com/ibou1885/status/1623679360...</td>\n",
              "      <td>2023-02-09 13:45:00+00:00</td>\n",
              "      <td>⚽️🏀 Auteur d’un bon match contre l’OM, le port...</td>\n",
              "      <td>ibou1885</td>\n",
              "      <td>🅸🅱🆁🅰🅷🅸🅼🅰 🚀</td>\n",
              "      <td>Lagui+ co-Founder 🚀 Web Developer 🤖 Build Twee...</td>\n",
              "      <td>121</td>\n",
              "      <td>234</td>\n",
              "      <td>0</td>\n",
              "      <td>0</td>\n",
              "    </tr>\n",
              "    <tr>\n",
              "      <th>1</th>\n",
              "      <td>https://twitter.com/Ramco18973862/status/16236...</td>\n",
              "      <td>2023-02-09 11:31:14+00:00</td>\n",
              "      <td>Lisandro Martinez and Muri Lopes Benitez #foot...</td>\n",
              "      <td>Ramco18973862</td>\n",
              "      <td>Ramco</td>\n",
              "      <td></td>\n",
              "      <td>1</td>\n",
              "      <td>12</td>\n",
              "      <td>0</td>\n",
              "      <td>0</td>\n",
              "    </tr>\n",
              "    <tr>\n",
              "      <th>2</th>\n",
              "      <td>https://twitter.com/ibou1885/status/1623618960...</td>\n",
              "      <td>2023-02-09 09:45:00+00:00</td>\n",
              "      <td>⚽️🏀 20% de réduction @manscaped + frais de liv...</td>\n",
              "      <td>ibou1885</td>\n",
              "      <td>🅸🅱🆁🅰🅷🅸🅼🅰 🚀</td>\n",
              "      <td>Lagui+ co-Founder 🚀 Web Developer 🤖 Build Twee...</td>\n",
              "      <td>121</td>\n",
              "      <td>234</td>\n",
              "      <td>0</td>\n",
              "      <td>0</td>\n",
              "    </tr>\n",
              "    <tr>\n",
              "      <th>3</th>\n",
              "      <td>https://twitter.com/Ramco18973862/status/16236...</td>\n",
              "      <td>2023-02-09 09:03:26+00:00</td>\n",
              "      <td>Lisandro Martinez and Muri Lopes Benitez #foot...</td>\n",
              "      <td>Ramco18973862</td>\n",
              "      <td>Ramco</td>\n",
              "      <td></td>\n",
              "      <td>1</td>\n",
              "      <td>12</td>\n",
              "      <td>0</td>\n",
              "      <td>0</td>\n",
              "    </tr>\n",
              "    <tr>\n",
              "      <th>4</th>\n",
              "      <td>https://twitter.com/ibou1885/status/1623603861...</td>\n",
              "      <td>2023-02-09 08:45:00+00:00</td>\n",
              "      <td>⚽️🏀 [📺 RÉSUMÉ VIDÉO] 🏆 #CoupeDeFrance👏 Annecy ...</td>\n",
              "      <td>ibou1885</td>\n",
              "      <td>🅸🅱🆁🅰🅷🅸🅼🅰 🚀</td>\n",
              "      <td>Lagui+ co-Founder 🚀 Web Developer 🤖 Build Twee...</td>\n",
              "      <td>121</td>\n",
              "      <td>234</td>\n",
              "      <td>0</td>\n",
              "      <td>0</td>\n",
              "    </tr>\n",
              "  </tbody>\n",
              "</table>\n",
              "</div>\n",
              "      <button class=\"colab-df-convert\" onclick=\"convertToInteractive('df-3ccba8b8-e398-4f1c-94ad-0e99b7d9680a')\"\n",
              "              title=\"Convert this dataframe to an interactive table.\"\n",
              "              style=\"display:none;\">\n",
              "        \n",
              "  <svg xmlns=\"http://www.w3.org/2000/svg\" height=\"24px\"viewBox=\"0 0 24 24\"\n",
              "       width=\"24px\">\n",
              "    <path d=\"M0 0h24v24H0V0z\" fill=\"none\"/>\n",
              "    <path d=\"M18.56 5.44l.94 2.06.94-2.06 2.06-.94-2.06-.94-.94-2.06-.94 2.06-2.06.94zm-11 1L8.5 8.5l.94-2.06 2.06-.94-2.06-.94L8.5 2.5l-.94 2.06-2.06.94zm10 10l.94 2.06.94-2.06 2.06-.94-2.06-.94-.94-2.06-.94 2.06-2.06.94z\"/><path d=\"M17.41 7.96l-1.37-1.37c-.4-.4-.92-.59-1.43-.59-.52 0-1.04.2-1.43.59L10.3 9.45l-7.72 7.72c-.78.78-.78 2.05 0 2.83L4 21.41c.39.39.9.59 1.41.59.51 0 1.02-.2 1.41-.59l7.78-7.78 2.81-2.81c.8-.78.8-2.07 0-2.86zM5.41 20L4 18.59l7.72-7.72 1.47 1.35L5.41 20z\"/>\n",
              "  </svg>\n",
              "      </button>\n",
              "      \n",
              "  <style>\n",
              "    .colab-df-container {\n",
              "      display:flex;\n",
              "      flex-wrap:wrap;\n",
              "      gap: 12px;\n",
              "    }\n",
              "\n",
              "    .colab-df-convert {\n",
              "      background-color: #E8F0FE;\n",
              "      border: none;\n",
              "      border-radius: 50%;\n",
              "      cursor: pointer;\n",
              "      display: none;\n",
              "      fill: #1967D2;\n",
              "      height: 32px;\n",
              "      padding: 0 0 0 0;\n",
              "      width: 32px;\n",
              "    }\n",
              "\n",
              "    .colab-df-convert:hover {\n",
              "      background-color: #E2EBFA;\n",
              "      box-shadow: 0px 1px 2px rgba(60, 64, 67, 0.3), 0px 1px 3px 1px rgba(60, 64, 67, 0.15);\n",
              "      fill: #174EA6;\n",
              "    }\n",
              "\n",
              "    [theme=dark] .colab-df-convert {\n",
              "      background-color: #3B4455;\n",
              "      fill: #D2E3FC;\n",
              "    }\n",
              "\n",
              "    [theme=dark] .colab-df-convert:hover {\n",
              "      background-color: #434B5C;\n",
              "      box-shadow: 0px 1px 3px 1px rgba(0, 0, 0, 0.15);\n",
              "      filter: drop-shadow(0px 1px 2px rgba(0, 0, 0, 0.3));\n",
              "      fill: #FFFFFF;\n",
              "    }\n",
              "  </style>\n",
              "\n",
              "      <script>\n",
              "        const buttonEl =\n",
              "          document.querySelector('#df-3ccba8b8-e398-4f1c-94ad-0e99b7d9680a button.colab-df-convert');\n",
              "        buttonEl.style.display =\n",
              "          google.colab.kernel.accessAllowed ? 'block' : 'none';\n",
              "\n",
              "        async function convertToInteractive(key) {\n",
              "          const element = document.querySelector('#df-3ccba8b8-e398-4f1c-94ad-0e99b7d9680a');\n",
              "          const dataTable =\n",
              "            await google.colab.kernel.invokeFunction('convertToInteractive',\n",
              "                                                     [key], {});\n",
              "          if (!dataTable) return;\n",
              "\n",
              "          const docLinkHtml = 'Like what you see? Visit the ' +\n",
              "            '<a target=\"_blank\" href=https://colab.research.google.com/notebooks/data_table.ipynb>data table notebook</a>'\n",
              "            + ' to learn more about interactive tables.';\n",
              "          element.innerHTML = '';\n",
              "          dataTable['output_type'] = 'display_data';\n",
              "          await google.colab.output.renderOutput(dataTable, element);\n",
              "          const docLink = document.createElement('div');\n",
              "          docLink.innerHTML = docLinkHtml;\n",
              "          element.appendChild(docLink);\n",
              "        }\n",
              "      </script>\n",
              "    </div>\n",
              "  </div>\n",
              "  "
            ]
          },
          "metadata": {},
          "execution_count": 14
        }
      ]
    },
    {
      "cell_type": "code",
      "source": [
        "# English Tweets about worldcup\n",
        "topic = \"#worldcup\"\n",
        "lang = \"en\"\n",
        "en_df = get_language_specific_tweets(topic, 200, lang)"
      ],
      "metadata": {
        "colab": {
          "base_uri": "https://localhost:8080/"
        },
        "id": "_EesW2GUa1Eh",
        "outputId": "52c20725-9d61-4cb5-c8bf-f826ff37e1a1"
      },
      "execution_count": 15,
      "outputs": [
        {
          "output_type": "stream",
          "name": "stderr",
          "text": [
            "<ipython-input-13-fd6efcefa34f>:13: FutureWarning: content is deprecated, use rawContent instead\n",
            "  world_cup_tweet.content,\n",
            "<ipython-input-13-fd6efcefa34f>:16: FutureWarning: description is deprecated, use renderedDescription instead\n",
            "  user.description,\n"
          ]
        }
      ]
    }
  ]
}
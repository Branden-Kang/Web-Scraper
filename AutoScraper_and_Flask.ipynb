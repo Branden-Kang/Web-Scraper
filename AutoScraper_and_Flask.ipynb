{
  "nbformat": 4,
  "nbformat_minor": 0,
  "metadata": {
    "colab": {
      "name": "AutoScraper and Flask.ipynb",
      "provenance": [],
      "authorship_tag": "ABX9TyM5/ZtevJlPIPiNnQQvsyFx"
    },
    "kernelspec": {
      "name": "python3",
      "display_name": "Python 3"
    }
  },
  "cells": [
    {
      "cell_type": "markdown",
      "metadata": {
        "id": "osO6njflLMEe"
      },
      "source": [
        "[Reference](https://medium.com/better-programming/autoscraper-and-flask-create-an-api-from-any-website-in-less-than-5-minutes-3f0f176fc4a3)"
      ]
    },
    {
      "cell_type": "code",
      "metadata": {
        "id": "uKsBc8RwLLfv",
        "outputId": "ab5256df-60a8-45b5-e6c4-e384f717e999",
        "colab": {
          "base_uri": "https://localhost:8080/",
          "height": 377
        }
      },
      "source": [
        "!pip install -U autoscraper flask"
      ],
      "execution_count": 1,
      "outputs": [
        {
          "output_type": "stream",
          "text": [
            "Collecting autoscraper\n",
            "  Downloading https://files.pythonhosted.org/packages/b4/7f/b2624eeecc41e8d10a13fe503b03a6ecc886e31d6a039e12b2bd7e9e39cd/autoscraper-1.1.7-py3-none-any.whl\n",
            "Requirement already up-to-date: flask in /usr/local/lib/python3.6/dist-packages (1.1.2)\n",
            "Requirement already satisfied, skipping upgrade: bs4 in /usr/local/lib/python3.6/dist-packages (from autoscraper) (0.0.1)\n",
            "Collecting fuzzywuzzy\n",
            "  Downloading https://files.pythonhosted.org/packages/43/ff/74f23998ad2f93b945c0309f825be92e04e0348e062026998b5eefef4c33/fuzzywuzzy-0.18.0-py2.py3-none-any.whl\n",
            "Requirement already satisfied, skipping upgrade: lxml in /usr/local/lib/python3.6/dist-packages (from autoscraper) (4.2.6)\n",
            "Requirement already satisfied, skipping upgrade: requests in /usr/local/lib/python3.6/dist-packages (from autoscraper) (2.23.0)\n",
            "Requirement already satisfied, skipping upgrade: itsdangerous>=0.24 in /usr/local/lib/python3.6/dist-packages (from flask) (1.1.0)\n",
            "Requirement already satisfied, skipping upgrade: Werkzeug>=0.15 in /usr/local/lib/python3.6/dist-packages (from flask) (1.0.1)\n",
            "Requirement already satisfied, skipping upgrade: Jinja2>=2.10.1 in /usr/local/lib/python3.6/dist-packages (from flask) (2.11.2)\n",
            "Requirement already satisfied, skipping upgrade: click>=5.1 in /usr/local/lib/python3.6/dist-packages (from flask) (7.1.2)\n",
            "Requirement already satisfied, skipping upgrade: beautifulsoup4 in /usr/local/lib/python3.6/dist-packages (from bs4->autoscraper) (4.6.3)\n",
            "Requirement already satisfied, skipping upgrade: idna<3,>=2.5 in /usr/local/lib/python3.6/dist-packages (from requests->autoscraper) (2.10)\n",
            "Requirement already satisfied, skipping upgrade: urllib3!=1.25.0,!=1.25.1,<1.26,>=1.21.1 in /usr/local/lib/python3.6/dist-packages (from requests->autoscraper) (1.24.3)\n",
            "Requirement already satisfied, skipping upgrade: certifi>=2017.4.17 in /usr/local/lib/python3.6/dist-packages (from requests->autoscraper) (2020.6.20)\n",
            "Requirement already satisfied, skipping upgrade: chardet<4,>=3.0.2 in /usr/local/lib/python3.6/dist-packages (from requests->autoscraper) (3.0.4)\n",
            "Requirement already satisfied, skipping upgrade: MarkupSafe>=0.23 in /usr/local/lib/python3.6/dist-packages (from Jinja2>=2.10.1->flask) (1.1.1)\n",
            "Installing collected packages: fuzzywuzzy, autoscraper\n",
            "Successfully installed autoscraper-1.1.7 fuzzywuzzy-0.18.0\n"
          ],
          "name": "stdout"
        }
      ]
    },
    {
      "cell_type": "code",
      "metadata": {
        "id": "SXq-cnu-Okw5",
        "outputId": "2ab29623-6f6f-4302-d1e6-26937a043b6c",
        "colab": {
          "base_uri": "https://localhost:8080/",
          "height": 34
        }
      },
      "source": [
        "from autoscraper import AutoScraper\n",
        "\n",
        "\n",
        "url = 'https://www.ebay.com/sch/i.html?_nkw=iphone'\n",
        "wanted_list = ['Apple iPhone X 64GB Factory Unlocked Smartphone', \n",
        "               '$389.99', \n",
        "               'https://www.ebay.com/itm/Apple-iPhone-X-64GB-Factory-Unlocked-Smartphone/254187579586?epid=238944741&hash=item3b2ec2a8c2:g:ZPQAAOSwD6VdpL~9']\n",
        "\n",
        "scraper = AutoScraper()\n",
        "result = scraper.build(url=url, wanted_list=wanted_list)\n",
        "\n",
        "scraper.get_result_similar(url, grouped=True)"
      ],
      "execution_count": 13,
      "outputs": [
        {
          "output_type": "execute_result",
          "data": {
            "text/plain": [
              "{}"
            ]
          },
          "metadata": {
            "tags": []
          },
          "execution_count": 13
        }
      ]
    },
    {
      "cell_type": "code",
      "metadata": {
        "id": "kfRffQ29ORtP"
      },
      "source": [
        "# scraper.set_rule_aliases({'rule_0aok': 'title', 'rule_vn5z': 'price', 'rule_buz1': 'url'})\n",
        "\n",
        "# scraper.keep_rules(['rule_0aok', 'rule_vn5z', 'rule_buz1'])\n",
        "\n",
        "# scraper.save('ebay-search')"
      ],
      "execution_count": 6,
      "outputs": []
    },
    {
      "cell_type": "code",
      "metadata": {
        "id": "yZPjOWJiOVSN",
        "outputId": "97c7d7eb-b669-4188-d25c-e0fbde360851",
        "colab": {
          "base_uri": "https://localhost:8080/",
          "height": 547
        }
      },
      "source": [
        "url = 'https://www.etsy.com/search?q=macbook'\n",
        "\n",
        "wanted_dict = {\n",
        "    'title': [\n",
        "        'Apple MacBook Pro i9 32GB 500GB Radeon 560X 15.4 2018 Touch Bar 2.9GHz 6-Core', \n",
        "        'Laptop MacBook Premium Ergonomic Wood Stand Holder Computer Gift Nerd Tech Geek Mens, woodworking gift, Home office workspace accessories',\n",
        "    ],\n",
        "    'price': ['1,500.00', '126.65'],\n",
        "    'url': ['851553172']\n",
        "}\n",
        "\n",
        "scraper = AutoScraper()\n",
        "scraper.build(url=url, wanted_dict=wanted_dict)\n",
        "\n",
        "# get results grouped per rule so we'll know which one to use \n",
        "scraper.get_result_similar(url, grouped=True)"
      ],
      "execution_count": 5,
      "outputs": [
        {
          "output_type": "execute_result",
          "data": {
            "text/plain": [
              "{'rule_8u44': ['Italian Leather Tech Envelope Clutch, Macbook Pro Case, iPad Sleeve, Laptop Case, Black, 6 colors, Hand Made in the USA, Buttero Minimal Bag',\n",
              "  'Laptop MacBook Premium Ergonomic Wood Stand Holder Computer Gift Nerd Tech Geek Mens, woodworking gift, Home office workspace accessories',\n",
              "  'Juice Box - Mac Apple Logo Cover Laptop Vinyl Decal Sticker Macbook Unique Food Fruit Funny',\n",
              "  'Real Wood MacBook Case - Ebony wood',\n",
              "  'Personalized Leather Sleeve for MacBook, MacBook 2020 Sleeve, 13.3 inch Laptop Case, 15 inch Macbook Pro Cover, Leather Laptop Cover',\n",
              "  'Fashion Laptop Bag Case Messenger Bags for MacBook Air Case Waterproof Notebook Bag Women Men touch bar Sleeve with Belt',\n",
              "  'Skyrim Inspired We Know vinyl Decal Dark Brotherhood sticker gaming macbook laptop 0193',\n",
              "  'macbook pro 15 inch sleeve leather Laptop case for 15 inch macbook pro Sleeve for notebook personalized gift for her',\n",
              "  'Hibiscus Wave Vinyl Sticker, Best Friend Gift, Laptop Decals, Beach Stickers, Decal, Macbook Decal, Stickers Macbook Pro',\n",
              "  'Felt Macbook satchel, Laptop bag, sleeve, 11\" 13\"15\" 17\"\" bag, Casual bag, black leather bag, felt gift,',\n",
              "  'Leather Messenger Bag  Briefcase Laptop Satchel Rustic Distressed  fits Macbook Pro 16\" BUILD',\n",
              "  'Hand Crafted Laptop Bag | Laptop Sleeve | Laptop Bag | Laptop Cover | 13 inch | 15 inch| MacBook Pro Bag | MacBook Air Bag |MacBook Cover|',\n",
              "  'Leather Macbook Pro sleeve | Simple Macbook sleeve | Personalized leather macbook sleeve. | Valentines gifts for boyfriend',\n",
              "  'Live. Love. Create.  Black Girl Magic, Laptop Case, tablet Case, MacBook Protector',\n",
              "  'Monster Dunk | Macbook case/cover | Luxury print by Shredders Loft | Many sizes available'],\n",
              " 'rule_ooxd': ['Italian Leather Tech Envelope Clutch, Macbook Pro Case, iPad Sleeve, Laptop Case, Black, 6 colors, Hand Made in the USA, Buttero Minimal Bag',\n",
              "  'Laptop MacBook Premium Ergonomic Wood Stand Holder Computer Gift Nerd Tech Geek Mens, woodworking gift, Home office workspace accessories',\n",
              "  'Juice Box - Mac Apple Logo Cover Laptop Vinyl Decal Sticker Macbook Unique Food Fruit Funny',\n",
              "  'Real Wood MacBook Case - Ebony wood',\n",
              "  'Personalized Leather Sleeve for MacBook, MacBook 2020 Sleeve, 13.3 inch Laptop Case, 15 inch Macbook Pro Cover, Leather Laptop Cover',\n",
              "  'Fashion Laptop Bag Case Messenger Bags for MacBook Air Case Waterproof Notebook Bag Women Men touch bar Sleeve with Belt',\n",
              "  'Skyrim Inspired We Know vinyl Decal Dark Brotherhood sticker gaming macbook laptop 0193',\n",
              "  'macbook pro 15 inch sleeve leather Laptop case for 15 inch macbook pro Sleeve for notebook personalized gift for her',\n",
              "  'Hibiscus Wave Vinyl Sticker, Best Friend Gift, Laptop Decals, Beach Stickers, Decal, Macbook Decal, Stickers Macbook Pro',\n",
              "  'Felt Macbook satchel, Laptop bag, sleeve, 11',\n",
              "  'Leather Messenger Bag  Briefcase Laptop Satchel Rustic Distressed  fits Macbook Pro 16',\n",
              "  'Hand Crafted Laptop Bag | Laptop Sleeve | Laptop Bag | Laptop Cover | 13 inch | 15 inch| MacBook Pro Bag | MacBook Air Bag |MacBook Cover|',\n",
              "  'Leather Macbook Pro sleeve | Simple Macbook sleeve | Personalized leather macbook sleeve. | Valentines gifts for boyfriend',\n",
              "  'Live. Love. Create.  Black Girl Magic, Laptop Case, tablet Case, MacBook Protector',\n",
              "  'Monster Dunk | Macbook case/cover | Luxury print by Shredders Loft | Many sizes available']}"
            ]
          },
          "metadata": {
            "tags": []
          },
          "execution_count": 5
        }
      ]
    },
    {
      "cell_type": "code",
      "metadata": {
        "id": "lWUJigm7OXqm"
      },
      "source": [
        "scraper.keep_rules(['rule_705x', 'rule_70m8', 'rule_d9wp', 'rule_kv6p'])\n",
        "\n",
        "scraper.save('etsy-search')"
      ],
      "execution_count": 7,
      "outputs": []
    },
    {
      "cell_type": "code",
      "metadata": {
        "id": "NkNVrU6SOcgu"
      },
      "source": [
        "from autoscraper import AutoScraper\n",
        "from flask import Flask, request\n",
        "\n",
        "\n",
        "ebay_scraper = AutoScraper()\n",
        "etsy_scraper = AutoScraper()\n",
        "# ebay_scraper.load('ebay-search')\n",
        "etsy_scraper.load('etsy-search')\n",
        "app = Flask(__name__)\n",
        "\n",
        "\n",
        "# def get_ebay_result(search_query):\n",
        "#     url = 'https://www.ebay.com/sch/i.html?_nkw=%s' % search_query\n",
        "#     result = ebay_scraper.get_result_similar(url, group_by_alias=True)\n",
        "#     return _aggregate_result(result)\n",
        "  \n",
        "  \n",
        "def get_etsy_result(search_query):\n",
        "    url = 'https://www.etsy.com/search?q=%s' % search_query\n",
        "    result = etsy_scraper.get_result_similar(url, group_by_alias=True)\n",
        "    result['url'] = [f'https://www.etsy.com/listing/{i}' for i in result['url']]\n",
        "    return _aggregate_result(result)\n",
        "  \n",
        "  \n",
        "def _aggregate_result(result):\n",
        "    final_result = []\n",
        "    for i in range(len(list(result.values())[0])):\n",
        "        final_result.append({alias: result[alias][i] for alias in result})\n",
        "    return final_result\n",
        "  \n",
        "  \n",
        "@app.route('/', methods=['GET'])\n",
        "def search_api():\n",
        "    query = request.args.get('q')\n",
        "    return dict(result=get_ebay_result(query) + get_etsy_result(query))\n",
        "  \n",
        "  \n",
        "if __name__ == '__main__':\n",
        "    app.run(port=8080, host='0.0.0.0')"
      ],
      "execution_count": 15,
      "outputs": []
    }
  ]
}
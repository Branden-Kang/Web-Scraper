{
  "nbformat": 4,
  "nbformat_minor": 0,
  "metadata": {
    "colab": {
      "name": "Automate Searching Google Using Python.ipynb",
      "provenance": [],
      "authorship_tag": "ABX9TyOj+fZPKfXytHl4cCjgOTAp"
    },
    "kernelspec": {
      "name": "python3",
      "display_name": "Python 3"
    },
    "language_info": {
      "name": "python"
    }
  },
  "cells": [
    {
      "cell_type": "markdown",
      "source": [
        "[Reference](https://medium.com/@natashanewbold/automate-searching-google-using-python-fcbbb4342dfd)"
      ],
      "metadata": {
        "id": "7WBCCdoM6I80"
      }
    },
    {
      "cell_type": "code",
      "execution_count": 1,
      "metadata": {
        "colab": {
          "base_uri": "https://localhost:8080/"
        },
        "id": "ea1x6ZIU5vH0",
        "outputId": "318cb7c8-0e1b-4ea8-c8a8-0212e2964543"
      },
      "outputs": [
        {
          "output_type": "stream",
          "name": "stdout",
          "text": [
            "Looking in indexes: https://pypi.org/simple, https://us-python.pkg.dev/colab-wheels/public/simple/\n",
            "Requirement already satisfied: beautifulsoup4 in /usr/local/lib/python3.7/dist-packages (4.6.3)\n"
          ]
        }
      ],
      "source": [
        "pip install beautifulsoup4"
      ]
    },
    {
      "cell_type": "code",
      "source": [
        "pip install google"
      ],
      "metadata": {
        "colab": {
          "base_uri": "https://localhost:8080/"
        },
        "id": "jvePlUrP6Mwe",
        "outputId": "73fb89c5-ebac-417c-8349-dccf65c8b86c"
      },
      "execution_count": 2,
      "outputs": [
        {
          "output_type": "stream",
          "name": "stdout",
          "text": [
            "Looking in indexes: https://pypi.org/simple, https://us-python.pkg.dev/colab-wheels/public/simple/\n",
            "Requirement already satisfied: google in /usr/local/lib/python3.7/dist-packages (2.0.3)\n",
            "Requirement already satisfied: beautifulsoup4 in /usr/local/lib/python3.7/dist-packages (from google) (4.6.3)\n"
          ]
        }
      ]
    },
    {
      "cell_type": "code",
      "source": [
        "try:\n",
        "    from googlesearch import search\n",
        "except ImportError:\n",
        "    print(\"No module named 'google' found\")\n",
        " \n",
        "# to search\n",
        "query = \"Guardian News\"\n",
        " \n",
        "for j in search(query, tld=\"co.in\", num=10, stop=10, pause=2):\n",
        "    print(j)"
      ],
      "metadata": {
        "colab": {
          "base_uri": "https://localhost:8080/"
        },
        "id": "y2cX8KpL6PTy",
        "outputId": "b94da710-963b-4155-db2d-b6d900fcbde3"
      },
      "execution_count": 3,
      "outputs": [
        {
          "output_type": "stream",
          "name": "stdout",
          "text": [
            "https://www.theguardian.com/us\n",
            "https://twitter.com/guardiannews?ref_src=twsrc%5Egoogle%7Ctwcamp%5Eserp%7Ctwgr%5Eauthor\n",
            "https://twitter.com/guardiannews/status/1541310515049336834?ref_src=twsrc%5Egoogle%7Ctwcamp%5Eserp%7Ctwgr%5Etweet\n",
            "https://twitter.com/guardiannews/status/1541307888211222528?ref_src=twsrc%5Egoogle%7Ctwcamp%5Eserp%7Ctwgr%5Etweet\n",
            "https://twitter.com/guardiannews/status/1541305157945884678?ref_src=twsrc%5Egoogle%7Ctwcamp%5Eserp%7Ctwgr%5Etweet\n",
            "https://twitter.com/guardiannews/status/1541303521835884546?ref_src=twsrc%5Egoogle%7Ctwcamp%5Eserp%7Ctwgr%5Etweet\n",
            "https://www.youtube.com/channel/UCIRYBXDze5krPDzAEOxFGVA\n",
            "https://guardian.ng/\n",
            "https://www.facebook.com/theguardian/\n",
            "https://en.wikipedia.org/wiki/The_Guardian\n"
          ]
        }
      ]
    },
    {
      "cell_type": "code",
      "source": [
        "try:\n",
        "    from googlesearch import search\n",
        "except ImportError:\n",
        "    print(\"No module named 'google' found\")\n",
        " \n",
        "# to search\n",
        "query = \"The Financial Times\"\n",
        " \n",
        "for j in search(query, tld=\"co.in\", num=10, stop=10, pause=2):\n",
        "    print(j)"
      ],
      "metadata": {
        "colab": {
          "base_uri": "https://localhost:8080/"
        },
        "id": "8GKQP_am6SCS",
        "outputId": "24b85759-59ee-4c22-f6ad-8dc25e9cb06e"
      },
      "execution_count": 4,
      "outputs": [
        {
          "output_type": "stream",
          "name": "stdout",
          "text": [
            "https://www.ft.com/\n",
            "https://en.wikipedia.org/wiki/Financial_Times\n",
            "https://twitter.com/FinancialTimes?ref_src=twsrc%5Egoogle%7Ctwcamp%5Eserp%7Ctwgr%5Eauthor\n",
            "https://twitter.com/FinancialTimes/status/1541300350187184129?ref_src=twsrc%5Egoogle%7Ctwcamp%5Eserp%7Ctwgr%5Etweet\n",
            "https://twitter.com/FinancialTimes/status/1541285207826993152?ref_src=twsrc%5Egoogle%7Ctwcamp%5Eserp%7Ctwgr%5Etweet\n",
            "https://twitter.com/FinancialTimes/status/1541270142537109505?ref_src=twsrc%5Egoogle%7Ctwcamp%5Eserp%7Ctwgr%5Etweet\n",
            "https://twitter.com/FinancialTimes/status/1541255023723745281?ref_src=twsrc%5Egoogle%7Ctwcamp%5Eserp%7Ctwgr%5Etweet\n",
            "https://www.facebook.com/financialtimes/\n",
            "https://twitter.com/ft\n",
            "https://www.linkedin.com/company/financial-times\n"
          ]
        }
      ]
    },
    {
      "cell_type": "code",
      "source": [
        "try:\n",
        "    from googlesearch import search\n",
        "except ImportError:\n",
        "    print(\"No module named 'google' found\")\n",
        " \n",
        "# to search\n",
        "query = \"The Economist\"\n",
        " \n",
        "for j in search(query, tld=\"co.in\", num=10, stop=10, pause=2):\n",
        "    print(j)"
      ],
      "metadata": {
        "colab": {
          "base_uri": "https://localhost:8080/"
        },
        "id": "rxKmnkz66UOJ",
        "outputId": "65b79bbb-be0d-4bce-becc-c181cf9ef77e"
      },
      "execution_count": 5,
      "outputs": [
        {
          "output_type": "stream",
          "name": "stdout",
          "text": [
            "https://www.economist.com/\n",
            "https://en.wikipedia.org/wiki/The_Economist\n",
            "https://www.economistgroup.com/\n",
            "https://twitter.com/TheEconomist?ref_src=twsrc%5Egoogle%7Ctwcamp%5Eserp%7Ctwgr%5Eauthor\n",
            "https://twitter.com/TheEconomist/status/1541311614560919552?ref_src=twsrc%5Egoogle%7Ctwcamp%5Eserp%7Ctwgr%5Etweet\n",
            "https://twitter.com/TheEconomist/status/1541307073274822656?ref_src=twsrc%5Egoogle%7Ctwcamp%5Eserp%7Ctwgr%5Etweet\n",
            "https://twitter.com/TheEconomist/status/1541302002713493506?ref_src=twsrc%5Egoogle%7Ctwcamp%5Eserp%7Ctwgr%5Etweet\n",
            "https://twitter.com/TheEconomist/status/1541297048921800704?ref_src=twsrc%5Egoogle%7Ctwcamp%5Eserp%7Ctwgr%5Etweet\n",
            "https://www.eiu.com/\n",
            "https://www.facebook.com/TheEconomist/\n"
          ]
        }
      ]
    }
  ]
}
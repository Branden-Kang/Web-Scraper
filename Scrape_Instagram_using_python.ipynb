{
  "nbformat": 4,
  "nbformat_minor": 0,
  "metadata": {
    "colab": {
      "name": "Scrape Instagram using python.ipynb",
      "provenance": [],
      "authorship_tag": "ABX9TyNbOm/wTDT0CcQLGBFPQdE/"
    },
    "kernelspec": {
      "name": "python3",
      "display_name": "Python 3"
    },
    "language_info": {
      "name": "python"
    }
  },
  "cells": [
    {
      "cell_type": "markdown",
      "metadata": {
        "id": "-GraYZUA3Ezh"
      },
      "source": [
        "[Reference1](https://medium.com/nerd-for-tech/scrape-instagram-using-python-2576f09ebbb9)<br>\n",
        "[Reference2](https://instaloader.github.io/as-module.html)"
      ]
    },
    {
      "cell_type": "code",
      "metadata": {
        "colab": {
          "base_uri": "https://localhost:8080/"
        },
        "id": "-Asj4fnE3eRc",
        "outputId": "b31fdc39-833e-4303-f7f8-6f773a8851c4"
      },
      "source": [
        "pip install instaloader"
      ],
      "execution_count": 6,
      "outputs": [
        {
          "output_type": "stream",
          "name": "stdout",
          "text": [
            "Collecting instaloader\n",
            "  Downloading instaloader-4.8.1.tar.gz (54 kB)\n",
            "\u001b[?25l\r\u001b[K     |██████                          | 10 kB 28.2 MB/s eta 0:00:01\r\u001b[K     |████████████                    | 20 kB 27.7 MB/s eta 0:00:01\r\u001b[K     |██████████████████              | 30 kB 12.2 MB/s eta 0:00:01\r\u001b[K     |████████████████████████        | 40 kB 9.2 MB/s eta 0:00:01\r\u001b[K     |██████████████████████████████▏ | 51 kB 5.2 MB/s eta 0:00:01\r\u001b[K     |████████████████████████████████| 54 kB 1.6 MB/s \n",
            "\u001b[?25hRequirement already satisfied: requests>=2.4 in /usr/local/lib/python3.7/dist-packages (from instaloader) (2.23.0)\n",
            "Requirement already satisfied: idna<3,>=2.5 in /usr/local/lib/python3.7/dist-packages (from requests>=2.4->instaloader) (2.10)\n",
            "Requirement already satisfied: urllib3!=1.25.0,!=1.25.1,<1.26,>=1.21.1 in /usr/local/lib/python3.7/dist-packages (from requests>=2.4->instaloader) (1.24.3)\n",
            "Requirement already satisfied: certifi>=2017.4.17 in /usr/local/lib/python3.7/dist-packages (from requests>=2.4->instaloader) (2021.5.30)\n",
            "Requirement already satisfied: chardet<4,>=3.0.2 in /usr/local/lib/python3.7/dist-packages (from requests>=2.4->instaloader) (3.0.4)\n",
            "Building wheels for collected packages: instaloader\n",
            "  Building wheel for instaloader (setup.py) ... \u001b[?25l\u001b[?25hdone\n",
            "  Created wheel for instaloader: filename=instaloader-4.8.1-py3-none-any.whl size=58722 sha256=ad15d4816a304591037b87c8d5d3336d6dd6f9c60d4af21662eabc0b06bc9712\n",
            "  Stored in directory: /root/.cache/pip/wheels/67/cc/31/c4f2a966180c23b0f66985bb9a90c389d447bc1a5ddffd35c9\n",
            "Successfully built instaloader\n",
            "Installing collected packages: instaloader\n",
            "Successfully installed instaloader-4.8.1\n"
          ]
        }
      ]
    },
    {
      "cell_type": "code",
      "metadata": {
        "id": "tQ72hb0n3cZG"
      },
      "source": [
        "import instaloader\n",
        "import numpy as np"
      ],
      "execution_count": 7,
      "outputs": []
    },
    {
      "cell_type": "markdown",
      "metadata": {
        "id": "8G_ZYhL_3JGA"
      },
      "source": [
        "# 1. Create a session\n"
      ]
    },
    {
      "cell_type": "code",
      "metadata": {
        "id": "d3Wo0vms3DgM"
      },
      "source": [
        "def create_session(self):\n",
        "        L = instaloader.Instaloader()\n",
        "        L.login(self.username, self.password) # Login or load session\n",
        "        self.profile = instaloader.Profile.from_username(L.context, self.username) # Obtain profile metadata"
      ],
      "execution_count": 1,
      "outputs": []
    },
    {
      "cell_type": "markdown",
      "metadata": {
        "id": "XP6Tu25f3K1f"
      },
      "source": [
        "# 2. Get list of followers\n"
      ]
    },
    {
      "cell_type": "code",
      "metadata": {
        "id": "o-tEveNl3KGK"
      },
      "source": [
        "def scrape_followers(self):\n",
        "        for follower in self.profile.get_followers():\n",
        "            self.followers_list.append(follower.username)"
      ],
      "execution_count": 2,
      "outputs": []
    },
    {
      "cell_type": "markdown",
      "metadata": {
        "id": "Ur5RUuG_3M0R"
      },
      "source": [
        "# 3. Get list of following\n"
      ]
    },
    {
      "cell_type": "code",
      "metadata": {
        "id": "xbdyD2gV3MAL"
      },
      "source": [
        "def scrape_following(self):\n",
        "        for followee in self.profile.get_followees():\n",
        "            self.following_list.append(followee.username)"
      ],
      "execution_count": 3,
      "outputs": []
    },
    {
      "cell_type": "markdown",
      "metadata": {
        "id": "NwEHfpjv3PSh"
      },
      "source": [
        "# 4. Get unfollow list\n"
      ]
    },
    {
      "cell_type": "code",
      "metadata": {
        "id": "8KPk-ehb3Onk"
      },
      "source": [
        "def generate_unfollowers_list(self):\n",
        "        unfollow_list = np.setdiff1d(self.following_list, self.followers_list) # unfollow people who are only in following list and not in followers list\n",
        "        print(\"People to unfollow: \", unfollow_list)\n",
        "        filename = \"unfollowers_\" + self.username + \".txt\"\n",
        "        file = open(filename, \"w\")\n",
        "        for person in unfollow_list:\n",
        "            file.write(person + \"\\n\")\n",
        "        file.close()"
      ],
      "execution_count": 4,
      "outputs": []
    },
    {
      "cell_type": "code",
      "metadata": {
        "id": "fiYbd8xz3Ql3"
      },
      "source": [
        "class InstagramScraper:\n",
        "\n",
        "    def __init__(self, username, password):\n",
        "        \n",
        "        self.username = username\n",
        "        self.password = password\n",
        "        self.profile = None\n",
        "        self.followers_list = []\n",
        "        self.following_list = []\n",
        "\n",
        "    def create_session(self):\n",
        "\n",
        "        L = instaloader.Instaloader()\n",
        "        L.login(self.username, self.password) # Login or load session\n",
        "        self.profile = instaloader.Profile.from_username(L.context, self.username) # Obtain profile metadata\n",
        "\n",
        "    def scrape_followers(self):\n",
        "       \n",
        "        for follower in self.profile.get_followers():\n",
        "            self.followers_list.append(follower.username)\n",
        "\n",
        "    def scrape_following(self):\n",
        "\n",
        "        for followee in self.profile.get_followees():\n",
        "            self.following_list.append(followee.username)\n",
        "\n",
        "    def generate_unfollowers_list(self):\n",
        "\n",
        "        unfollow_list = np.setdiff1d(self.following_list, self.followers_list) # unfollow people who are only in following list and not in followers list\n",
        "        print(\"People to unfollow: \", unfollow_list)\n",
        "        filename = \"unfollowers_\" + self.username + \".txt\"\n",
        "        file = open(filename, \"w\")\n",
        "        for person in unfollow_list:\n",
        "            file.write(person + \"\\n\")\n",
        "        file.close()"
      ],
      "execution_count": 8,
      "outputs": []
    }
  ]
}
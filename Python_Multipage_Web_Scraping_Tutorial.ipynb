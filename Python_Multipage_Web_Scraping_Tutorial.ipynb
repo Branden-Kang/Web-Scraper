{
  "nbformat": 4,
  "nbformat_minor": 0,
  "metadata": {
    "colab": {
      "name": "Python Multipage Web Scraping Tutorial.ipynb",
      "provenance": [],
      "authorship_tag": "ABX9TyMhzb2FKkW7nXl0J7F4cl+r"
    },
    "kernelspec": {
      "name": "python3",
      "display_name": "Python 3"
    },
    "language_info": {
      "name": "python"
    }
  },
  "cells": [
    {
      "cell_type": "markdown",
      "source": [
        "[Reference](https://medium.com/@paulau404/python-multipage-web-scraping-tutorial-ba8bec14b7f0)"
      ],
      "metadata": {
        "id": "TUl3VakN3HMu"
      }
    },
    {
      "cell_type": "code",
      "execution_count": 1,
      "metadata": {
        "colab": {
          "base_uri": "https://localhost:8080/"
        },
        "id": "TRZlA17Q27yX",
        "outputId": "3cd1aa9e-f802-4bc9-8a73-5459659f4ff1"
      },
      "outputs": [
        {
          "output_type": "stream",
          "name": "stdout",
          "text": [
            "200\n",
            "200\n",
            "200\n",
            "200\n",
            "200\n",
            "200\n",
            "200\n",
            "200\n",
            "200\n",
            "200\n",
            "200\n",
            "200\n",
            "200\n",
            "200\n",
            "200\n",
            "200\n",
            "200\n",
            "200\n",
            "200\n",
            "200\n"
          ]
        }
      ],
      "source": [
        "import requests\n",
        "from bs4 import BeautifulSoup\n",
        "import pandas as pd\n",
        "import numpy as np\n",
        "import time\n",
        "titles = []\n",
        "ratings = []\n",
        "for i in np.arange(1,1000,50):\n",
        "    url = f'https://www.imdb.com/search/title/?groups=top_1000&start={i}&ref_=adv_prv'\n",
        "    html = requests.get(url)\n",
        "    print(html.status_code)\n",
        "    if html.status_code == 200:\n",
        "        soup = BeautifulSoup(html.text, 'lxml')\n",
        "        movies = soup.find_all('div', class_='lister-item mode-advanced')\n",
        "        for movie in movies:\n",
        "            titles.append(movie.find('h3').find('a').text)\n",
        "            ratings.append(movie.find('div', class_='ratings-bar').find('strong').text)\n",
        "    \n",
        "    time.sleep(5)\n",
        "movies_df = pd.DataFrame({\n",
        "    'Title': titles,\n",
        "    'Rating': ratings\n",
        "})\n",
        "movies_df.to_csv('./movies_df.csv', index=False, encoding='utf_8_sig')"
      ]
    }
  ]
}
{
  "nbformat": 4,
  "nbformat_minor": 0,
  "metadata": {
    "colab": {
      "provenance": [],
      "authorship_tag": "ABX9TyOh2nt6ljz7SS7o1bSeSmDU"
    },
    "kernelspec": {
      "name": "python3",
      "display_name": "Python 3"
    },
    "language_info": {
      "name": "python"
    }
  },
  "cells": [
    {
      "cell_type": "markdown",
      "source": [
        "[Reference](https://medium.com/@adelbasli/beyond-the-label-decoding-food-processing-with-nova-and-python-5ff12334d63e)"
      ],
      "metadata": {
        "id": "GxsMuoTwMoyE"
      }
    },
    {
      "cell_type": "code",
      "execution_count": 1,
      "metadata": {
        "colab": {
          "base_uri": "https://localhost:8080/"
        },
        "id": "U5mVNvxmLWE9",
        "outputId": "9bea17cd-fed3-494b-f54c-99c2ae65d0df"
      },
      "outputs": [
        {
          "output_type": "stream",
          "name": "stdout",
          "text": [
            "\n",
            "--- Testing with Coca-Cola (common UPF, likely Group 4) ---\n",
            "Product Name: Coca-Cola 33cl\n",
            "Barcode: 5449000000996\n",
            "NOVA Group: 4 - Group 4: Ultra-Processed Food and Drink Products\n",
            "\n",
            "--- Testing with Canned Tuna (common Processed Food, likely Group 3) ---\n",
            "Product Name: Thunfisch Filets in eigenem Saft\n",
            "Barcode: 4056489254683\n",
            "NOVA Group: 3 - Group 3: Processed Foods\n",
            "\n",
            "--- Testing with Plain Yogurt (common Minimally Processed Food, likely Group 1) ---\n",
            "Product Name: 10% Fat Authentic Greek Yoghurt\n",
            "Barcode: 4088600060880\n",
            "NOVA Group: 1 - Group 1: Unprocessed or Minimally Processed Foods\n",
            "\n",
            "--- Testing with a non-existent barcode ---\n",
            "Product Name: N/A\n",
            "Barcode: 9999999999999\n",
            "NOVA Group: None - NOVA score not available or unknown group\n"
          ]
        }
      ],
      "source": [
        "import requests\n",
        "import json\n",
        "\n",
        "def get_nova_score(barcode):\n",
        "    \"\"\"\n",
        "    Fetches the NOVA score for a given product barcode from Open Food Facts.\n",
        "    \"\"\"\n",
        "    base_url = \"https://world.openfoodfacts.net/api/v2/product/\"\n",
        "    url = f\"{base_url}{barcode}\"\n",
        "\n",
        "    # It is good practice to send a User-Agent header to identify your application.\n",
        "    # Replace 'your_email@example.com' with your actual contact email.\n",
        "    headers = {\n",
        "        \"User-Agent\": \"MediumArticleNovaPython/1.0 (contact: your_email@example.com)\"\n",
        "    }\n",
        "\n",
        "    try:\n",
        "        # Make the GET request to the Open Food Facts API with a timeout.\n",
        "        response = requests.get(url, headers=headers, timeout=10)\n",
        "        response.raise_for_status() # Raise an HTTPError for bad responses (4xx or 5xx).\n",
        "\n",
        "        data = response.json()\n",
        "\n",
        "        # Check if the product was found and contains NOVA information.\n",
        "        if data.get('status') == 1 and 'product' in data:\n",
        "            product_info = data['product']\n",
        "            product_name = product_info.get('product_name', 'N/A')\n",
        "            nova_group = product_info.get('nova_group') # This is the key field for the NOVA score.\n",
        "\n",
        "            # Map the NOVA group number to its descriptive text.\n",
        "            nova_group_description = {\n",
        "                1: \"Group 1: Unprocessed or Minimally Processed Foods\",\n",
        "                2: \"Group 2: Processed Culinary Ingredients\",\n",
        "                3: \"Group 3: Processed Foods\",\n",
        "                4: \"Group 4: Ultra-Processed Food and Drink Products\"\n",
        "            }.get(nova_group, \"NOVA score not available or unknown group\")\n",
        "\n",
        "            print(f\"Product Name: {product_name}\")\n",
        "            print(f\"Barcode: {barcode}\")\n",
        "            print(f\"NOVA Group: {nova_group} - {nova_group_description}\")\n",
        "            return nova_group\n",
        "        else:\n",
        "            print(f\"Product with barcode {barcode} not found or data incomplete.\")\n",
        "            print(f\"API Response Status: {data.get('status_verbose', 'N/A')}\")\n",
        "            return None\n",
        "\n",
        "    except requests.exceptions.HTTPError as errh:\n",
        "        print(f\"HTTP Error occurred: {errh}\")\n",
        "    except requests.exceptions.ConnectionError as errc:\n",
        "        print(f\"Error Connecting to the API: {errc}\")\n",
        "    except requests.exceptions.Timeout as errt:\n",
        "        print(f\"Request timed out: {errt}\")\n",
        "    except requests.exceptions.RequestException as err:\n",
        "        print(f\"An unexpected request error occurred: {err}\")\n",
        "    except json.JSONDecodeError:\n",
        "        print(f\"Error: Could not decode JSON from response for barcode {barcode}.\")\n",
        "    except Exception as e:\n",
        "        print(f\"An unexpected error occurred: {e}\")\n",
        "    return None\n",
        "\n",
        "# --- Example Usage ---\n",
        "# You can find barcodes on the Open Food Facts website (world.openfoodfacts.org)\n",
        "# or by scanning products in your pantry with the Open Food Facts app.\n",
        "# The actual NOVA group for these examples depends on the data available in Open Food Facts.\n",
        "\n",
        "print(\"\\n--- Testing with Coca-Cola (common UPF, likely Group 4) ---\")\n",
        "get_nova_score(\"5449000000996\")\n",
        "\n",
        "print(\"\\n--- Testing with Canned Tuna (common Processed Food, likely Group 3) ---\")\n",
        "get_nova_score(\"4056489254683\")\n",
        "\n",
        "print(\"\\n--- Testing with Plain Yogurt (common Minimally Processed Food, likely Group 1) ---\")\n",
        "get_nova_score(\"4088600060880\")\n",
        "\n",
        "print(\"\\n--- Testing with a non-existent barcode ---\")\n",
        "get_nova_score(\"9999999999999\")"
      ]
    }
  ]
}
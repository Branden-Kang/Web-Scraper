{
  "nbformat": 4,
  "nbformat_minor": 0,
  "metadata": {
    "colab": {
      "name": "Python requests.ipynb",
      "provenance": [],
      "authorship_tag": "ABX9TyPSGE/OAfStVucW50jtYtZ4"
    },
    "kernelspec": {
      "name": "python3",
      "display_name": "Python 3"
    },
    "language_info": {
      "name": "python"
    }
  },
  "cells": [
    {
      "cell_type": "markdown",
      "metadata": {
        "id": "jVy6qnpV87Hn"
      },
      "source": [
        "[Reference](https://royseto.medium.com/python-101-requests-fa1a38a37c0d)"
      ]
    },
    {
      "cell_type": "code",
      "metadata": {
        "id": "_OA3ubs-84mr"
      },
      "source": [
        "import requests"
      ],
      "execution_count": 1,
      "outputs": []
    },
    {
      "cell_type": "code",
      "metadata": {
        "colab": {
          "base_uri": "https://localhost:8080/"
        },
        "id": "1p_efYpc8_9R",
        "outputId": "99f46812-5d75-4a92-b96f-439ec2ad95e8"
      },
      "source": [
        "url = 'https://reqres.in/api/users/2'\n",
        "r = requests.get(url)\n",
        "print(r)"
      ],
      "execution_count": 2,
      "outputs": [
        {
          "output_type": "stream",
          "text": [
            "<Response [200]>\n"
          ],
          "name": "stdout"
        }
      ]
    },
    {
      "cell_type": "code",
      "metadata": {
        "colab": {
          "base_uri": "https://localhost:8080/"
        },
        "id": "PDwUR1jv9GtQ",
        "outputId": "16ed01b6-a6ee-419f-8d56-a192f8200f32"
      },
      "source": [
        "url = 'https://reqres.in/api/users?page=2'\n",
        "payload = {\n",
        "    'key1': 'value1',\n",
        "    'key2': 'value2'\n",
        "}\n",
        "r = requests.get(url, params=payload)\n",
        "print(r.url)\n",
        "# output: https://reqres.in/api/users?page=2&key1=value1&key2=value2"
      ],
      "execution_count": 3,
      "outputs": [
        {
          "output_type": "stream",
          "text": [
            "https://reqres.in/api/users?page=2&key1=value1&key2=value2\n"
          ],
          "name": "stdout"
        }
      ]
    },
    {
      "cell_type": "code",
      "metadata": {
        "colab": {
          "base_uri": "https://localhost:8080/"
        },
        "id": "HWKZotuE9KIr",
        "outputId": "76cbe8fd-fc98-49bd-b55d-7f286c784128"
      },
      "source": [
        "url = 'https://reqres.in/api/users?page=2'\n",
        "\n",
        "payload = {\n",
        "    'key1': 'value1',\n",
        "    'key2': ['value2', 'value3']\n",
        "}\n",
        "r = requests.get(url, params=payload)\n",
        "\n",
        "print(r.url)\n",
        "# output: https://reqres.in/api/users?page=2&key1=value1&key2=value2&key2=value3"
      ],
      "execution_count": 4,
      "outputs": [
        {
          "output_type": "stream",
          "text": [
            "https://reqres.in/api/users?page=2&key1=value1&key2=value2&key2=value3\n"
          ],
          "name": "stdout"
        }
      ]
    },
    {
      "cell_type": "code",
      "metadata": {
        "colab": {
          "base_uri": "https://localhost:8080/"
        },
        "id": "qIxQEr1K9NOK",
        "outputId": "ea0f291d-c2c3-4c14-d5af-f8a678349e6c"
      },
      "source": [
        "url = 'https://reqres.in/api/users?page=2'\n",
        "r = requests.get(url)\n",
        "print(r.status_code)\n",
        "print(r.encoding)"
      ],
      "execution_count": 6,
      "outputs": [
        {
          "output_type": "stream",
          "text": [
            "200\n",
            "utf-8\n"
          ],
          "name": "stdout"
        }
      ]
    },
    {
      "cell_type": "code",
      "metadata": {
        "colab": {
          "base_uri": "https://localhost:8080/"
        },
        "id": "txFYfypO9P1D",
        "outputId": "61fa01d1-2f9c-4627-858c-268b47007ab3"
      },
      "source": [
        "url = 'https://reqres.in/api/users?page=2'\n",
        "r = requests.get(url)\n",
        "json = r.json()\n",
        "print(json)\n",
        "print(json['page'])\n",
        "print(json['total'])"
      ],
      "execution_count": 7,
      "outputs": [
        {
          "output_type": "stream",
          "text": [
            "{'page': 2, 'per_page': 6, 'total': 12, 'total_pages': 2, 'data': [{'id': 7, 'email': 'michael.lawson@reqres.in', 'first_name': 'Michael', 'last_name': 'Lawson', 'avatar': 'https://reqres.in/img/faces/7-image.jpg'}, {'id': 8, 'email': 'lindsay.ferguson@reqres.in', 'first_name': 'Lindsay', 'last_name': 'Ferguson', 'avatar': 'https://reqres.in/img/faces/8-image.jpg'}, {'id': 9, 'email': 'tobias.funke@reqres.in', 'first_name': 'Tobias', 'last_name': 'Funke', 'avatar': 'https://reqres.in/img/faces/9-image.jpg'}, {'id': 10, 'email': 'byron.fields@reqres.in', 'first_name': 'Byron', 'last_name': 'Fields', 'avatar': 'https://reqres.in/img/faces/10-image.jpg'}, {'id': 11, 'email': 'george.edwards@reqres.in', 'first_name': 'George', 'last_name': 'Edwards', 'avatar': 'https://reqres.in/img/faces/11-image.jpg'}, {'id': 12, 'email': 'rachel.howell@reqres.in', 'first_name': 'Rachel', 'last_name': 'Howell', 'avatar': 'https://reqres.in/img/faces/12-image.jpg'}], 'support': {'url': 'https://reqres.in/#support-heading', 'text': 'To keep ReqRes free, contributions towards server costs are appreciated!'}}\n",
            "2\n",
            "12\n"
          ],
          "name": "stdout"
        }
      ]
    }
  ]
}
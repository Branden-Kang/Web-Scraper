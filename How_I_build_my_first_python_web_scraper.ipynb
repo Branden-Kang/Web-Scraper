{
  "nbformat": 4,
  "nbformat_minor": 0,
  "metadata": {
    "colab": {
      "provenance": [],
      "authorship_tag": "ABX9TyObsRVVVYcgDGrNVkAcxSiu",
      "include_colab_link": true
    },
    "kernelspec": {
      "name": "python3",
      "display_name": "Python 3"
    },
    "language_info": {
      "name": "python"
    }
  },
  "cells": [
    {
      "cell_type": "markdown",
      "metadata": {
        "id": "view-in-github",
        "colab_type": "text"
      },
      "source": [
        "<a href=\"https://colab.research.google.com/github/Branden-Kang/Web-Scraper/blob/master/How_I_build_my_first_python_web_scraper.ipynb\" target=\"_parent\"><img src=\"https://colab.research.google.com/assets/colab-badge.svg\" alt=\"Open In Colab\"/></a>"
      ]
    },
    {
      "cell_type": "markdown",
      "source": [
        "[Reference](https://carloalbertocarrucciu.medium.com/how-i-build-my-first-python-web-scraper-for-infinite-scrolling-web-pages-52d744c7873c)"
      ],
      "metadata": {
        "id": "6Twdki9U6Zek"
      }
    },
    {
      "cell_type": "code",
      "execution_count": 1,
      "metadata": {
        "id": "9jJ5OU8g5s6K"
      },
      "outputs": [],
      "source": [
        "import urllib.request\n",
        "import json \n",
        "\n",
        "categories = {\n",
        "    \"other\":\"32\",\n",
        "    \"bd-illustration\":\"33\",\n",
        "    \"movies\":\"34\",\n",
        "    \"food\":\"35\",\n",
        "    \"geek\":\"36\",\n",
        "    \"video-game\":\"38\",\n",
        "    \"humour\":\"37\",\n",
        "    \"journalism\":\"39\",\n",
        "    \"books\":\"40\",\n",
        "    \"fashion\":\"41\",\n",
        "    \"music\":\"42\",\n",
        "    \"photography\":\"43\",\n",
        "    \"science-technology\":\"44\",\n",
        "    \"performing-arts\":\"45\",\n",
        "    \"sports\":\"46\",\n",
        "    \"vlog\":\"47\",\n",
        "    \"streaming\":\"52\"\n",
        "}\n",
        "\n",
        "superheaders = {'User-Agent': 'Mozilla/5.0 (X11; Linux x86_64) AppleWebKit/537.11 (KHTML, like Gecko) Chrome/23.0.1271.64 Safari/537.11',\n",
        "               'Accept': 'text/html,application/xhtml+xml,application/xml;q=0.9,*/*;q=0.8',\n",
        "               'Accept-Charset': 'ISO-8859-1,utf-8;q=0.7,*;q=0.3',\n",
        "               'Accept-Encoding': 'none',\n",
        "               'Accept-Language': 'en-US,en;q=0.8',\n",
        "               'Connection': 'keep-alive'}\n",
        "\n",
        "def show_categories(categories = categories):\n",
        "    \"\"\"\n",
        "    Show list of admissible values for category \n",
        "    \"\"\"\n",
        "    for category in categories.keys():\n",
        "        print(category)\n",
        "        \n",
        "# TO REQUEST ONE SINGLE JSON WEB PAGE\n",
        "def requesting(url, headers = superheaders):\n",
        "    req = urllib.request.Request(url,headers=headers)\n",
        "    response= urllib.request.urlopen(req)\n",
        "    data = response.read()\n",
        "    encoding = response.info().get_content_charset('utf-8')\n",
        "    data = json.loads(data.decode(encoding))\n",
        "    return data"
      ]
    },
    {
      "cell_type": "code",
      "source": [
        "class Creators:\n",
        "    \n",
        "    def __init__(self, lang='en'):\n",
        "        self.lang = lang\n",
        "        self.scraped =   list()\n",
        "        self.creators = list()\n",
        "       \n",
        "        \n",
        "    def __iter__(self):\n",
        "        for elem in self.creators: \n",
        "            yield elem['slug']\n",
        "            \n",
        "    def __len__(self):\n",
        "        return len(self.creators)\n",
        "    \n",
        "    def __repr__(self):\n",
        "        return str(self.creators)\n",
        "        \n",
        "    def scrape(self, limit=None, category=None, headers=superheaders, lang=None):\n",
        "        '''\n",
        "        returns creator in a list \n",
        "       Parameters\n",
        "       ----------\n",
        "           limit : the number of creators to get, if not specified return all authors.\n",
        "                Authors are crawled in the order given by the site \n",
        "                N.B. if not specified can take some time \n",
        "           category : specifying a category will obtain only authors of that category \n",
        "               N.B. run pytipeee.show_categories() to see admissible values for category\n",
        "       '''    \n",
        "        \n",
        "        def __params_setting(category=category, limit=limit, headers = headers, lang=lang):\n",
        "            if limit != None: assert(type(limit)==int)\n",
        "            if lang not in ['en','de','fr','es','it']: lang = 'en'\n",
        "            mode = 'default'\n",
        "            if category != None:\n",
        "                if category in categories:\n",
        "                    category = '&category='+str(categories[category])\n",
        "                    mode = 'category'\n",
        "                else:\n",
        "                    print('wrong value for category: will not be considered')\n",
        "            else:\n",
        "                category=''\n",
        "            return limit, mode, category, headers, lang\n",
        "        \n",
        "             # PARAMETHERS SETTING\n",
        "        limit, mode ,category, headers, lang = __params_setting(category,limit,headers,lang)\n",
        "        page='1'\n",
        "        base_url = 'https://api.tipeee.com/v2.0/projects?mode={}&page={}&perPage=150&lang={}{}'\n",
        "        creators_list = list()\n",
        "        \n",
        "            #COLLECTING DATA\n",
        "        while len(creators_list) < limit:\n",
        "            data = requesting(base_url.format(mode, page, lang, category), headers) \n",
        "            creators_list += data['items']\n",
        "            try: \n",
        "                page = data['pager']['next']\n",
        "            except: \n",
        "                break\n",
        "        if len(creators_list) >  limit : creators_list = creators_list[:limit]\n",
        "        \n",
        "        self.scraped = creators_list\n",
        "        self.get_creators()\n",
        "        return creators_list\n",
        "    \n",
        "    \n",
        "    def get_creators(self):\n",
        "        ''' \n",
        "        paramether:\n",
        "        ____________\n",
        "        Transform each scraped item in an element of class Crator, so you can call methods on it\n",
        "        \n",
        "        '''\n",
        "        if len(self.scraped) > 0 :\n",
        "            for item in self.scraped:\n",
        "                try :\n",
        "                    self.creators.append(Creator(item))\n",
        "                except: \n",
        "                    print(item)\n",
        "                    break\n",
        "                    \n",
        "   \n",
        "    \n",
        "    \n",
        "    def to_dataframe(self, lang=None):\n",
        "        \"\"\"\n",
        "        return a pandas dataframe \n",
        "        \n",
        "        PARAMS:\n",
        "            lang: chose the lenguage for categories.\n",
        "        \n",
        "        \"\"\"\n",
        "            \n",
        "        if len(self.creators)==0: return \n",
        "        import pandas \n",
        "        columns = ['id','username','lang','categories','tipperAmount','tipperNumber','newsNumber']\n",
        "        df = pandas.DataFrame(columns=columns)\n",
        "        for creator in self.creators:\n",
        "            df = df.append(creator.to_dict(), ignore_index=True)\n",
        "        df.set_index('id',inplace=True)   \n",
        "        "
      ],
      "metadata": {
        "id": "54u4fmvV6R8c"
      },
      "execution_count": 2,
      "outputs": []
    },
    {
      "cell_type": "code",
      "source": [
        "show_categories()"
      ],
      "metadata": {
        "colab": {
          "base_uri": "https://localhost:8080/"
        },
        "id": "kYe7ky1H6f2r",
        "outputId": "919c9799-1404-4399-ab65-594e2d82d73d"
      },
      "execution_count": 3,
      "outputs": [
        {
          "output_type": "stream",
          "name": "stdout",
          "text": [
            "other\n",
            "bd-illustration\n",
            "movies\n",
            "food\n",
            "geek\n",
            "video-game\n",
            "humour\n",
            "journalism\n",
            "books\n",
            "fashion\n",
            "music\n",
            "photography\n",
            "science-technology\n",
            "performing-arts\n",
            "sports\n",
            "vlog\n",
            "streaming\n"
          ]
        }
      ]
    },
    {
      "cell_type": "code",
      "source": [
        "creators = Creators()          #Initialize the class\n",
        "creators.scrape(100,'vlog')       #scrape the site using a limit of creatros to collect ans a category \n",
        "                                  #transform each scraped in a Creator element\n",
        "df = creators.to_dataframe()      #return a pandas dataframe\n",
        "df"
      ],
      "metadata": {
        "colab": {
          "base_uri": "https://localhost:8080/"
        },
        "id": "n3E2-yv36gPO",
        "outputId": "3d02a646-6b86-4c84-e8fd-daa23b2ebaf7"
      },
      "execution_count": 5,
      "outputs": [
        {
          "output_type": "stream",
          "name": "stdout",
          "text": [
            "{'translations': {'en': {'name': 'Octaviancarare'}}, 'id': 274497, 'slug': 'octaviancarare', 'lang': 'en', 'status': 'OPEN', 'created_at': '2021-04-29T10:25:18+02:00', 'tags': [], 'categories': [{'translations': {'de': {'name': 'Fotografie'}, 'en': {'name': 'Photo'}, 'es': {'name': 'Fotografía'}, 'fr': {'name': 'Photo'}, 'it': {'name': 'Fotografia'}}, 'id': 43, 'slug': 'photography', 'name': 'Photo'}, {'translations': {'de': {'name': 'Video Blog'}, 'en': {'name': 'Vlog'}, 'es': {'name': 'Videoblog'}, 'fr': {'name': 'Vlog'}, 'it': {'name': 'Vlog'}}, 'id': 47, 'slug': 'vlog', 'name': 'Vlog'}], 'avatar': {'id': 1996980, 'filename': '20210429608a6d957e646.jpeg', 'path': 'uploads/media/image/jpeg/20210429', 'updated_at': '2022-04-21T13:30:16+02:00'}, 'cover': {'id': 1996981, 'filename': '20210429608a6f262cbc6.jpeg', 'path': 'uploads/media/image/jpeg/20210429', 'updated_at': '2022-04-21T13:30:17+02:00'}, 'name': '', 'parameters': {'hidedAmount': False, 'tipperAmount': '7', 'tipperNumber': '2', 'campaign_name': 'month', 'campaign_type': 'per_month', 'adult_content': False, 'closeDate': False, 'closeAt': False, 'clipeee': '0', 'activateAt': '2021-04-29 10:34:21', 'disableRecurring': False, 'preCloseAt': False, 'frozenAt': False, 'opeLiveAmount': False, 'newsNumber': '1', 'ulule_project': False, 'module_countdown_activated': False, 'module_countdown_title': False, 'module_countdown_description': False, 'module_countdown_ending_time': False, 'module_countdown_icon_id': False, 'module_countdown_image_id': False, 'module_countdown_reward_id': False, 'module_countdown_link': False, 'translations_enabled': False, 'migration_status': '2', 'discussion_activated': False, 'clipeee_types': False, 'recurring_only': '1', 'direct_only': False, 'enabled_streaming': False, 'discord_beta': False, 'banned': False, 'campaign_deadline_type': False, 'campaign_goal': False, 'campaign_deadline_date': False, 'campaign_deadline_days': False, 'campaign_goal_success': False, 'moderationVerified': True, 'moderationNsfw': False, 'moderationReported': False}, 'currency': {'code': 'EUR', 'symbol': '€', 'label': 'Euro'}}\n"
          ]
        }
      ]
    }
  ]
}
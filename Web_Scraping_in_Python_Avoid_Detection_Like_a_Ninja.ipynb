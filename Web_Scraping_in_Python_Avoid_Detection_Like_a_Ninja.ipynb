{
  "nbformat": 4,
  "nbformat_minor": 0,
  "metadata": {
    "colab": {
      "provenance": [],
      "authorship_tag": "ABX9TyNk5BmaLnNFxr9icVTBOLDN"
    },
    "kernelspec": {
      "name": "python3",
      "display_name": "Python 3"
    },
    "language_info": {
      "name": "python"
    }
  },
  "cells": [
    {
      "cell_type": "markdown",
      "source": [
        "[Reference](https://medium.com/@zenrows/web-scraping-in-python-avoid-detection-like-a-ninja-69bf688aba9a)"
      ],
      "metadata": {
        "id": "B2KgdtDJaj-s"
      }
    },
    {
      "cell_type": "code",
      "execution_count": 1,
      "metadata": {
        "colab": {
          "base_uri": "https://localhost:8080/"
        },
        "id": "qVndlUGFaho-",
        "outputId": "5735615a-fcb8-4cb5-c94a-9521abec6fff"
      },
      "outputs": [
        {
          "output_type": "stream",
          "name": "stdout",
          "text": [
            "Requirement already satisfied: requests in /usr/local/lib/python3.10/dist-packages (2.27.1)\n",
            "Collecting playwright\n",
            "  Downloading playwright-1.36.0-py3-none-manylinux1_x86_64.whl (35.3 MB)\n",
            "\u001b[2K     \u001b[90m━━━━━━━━━━━━━━━━━━━━━━━━━━━━━━━━━━━━━━━━\u001b[0m \u001b[32m35.3/35.3 MB\u001b[0m \u001b[31m23.2 MB/s\u001b[0m eta \u001b[36m0:00:00\u001b[0m\n",
            "\u001b[?25hRequirement already satisfied: urllib3<1.27,>=1.21.1 in /usr/local/lib/python3.10/dist-packages (from requests) (1.26.16)\n",
            "Requirement already satisfied: certifi>=2017.4.17 in /usr/local/lib/python3.10/dist-packages (from requests) (2023.5.7)\n",
            "Requirement already satisfied: charset-normalizer~=2.0.0 in /usr/local/lib/python3.10/dist-packages (from requests) (2.0.12)\n",
            "Requirement already satisfied: idna<4,>=2.5 in /usr/local/lib/python3.10/dist-packages (from requests) (3.4)\n",
            "Requirement already satisfied: greenlet==2.0.2 in /usr/local/lib/python3.10/dist-packages (from playwright) (2.0.2)\n",
            "Collecting pyee==9.0.4 (from playwright)\n",
            "  Downloading pyee-9.0.4-py2.py3-none-any.whl (14 kB)\n",
            "Requirement already satisfied: typing-extensions in /usr/local/lib/python3.10/dist-packages (from pyee==9.0.4->playwright) (4.7.1)\n",
            "Installing collected packages: pyee, playwright\n",
            "Successfully installed playwright-1.36.0 pyee-9.0.4\n",
            "Downloading Chromium 115.0.5790.75 (playwright build v1071)\u001b[2m from https://playwright.azureedge.net/builds/chromium/1071/chromium-linux.zip\u001b[22m\n",
            "\u001b[1G146.4 Mb [] 0% 0.0s\u001b[0K\u001b[1G146.4 Mb [] 0% 76.5s\u001b[0K\u001b[1G146.4 Mb [] 0% 66.1s\u001b[0K\u001b[1G146.4 Mb [] 0% 62.6s\u001b[0K\u001b[1G146.4 Mb [] 0% 55.7s\u001b[0K\u001b[1G146.4 Mb [] 0% 49.2s\u001b[0K\u001b[1G146.4 Mb [] 0% 41.8s\u001b[0K\u001b[1G146.4 Mb [] 0% 36.3s\u001b[0K\u001b[1G146.4 Mb [] 0% 30.9s\u001b[0K\u001b[1G146.4 Mb [] 0% 25.7s\u001b[0K\u001b[1G146.4 Mb [] 0% 21.4s\u001b[0K\u001b[1G146.4 Mb [] 1% 18.1s\u001b[0K\u001b[1G146.4 Mb [] 1% 15.4s\u001b[0K\u001b[1G146.4 Mb [] 1% 13.1s\u001b[0K\u001b[1G146.4 Mb [] 2% 11.2s\u001b[0K\u001b[1G146.4 Mb [] 2% 10.2s\u001b[0K\u001b[1G146.4 Mb [] 3% 8.7s\u001b[0K\u001b[1G146.4 Mb [] 3% 7.8s\u001b[0K\u001b[1G146.4 Mb [] 4% 7.3s\u001b[0K\u001b[1G146.4 Mb [] 4% 7.1s\u001b[0K\u001b[1G146.4 Mb [] 4% 7.0s\u001b[0K\u001b[1G146.4 Mb [] 5% 6.0s\u001b[0K\u001b[1G146.4 Mb [] 7% 5.1s\u001b[0K\u001b[1G146.4 Mb [] 7% 4.6s\u001b[0K\u001b[1G146.4 Mb [] 8% 4.5s\u001b[0K\u001b[1G146.4 Mb [] 9% 4.1s\u001b[0K\u001b[1G146.4 Mb [] 10% 4.0s\u001b[0K\u001b[1G146.4 Mb [] 11% 3.7s\u001b[0K\u001b[1G146.4 Mb [] 12% 3.4s\u001b[0K\u001b[1G146.4 Mb [] 13% 3.3s\u001b[0K\u001b[1G146.4 Mb [] 14% 3.1s\u001b[0K\u001b[1G146.4 Mb [] 15% 2.9s\u001b[0K\u001b[1G146.4 Mb [] 17% 2.7s\u001b[0K\u001b[1G146.4 Mb [] 18% 2.6s\u001b[0K\u001b[1G146.4 Mb [] 18% 2.5s\u001b[0K\u001b[1G146.4 Mb [] 20% 2.4s\u001b[0K\u001b[1G146.4 Mb [] 21% 2.3s\u001b[0K\u001b[1G146.4 Mb [] 23% 2.2s\u001b[0K\u001b[1G146.4 Mb [] 24% 2.1s\u001b[0K\u001b[1G146.4 Mb [] 25% 2.0s\u001b[0K\u001b[1G146.4 Mb [] 27% 1.9s\u001b[0K\u001b[1G146.4 Mb [] 28% 1.8s\u001b[0K\u001b[1G146.4 Mb [] 29% 1.8s\u001b[0K\u001b[1G146.4 Mb [] 30% 1.7s\u001b[0K\u001b[1G146.4 Mb [] 31% 1.7s\u001b[0K\u001b[1G146.4 Mb [] 32% 1.7s\u001b[0K\u001b[1G146.4 Mb [] 33% 1.6s\u001b[0K\u001b[1G146.4 Mb [] 34% 1.6s\u001b[0K\u001b[1G146.4 Mb [] 35% 1.5s\u001b[0K\u001b[1G146.4 Mb [] 37% 1.5s\u001b[0K\u001b[1G146.4 Mb [] 38% 1.4s\u001b[0K\u001b[1G146.4 Mb [] 40% 1.3s\u001b[0K\u001b[1G146.4 Mb [] 41% 1.3s\u001b[0K\u001b[1G146.4 Mb [] 42% 1.3s\u001b[0K\u001b[1G146.4 Mb [] 43% 1.3s\u001b[0K\u001b[1G146.4 Mb [] 44% 1.2s\u001b[0K\u001b[1G146.4 Mb [] 45% 1.2s\u001b[0K\u001b[1G146.4 Mb [] 46% 1.2s\u001b[0K\u001b[1G146.4 Mb [] 48% 1.1s\u001b[0K\u001b[1G146.4 Mb [] 49% 1.1s\u001b[0K\u001b[1G146.4 Mb [] 50% 1.0s\u001b[0K\u001b[1G146.4 Mb [] 52% 1.0s\u001b[0K\u001b[1G146.4 Mb [] 53% 1.0s\u001b[0K\u001b[1G146.4 Mb [] 54% 0.9s\u001b[0K\u001b[1G146.4 Mb [] 56% 0.9s\u001b[0K\u001b[1G146.4 Mb [] 57% 0.8s\u001b[0K\u001b[1G146.4 Mb [] 59% 0.8s\u001b[0K\u001b[1G146.4 Mb [] 61% 0.8s\u001b[0K\u001b[1G146.4 Mb [] 62% 0.7s\u001b[0K\u001b[1G146.4 Mb [] 63% 0.7s\u001b[0K\u001b[1G146.4 Mb [] 64% 0.7s\u001b[0K\u001b[1G146.4 Mb [] 65% 0.7s\u001b[0K\u001b[1G146.4 Mb [] 67% 0.6s\u001b[0K\u001b[1G146.4 Mb [] 68% 0.6s\u001b[0K\u001b[1G146.4 Mb [] 70% 0.5s\u001b[0K\u001b[1G146.4 Mb [] 72% 0.5s\u001b[0K\u001b[1G146.4 Mb [] 73% 0.5s\u001b[0K\u001b[1G146.4 Mb [] 74% 0.5s\u001b[0K\u001b[1G146.4 Mb [] 76% 0.4s\u001b[0K\u001b[1G146.4 Mb [] 77% 0.4s\u001b[0K\u001b[1G146.4 Mb [] 78% 0.4s\u001b[0K\u001b[1G146.4 Mb [] 80% 0.4s\u001b[0K\u001b[1G146.4 Mb [] 81% 0.3s\u001b[0K\u001b[1G146.4 Mb [] 83% 0.3s\u001b[0K\u001b[1G146.4 Mb [] 84% 0.3s\u001b[0K\u001b[1G146.4 Mb [] 86% 0.2s\u001b[0K\u001b[1G146.4 Mb [] 87% 0.2s\u001b[0K\u001b[1G146.4 Mb [] 88% 0.2s\u001b[0K\u001b[1G146.4 Mb [] 90% 0.2s\u001b[0K\u001b[1G146.4 Mb [] 91% 0.1s\u001b[0K\u001b[1G146.4 Mb [] 93% 0.1s\u001b[0K\u001b[1G146.4 Mb [] 94% 0.1s\u001b[0K\u001b[1G146.4 Mb [] 96% 0.1s\u001b[0K\u001b[1G146.4 Mb [] 97% 0.1s\u001b[0K\u001b[1G146.4 Mb [] 98% 0.0s\u001b[0K\u001b[1G146.4 Mb [] 99% 0.0s\u001b[0K\u001b[1G146.4 Mb [] 100% 0.0s\u001b[0K\n",
            "Chromium 115.0.5790.75 (playwright build v1071) downloaded to /root/.cache/ms-playwright/chromium-1071\n",
            "Downloading FFMPEG playwright build v1009\u001b[2m from https://playwright.azureedge.net/builds/ffmpeg/1009/ffmpeg-linux.zip\u001b[22m\n",
            "\u001b[1G2.6 Mb [] 0% 0.0s\u001b[0K\u001b[1G2.6 Mb [] 3% 1.0s\u001b[0K\u001b[1G2.6 Mb [] 4% 1.0s\u001b[0K\u001b[1G2.6 Mb [] 7% 0.9s\u001b[0K\u001b[1G2.6 Mb [] 10% 0.7s\u001b[0K\u001b[1G2.6 Mb [] 14% 0.6s\u001b[0K\u001b[1G2.6 Mb [] 20% 0.5s\u001b[0K\u001b[1G2.6 Mb [] 28% 0.4s\u001b[0K\u001b[1G2.6 Mb [] 38% 0.2s\u001b[0K\u001b[1G2.6 Mb [] 51% 0.2s\u001b[0K\u001b[1G2.6 Mb [] 67% 0.1s\u001b[0K\u001b[1G2.6 Mb [] 86% 0.0s\u001b[0K\u001b[1G2.6 Mb [] 100% 0.0s\u001b[0K\n",
            "FFMPEG playwright build v1009 downloaded to /root/.cache/ms-playwright/ffmpeg-1009\n",
            "Downloading Firefox 115.0 (playwright build v1419)\u001b[2m from https://playwright.azureedge.net/builds/firefox/1419/firefox-ubuntu-22.04.zip\u001b[22m\n",
            "\u001b[1G79.1 Mb [] 0% 0.0s\u001b[0K\u001b[1G79.1 Mb [] 0% 29.1s\u001b[0K\u001b[1G79.1 Mb [] 0% 33.7s\u001b[0K\u001b[1G79.1 Mb [] 0% 31.9s\u001b[0K\u001b[1G79.1 Mb [] 0% 28.8s\u001b[0K\u001b[1G79.1 Mb [] 0% 25.7s\u001b[0K\u001b[1G79.1 Mb [] 0% 21.7s\u001b[0K\u001b[1G79.1 Mb [] 0% 18.5s\u001b[0K\u001b[1G79.1 Mb [] 0% 15.1s\u001b[0K\u001b[1G79.1 Mb [] 1% 12.4s\u001b[0K\u001b[1G79.1 Mb [] 1% 10.5s\u001b[0K\u001b[1G79.1 Mb [] 2% 8.9s\u001b[0K\u001b[1G79.1 Mb [] 2% 7.6s\u001b[0K\u001b[1G79.1 Mb [] 3% 6.5s\u001b[0K\u001b[1G79.1 Mb [] 4% 5.7s\u001b[0K\u001b[1G79.1 Mb [] 4% 5.0s\u001b[0K\u001b[1G79.1 Mb [] 6% 4.4s\u001b[0K\u001b[1G79.1 Mb [] 7% 3.9s\u001b[0K\u001b[1G79.1 Mb [] 8% 3.6s\u001b[0K\u001b[1G79.1 Mb [] 9% 3.4s\u001b[0K\u001b[1G79.1 Mb [] 10% 3.2s\u001b[0K\u001b[1G79.1 Mb [] 12% 2.7s\u001b[0K\u001b[1G79.1 Mb [] 14% 2.5s\u001b[0K\u001b[1G79.1 Mb [] 15% 2.3s\u001b[0K\u001b[1G79.1 Mb [] 17% 2.1s\u001b[0K\u001b[1G79.1 Mb [] 18% 2.0s\u001b[0K\u001b[1G79.1 Mb [] 20% 1.8s\u001b[0K\u001b[1G79.1 Mb [] 22% 1.7s\u001b[0K\u001b[1G79.1 Mb [] 23% 1.6s\u001b[0K\u001b[1G79.1 Mb [] 25% 1.5s\u001b[0K\u001b[1G79.1 Mb [] 25% 1.6s\u001b[0K\u001b[1G79.1 Mb [] 27% 1.5s\u001b[0K\u001b[1G79.1 Mb [] 28% 1.5s\u001b[0K\u001b[1G79.1 Mb [] 31% 1.4s\u001b[0K\u001b[1G79.1 Mb [] 31% 1.3s\u001b[0K\u001b[1G79.1 Mb [] 32% 1.3s\u001b[0K\u001b[1G79.1 Mb [] 33% 1.3s\u001b[0K\u001b[1G79.1 Mb [] 36% 1.2s\u001b[0K\u001b[1G79.1 Mb [] 38% 1.1s\u001b[0K\u001b[1G79.1 Mb [] 40% 1.0s\u001b[0K\u001b[1G79.1 Mb [] 42% 1.0s\u001b[0K\u001b[1G79.1 Mb [] 44% 1.0s\u001b[0K\u001b[1G79.1 Mb [] 47% 0.9s\u001b[0K\u001b[1G79.1 Mb [] 49% 0.9s\u001b[0K\u001b[1G79.1 Mb [] 51% 0.8s\u001b[0K\u001b[1G79.1 Mb [] 53% 0.8s\u001b[0K\u001b[1G79.1 Mb [] 55% 0.7s\u001b[0K\u001b[1G79.1 Mb [] 58% 0.6s\u001b[0K\u001b[1G79.1 Mb [] 59% 0.6s\u001b[0K\u001b[1G79.1 Mb [] 60% 0.6s\u001b[0K\u001b[1G79.1 Mb [] 62% 0.6s\u001b[0K\u001b[1G79.1 Mb [] 63% 0.6s\u001b[0K\u001b[1G79.1 Mb [] 65% 0.5s\u001b[0K\u001b[1G79.1 Mb [] 67% 0.5s\u001b[0K\u001b[1G79.1 Mb [] 69% 0.4s\u001b[0K\u001b[1G79.1 Mb [] 72% 0.4s\u001b[0K\u001b[1G79.1 Mb [] 75% 0.3s\u001b[0K\u001b[1G79.1 Mb [] 77% 0.3s\u001b[0K\u001b[1G79.1 Mb [] 79% 0.3s\u001b[0K\u001b[1G79.1 Mb [] 82% 0.2s\u001b[0K\u001b[1G79.1 Mb [] 85% 0.2s\u001b[0K\u001b[1G79.1 Mb [] 86% 0.2s\u001b[0K\u001b[1G79.1 Mb [] 89% 0.1s\u001b[0K\u001b[1G79.1 Mb [] 91% 0.1s\u001b[0K\u001b[1G79.1 Mb [] 93% 0.1s\u001b[0K\u001b[1G79.1 Mb [] 94% 0.1s\u001b[0K\u001b[1G79.1 Mb [] 96% 0.0s\u001b[0K\u001b[1G79.1 Mb [] 100% 0.0s\u001b[0K\n",
            "Firefox 115.0 (playwright build v1419) downloaded to /root/.cache/ms-playwright/firefox-1419\n",
            "Downloading Webkit 17.0 (playwright build v1869)\u001b[2m from https://playwright.azureedge.net/builds/webkit/1869/webkit-ubuntu-22.04.zip\u001b[22m\n",
            "\u001b[1G83.9 Mb [] 0% 0.0s\u001b[0K\u001b[1G83.9 Mb [] 0% 35.7s\u001b[0K\u001b[1G83.9 Mb [] 0% 34.5s\u001b[0K\u001b[1G83.9 Mb [] 0% 30.5s\u001b[0K\u001b[1G83.9 Mb [] 0% 27.2s\u001b[0K\u001b[1G83.9 Mb [] 0% 23.2s\u001b[0K\u001b[1G83.9 Mb [] 0% 20.2s\u001b[0K\u001b[1G83.9 Mb [] 0% 16.8s\u001b[0K\u001b[1G83.9 Mb [] 1% 14.1s\u001b[0K\u001b[1G83.9 Mb [] 1% 12.0s\u001b[0K\u001b[1G83.9 Mb [] 1% 10.4s\u001b[0K\u001b[1G83.9 Mb [] 2% 9.0s\u001b[0K\u001b[1G83.9 Mb [] 2% 7.6s\u001b[0K\u001b[1G83.9 Mb [] 3% 6.6s\u001b[0K\u001b[1G83.9 Mb [] 4% 5.8s\u001b[0K\u001b[1G83.9 Mb [] 5% 5.2s\u001b[0K\u001b[1G83.9 Mb [] 6% 4.6s\u001b[0K\u001b[1G83.9 Mb [] 7% 4.1s\u001b[0K\u001b[1G83.9 Mb [] 8% 3.7s\u001b[0K\u001b[1G83.9 Mb [] 9% 3.3s\u001b[0K\u001b[1G83.9 Mb [] 11% 2.9s\u001b[0K\u001b[1G83.9 Mb [] 12% 2.6s\u001b[0K\u001b[1G83.9 Mb [] 14% 2.3s\u001b[0K\u001b[1G83.9 Mb [] 16% 2.1s\u001b[0K\u001b[1G83.9 Mb [] 18% 1.9s\u001b[0K\u001b[1G83.9 Mb [] 21% 1.7s\u001b[0K\u001b[1G83.9 Mb [] 23% 1.5s\u001b[0K\u001b[1G83.9 Mb [] 24% 1.6s\u001b[0K\u001b[1G83.9 Mb [] 25% 1.5s\u001b[0K\u001b[1G83.9 Mb [] 27% 1.4s\u001b[0K\u001b[1G83.9 Mb [] 29% 1.3s\u001b[0K\u001b[1G83.9 Mb [] 31% 1.2s\u001b[0K\u001b[1G83.9 Mb [] 33% 1.1s\u001b[0K\u001b[1G83.9 Mb [] 36% 1.0s\u001b[0K\u001b[1G83.9 Mb [] 37% 1.0s\u001b[0K\u001b[1G83.9 Mb [] 39% 1.0s\u001b[0K\u001b[1G83.9 Mb [] 41% 0.9s\u001b[0K\u001b[1G83.9 Mb [] 43% 0.9s\u001b[0K\u001b[1G83.9 Mb [] 45% 0.8s\u001b[0K\u001b[1G83.9 Mb [] 47% 0.8s\u001b[0K\u001b[1G83.9 Mb [] 49% 0.8s\u001b[0K\u001b[1G83.9 Mb [] 51% 0.8s\u001b[0K\u001b[1G83.9 Mb [] 52% 0.7s\u001b[0K\u001b[1G83.9 Mb [] 55% 0.7s\u001b[0K\u001b[1G83.9 Mb [] 57% 0.6s\u001b[0K\u001b[1G83.9 Mb [] 58% 0.6s\u001b[0K\u001b[1G83.9 Mb [] 60% 0.6s\u001b[0K\u001b[1G83.9 Mb [] 62% 0.5s\u001b[0K\u001b[1G83.9 Mb [] 65% 0.5s\u001b[0K\u001b[1G83.9 Mb [] 67% 0.5s\u001b[0K\u001b[1G83.9 Mb [] 69% 0.4s\u001b[0K\u001b[1G83.9 Mb [] 71% 0.4s\u001b[0K\u001b[1G83.9 Mb [] 74% 0.3s\u001b[0K\u001b[1G83.9 Mb [] 76% 0.3s\u001b[0K\u001b[1G83.9 Mb [] 79% 0.3s\u001b[0K\u001b[1G83.9 Mb [] 81% 0.2s\u001b[0K\u001b[1G83.9 Mb [] 83% 0.2s\u001b[0K\u001b[1G83.9 Mb [] 85% 0.2s\u001b[0K\u001b[1G83.9 Mb [] 87% 0.2s\u001b[0K\u001b[1G83.9 Mb [] 89% 0.1s\u001b[0K\u001b[1G83.9 Mb [] 91% 0.1s\u001b[0K\u001b[1G83.9 Mb [] 93% 0.1s\u001b[0K\u001b[1G83.9 Mb [] 95% 0.1s\u001b[0K\u001b[1G83.9 Mb [] 98% 0.0s\u001b[0K\u001b[1G83.9 Mb [] 100% 0.0s\u001b[0K\n",
            "Webkit 17.0 (playwright build v1869) downloaded to /root/.cache/ms-playwright/webkit-1869\n"
          ]
        }
      ],
      "source": [
        "!pip install requests playwright\n",
        "!npx playwright install"
      ]
    },
    {
      "cell_type": "markdown",
      "source": [
        "# IP Rate Limit"
      ],
      "metadata": {
        "id": "KER9MtPnarwK"
      }
    },
    {
      "cell_type": "code",
      "source": [
        "import requests\n",
        "\n",
        "response = requests.get('http://httpbin.org/ip')\n",
        "print(response.json()['origin'])"
      ],
      "metadata": {
        "colab": {
          "base_uri": "https://localhost:8080/"
        },
        "id": "YvaGbmu6aq1Z",
        "outputId": "93d2f83a-3bd9-4cc8-8618-70c26a3f5a1e"
      },
      "execution_count": 2,
      "outputs": [
        {
          "output_type": "stream",
          "name": "stdout",
          "text": [
            "104.198.5.82\n"
          ]
        }
      ]
    },
    {
      "cell_type": "markdown",
      "source": [
        "# Rotating Proxies"
      ],
      "metadata": {
        "id": "zO0cRVtUaxPy"
      }
    },
    {
      "cell_type": "code",
      "source": [
        "# import requests\n",
        "\n",
        "# proxies = {'http': 'http://190.64.18.177:80'}\n",
        "# response = requests.get('http://httpbin.org/ip', proxies=proxies)\n",
        "# print(response.json()['origin']) # 190.64.18.162"
      ],
      "metadata": {
        "id": "lzWea_NSatcZ"
      },
      "execution_count": 4,
      "outputs": []
    },
    {
      "cell_type": "markdown",
      "source": [
        "# User-Agent Header"
      ],
      "metadata": {
        "id": "p8fed_Iwa_Ry"
      }
    },
    {
      "cell_type": "code",
      "source": [
        "import requests\n",
        "\n",
        "response = requests.get('http://httpbin.org/headers')\n",
        "print(response.json()['headers']['User-Agent'])"
      ],
      "metadata": {
        "colab": {
          "base_uri": "https://localhost:8080/"
        },
        "id": "pKk4NnAba5DX",
        "outputId": "0f31ef0e-1673-4975-af4b-a038d47cda8a"
      },
      "execution_count": 5,
      "outputs": [
        {
          "output_type": "stream",
          "name": "stdout",
          "text": [
            "python-requests/2.27.1\n"
          ]
        }
      ]
    },
    {
      "cell_type": "code",
      "source": [
        "!curl http://httpbin.org/headers"
      ],
      "metadata": {
        "colab": {
          "base_uri": "https://localhost:8080/"
        },
        "id": "-j9cbQXlbDGT",
        "outputId": "16adb4e0-d091-4143-dad6-d4d70f01570c"
      },
      "execution_count": 6,
      "outputs": [
        {
          "output_type": "stream",
          "name": "stdout",
          "text": [
            "{\n",
            "  \"headers\": {\n",
            "    \"Accept\": \"*/*\", \n",
            "    \"Host\": \"httpbin.org\", \n",
            "    \"User-Agent\": \"curl/7.81.0\", \n",
            "    \"X-Amzn-Trace-Id\": \"Root=1-64b86e07-7cd8a29c0453760078bc1040\"\n",
            "  }\n",
            "}\n"
          ]
        }
      ]
    },
    {
      "cell_type": "code",
      "source": [
        "import requests\n",
        "\n",
        "headers = {\"User-Agent\": \"Mozilla/5.0 (X11; Linux x86_64) AppleWebKit/537.36 (KHTML, like Gecko) Chrome/88.0.4324.96 Safari/537.36\"}\n",
        "response = requests.get('http://httpbin.org/headers', headers=headers)\n",
        "print(response.json()['headers']['User-Agent'])"
      ],
      "metadata": {
        "colab": {
          "base_uri": "https://localhost:8080/"
        },
        "id": "Xw6F-e4abFIz",
        "outputId": "942f4d67-e06f-4ef8-eba2-61edd9fb3dec"
      },
      "execution_count": 7,
      "outputs": [
        {
          "output_type": "stream",
          "name": "stdout",
          "text": [
            "Mozilla/5.0 (X11; Linux x86_64) AppleWebKit/537.36 (KHTML, like Gecko) Chrome/88.0.4324.96 Safari/537.36\n"
          ]
        }
      ]
    },
    {
      "cell_type": "code",
      "source": [
        "import requests\n",
        "import random\n",
        "\n",
        "user_agents = [\n",
        "\t'Mozilla/5.0 (Windows NT 10.0; Win64; x64) AppleWebKit/537.36 (KHTML, like Gecko) Chrome/91.0.4472.124 Safari/537.36',\n",
        "\t'Mozilla/5.0 (X11; Linux x86_64) AppleWebKit/537.36 (KHTML, like Gecko) Chrome/92.0.4515.107 Safari/537.36',\n",
        "\t'Mozilla/5.0 (Windows NT 10.0; Win64; x64) AppleWebKit/537.36 (KHTML, like Gecko) Chrome/90.0.4430.212 Safari/537.36',\n",
        "\t'Mozilla/5.0 (iPhone; CPU iPhone OS 12_2 like Mac OS X) AppleWebKit/605.1.15 (KHTML, like Gecko) Mobile/15E148',\n",
        "\t'Mozilla/5.0 (Linux; Android 11; SM-G960U) AppleWebKit/537.36 (KHTML, like Gecko) Chrome/89.0.4389.72 Mobile Safari/537.36'\n",
        "]\n",
        "user_agent = random.choice(user_agents)\n",
        "headers = {'User-Agent': user_agent}\n",
        "response = requests.get('https://httpbin.org/headers', headers=headers)\n",
        "print(response.json()['headers']['User-Agent'])"
      ],
      "metadata": {
        "colab": {
          "base_uri": "https://localhost:8080/"
        },
        "id": "iWHCPIpRbG7F",
        "outputId": "fdcd0020-fbb3-426d-e0d7-a0214cafea63"
      },
      "execution_count": 8,
      "outputs": [
        {
          "output_type": "stream",
          "name": "stdout",
          "text": [
            "Mozilla/5.0 (X11; Linux x86_64) AppleWebKit/537.36 (KHTML, like Gecko) Chrome/92.0.4515.107 Safari/537.36\n"
          ]
        }
      ]
    }
  ]
}
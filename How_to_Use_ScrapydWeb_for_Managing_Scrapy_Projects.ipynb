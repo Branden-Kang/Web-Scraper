{
  "nbformat": 4,
  "nbformat_minor": 0,
  "metadata": {
    "colab": {
      "provenance": [],
      "authorship_tag": "ABX9TyMLJXUEMDOCQM6fjKkLPSmu"
    },
    "kernelspec": {
      "name": "python3",
      "display_name": "Python 3"
    },
    "language_info": {
      "name": "python"
    }
  },
  "cells": [
    {
      "cell_type": "markdown",
      "source": [
        "[Reference](https://medium.com/@datajournal/how-to-use-scrapydweb-458989a45cc3)"
      ],
      "metadata": {
        "id": "uJSdA76aln9U"
      }
    },
    {
      "cell_type": "markdown",
      "source": [
        "# Step 1: Install Scrapyd and ScrapydWeb"
      ],
      "metadata": {
        "id": "w4NpgRUzlsws"
      }
    },
    {
      "cell_type": "code",
      "execution_count": 1,
      "metadata": {
        "colab": {
          "base_uri": "https://localhost:8080/",
          "height": 1000
        },
        "id": "Al443dNAlmJv",
        "outputId": "3e0bdf43-fd89-4ee7-e5cd-f4a1af895c6f"
      },
      "outputs": [
        {
          "output_type": "stream",
          "name": "stdout",
          "text": [
            "Collecting scrapyd\n",
            "  Downloading scrapyd-1.6.0-py3-none-any.whl.metadata (2.6 kB)\n",
            "Collecting scrapyd-client\n",
            "  Downloading scrapyd_client-2.0.3-py3-none-any.whl.metadata (11 kB)\n",
            "Collecting scrapydweb\n",
            "  Downloading scrapydweb-1.6.0-py3-none-any.whl.metadata (7.5 kB)\n",
            "Requirement already satisfied: packaging in /usr/local/lib/python3.12/dist-packages (from scrapyd) (25.0)\n",
            "Collecting scrapy>=2.0.0 (from scrapyd)\n",
            "  Downloading scrapy-2.13.3-py3-none-any.whl.metadata (4.4 kB)\n",
            "Requirement already satisfied: setuptools<81 in /usr/local/lib/python3.12/dist-packages (from scrapyd) (75.2.0)\n",
            "Collecting twisted>=17.9 (from scrapyd)\n",
            "  Downloading twisted-25.5.0-py3-none-any.whl.metadata (22 kB)\n",
            "Collecting w3lib (from scrapyd)\n",
            "  Downloading w3lib-2.3.1-py3-none-any.whl.metadata (2.3 kB)\n",
            "Collecting zope.interface (from scrapyd)\n",
            "  Downloading zope_interface-8.0.1-cp312-cp312-manylinux1_x86_64.manylinux2014_x86_64.manylinux_2_17_x86_64.manylinux_2_5_x86_64.whl.metadata (44 kB)\n",
            "\u001b[2K     \u001b[90m━━━━━━━━━━━━━━━━━━━━━━━━━━━━━━━━━━━━━━━━\u001b[0m \u001b[32m44.9/44.9 kB\u001b[0m \u001b[31m2.4 MB/s\u001b[0m eta \u001b[36m0:00:00\u001b[0m\n",
            "\u001b[?25hRequirement already satisfied: pip in /usr/local/lib/python3.12/dist-packages (from scrapyd-client) (24.1.2)\n",
            "Requirement already satisfied: requests in /usr/local/lib/python3.12/dist-packages (from scrapyd-client) (2.32.4)\n",
            "Collecting uberegg>=0.1.1 (from scrapyd-client)\n",
            "  Downloading uberegg-0.1.1-py3-none-any.whl.metadata (658 bytes)\n",
            "Collecting APScheduler==3.6.0 (from scrapydweb)\n",
            "  Downloading APScheduler-3.6.0-py2.py3-none-any.whl.metadata (5.4 kB)\n",
            "Collecting click==7.1.2 (from scrapydweb)\n",
            "  Downloading click-7.1.2-py2.py3-none-any.whl.metadata (2.9 kB)\n",
            "Collecting colorama==0.4.0 (from scrapydweb)\n",
            "  Downloading colorama-0.4.0-py2.py3-none-any.whl.metadata (13 kB)\n",
            "Collecting Flask==2.0.0 (from scrapydweb)\n",
            "  Downloading Flask-2.0.0-py3-none-any.whl.metadata (3.8 kB)\n",
            "Collecting Flask-Compress==1.4.0 (from scrapydweb)\n",
            "  Downloading Flask-Compress-1.4.0.tar.gz (6.0 kB)\n",
            "  Preparing metadata (setup.py) ... \u001b[?25l\u001b[?25hdone\n",
            "Collecting Flask-SQLAlchemy==2.4.0 (from scrapydweb)\n",
            "  Downloading Flask_SQLAlchemy-2.4.0-py2.py3-none-any.whl.metadata (3.1 kB)\n",
            "Collecting idna==2.7 (from scrapydweb)\n",
            "  Downloading idna-2.7-py2.py3-none-any.whl.metadata (8.9 kB)\n",
            "Collecting itsdangerous==2.0.0 (from scrapydweb)\n",
            "  Downloading itsdangerous-2.0.0-py3-none-any.whl.metadata (2.9 kB)\n",
            "Collecting Jinja2==3.0.0 (from scrapydweb)\n",
            "  Downloading Jinja2-3.0.0-py3-none-any.whl.metadata (3.5 kB)\n",
            "Collecting logparser>=0.8.4 (from scrapydweb)\n",
            "  Downloading logparser-0.8.4-py3-none-any.whl.metadata (9.5 kB)\n",
            "Collecting MarkupSafe==2.0.0 (from scrapydweb)\n",
            "  Downloading MarkupSafe-2.0.0.tar.gz (18 kB)\n",
            "  Preparing metadata (setup.py) ... \u001b[?25l\u001b[?25hdone\n",
            "Collecting pexpect==4.7.0 (from scrapydweb)\n",
            "  Downloading pexpect-4.7.0-py2.py3-none-any.whl.metadata (2.2 kB)\n",
            "Collecting ptyprocess==0.6.0 (from scrapydweb)\n",
            "  Downloading ptyprocess-0.6.0-py2.py3-none-any.whl.metadata (1.3 kB)\n",
            "Collecting pytz==2018.9 (from scrapydweb)\n",
            "  Downloading pytz-2018.9-py2.py3-none-any.whl.metadata (20 kB)\n",
            "Collecting six==1.16.0 (from scrapydweb)\n",
            "  Downloading six-1.16.0-py2.py3-none-any.whl.metadata (1.8 kB)\n",
            "Collecting SQLAlchemy==1.3.24 (from scrapydweb)\n",
            "  Downloading SQLAlchemy-1.3.24.tar.gz (6.4 MB)\n",
            "\u001b[2K     \u001b[90m━━━━━━━━━━━━━━━━━━━━━━━━━━━━━━━━━━━━━━━━\u001b[0m \u001b[32m6.4/6.4 MB\u001b[0m \u001b[31m49.9 MB/s\u001b[0m eta \u001b[36m0:00:00\u001b[0m\n",
            "\u001b[?25h  Preparing metadata (setup.py) ... \u001b[?25l\u001b[?25hdone\n",
            "Collecting tzlocal==1.5.1 (from scrapydweb)\n",
            "  Downloading tzlocal-1.5.1.tar.gz (16 kB)\n",
            "  Preparing metadata (setup.py) ... \u001b[?25l\u001b[?25hdone\n",
            "Collecting w3lib (from scrapyd)\n",
            "  Downloading w3lib-2.0.0-py3-none-any.whl.metadata (939 bytes)\n",
            "Collecting Werkzeug==2.0.0 (from scrapydweb)\n",
            "  Downloading Werkzeug-2.0.0-py3-none-any.whl.metadata (4.4 kB)\n",
            "Requirement already satisfied: charset_normalizer<4,>=2 in /usr/local/lib/python3.12/dist-packages (from requests->scrapyd-client) (3.4.4)\n",
            "Requirement already satisfied: urllib3<3,>=1.21.1 in /usr/local/lib/python3.12/dist-packages (from requests->scrapyd-client) (2.5.0)\n",
            "Requirement already satisfied: certifi>=2017.4.17 in /usr/local/lib/python3.12/dist-packages (from requests->scrapyd-client) (2025.10.5)\n",
            "Requirement already satisfied: cryptography>=37.0.0 in /usr/local/lib/python3.12/dist-packages (from scrapy>=2.0.0->scrapyd) (43.0.3)\n",
            "Collecting cssselect>=0.9.1 (from scrapy>=2.0.0->scrapyd)\n",
            "  Downloading cssselect-1.3.0-py3-none-any.whl.metadata (2.6 kB)\n",
            "Requirement already satisfied: defusedxml>=0.7.1 in /usr/local/lib/python3.12/dist-packages (from scrapy>=2.0.0->scrapyd) (0.7.1)\n",
            "Collecting itemadapter>=0.1.0 (from scrapy>=2.0.0->scrapyd)\n",
            "  Downloading itemadapter-0.12.2-py3-none-any.whl.metadata (22 kB)\n",
            "Collecting itemloaders>=1.0.1 (from scrapy>=2.0.0->scrapyd)\n",
            "  Downloading itemloaders-1.3.2-py3-none-any.whl.metadata (3.9 kB)\n",
            "Requirement already satisfied: lxml>=4.6.0 in /usr/local/lib/python3.12/dist-packages (from scrapy>=2.0.0->scrapyd) (5.4.0)\n",
            "Collecting parsel>=1.5.0 (from scrapy>=2.0.0->scrapyd)\n",
            "  Downloading parsel-1.10.0-py2.py3-none-any.whl.metadata (11 kB)\n",
            "Collecting protego>=0.1.15 (from scrapy>=2.0.0->scrapyd)\n",
            "  Downloading protego-0.5.0-py3-none-any.whl.metadata (6.4 kB)\n",
            "Collecting pydispatcher>=2.0.5 (from scrapy>=2.0.0->scrapyd)\n",
            "  Downloading PyDispatcher-2.0.7-py3-none-any.whl.metadata (2.4 kB)\n",
            "Requirement already satisfied: pyopenssl>=22.0.0 in /usr/local/lib/python3.12/dist-packages (from scrapy>=2.0.0->scrapyd) (24.2.1)\n",
            "Collecting queuelib>=1.4.2 (from scrapy>=2.0.0->scrapyd)\n",
            "  Downloading queuelib-1.8.0-py3-none-any.whl.metadata (6.1 kB)\n",
            "Collecting service-identity>=18.1.0 (from scrapy>=2.0.0->scrapyd)\n",
            "  Downloading service_identity-24.2.0-py3-none-any.whl.metadata (5.1 kB)\n",
            "Collecting tldextract (from scrapy>=2.0.0->scrapyd)\n",
            "  Downloading tldextract-5.3.0-py3-none-any.whl.metadata (11 kB)\n",
            "Requirement already satisfied: attrs>=22.2.0 in /usr/local/lib/python3.12/dist-packages (from twisted>=17.9->scrapyd) (25.4.0)\n",
            "Collecting automat>=24.8.0 (from twisted>=17.9->scrapyd)\n",
            "  Downloading automat-25.4.16-py3-none-any.whl.metadata (8.4 kB)\n",
            "Collecting constantly>=15.1 (from twisted>=17.9->scrapyd)\n",
            "  Downloading constantly-23.10.4-py3-none-any.whl.metadata (1.8 kB)\n",
            "Collecting hyperlink>=17.1.1 (from twisted>=17.9->scrapyd)\n",
            "  Downloading hyperlink-21.0.0-py2.py3-none-any.whl.metadata (1.5 kB)\n",
            "Collecting incremental>=24.7.0 (from twisted>=17.9->scrapyd)\n",
            "  Downloading incremental-24.7.2-py3-none-any.whl.metadata (8.1 kB)\n",
            "Requirement already satisfied: typing-extensions>=4.2.0 in /usr/local/lib/python3.12/dist-packages (from twisted>=17.9->scrapyd) (4.15.0)\n",
            "Requirement already satisfied: cffi>=1.12 in /usr/local/lib/python3.12/dist-packages (from cryptography>=37.0.0->scrapy>=2.0.0->scrapyd) (2.0.0)\n",
            "Collecting jmespath>=0.9.5 (from itemloaders>=1.0.1->scrapy>=2.0.0->scrapyd)\n",
            "  Downloading jmespath-1.0.1-py3-none-any.whl.metadata (7.6 kB)\n",
            "Requirement already satisfied: pyasn1 in /usr/local/lib/python3.12/dist-packages (from service-identity>=18.1.0->scrapy>=2.0.0->scrapyd) (0.6.1)\n",
            "Requirement already satisfied: pyasn1-modules in /usr/local/lib/python3.12/dist-packages (from service-identity>=18.1.0->scrapy>=2.0.0->scrapyd) (0.4.2)\n",
            "Collecting requests-file>=1.4 (from tldextract->scrapy>=2.0.0->scrapyd)\n",
            "  Downloading requests_file-3.0.1-py2.py3-none-any.whl.metadata (1.7 kB)\n",
            "Requirement already satisfied: filelock>=3.0.8 in /usr/local/lib/python3.12/dist-packages (from tldextract->scrapy>=2.0.0->scrapyd) (3.20.0)\n",
            "Requirement already satisfied: pycparser in /usr/local/lib/python3.12/dist-packages (from cffi>=1.12->cryptography>=37.0.0->scrapy>=2.0.0->scrapyd) (2.23)\n",
            "Downloading scrapyd-1.6.0-py3-none-any.whl (28 kB)\n",
            "Downloading scrapyd_client-2.0.3-py3-none-any.whl (13 kB)\n",
            "Downloading scrapydweb-1.6.0-py3-none-any.whl (702 kB)\n",
            "\u001b[2K   \u001b[90m━━━━━━━━━━━━━━━━━━━━━━━━━━━━━━━━━━━━━━━━\u001b[0m \u001b[32m702.3/702.3 kB\u001b[0m \u001b[31m43.6 MB/s\u001b[0m eta \u001b[36m0:00:00\u001b[0m\n",
            "\u001b[?25hDownloading APScheduler-3.6.0-py2.py3-none-any.whl (58 kB)\n",
            "\u001b[2K   \u001b[90m━━━━━━━━━━━━━━━━━━━━━━━━━━━━━━━━━━━━━━━━\u001b[0m \u001b[32m58.6/58.6 kB\u001b[0m \u001b[31m3.8 MB/s\u001b[0m eta \u001b[36m0:00:00\u001b[0m\n",
            "\u001b[?25hDownloading click-7.1.2-py2.py3-none-any.whl (82 kB)\n",
            "\u001b[2K   \u001b[90m━━━━━━━━━━━━━━━━━━━━━━━━━━━━━━━━━━━━━━━━\u001b[0m \u001b[32m82.8/82.8 kB\u001b[0m \u001b[31m6.2 MB/s\u001b[0m eta \u001b[36m0:00:00\u001b[0m\n",
            "\u001b[?25hDownloading colorama-0.4.0-py2.py3-none-any.whl (21 kB)\n",
            "Downloading Flask-2.0.0-py3-none-any.whl (93 kB)\n",
            "\u001b[2K   \u001b[90m━━━━━━━━━━━━━━━━━━━━━━━━━━━━━━━━━━━━━━━━\u001b[0m \u001b[32m93.2/93.2 kB\u001b[0m \u001b[31m8.0 MB/s\u001b[0m eta \u001b[36m0:00:00\u001b[0m\n",
            "\u001b[?25hDownloading Flask_SQLAlchemy-2.4.0-py2.py3-none-any.whl (17 kB)\n",
            "Downloading idna-2.7-py2.py3-none-any.whl (58 kB)\n",
            "\u001b[2K   \u001b[90m━━━━━━━━━━━━━━━━━━━━━━━━━━━━━━━━━━━━━━━━\u001b[0m \u001b[32m58.2/58.2 kB\u001b[0m \u001b[31m4.2 MB/s\u001b[0m eta \u001b[36m0:00:00\u001b[0m\n",
            "\u001b[?25hDownloading itsdangerous-2.0.0-py3-none-any.whl (18 kB)\n",
            "Downloading Jinja2-3.0.0-py3-none-any.whl (133 kB)\n",
            "\u001b[2K   \u001b[90m━━━━━━━━━━━━━━━━━━━━━━━━━━━━━━━━━━━━━━━━\u001b[0m \u001b[32m133.4/133.4 kB\u001b[0m \u001b[31m11.8 MB/s\u001b[0m eta \u001b[36m0:00:00\u001b[0m\n",
            "\u001b[?25hDownloading pexpect-4.7.0-py2.py3-none-any.whl (58 kB)\n",
            "\u001b[2K   \u001b[90m━━━━━━━━━━━━━━━━━━━━━━━━━━━━━━━━━━━━━━━━\u001b[0m \u001b[32m58.4/58.4 kB\u001b[0m \u001b[31m4.3 MB/s\u001b[0m eta \u001b[36m0:00:00\u001b[0m\n",
            "\u001b[?25hDownloading ptyprocess-0.6.0-py2.py3-none-any.whl (39 kB)\n",
            "Downloading pytz-2018.9-py2.py3-none-any.whl (510 kB)\n",
            "\u001b[2K   \u001b[90m━━━━━━━━━━━━━━━━━━━━━━━━━━━━━━━━━━━━━━━━\u001b[0m \u001b[32m510.7/510.7 kB\u001b[0m \u001b[31m31.1 MB/s\u001b[0m eta \u001b[36m0:00:00\u001b[0m\n",
            "\u001b[?25hDownloading six-1.16.0-py2.py3-none-any.whl (11 kB)\n",
            "Downloading w3lib-2.0.0-py3-none-any.whl (20 kB)\n",
            "Downloading Werkzeug-2.0.0-py3-none-any.whl (288 kB)\n",
            "\u001b[2K   \u001b[90m━━━━━━━━━━━━━━━━━━━━━━━━━━━━━━━━━━━━━━━━\u001b[0m \u001b[32m288.1/288.1 kB\u001b[0m \u001b[31m21.4 MB/s\u001b[0m eta \u001b[36m0:00:00\u001b[0m\n",
            "\u001b[?25hDownloading logparser-0.8.4-py3-none-any.whl (38 kB)\n",
            "Downloading scrapy-2.13.3-py3-none-any.whl (321 kB)\n",
            "\u001b[2K   \u001b[90m━━━━━━━━━━━━━━━━━━━━━━━━━━━━━━━━━━━━━━━━\u001b[0m \u001b[32m321.8/321.8 kB\u001b[0m \u001b[31m22.7 MB/s\u001b[0m eta \u001b[36m0:00:00\u001b[0m\n",
            "\u001b[?25hDownloading twisted-25.5.0-py3-none-any.whl (3.2 MB)\n",
            "\u001b[2K   \u001b[90m━━━━━━━━━━━━━━━━━━━━━━━━━━━━━━━━━━━━━━━━\u001b[0m \u001b[32m3.2/3.2 MB\u001b[0m \u001b[31m100.3 MB/s\u001b[0m eta \u001b[36m0:00:00\u001b[0m\n",
            "\u001b[?25hDownloading uberegg-0.1.1-py3-none-any.whl (3.0 kB)\n",
            "Downloading zope_interface-8.0.1-cp312-cp312-manylinux1_x86_64.manylinux2014_x86_64.manylinux_2_17_x86_64.manylinux_2_5_x86_64.whl (264 kB)\n",
            "\u001b[2K   \u001b[90m━━━━━━━━━━━━━━━━━━━━━━━━━━━━━━━━━━━━━━━━\u001b[0m \u001b[32m264.7/264.7 kB\u001b[0m \u001b[31m19.9 MB/s\u001b[0m eta \u001b[36m0:00:00\u001b[0m\n",
            "\u001b[?25hDownloading automat-25.4.16-py3-none-any.whl (42 kB)\n",
            "\u001b[2K   \u001b[90m━━━━━━━━━━━━━━━━━━━━━━━━━━━━━━━━━━━━━━━━\u001b[0m \u001b[32m42.8/42.8 kB\u001b[0m \u001b[31m3.0 MB/s\u001b[0m eta \u001b[36m0:00:00\u001b[0m\n",
            "\u001b[?25hDownloading constantly-23.10.4-py3-none-any.whl (13 kB)\n",
            "Downloading cssselect-1.3.0-py3-none-any.whl (18 kB)\n",
            "Downloading hyperlink-21.0.0-py2.py3-none-any.whl (74 kB)\n",
            "\u001b[2K   \u001b[90m━━━━━━━━━━━━━━━━━━━━━━━━━━━━━━━━━━━━━━━━\u001b[0m \u001b[32m74.6/74.6 kB\u001b[0m \u001b[31m6.1 MB/s\u001b[0m eta \u001b[36m0:00:00\u001b[0m\n",
            "\u001b[?25hDownloading incremental-24.7.2-py3-none-any.whl (20 kB)\n",
            "Downloading itemadapter-0.12.2-py3-none-any.whl (18 kB)\n",
            "Downloading itemloaders-1.3.2-py3-none-any.whl (12 kB)\n",
            "Downloading parsel-1.10.0-py2.py3-none-any.whl (17 kB)\n",
            "Downloading protego-0.5.0-py3-none-any.whl (10 kB)\n",
            "Downloading PyDispatcher-2.0.7-py3-none-any.whl (12 kB)\n",
            "Downloading queuelib-1.8.0-py3-none-any.whl (13 kB)\n",
            "Downloading service_identity-24.2.0-py3-none-any.whl (11 kB)\n",
            "Downloading tldextract-5.3.0-py3-none-any.whl (107 kB)\n",
            "\u001b[2K   \u001b[90m━━━━━━━━━━━━━━━━━━━━━━━━━━━━━━━━━━━━━━━━\u001b[0m \u001b[32m107.4/107.4 kB\u001b[0m \u001b[31m8.3 MB/s\u001b[0m eta \u001b[36m0:00:00\u001b[0m\n",
            "\u001b[?25hDownloading jmespath-1.0.1-py3-none-any.whl (20 kB)\n",
            "Downloading requests_file-3.0.1-py2.py3-none-any.whl (4.5 kB)\n",
            "Building wheels for collected packages: Flask-Compress, MarkupSafe, SQLAlchemy, tzlocal\n",
            "  Building wheel for Flask-Compress (setup.py) ... \u001b[?25l\u001b[?25hdone\n",
            "  Created wheel for Flask-Compress: filename=Flask_Compress-1.4.0-py3-none-any.whl size=3724 sha256=a0baabc9d193b25c81b4f672f4e41d83b3a0a8d9d9a7cd118915d89a4c26095c\n",
            "  Stored in directory: /root/.cache/pip/wheels/9c/4e/09/c60df0c2703bd78174061966dd98ffdcef93e50261704d3665\n",
            "  Building wheel for MarkupSafe (setup.py) ... \u001b[?25l\u001b[?25hdone\n",
            "  Created wheel for MarkupSafe: filename=MarkupSafe-2.0.0-cp312-cp312-linux_x86_64.whl size=28129 sha256=492a8380c436e8382f170236738deb4ec7fb923f3116ee5d8f4b7e1472e27fd0\n",
            "  Stored in directory: /root/.cache/pip/wheels/2d/2a/ad/27b51f174b423b3ff31fa44cec8fc138672f0f50ae817aae2a\n",
            "  Building wheel for SQLAlchemy (setup.py) ... \u001b[?25l\u001b[?25hdone\n",
            "  Created wheel for SQLAlchemy: filename=SQLAlchemy-1.3.24-cp312-cp312-linux_x86_64.whl size=1256398 sha256=15144efbef1728371945730bc99f8c495622226b65929a70623f2ab5d086ad1a\n",
            "  Stored in directory: /root/.cache/pip/wheels/ea/86/24/26a773f9bd1cadef3007e8779dbe2a6ac1161fea92758ad924\n",
            "  Building wheel for tzlocal (setup.py) ... \u001b[?25l\u001b[?25hdone\n",
            "  Created wheel for tzlocal: filename=tzlocal-1.5.1-py3-none-any.whl size=17545 sha256=7b305a87d69ba5f5e7c085d823c25a3cfac15181c6fc7f03e8965a2f8f0e52b7\n",
            "  Stored in directory: /root/.cache/pip/wheels/a1/b9/36/e854838877cd11a9328ba95fbb9d28ba32e9695ba21d3f61cf\n",
            "Successfully built Flask-Compress MarkupSafe SQLAlchemy tzlocal\n",
            "Installing collected packages: uberegg, pytz, pydispatcher, ptyprocess, idna, zope.interface, Werkzeug, w3lib, tzlocal, SQLAlchemy, six, queuelib, protego, pexpect, MarkupSafe, jmespath, itsdangerous, itemadapter, incremental, hyperlink, cssselect, constantly, colorama, click, automat, twisted, requests-file, parsel, logparser, Jinja2, APScheduler, tldextract, service-identity, itemloaders, Flask, scrapy, Flask-SQLAlchemy, Flask-Compress, scrapydweb, scrapyd-client, scrapyd\n",
            "  Attempting uninstall: pytz\n",
            "    Found existing installation: pytz 2025.2\n",
            "    Uninstalling pytz-2025.2:\n",
            "      Successfully uninstalled pytz-2025.2\n",
            "  Attempting uninstall: ptyprocess\n",
            "    Found existing installation: ptyprocess 0.7.0\n",
            "    Uninstalling ptyprocess-0.7.0:\n",
            "      Successfully uninstalled ptyprocess-0.7.0\n",
            "  Attempting uninstall: idna\n",
            "    Found existing installation: idna 3.11\n",
            "    Uninstalling idna-3.11:\n",
            "      Successfully uninstalled idna-3.11\n",
            "  Attempting uninstall: Werkzeug\n",
            "    Found existing installation: Werkzeug 3.1.3\n",
            "    Uninstalling Werkzeug-3.1.3:\n",
            "      Successfully uninstalled Werkzeug-3.1.3\n",
            "  Attempting uninstall: tzlocal\n",
            "    Found existing installation: tzlocal 5.3.1\n",
            "    Uninstalling tzlocal-5.3.1:\n",
            "      Successfully uninstalled tzlocal-5.3.1\n",
            "  Attempting uninstall: SQLAlchemy\n",
            "    Found existing installation: SQLAlchemy 2.0.44\n",
            "    Uninstalling SQLAlchemy-2.0.44:\n",
            "      Successfully uninstalled SQLAlchemy-2.0.44\n",
            "  Attempting uninstall: six\n",
            "    Found existing installation: six 1.17.0\n",
            "    Uninstalling six-1.17.0:\n",
            "      Successfully uninstalled six-1.17.0\n",
            "  Attempting uninstall: pexpect\n",
            "    Found existing installation: pexpect 4.9.0\n",
            "    Uninstalling pexpect-4.9.0:\n",
            "      Successfully uninstalled pexpect-4.9.0\n",
            "  Attempting uninstall: MarkupSafe\n",
            "    Found existing installation: MarkupSafe 3.0.3\n",
            "    Uninstalling MarkupSafe-3.0.3:\n",
            "      Successfully uninstalled MarkupSafe-3.0.3\n",
            "  Attempting uninstall: itsdangerous\n",
            "    Found existing installation: itsdangerous 2.2.0\n",
            "    Uninstalling itsdangerous-2.2.0:\n",
            "      Successfully uninstalled itsdangerous-2.2.0\n",
            "  Attempting uninstall: click\n",
            "    Found existing installation: click 8.3.0\n",
            "    Uninstalling click-8.3.0:\n",
            "      Successfully uninstalled click-8.3.0\n",
            "  Attempting uninstall: Jinja2\n",
            "    Found existing installation: Jinja2 3.1.6\n",
            "    Uninstalling Jinja2-3.1.6:\n",
            "      Successfully uninstalled Jinja2-3.1.6\n",
            "  Attempting uninstall: Flask\n",
            "    Found existing installation: Flask 3.1.2\n",
            "    Uninstalling Flask-3.1.2:\n",
            "      Successfully uninstalled Flask-3.1.2\n",
            "\u001b[31mERROR: pip's dependency resolver does not currently take into account all the packages that are installed. This behaviour is the source of the following dependency conflicts.\n",
            "ipython 7.34.0 requires jedi>=0.16, which is not installed.\n",
            "alembic 1.17.0 requires SQLAlchemy>=1.4.0, but you have sqlalchemy 1.3.24 which is incompatible.\n",
            "wandb 0.22.2 requires click>=8.0.1, but you have click 7.1.2 which is incompatible.\n",
            "typer 0.20.0 requires click>=8.0.0, but you have click 7.1.2 which is incompatible.\n",
            "ibis-framework 9.5.0 requires pytz>=2022.7, but you have pytz 2018.9 which is incompatible.\n",
            "pandas 2.2.2 requires pytz>=2020.1, but you have pytz 2018.9 which is incompatible.\n",
            "sphinx 8.2.3 requires Jinja2>=3.1, but you have jinja2 3.0.0 which is incompatible.\n",
            "google-adk 1.16.0 requires click<9.0.0,>=8.1.8, but you have click 7.1.2 which is incompatible.\n",
            "google-adk 1.16.0 requires sqlalchemy<3.0.0,>=2.0, but you have sqlalchemy 1.3.24 which is incompatible.\n",
            "google-adk 1.16.0 requires tzlocal<6.0,>=5.3, but you have tzlocal 1.5.1 which is incompatible.\n",
            "anyio 4.11.0 requires idna>=2.8, but you have idna 2.7 which is incompatible.\n",
            "yfinance 0.2.66 requires pytz>=2022.5, but you have pytz 2018.9 which is incompatible.\n",
            "distributed 2025.5.0 requires click>=8.0, but you have click 7.1.2 which is incompatible.\n",
            "dask-cuda 25.6.0 requires click>=8.1, but you have click 7.1.2 which is incompatible.\n",
            "bigframes 2.26.0 requires pytz>=2022.7, but you have pytz 2018.9 which is incompatible.\n",
            "dask 2025.5.0 requires click>=8.1, but you have click 7.1.2 which is incompatible.\n",
            "ipython-sql 0.5.0 requires sqlalchemy>=2.0, but you have sqlalchemy 1.3.24 which is incompatible.\n",
            "jupyter-server 2.14.0 requires jinja2>=3.0.3, but you have jinja2 3.0.0 which is incompatible.\n",
            "langchain 0.3.27 requires SQLAlchemy<3,>=1.4, but you have sqlalchemy 1.3.24 which is incompatible.\u001b[0m\u001b[31m\n",
            "\u001b[0mSuccessfully installed APScheduler-3.6.0 Flask-2.0.0 Flask-Compress-1.4.0 Flask-SQLAlchemy-2.4.0 Jinja2-3.0.0 MarkupSafe-2.0.0 SQLAlchemy-1.3.24 Werkzeug-2.0.0 automat-25.4.16 click-7.1.2 colorama-0.4.0 constantly-23.10.4 cssselect-1.3.0 hyperlink-21.0.0 idna-2.7 incremental-24.7.2 itemadapter-0.12.2 itemloaders-1.3.2 itsdangerous-2.0.0 jmespath-1.0.1 logparser-0.8.4 parsel-1.10.0 pexpect-4.7.0 protego-0.5.0 ptyprocess-0.6.0 pydispatcher-2.0.7 pytz-2018.9 queuelib-1.8.0 requests-file-3.0.1 scrapy-2.13.3 scrapyd-1.6.0 scrapyd-client-2.0.3 scrapydweb-1.6.0 service-identity-24.2.0 six-1.16.0 tldextract-5.3.0 twisted-25.5.0 tzlocal-1.5.1 uberegg-0.1.1 w3lib-2.0.0 zope.interface-8.0.1\n"
          ]
        },
        {
          "output_type": "display_data",
          "data": {
            "application/vnd.colab-display-data+json": {
              "pip_warning": {
                "packages": [
                  "pexpect",
                  "ptyprocess",
                  "six"
                ]
              },
              "id": "ba49bf49723442ec8dbb377592ae60fd"
            }
          },
          "metadata": {}
        }
      ],
      "source": [
        "!pip3 install scrapyd scrapyd-client scrapydweb"
      ]
    },
    {
      "cell_type": "markdown",
      "source": [
        "# Step 2: Deploy Your Scrapy Project to Scrapyd\n"
      ],
      "metadata": {
        "id": "XgiLyXjAluLh"
      }
    },
    {
      "cell_type": "code",
      "source": [
        "!scrapyd"
      ],
      "metadata": {
        "colab": {
          "base_uri": "https://localhost:8080/"
        },
        "id": "0iUmeHqSltcj",
        "outputId": "4214e40f-071c-45e4-c6d1-8db70db9b353"
      },
      "execution_count": 1,
      "outputs": [
        {
          "output_type": "stream",
          "name": "stdout",
          "text": [
            "2025-10-24T14:20:42+0000 [-] Loading /usr/local/lib/python3.12/dist-packages/scrapyd/txapp.py...\n",
            "2025-10-24T14:20:42+0000 [scrapyd.basicauth#info] Basic authentication disabled as either `username` or `password` is unset\n",
            "2025-10-24T14:20:42+0000 [scrapyd.app#info] Scrapyd web console available at http://127.0.0.1:6800/\n",
            "2025-10-24T14:20:42+0000 [-] Loaded.\n",
            "2025-10-24T14:20:42+0000 [twisted.scripts._twistd_unix.UnixAppLogger#info] twistd 25.5.0 (/usr/bin/python3 3.12.12) starting up.\n",
            "2025-10-24T14:20:42+0000 [twisted.scripts._twistd_unix.UnixAppLogger#info] reactor class: twisted.internet.epollreactor.EPollReactor.\n",
            "2025-10-24T14:20:42+0000 [-] Site starting on 6800\n",
            "2025-10-24T14:20:42+0000 [twisted.web.server.Site#info] Starting factory <twisted.web.server.Site object at 0x7941a968f170>\n",
            "2025-10-24T14:20:42+0000 [Launcher] Scrapyd 1.6.0 started: max_proc=8, runner='scrapyd.runner'\n",
            "2025-10-24T14:20:42+0000 [scrapyd.launcher#debug] Process slot 0 ready\n",
            "2025-10-24T14:20:42+0000 [scrapyd.launcher#debug] Process slot 1 ready\n",
            "2025-10-24T14:20:42+0000 [scrapyd.launcher#debug] Process slot 2 ready\n",
            "2025-10-24T14:20:42+0000 [scrapyd.launcher#debug] Process slot 3 ready\n",
            "2025-10-24T14:20:42+0000 [scrapyd.launcher#debug] Process slot 4 ready\n",
            "2025-10-24T14:20:42+0000 [scrapyd.launcher#debug] Process slot 5 ready\n",
            "2025-10-24T14:20:42+0000 [scrapyd.launcher#debug] Process slot 6 ready\n",
            "2025-10-24T14:20:42+0000 [scrapyd.launcher#debug] Process slot 7 ready\n",
            "2025-10-24T14:20:52+0000 [twisted.internet.base#info] Received SIGINT, shutting down.\n",
            "2025-10-24T14:20:52+0000 [twisted.internet.base#info] Received SIGINT, shutting down.\n",
            "2025-10-24T14:20:52+0000 [twisted.internet.base#critical] while calling from thread\n",
            "\tTraceback (most recent call last):\n",
            "\t  File \"/usr/local/lib/python3.12/dist-packages/twisted/internet/base.py\", line 1064, in runUntilCurrent\n",
            "\t    f(*a, **kw)\n",
            "\t  File \"/usr/local/lib/python3.12/dist-packages/twisted/internet/base.py\", line 790, in stop\n",
            "\t    raise error.ReactorNotRunning(\"Can't stop reactor that isn't running.\")\n",
            "\ttwisted.internet.error.ReactorNotRunning: Can't stop reactor that isn't running.\n",
            "\t\n",
            "2025-10-24T14:20:52+0000 [-] (TCP Port 6800 Closed)\n",
            "2025-10-24T14:20:52+0000 [twisted.web.server.Site#info] Stopping factory <twisted.web.server.Site object at 0x7941a968f170>\n",
            "2025-10-24T14:20:52+0000 [twisted.internet.base#info] Main loop terminated.\n",
            "2025-10-24T14:20:52+0000 [twisted.scripts._twistd_unix.UnixAppLogger#info] Server Shut Down.\n",
            "^C\n"
          ]
        }
      ]
    },
    {
      "cell_type": "markdown",
      "source": [
        "```\n",
        "# scrapy.cfg\n",
        "[settings]\n",
        "default = product_scraper.settings\n",
        "[deploy:local]\n",
        "url = http://localhost:6800/\n",
        "project = scraper\n",
        "```"
      ],
      "metadata": {
        "id": "MexAU9XOmA0M"
      }
    },
    {
      "cell_type": "markdown",
      "source": [
        "```\n",
        "scrapyd-deploy local -p scraper\n",
        "```"
      ],
      "metadata": {
        "id": "2L9Zp31GmGFU"
      }
    },
    {
      "cell_type": "markdown",
      "source": [
        "# Step 3: Start ScrapydWeb Server\n",
        "```\n",
        "scrapydweb\n",
        "```\n"
      ],
      "metadata": {
        "id": "6kMD8bZsmHvL"
      }
    },
    {
      "cell_type": "markdown",
      "source": [
        "# Step 4: Configure ScrapydWeb\n",
        "```\n",
        "SCRAPYD_SERVERS = [\n",
        "\"127.0.0.1:6800\",\n",
        "]\n",
        "```"
      ],
      "metadata": {
        "id": "2wPfQBTrmKUs"
      }
    },
    {
      "cell_type": "markdown",
      "source": [
        "# Managing Multiple Scrapyd Servers\n",
        "```\n",
        "# scrapyd.conf\n",
        "[scrapyd]\n",
        "http_port = 6802\n",
        "```"
      ],
      "metadata": {
        "id": "wUBDAC85mNUR"
      }
    },
    {
      "cell_type": "markdown",
      "source": [
        "```\n",
        "[settings]\n",
        "default = product_scraper.settings\n",
        "[deploy:local]\n",
        "url = http://localhost:6802/\n",
        "project = product_scraper\n",
        "```"
      ],
      "metadata": {
        "id": "FS2RUGuWmTcG"
      }
    },
    {
      "cell_type": "markdown",
      "source": [
        "```\n",
        "scrapyd-deploy local -p product_scraper\n",
        "```"
      ],
      "metadata": {
        "id": "nn5tIUBqmVjP"
      }
    },
    {
      "cell_type": "markdown",
      "source": [
        "```\n",
        "SCRAPYD_SERVERS = [\n",
        "\"127.0.0.1:6800\",\n",
        "\"127.0.0.1:6802\",\n",
        "]"
      ],
      "metadata": {
        "id": "j8rHHaXHmXyJ"
      }
    }
  ]
}
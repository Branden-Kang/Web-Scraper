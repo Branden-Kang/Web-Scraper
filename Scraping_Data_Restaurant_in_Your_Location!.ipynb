{
  "nbformat": 4,
  "nbformat_minor": 0,
  "metadata": {
    "colab": {
      "provenance": [],
      "authorship_tag": "ABX9TyM6zPIDkrE0KtMRmkuuRDRq"
    },
    "kernelspec": {
      "name": "python3",
      "display_name": "Python 3"
    },
    "language_info": {
      "name": "python"
    }
  },
  "cells": [
    {
      "cell_type": "markdown",
      "source": [
        "[Reference](https://medium.com/@senchooo/scraping-data-restaurant-in-your-location-1e4138b389a1)"
      ],
      "metadata": {
        "id": "4dEeRhTpPmzL"
      }
    },
    {
      "cell_type": "code",
      "execution_count": 1,
      "metadata": {
        "id": "74iQLfWAPXRi"
      },
      "outputs": [],
      "source": [
        "import time\n",
        "from selenium import webdriver\n",
        "from selenium.webdriver.chrome.service import Service\n",
        "from selenium.webdriver.common.by import By\n",
        "import pandas as pd\n",
        "\n",
        "city = str(input('type the destination city: '))\n",
        "pagg = int(input('how many page do you scrap: '))\n",
        "\n",
        "s = Service(r'D:\\download\\chromedriver')\n",
        "driver = webdriver.Chrome(service=s)\n",
        "\n",
        "driver.maximize_window()\n",
        "driver.get(f'https://www.google.com/search?q=restaurant+in+{city}')\n",
        "time.sleep(7)\n",
        "driver.find_element(by=By.XPATH, value='//*[@id=\"Odp5De\"]/div/div/div[2]/div[1]/div[4]/g-more-link/a/div/span[1]').click()\n",
        "\n",
        "data = []\n",
        "\n",
        "for a in range(0, pagg):\n",
        "    time.sleep(7)\n",
        "    mainpage = driver.find_elements(by=By.XPATH, value='//div[@jsname=\"GZq3Ke\"]')\n",
        "\n",
        "    for start in mainpage:\n",
        "        start.find_element(by=By.CLASS_NAME, value='rllt__details').click()\n",
        "\n",
        "        # waiting for opened js\n",
        "        time.sleep(7)\n",
        "\n",
        "        # start scrap\n",
        "        title = driver.find_element(by=By.CLASS_NAME, value='SPZz6b').find_element(by=By.TAG_NAME, value='h2').find_element(by=By.TAG_NAME, value='span').text\n",
        "        rating = driver.find_element(by=By.CLASS_NAME, value='Aq14fc').text\n",
        "        review = driver.find_element(by=By.CLASS_NAME, value='hqzQac').find_element(by=By.XPATH, value='//*[@id=\"akp_tsuid_9\"]/div/div[1]/div/div/block-component/div/div[1]/div/div/div/div[1]/div/div/div[1]/div/div[2]/div[1]/div/div/span[3]/span/a/span').text\n",
        "        location = driver.find_element(by=By.CLASS_NAME, value='LrzXr').text\n",
        "\n",
        "        # scrap phone number\n",
        "        try:\n",
        "            numm = driver.find_element(by=By.XPATH, value='//span[(@class=\"LrzXr zdqRlf kno-fv\")]').text\n",
        "        except Exception:\n",
        "            numm = 'no phone number'\n",
        "\n",
        "        # scrap for opening hours\n",
        "        try:\n",
        "            driver.find_element(by=By.CLASS_NAME, value='IDu36').click()\n",
        "            opening = driver.find_element(by=By.CLASS_NAME, value='WgFkxc').text\n",
        "            if opening == '':\n",
        "                time.sleep(3)\n",
        "                opening = driver.find_element(by=By.XPATH, value='//table[(@class=\"WgFkxc CLtZU\")]').text\n",
        "                driver.find_element(by=By.XPATH, value='//*[@id=\"gsr\"]/div[12]/g-lightbox/div/div[2]/div[2]').click()\n",
        "        except Exception:\n",
        "            opening = 'no opening hours'\n",
        "\n",
        "        dat = {\n",
        "            'Name': title,\n",
        "            'Rating': rating,\n",
        "            'Review': review,\n",
        "            'location': location,\n",
        "            'Phone Number': numm,\n",
        "            'Opening Hours': opening\n",
        "        }\n",
        "        data.append(dat)\n",
        "\n",
        "        # test result\n",
        "        print(f'{title}, rating = {rating}, {review}, location: {location}, phone: {numm}, operational hours: {opening}')\n",
        "\n",
        "    # click next page\n",
        "    try:\n",
        "        driver.find_element(by=By.XPATH, value='//*[@id=\"pnnext\"]/span[2]').click()\n",
        "    except Exception:\n",
        "        break\n",
        "\n",
        "# create data excle\n",
        "df = pd.DataFrame(data)\n",
        "df.to_excel(f'result from {pagg} page.xlsx', index=False)\n",
        "\n",
        "driver.close()"
      ]
    }
  ]
}
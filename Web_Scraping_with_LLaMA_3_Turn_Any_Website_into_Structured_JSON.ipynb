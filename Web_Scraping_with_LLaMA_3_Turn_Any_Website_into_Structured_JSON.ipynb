{
  "nbformat": 4,
  "nbformat_minor": 0,
  "metadata": {
    "colab": {
      "provenance": [],
      "authorship_tag": "ABX9TyM4oq9iXoczOACWmTsYaykc"
    },
    "kernelspec": {
      "name": "python3",
      "display_name": "Python 3"
    },
    "language_info": {
      "name": "python"
    }
  },
  "cells": [
    {
      "cell_type": "markdown",
      "source": [
        "[Reference](https://medium.com/@datajournal/web-scraping-with-llama-3-520142945316)"
      ],
      "metadata": {
        "id": "cW4oKBdDmKj6"
      }
    },
    {
      "cell_type": "code",
      "execution_count": 1,
      "metadata": {
        "id": "xiRxv1qzmIHA"
      },
      "outputs": [],
      "source": [
        "!ollama run llama3.1:8b"
      ]
    },
    {
      "cell_type": "code",
      "source": [
        "!ollama serve"
      ],
      "metadata": {
        "colab": {
          "base_uri": "https://localhost:8080/"
        },
        "id": "ypgCj6VMmRx3",
        "outputId": "fb8cfddf-5edf-40bd-db94-3d7feb617576"
      },
      "execution_count": 2,
      "outputs": [
        {
          "output_type": "stream",
          "name": "stdout",
          "text": [
            "/bin/bash: line 1: ollama: command not found\n"
          ]
        }
      ]
    },
    {
      "cell_type": "code",
      "source": [
        "!pip install selenium"
      ],
      "metadata": {
        "colab": {
          "base_uri": "https://localhost:8080/"
        },
        "id": "Doo6CdTCmbP5",
        "outputId": "8d829dbe-fcee-4117-deb0-10e7df843bf9"
      },
      "execution_count": 4,
      "outputs": [
        {
          "output_type": "stream",
          "name": "stdout",
          "text": [
            "Collecting selenium\n",
            "  Downloading selenium-4.32.0-py3-none-any.whl.metadata (7.5 kB)\n",
            "Requirement already satisfied: urllib3<3,>=1.26 in /usr/local/lib/python3.11/dist-packages (from urllib3[socks]<3,>=1.26->selenium) (2.4.0)\n",
            "Collecting trio~=0.17 (from selenium)\n",
            "  Downloading trio-0.30.0-py3-none-any.whl.metadata (8.5 kB)\n",
            "Collecting trio-websocket~=0.9 (from selenium)\n",
            "  Downloading trio_websocket-0.12.2-py3-none-any.whl.metadata (5.1 kB)\n",
            "Requirement already satisfied: certifi>=2021.10.8 in /usr/local/lib/python3.11/dist-packages (from selenium) (2025.4.26)\n",
            "Requirement already satisfied: typing_extensions~=4.9 in /usr/local/lib/python3.11/dist-packages (from selenium) (4.13.2)\n",
            "Requirement already satisfied: websocket-client~=1.8 in /usr/local/lib/python3.11/dist-packages (from selenium) (1.8.0)\n",
            "Requirement already satisfied: attrs>=23.2.0 in /usr/local/lib/python3.11/dist-packages (from trio~=0.17->selenium) (25.3.0)\n",
            "Requirement already satisfied: sortedcontainers in /usr/local/lib/python3.11/dist-packages (from trio~=0.17->selenium) (2.4.0)\n",
            "Requirement already satisfied: idna in /usr/local/lib/python3.11/dist-packages (from trio~=0.17->selenium) (3.10)\n",
            "Collecting outcome (from trio~=0.17->selenium)\n",
            "  Downloading outcome-1.3.0.post0-py2.py3-none-any.whl.metadata (2.6 kB)\n",
            "Requirement already satisfied: sniffio>=1.3.0 in /usr/local/lib/python3.11/dist-packages (from trio~=0.17->selenium) (1.3.1)\n",
            "Collecting wsproto>=0.14 (from trio-websocket~=0.9->selenium)\n",
            "  Downloading wsproto-1.2.0-py3-none-any.whl.metadata (5.6 kB)\n",
            "Requirement already satisfied: pysocks!=1.5.7,<2.0,>=1.5.6 in /usr/local/lib/python3.11/dist-packages (from urllib3[socks]<3,>=1.26->selenium) (1.7.1)\n",
            "Requirement already satisfied: h11<1,>=0.9.0 in /usr/local/lib/python3.11/dist-packages (from wsproto>=0.14->trio-websocket~=0.9->selenium) (0.16.0)\n",
            "Downloading selenium-4.32.0-py3-none-any.whl (9.4 MB)\n",
            "\u001b[2K   \u001b[90m━━━━━━━━━━━━━━━━━━━━━━━━━━━━━━━━━━━━━━━━\u001b[0m \u001b[32m9.4/9.4 MB\u001b[0m \u001b[31m108.2 MB/s\u001b[0m eta \u001b[36m0:00:00\u001b[0m\n",
            "\u001b[?25hDownloading trio-0.30.0-py3-none-any.whl (499 kB)\n",
            "\u001b[2K   \u001b[90m━━━━━━━━━━━━━━━━━━━━━━━━━━━━━━━━━━━━━━━━\u001b[0m \u001b[32m499.2/499.2 kB\u001b[0m \u001b[31m33.9 MB/s\u001b[0m eta \u001b[36m0:00:00\u001b[0m\n",
            "\u001b[?25hDownloading trio_websocket-0.12.2-py3-none-any.whl (21 kB)\n",
            "Downloading outcome-1.3.0.post0-py2.py3-none-any.whl (10 kB)\n",
            "Downloading wsproto-1.2.0-py3-none-any.whl (24 kB)\n",
            "Installing collected packages: wsproto, outcome, trio, trio-websocket, selenium\n",
            "Successfully installed outcome-1.3.0.post0 selenium-4.32.0 trio-0.30.0 trio-websocket-0.12.2 wsproto-1.2.0\n"
          ]
        }
      ]
    },
    {
      "cell_type": "code",
      "source": [
        "!pip install webdriver_manager"
      ],
      "metadata": {
        "colab": {
          "base_uri": "https://localhost:8080/"
        },
        "id": "qs9R85SCmfuk",
        "outputId": "6c3223e9-390e-4ee1-89fd-c9db77117345"
      },
      "execution_count": 6,
      "outputs": [
        {
          "output_type": "stream",
          "name": "stdout",
          "text": [
            "Collecting webdriver_manager\n",
            "  Downloading webdriver_manager-4.0.2-py2.py3-none-any.whl.metadata (12 kB)\n",
            "Requirement already satisfied: requests in /usr/local/lib/python3.11/dist-packages (from webdriver_manager) (2.32.3)\n",
            "Collecting python-dotenv (from webdriver_manager)\n",
            "  Downloading python_dotenv-1.1.0-py3-none-any.whl.metadata (24 kB)\n",
            "Requirement already satisfied: packaging in /usr/local/lib/python3.11/dist-packages (from webdriver_manager) (24.2)\n",
            "Requirement already satisfied: charset-normalizer<4,>=2 in /usr/local/lib/python3.11/dist-packages (from requests->webdriver_manager) (3.4.1)\n",
            "Requirement already satisfied: idna<4,>=2.5 in /usr/local/lib/python3.11/dist-packages (from requests->webdriver_manager) (3.10)\n",
            "Requirement already satisfied: urllib3<3,>=1.21.1 in /usr/local/lib/python3.11/dist-packages (from requests->webdriver_manager) (2.4.0)\n",
            "Requirement already satisfied: certifi>=2017.4.17 in /usr/local/lib/python3.11/dist-packages (from requests->webdriver_manager) (2025.4.26)\n",
            "Downloading webdriver_manager-4.0.2-py2.py3-none-any.whl (27 kB)\n",
            "Downloading python_dotenv-1.1.0-py3-none-any.whl (20 kB)\n",
            "Installing collected packages: python-dotenv, webdriver_manager\n",
            "Successfully installed python-dotenv-1.1.0 webdriver_manager-4.0.2\n"
          ]
        }
      ]
    },
    {
      "cell_type": "code",
      "source": [
        "from selenium import webdriver\n",
        "from selenium.webdriver.chrome.service import Service\n",
        "from selenium.webdriver.chrome.options import Options\n",
        "from webdriver_manager.chrome import ChromeDriverManager\n",
        "options = Options()\n",
        "options.add_argument(\" - headless\")\n",
        "driver = webdriver.Chrome(service=Service(ChromeDriverManager().install()), options=options)"
      ],
      "metadata": {
        "id": "loDYcRJnmVHs"
      },
      "execution_count": 8,
      "outputs": []
    },
    {
      "cell_type": "code",
      "source": [
        "from selenium.webdriver.common.by import By\n",
        "from selenium.webdriver.support.ui import WebDriverWait\n",
        "from selenium.webdriver.support import expected_conditions as EC\n",
        "wait = WebDriverWait(driver, 15)\n",
        "product_container = wait.until(EC.presence_of_element_located((By.ID, \"ppd\")))\n",
        "page_html = product_container.get_attribute(\"outerHTML\")"
      ],
      "metadata": {
        "id": "Cd3aRPm7makK"
      },
      "execution_count": 9,
      "outputs": []
    },
    {
      "cell_type": "code",
      "source": [
        "from markdownify import markdownify as md\n",
        "clean_text = md(page_html, heading_style=\"ATX\")"
      ],
      "metadata": {
        "id": "kvjWQ5fZmpjT"
      },
      "execution_count": 10,
      "outputs": []
    },
    {
      "cell_type": "code",
      "source": [
        "PROMPT = (\n",
        "\"You are an expert Amazon product data extractor. Your task is to extract product data from the provided content. \"\n",
        "\"Return ONLY valid JSON with EXACTLY the following fields and formats:\\n\\n\"\n",
        "\"{\\n\"\n",
        "' \"title\": \"string - the product title\",\\n'\n",
        "' \"price\": number - the current price (numerical value only)\",\\n'\n",
        "' \"original_price\": number or null - the original price if available,\\n'\n",
        "' \"discount\": number or null - the discount percentage if available,\\n'\n",
        "' \"rating\": number or null - the average rating (0–5 scale),\\n'\n",
        "' \"review_count\": number or null - total number of reviews,\\n'\n",
        "' \"description\": \"string - main product description\",\\n'\n",
        "' \"features\": [\"string\"] - list of bullet point features,\\n'\n",
        "' \"availability\": \"string - stock status\",\\n'\n",
        "' \"asin\": \"string - 10-character Amazon ID\"\\n'\n",
        "\"}\\n\\n\"\n",
        "\"Return ONLY the JSON without any additional text.\"\n",
        ")"
      ],
      "metadata": {
        "id": "8um1h20ImsK5"
      },
      "execution_count": 11,
      "outputs": []
    },
    {
      "cell_type": "code",
      "source": [
        "import requests\n",
        "import json\n",
        "response = requests.post(\n",
        "    \"http://localhost:11434/api/generate\",\n",
        "    json={\n",
        "        \"model\": \"llama3.1:8b\",\n",
        "        \"prompt\": f\"{PROMPT}\\n\\n{clean_text}\",\n",
        "        \"stream\": False,\n",
        "        \"format\": \"json\",\n",
        "        \"options\": {\n",
        "        \"temperature\": 0.1,\n",
        "        \"num_ctx\": 12000,\n",
        "        },\n",
        "    },\n",
        "    timeout=250,\n",
        ")\n",
        "raw_output = response.json()[\"response\"].strip()\n",
        "product_data = json.loads(raw_output)"
      ],
      "metadata": {
        "id": "4jhGm8k_musc"
      },
      "execution_count": 12,
      "outputs": []
    },
    {
      "cell_type": "code",
      "source": [
        "with open(\"product_data.json\", \"w\", encoding=\"utf-8\") as f:\n",
        "    json.dump(product_data, f, indent=2, ensure_ascii=False)"
      ],
      "metadata": {
        "id": "Rtun9LrWm15u"
      },
      "execution_count": 13,
      "outputs": []
    }
  ]
}
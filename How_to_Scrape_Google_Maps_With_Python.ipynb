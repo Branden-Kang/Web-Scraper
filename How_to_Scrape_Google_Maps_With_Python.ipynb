{
  "nbformat": 4,
  "nbformat_minor": 0,
  "metadata": {
    "colab": {
      "provenance": [],
      "authorship_tag": "ABX9TyN6jeozEg8Q6vueczBNhhsX"
    },
    "kernelspec": {
      "name": "python3",
      "display_name": "Python 3"
    },
    "language_info": {
      "name": "python"
    }
  },
  "cells": [
    {
      "cell_type": "markdown",
      "source": [
        "[Reference](https://medium.com/@datajournal/google-maps-scraping-guide-510dbcca4e92)"
      ],
      "metadata": {
        "id": "cR0c6g1vtVXD"
      }
    },
    {
      "cell_type": "markdown",
      "source": [
        "# Step 1: Setting Up Your Environment"
      ],
      "metadata": {
        "id": "WPI98V-Wtf1n"
      }
    },
    {
      "cell_type": "markdown",
      "source": [
        "Create a Project Directory\n",
        "\n",
        "```\n",
        "mkdir google-maps-scraper\n",
        "cd google-maps-scraper\n",
        "```\n",
        "\n",
        "Set Up a Virtual Environment\n",
        "```\n",
        "python -m venv env\n",
        "source env/bin/activate # On Windows, use `env\\Scripts\\activate`\n",
        "```\n",
        "Install Required Libraries\n",
        "```\n",
        "pip install selenium\n",
        "```"
      ],
      "metadata": {
        "id": "I7R6WNIEtkmY"
      }
    },
    {
      "cell_type": "code",
      "source": [
        "pip install selenium"
      ],
      "metadata": {
        "colab": {
          "base_uri": "https://localhost:8080/"
        },
        "id": "F8Wy20QXt8GG",
        "outputId": "a9de8fc1-5241-4a7c-f245-c8d9e892c156"
      },
      "execution_count": 2,
      "outputs": [
        {
          "output_type": "stream",
          "name": "stdout",
          "text": [
            "Collecting selenium\n",
            "  Downloading selenium-4.27.1-py3-none-any.whl.metadata (7.1 kB)\n",
            "Requirement already satisfied: urllib3<3,>=1.26 in /usr/local/lib/python3.10/dist-packages (from urllib3[socks]<3,>=1.26->selenium) (2.2.3)\n",
            "Collecting trio~=0.17 (from selenium)\n",
            "  Downloading trio-0.27.0-py3-none-any.whl.metadata (8.6 kB)\n",
            "Collecting trio-websocket~=0.9 (from selenium)\n",
            "  Downloading trio_websocket-0.11.1-py3-none-any.whl.metadata (4.7 kB)\n",
            "Requirement already satisfied: certifi>=2021.10.8 in /usr/local/lib/python3.10/dist-packages (from selenium) (2024.8.30)\n",
            "Requirement already satisfied: typing_extensions~=4.9 in /usr/local/lib/python3.10/dist-packages (from selenium) (4.12.2)\n",
            "Requirement already satisfied: websocket-client~=1.8 in /usr/local/lib/python3.10/dist-packages (from selenium) (1.8.0)\n",
            "Requirement already satisfied: attrs>=23.2.0 in /usr/local/lib/python3.10/dist-packages (from trio~=0.17->selenium) (24.2.0)\n",
            "Collecting sortedcontainers (from trio~=0.17->selenium)\n",
            "  Downloading sortedcontainers-2.4.0-py2.py3-none-any.whl.metadata (10 kB)\n",
            "Requirement already satisfied: idna in /usr/local/lib/python3.10/dist-packages (from trio~=0.17->selenium) (3.10)\n",
            "Collecting outcome (from trio~=0.17->selenium)\n",
            "  Downloading outcome-1.3.0.post0-py2.py3-none-any.whl.metadata (2.6 kB)\n",
            "Requirement already satisfied: sniffio>=1.3.0 in /usr/local/lib/python3.10/dist-packages (from trio~=0.17->selenium) (1.3.1)\n",
            "Requirement already satisfied: exceptiongroup in /usr/local/lib/python3.10/dist-packages (from trio~=0.17->selenium) (1.2.2)\n",
            "Collecting wsproto>=0.14 (from trio-websocket~=0.9->selenium)\n",
            "  Downloading wsproto-1.2.0-py3-none-any.whl.metadata (5.6 kB)\n",
            "Requirement already satisfied: pysocks!=1.5.7,<2.0,>=1.5.6 in /usr/local/lib/python3.10/dist-packages (from urllib3[socks]<3,>=1.26->selenium) (1.7.1)\n",
            "Requirement already satisfied: h11<1,>=0.9.0 in /usr/local/lib/python3.10/dist-packages (from wsproto>=0.14->trio-websocket~=0.9->selenium) (0.14.0)\n",
            "Downloading selenium-4.27.1-py3-none-any.whl (9.7 MB)\n",
            "\u001b[2K   \u001b[90m━━━━━━━━━━━━━━━━━━━━━━━━━━━━━━━━━━━━━━━━\u001b[0m \u001b[32m9.7/9.7 MB\u001b[0m \u001b[31m22.4 MB/s\u001b[0m eta \u001b[36m0:00:00\u001b[0m\n",
            "\u001b[?25hDownloading trio-0.27.0-py3-none-any.whl (481 kB)\n",
            "\u001b[2K   \u001b[90m━━━━━━━━━━━━━━━━━━━━━━━━━━━━━━━━━━━━━━━━\u001b[0m \u001b[32m481.7/481.7 kB\u001b[0m \u001b[31m10.1 MB/s\u001b[0m eta \u001b[36m0:00:00\u001b[0m\n",
            "\u001b[?25hDownloading trio_websocket-0.11.1-py3-none-any.whl (17 kB)\n",
            "Downloading wsproto-1.2.0-py3-none-any.whl (24 kB)\n",
            "Downloading outcome-1.3.0.post0-py2.py3-none-any.whl (10 kB)\n",
            "Downloading sortedcontainers-2.4.0-py2.py3-none-any.whl (29 kB)\n",
            "Installing collected packages: sortedcontainers, wsproto, outcome, trio, trio-websocket, selenium\n",
            "Successfully installed outcome-1.3.0.post0 selenium-4.27.1 sortedcontainers-2.4.0 trio-0.27.0 trio-websocket-0.11.1 wsproto-1.2.0\n"
          ]
        }
      ]
    },
    {
      "cell_type": "markdown",
      "source": [
        "# Step 2: Configuring Selenium"
      ],
      "metadata": {
        "id": "XmXfpfxBtykV"
      }
    },
    {
      "cell_type": "code",
      "execution_count": 4,
      "metadata": {
        "id": "5cmRajLotRbo"
      },
      "outputs": [],
      "source": [
        "from selenium import webdriver\n",
        "from selenium.webdriver.chrome.service import Service\n",
        "from selenium.webdriver.chrome.options import Options\n",
        "options = Options()\n",
        "options.add_argument(\" - headless\") # Run browser in the background\n",
        "driver = webdriver.Chrome(service=Service(), options=options)\n",
        "driver.get(\"https://www.google.com/maps\")"
      ]
    },
    {
      "cell_type": "markdown",
      "source": [
        "# Step 3: Navigating the Google Maps Page"
      ],
      "metadata": {
        "id": "nIZmU-CKt4j-"
      }
    },
    {
      "cell_type": "code",
      "source": [
        "# Handle GDPR Prompt\n",
        "from selenium.webdriver.common.by import By\n",
        "from selenium.common.exceptions import NoSuchElementException\n",
        "try:\n",
        "    accept_button = driver.find_element(By.CSS_SELECTOR, \"[aria-label='Accept all']\")\n",
        "    accept_button.click()\n",
        "except NoSuchElementException:\n",
        "    print(\"No GDPR requirements detected\")"
      ],
      "metadata": {
        "id": "ySUPkP2St054"
      },
      "execution_count": 5,
      "outputs": []
    },
    {
      "cell_type": "code",
      "source": [
        "# Submit a Search Query\n",
        "from selenium.webdriver.support.ui import WebDriverWait\n",
        "from selenium.webdriver.support import expected_conditions as EC\n",
        "search_box = WebDriverWait(driver, 5).until(\n",
        "EC.presence_of_element_located((By.CSS_SELECTOR, \"#searchboxinput\"))\n",
        ")\n",
        "search_box.send_keys(\"Italian restaurants\")\n",
        "search_button = driver.find_element(By.CSS_SELECTOR, \"button[aria-label='Search']\")\n",
        "search_button.click()"
      ],
      "metadata": {
        "id": "xgDkFT9uuNVG"
      },
      "execution_count": 7,
      "outputs": []
    },
    {
      "cell_type": "markdown",
      "source": [
        "# Step 4: Extracting Business Data"
      ],
      "metadata": {
        "id": "APOMDWKYuTus"
      }
    },
    {
      "cell_type": "code",
      "source": [
        "business_items = WebDriverWait(driver, 10).until(\n",
        "EC.presence_of_all_elements_located((By.XPATH, '//div[@role=\"feed\"]//div[contains(@jsaction, \"mouseover:pane\")]'))\n",
        ")"
      ],
      "metadata": {
        "id": "2mss--cSuP4v"
      },
      "execution_count": 8,
      "outputs": []
    },
    {
      "cell_type": "markdown",
      "source": [
        "## Extract Basic Details"
      ],
      "metadata": {
        "id": "wlMB9QaGubJ6"
      }
    },
    {
      "cell_type": "code",
      "source": [
        "for item in business_items:\n",
        "    name = item.find_element(By.CSS_SELECTOR, \"div.fontHeadlineSmall\").text\n",
        "    link = item.find_element(By.CSS_SELECTOR, \"a[jsaction]\").get_attribute(\"href\")\n",
        "print(f\"Business: {name}, Link: {link}\")"
      ],
      "metadata": {
        "id": "aaMV40SWuZsF"
      },
      "execution_count": 9,
      "outputs": []
    },
    {
      "cell_type": "markdown",
      "source": [
        "## Extract Reviews and Ratings"
      ],
      "metadata": {
        "id": "tje6JNZuuiD8"
      }
    },
    {
      "cell_type": "code",
      "source": [
        "import re\n",
        "reviews_element = item.find_element(By.CSS_SELECTOR, \"span[role='img']\")\n",
        "reviews_text = reviews_element.get_attribute(\"aria-label\")\n",
        "match = re.match(r\"(\\d+\\.\\d+) stars (\\d+[,]*\\d+) Reviews\", reviews_text)\n",
        "if match:\n",
        "    stars = float(match.group(1))\n",
        "    review_count = int(match.group(2).replace(\",\", \"\"))\n",
        "print(f\"Stars: {stars}, Reviews: {review_count}\")"
      ],
      "metadata": {
        "id": "6cZHJkzYue7q"
      },
      "execution_count": 10,
      "outputs": []
    },
    {
      "cell_type": "markdown",
      "source": [
        "## Extract Additional Information"
      ],
      "metadata": {
        "id": "FQbm-H1auoek"
      }
    },
    {
      "cell_type": "code",
      "source": [
        "info_div = item.find_element(By.CSS_SELECTOR, \".fontBodyMedium\")\n",
        "spans = info_div.find_elements(By.XPATH, \".//span[not(@*) or @style]\")\n",
        "details = [span.text for span in spans if span.text.strip()]\n",
        "print(\"Details:\", details)"
      ],
      "metadata": {
        "id": "4vVKY5I2ukbt"
      },
      "execution_count": 11,
      "outputs": []
    },
    {
      "cell_type": "markdown",
      "source": [
        "# Step 5: Saving Data to CSV"
      ],
      "metadata": {
        "id": "9ljm49gFusPn"
      }
    },
    {
      "cell_type": "markdown",
      "source": [
        "## Prepare Data for Export"
      ],
      "metadata": {
        "id": "QiTvV8xMuuFx"
      }
    },
    {
      "cell_type": "code",
      "source": [
        "data = []\n",
        "for item in business_items:\n",
        "    # Collect data as shown above and append to a list\n",
        "    data.append({\n",
        "    \"name\": name,\n",
        "    \"link\": link,\n",
        "    \"stars\": stars,\n",
        "    \"review_count\": review_count,\n",
        "    \"details\": \"; \".join(details),\n",
        "    })"
      ],
      "metadata": {
        "id": "81OulxiCuq_w"
      },
      "execution_count": 12,
      "outputs": []
    },
    {
      "cell_type": "markdown",
      "source": [
        "## Write to CSV"
      ],
      "metadata": {
        "id": "VYblpsy0uxT9"
      }
    },
    {
      "cell_type": "code",
      "source": [
        "import csv\n",
        "with open(\"business_data.csv\", \"w\", newline=\"\", encoding=\"utf-8\") as file:\n",
        "    writer = csv.DictWriter(file, fieldnames=data[0].keys())\n",
        "    writer.writeheader()\n",
        "    # writer.writerows(data)"
      ],
      "metadata": {
        "id": "znKq1I7CuwTN"
      },
      "execution_count": 13,
      "outputs": []
    }
  ]
}
{
 "cells": [
  {
   "cell_type": "markdown",
   "metadata": {},
   "source": [
    "Thanks to [Reference](https://medium.com/python-in-plain-english/how-to-use-selenium-to-automate-everything-in-the-browser-c18a28750125)"
   ]
  },
  {
   "cell_type": "code",
   "execution_count": 2,
   "metadata": {
    "ExecuteTime": {
     "end_time": "2020-10-22T06:00:12.281541Z",
     "start_time": "2020-10-22T06:00:12.135621Z"
    }
   },
   "outputs": [
    {
     "name": "stdout",
     "output_type": "stream",
     "text": [
      "/Users/kang/Downloads\r\n"
     ]
    }
   ],
   "source": [
    "!pwd"
   ]
  },
  {
   "cell_type": "code",
   "execution_count": 3,
   "metadata": {
    "ExecuteTime": {
     "end_time": "2020-10-22T06:02:12.052497Z",
     "start_time": "2020-10-22T06:02:03.646982Z"
    }
   },
   "outputs": [],
   "source": [
    "from selenium import webdriver\n",
    "import time\n",
    "\n",
    "driver = webdriver.Chrome('./chromedriver')\n",
    "driver.get('https://www.youtube.com')\n",
    "time.sleep(1)  # this gives the page a chance to load\n",
    "\n",
    "buttons = driver.find_elements_by_id('button')\n",
    "for button in buttons:\n",
    "    if 'No, thanks' in button.get_attribute('innerHTML'):\n",
    "        button.click()"
   ]
  },
  {
   "cell_type": "code",
   "execution_count": 8,
   "metadata": {
    "ExecuteTime": {
     "end_time": "2020-10-22T06:32:29.045368Z",
     "start_time": "2020-10-22T06:32:22.306616Z"
    }
   },
   "outputs": [
    {
     "data": {
      "text/plain": [
       "[<selenium.webdriver.remote.webelement.WebElement (session=\"b5c26e5851e4c2f28b5eb0cc3ba661f9\", element=\"ab28b892-4297-4636-9d44-e6655eb0bc67\")>,\n",
       " <selenium.webdriver.remote.webelement.WebElement (session=\"b5c26e5851e4c2f28b5eb0cc3ba661f9\", element=\"eb4ccbb0-2793-49d9-b29e-13d992e88486\")>,\n",
       " <selenium.webdriver.remote.webelement.WebElement (session=\"b5c26e5851e4c2f28b5eb0cc3ba661f9\", element=\"13d0771f-775d-4f0a-9d92-ce9eb95fb6d2\")>,\n",
       " <selenium.webdriver.remote.webelement.WebElement (session=\"b5c26e5851e4c2f28b5eb0cc3ba661f9\", element=\"e1917109-ec7b-4de9-ab4d-99d0357a7136\")>,\n",
       " <selenium.webdriver.remote.webelement.WebElement (session=\"b5c26e5851e4c2f28b5eb0cc3ba661f9\", element=\"af430af2-c3ed-4f4c-856f-801d65629402\")>,\n",
       " <selenium.webdriver.remote.webelement.WebElement (session=\"b5c26e5851e4c2f28b5eb0cc3ba661f9\", element=\"541a5340-152b-4205-bb25-5910e5c1ccc0\")>,\n",
       " <selenium.webdriver.remote.webelement.WebElement (session=\"b5c26e5851e4c2f28b5eb0cc3ba661f9\", element=\"7bea0a89-d80e-448a-8c9d-9cac364867e6\")>,\n",
       " <selenium.webdriver.remote.webelement.WebElement (session=\"b5c26e5851e4c2f28b5eb0cc3ba661f9\", element=\"104a8877-1ba7-44e9-8db0-9d88b518bcb0\")>,\n",
       " <selenium.webdriver.remote.webelement.WebElement (session=\"b5c26e5851e4c2f28b5eb0cc3ba661f9\", element=\"f3649253-f2d3-4728-a138-acfcc2a04a34\")>,\n",
       " <selenium.webdriver.remote.webelement.WebElement (session=\"b5c26e5851e4c2f28b5eb0cc3ba661f9\", element=\"2812407a-576e-4147-a0c7-3e84c11ba0d7\")>,\n",
       " <selenium.webdriver.remote.webelement.WebElement (session=\"b5c26e5851e4c2f28b5eb0cc3ba661f9\", element=\"b844c787-d46d-47a3-94ea-e5219400df2d\")>,\n",
       " <selenium.webdriver.remote.webelement.WebElement (session=\"b5c26e5851e4c2f28b5eb0cc3ba661f9\", element=\"1a25c028-6836-40c8-8eb9-7126a3908bc9\")>,\n",
       " <selenium.webdriver.remote.webelement.WebElement (session=\"b5c26e5851e4c2f28b5eb0cc3ba661f9\", element=\"64643891-baac-44cb-9ab7-f8a60ee08d02\")>,\n",
       " <selenium.webdriver.remote.webelement.WebElement (session=\"b5c26e5851e4c2f28b5eb0cc3ba661f9\", element=\"831f9287-e286-4d16-8bcb-dd735fab42dd\")>,\n",
       " <selenium.webdriver.remote.webelement.WebElement (session=\"b5c26e5851e4c2f28b5eb0cc3ba661f9\", element=\"a05275c0-91b8-4884-9339-024021ea1361\")>,\n",
       " <selenium.webdriver.remote.webelement.WebElement (session=\"b5c26e5851e4c2f28b5eb0cc3ba661f9\", element=\"1ee4f9fc-a78b-4109-8e33-745f73c7b5e1\")>,\n",
       " <selenium.webdriver.remote.webelement.WebElement (session=\"b5c26e5851e4c2f28b5eb0cc3ba661f9\", element=\"7d3310b7-f059-4532-b567-c089a22f8f85\")>,\n",
       " <selenium.webdriver.remote.webelement.WebElement (session=\"b5c26e5851e4c2f28b5eb0cc3ba661f9\", element=\"ab11e7b1-b42f-43ed-adf2-60c664a274dc\")>,\n",
       " <selenium.webdriver.remote.webelement.WebElement (session=\"b5c26e5851e4c2f28b5eb0cc3ba661f9\", element=\"329b3fa0-a4f6-4028-b56d-3bd272616c46\")>,\n",
       " <selenium.webdriver.remote.webelement.WebElement (session=\"b5c26e5851e4c2f28b5eb0cc3ba661f9\", element=\"a0e821e5-c74f-4452-aef6-e6d57aab87a5\")>,\n",
       " <selenium.webdriver.remote.webelement.WebElement (session=\"b5c26e5851e4c2f28b5eb0cc3ba661f9\", element=\"d1aa52c6-28e8-4467-8c96-05c3fcdbb07c\")>,\n",
       " <selenium.webdriver.remote.webelement.WebElement (session=\"b5c26e5851e4c2f28b5eb0cc3ba661f9\", element=\"1639634c-6bbe-4b51-a0bc-b9ad1bb38ad8\")>,\n",
       " <selenium.webdriver.remote.webelement.WebElement (session=\"b5c26e5851e4c2f28b5eb0cc3ba661f9\", element=\"af5695c6-a9d7-40f2-af33-447f695b624c\")>,\n",
       " <selenium.webdriver.remote.webelement.WebElement (session=\"b5c26e5851e4c2f28b5eb0cc3ba661f9\", element=\"c79a38be-4d8a-4d90-ab12-d6aa9b1b138c\")>,\n",
       " <selenium.webdriver.remote.webelement.WebElement (session=\"b5c26e5851e4c2f28b5eb0cc3ba661f9\", element=\"5d8f110a-e4e3-48d9-b174-6957e28e02d6\")>,\n",
       " <selenium.webdriver.remote.webelement.WebElement (session=\"b5c26e5851e4c2f28b5eb0cc3ba661f9\", element=\"eb930537-61bb-4e3f-a892-27cd77b589cb\")>,\n",
       " <selenium.webdriver.remote.webelement.WebElement (session=\"b5c26e5851e4c2f28b5eb0cc3ba661f9\", element=\"7da89204-8bd3-44be-ab01-8bfda5e704e4\")>,\n",
       " <selenium.webdriver.remote.webelement.WebElement (session=\"b5c26e5851e4c2f28b5eb0cc3ba661f9\", element=\"33b3aa10-9bbd-4989-a6f1-270c24cec89f\")>,\n",
       " <selenium.webdriver.remote.webelement.WebElement (session=\"b5c26e5851e4c2f28b5eb0cc3ba661f9\", element=\"0fc7bbf6-2fc4-4563-9911-5d5097e80dcf\")>,\n",
       " <selenium.webdriver.remote.webelement.WebElement (session=\"b5c26e5851e4c2f28b5eb0cc3ba661f9\", element=\"44d129cf-e8ec-4aa0-8e49-0292a2749589\")>,\n",
       " <selenium.webdriver.remote.webelement.WebElement (session=\"b5c26e5851e4c2f28b5eb0cc3ba661f9\", element=\"2deff2f5-ad7f-45b8-bbca-83dea3d05609\")>,\n",
       " <selenium.webdriver.remote.webelement.WebElement (session=\"b5c26e5851e4c2f28b5eb0cc3ba661f9\", element=\"b76f703f-beb0-458a-9902-7187d3af9596\")>]"
      ]
     },
     "execution_count": 8,
     "metadata": {},
     "output_type": "execute_result"
    }
   ],
   "source": [
    "from selenium import webdriver\n",
    "import time\n",
    "\n",
    "driver = webdriver.Chrome('./chromedriver')\n",
    "driver.get('https://www.youtube.com')\n",
    "time.sleep(1)  # this gives the page a chance to load\n",
    "\n",
    "# driver.find_element_by_xpath(\"//paper-button[@aria-label='No, thanks']\").click()\n",
    "\n",
    "video_elems = driver.find_elements_by_tag_name('ytd-rich-item-renderer')\n",
    "video_elems"
   ]
  },
  {
   "cell_type": "code",
   "execution_count": 14,
   "metadata": {
    "ExecuteTime": {
     "end_time": "2020-10-22T06:36:10.495893Z",
     "start_time": "2020-10-22T06:35:55.198058Z"
    }
   },
   "outputs": [
    {
     "name": "stdout",
     "output_type": "stream",
     "text": [
      "[Playlist] 귀르가즘 제대로 주는 갬성 팝송 노래 모음 #2\n",
      "유튜브에 박제된 상대가 화나서 복수하러 찾아왔습니다ㅋㅋ\n",
      "리쌍 (Lee ssang) BEST 40곡 좋은 노래모음 [연속재생]\n",
      "[#하이라이트#] #태양의 후예 김지원, 아빠 나 임신했어! 충격선언!\n"
     ]
    }
   ],
   "source": [
    "from selenium import webdriver\n",
    "from selenium.webdriver.common.by import By\n",
    "import time\n",
    "\n",
    "driver = webdriver.Chrome('./chromedriver')\n",
    "driver.get('https://www.youtube.com')\n",
    "time.sleep(1)  # this gives the page a chance to load\n",
    "\n",
    "# driver.find_element_by_xpath(\"//paper-button[@aria-label='No, thanks']\").click()\n",
    "video_elems = driver.find_elements_by_tag_name('ytd-rich-item-renderer')\n",
    "for elem in video_elems:\n",
    "    title = elem.find_element(By.XPATH, \".//a[@id='video-title-link']\")\n",
    "    print(title.get_attribute('title'))"
   ]
  },
  {
   "cell_type": "code",
   "execution_count": 19,
   "metadata": {
    "ExecuteTime": {
     "end_time": "2020-10-22T06:38:29.804343Z",
     "start_time": "2020-10-22T06:38:28.052139Z"
    }
   },
   "outputs": [],
   "source": [
    "import pandas as pd\n",
    "data = pd.DataFrame({\n",
    "    'title': [],\n",
    "    'author': [],\n",
    "    'views': [],\n",
    "    'link': []\n",
    "})"
   ]
  },
  {
   "cell_type": "code",
   "execution_count": 25,
   "metadata": {
    "ExecuteTime": {
     "end_time": "2020-10-22T06:46:00.217582Z",
     "start_time": "2020-10-22T06:45:50.349382Z"
    },
    "scrolled": false
   },
   "outputs": [
    {
     "name": "stdout",
     "output_type": "stream",
     "text": [
      "[Playlist] 귀르가즘 제대로 주는 갬성 팝송 노래 모음 #2\n",
      "한번 들어봐\n",
      "2666019\n",
      "https://www.youtube.com/watch?v=mxJGDa7ThbE\n",
      "🌸모든걸 공개합니다🌸 기상루틴/ sbs녹방/ 집사의 삶/ 드라이브/ 이다지do\n",
      "이다지do\n",
      "163136\n",
      "https://www.youtube.com/watch?v=k08eYmn0dlQ\n",
      "김성현 스타 즐거운 목요일 방송~^^\n",
      "[ALTUBE] 김성현TV\n",
      "2814\n",
      "https://www.youtube.com/watch?v=it7waBjGhlY\n",
      "[무한도전] ((무한상사)) \"아유..하기 싫어..ಠ_ಠ\" CI 공모전하다가 마음의 소리가 나와버림..ㅎㅎ과연 공모전의 결과는!?\n",
      "MBCentertainment\n",
      "3822099\n",
      "https://www.youtube.com/watch?v=y5iXdP6jXpY\n",
      "[지브리 스튜디오] 공부할때, 일할때 듣기좋은 음악 모음 12시간(검은화면) (12hours)(피아노)(Relaxing Piano Studio Ghibli Collection)\n",
      "#include 〈music.h〉\n",
      "559832\n",
      "https://www.youtube.com/watch?v=wnudr9qjrbA\n",
      "(ENG SUB) 차돌박이 더 맛있게 먹는 법 [맛있는 녀석들 맛따라 팁따라] 차돌박이 편\n",
      "맛있는 녀석들 (Tasty Guys)\n",
      "1016764\n",
      "https://www.youtube.com/watch?v=8FCSscpcpy0\n",
      "[#하이라이트#] #태양의 후예 김지원, 아빠 나 임신했어! 충격선언!\n",
      "KBS Drama\n",
      "3515622\n",
      "https://www.youtube.com/watch?v=VCd3OnyHhVA\n",
      "🔥[No.1 채널 멜론둥이의 멜론차트]🔥 2020년 10월 19일 4주차🔥KPOP Chart🔥 최신 인기가요 노래 모음!!🔥🔥\n",
      "멜론둥이\n",
      "153898\n",
      "https://www.youtube.com/watch?v=Eq7wpvnWDKg\n",
      "[선공개] 이수현 + Dynamite = ❣️ 이보다 더 달콤할 수 없는 거야!! [You Heeyeol’s Sketchbook] 20201023\n",
      "KBS Kpop\n",
      "166710\n",
      "https://www.youtube.com/watch?v=VjeyhzPKhPE\n",
      "(Eng sub) [환불원정대] 환불원정대 쇼! 음악중심 데뷔 무대! (Hangout with Yoo - refund sisters)\n",
      "놀면 뭐하니?\n",
      "8606151\n",
      "https://www.youtube.com/watch?v=mLxd2eU9L8o\n",
      "＂너 진짜 나 좋아해?＂, 뇌파 폭발하는 뚜두뚜두 게임 [예능맛집X곱빼기/런닝맨/RunningMan]\n",
      "SBS ENTER PLAY\n",
      "611473\n",
      "https://www.youtube.com/watch?v=riqSjnOo62s\n",
      "[에디터's 꿀잼Pick] 벌써 동생바버♥ 올망졸망 X 꽁냥꽁냥 ☆#찐건나블리☆\n",
      "KBS 한국방송\n",
      "2045650\n",
      "https://www.youtube.com/watch?v=aIO4oKgmE6M\n",
      "\n",
      "rhybeat 리빗\n",
      "156073\n",
      "https://www.youtube.com/watch?v=Y7FMbWfAFTc\n",
      "\n",
      "KBS N\n",
      "1209258\n",
      "https://www.youtube.com/watch?v=zizSb08d3UM\n",
      "\n",
      "Crush\n",
      "894743\n",
      "https://www.youtube.com/watch?v=vAa8R_ze6ZI\n",
      "\n",
      "STUDIO CHOOM [스튜디오 춤]\n",
      "442190\n",
      "https://www.youtube.com/watch?v=38wGonyyNaM\n",
      "\n",
      "사나고 Sanago\n",
      "1942346\n",
      "https://www.youtube.com/watch?v=CX8GpnlTUoo\n",
      "\n",
      "SPOTV\n",
      "1307113\n",
      "https://www.youtube.com/watch?v=4hZcm6-XZ0Q\n",
      "\n",
      "Big Hit Labels\n",
      "14701623\n",
      "https://www.youtube.com/watch?v=UB4FzllQCyc\n",
      "\n",
      "머독방송\n",
      "455640\n",
      "https://www.youtube.com/watch?v=zfNcy9haxOM\n",
      "완전 날아다니는 암벽타기 선수들 스피드클라이밍 남자 1위부터 6위_2019 스포츠클라이밍 선수권 대회\n",
      "ClimbTourTV_클라임투어티비\n",
      "328452\n",
      "https://www.youtube.com/watch?v=sBzwrk8Z7o8\n",
      "ASMR (2h) White Noise at Seoul National University Library in Korea\n",
      "백색소음\n",
      "4065376\n",
      "https://www.youtube.com/watch?v=InZ_XAs0-nM\n",
      "[DJTBC] Taeyeon - Fix My Makeup ♬ #Beginagain3 #DJTBC\n",
      "DJ티비씨\n",
      "5598526\n",
      "https://www.youtube.com/watch?v=1exxA_zg_-0\n",
      "말대꾸 하는 리트리버 ㅋㅋㅋㅋㅋㅋ\n",
      "hi sangchu\n",
      "7494613\n",
      "https://www.youtube.com/watch?v=0DqkQlr0TCc\n",
      "[메이플] 도시섭 시골섭\n",
      "소맥거핀\n",
      "657873\n",
      "https://www.youtube.com/watch?v=-nUaSX8mS-c\n",
      "좋은 발라드 노래모음 2020 💖 일할 때 듣기 좋은 노래 50곡 연속듣기 💖 하루 종일 듣고 싶은 정말 좋은 노래 모음\n",
      "Kpop Music\n",
      "1147398\n",
      "https://www.youtube.com/watch?v=X8ZmcpTlA5M\n",
      "페이커의 어몽어스, 하이드 온 벤트 [Faker Stream Highlight]\n",
      "T1 Faker\n",
      "1220005\n",
      "https://www.youtube.com/watch?v=aIpzi_mFI6I\n",
      "유치원에 쌤 새로 오셨대! \"제대로 모셔라 앞으로 큰일 하실 분이다 ✧ `↼´˵ \" #윤화는일곱살 | 웃찾사-레전드매치(Smile People) | SBS ENTER.\n",
      "SBS Entertainment\n",
      "3221663\n",
      "https://www.youtube.com/watch?v=sxr1MvW6634\n",
      "여러분의 3분 삭제 해드리겠습니다 (Bigman)\n",
      "맥랩의 맥너겟TV\n",
      "1193853\n",
      "https://www.youtube.com/watch?v=O3O9fnYIgF8\n",
      "수달에게 살아있는 꽃게를 줘보았다. /I gave an otter a blue crab.\n",
      "정브르\n",
      "1078346\n",
      "https://www.youtube.com/watch?v=jZBD4qs6zhg\n",
      "사월이 지나면 우리 헤어져요 - 민서(MINSEO)[cover]\n",
      "화이팅\n",
      "1675923\n",
      "https://www.youtube.com/watch?v=KocvTAqISeo\n",
      "[전생소년을 만나다] ‘그알’ 후 26년..부산 집 방문+ 20개 국어 구사, 정연득 근황\n",
      "근황올림픽\n",
      "5236325\n",
      "https://www.youtube.com/watch?v=V9haLPaa1lI\n"
     ]
    }
   ],
   "source": [
    "from selenium import webdriver\n",
    "from selenium.webdriver.common.by import By\n",
    "import re\n",
    "import time\n",
    "\n",
    "driver = webdriver.Chrome('./chromedriver')\n",
    "driver.get('https://www.youtube.com')\n",
    "time.sleep(1)  # this gives the page a chance to load\n",
    "\n",
    "# driver.find_element_by_xpath(\"//paper-button[@aria-label='No, thanks']\").click()\n",
    "video_elems = driver.find_elements_by_tag_name('ytd-rich-item-renderer')\n",
    "list_video = []\n",
    "for i in range(len(video_elems)):\n",
    "    # we loop through every WebElement and print different attributes\n",
    "    title = video_elems[i].find_element(By.XPATH, \".//a[@id='video-title-link']\").text\n",
    "    author = video_elems[i].find_element(By.XPATH, \".//a[@id='avatar-link']\").get_attribute('title')\n",
    "    views = video_elems[i].find_element(By.XPATH, \".//a[@id='video-title-link']\").get_attribute('aria-label')\n",
    "    link = video_elems[i].find_element(By.XPATH, \".//a[@id='video-title-link']\").get_attribute('href')\n",
    "    # for views, we also need regex to extract it from aria-label\n",
    "    views = re.search(r\"(?i)[0-9,]+(?= view)\", views).group(0).replace(',', '')\n",
    "    data ={}\n",
    "    data['title'] = title\n",
    "    data['author'] = author\n",
    "    data['views'] = views\n",
    "    data['link'] = link\n",
    "    list_video.append(data)\n",
    "    # print results\n",
    "    print(f\"{title}\\n{author}\\n{views}\\n{link}\")\n",
    "    \n",
    "    # delete data\n",
    "    del title, author, views, link"
   ]
  },
  {
   "cell_type": "code",
   "execution_count": 27,
   "metadata": {
    "ExecuteTime": {
     "end_time": "2020-10-22T06:46:05.813805Z",
     "start_time": "2020-10-22T06:46:05.692900Z"
    }
   },
   "outputs": [
    {
     "data": {
      "text/html": [
       "<div>\n",
       "<style scoped>\n",
       "    .dataframe tbody tr th:only-of-type {\n",
       "        vertical-align: middle;\n",
       "    }\n",
       "\n",
       "    .dataframe tbody tr th {\n",
       "        vertical-align: top;\n",
       "    }\n",
       "\n",
       "    .dataframe thead th {\n",
       "        text-align: right;\n",
       "    }\n",
       "</style>\n",
       "<table border=\"1\" class=\"dataframe\">\n",
       "  <thead>\n",
       "    <tr style=\"text-align: right;\">\n",
       "      <th></th>\n",
       "      <th>title</th>\n",
       "      <th>author</th>\n",
       "      <th>views</th>\n",
       "      <th>link</th>\n",
       "    </tr>\n",
       "  </thead>\n",
       "  <tbody>\n",
       "    <tr>\n",
       "      <th>0</th>\n",
       "      <td>[Playlist] 귀르가즘 제대로 주는 갬성 팝송 노래 모음 #2</td>\n",
       "      <td>한번 들어봐</td>\n",
       "      <td>2666019</td>\n",
       "      <td>https://www.youtube.com/watch?v=mxJGDa7ThbE</td>\n",
       "    </tr>\n",
       "    <tr>\n",
       "      <th>1</th>\n",
       "      <td>🌸모든걸 공개합니다🌸 기상루틴/ sbs녹방/ 집사의 삶/ 드라이브/ 이다지do</td>\n",
       "      <td>이다지do</td>\n",
       "      <td>163136</td>\n",
       "      <td>https://www.youtube.com/watch?v=k08eYmn0dlQ</td>\n",
       "    </tr>\n",
       "    <tr>\n",
       "      <th>2</th>\n",
       "      <td>김성현 스타 즐거운 목요일 방송~^^</td>\n",
       "      <td>[ALTUBE] 김성현TV</td>\n",
       "      <td>2814</td>\n",
       "      <td>https://www.youtube.com/watch?v=it7waBjGhlY</td>\n",
       "    </tr>\n",
       "    <tr>\n",
       "      <th>3</th>\n",
       "      <td>[무한도전] ((무한상사)) \"아유..하기 싫어..ಠ_ಠ\" CI 공모전하다가 마음의...</td>\n",
       "      <td>MBCentertainment</td>\n",
       "      <td>3822099</td>\n",
       "      <td>https://www.youtube.com/watch?v=y5iXdP6jXpY</td>\n",
       "    </tr>\n",
       "    <tr>\n",
       "      <th>4</th>\n",
       "      <td>[지브리 스튜디오] 공부할때, 일할때 듣기좋은 음악 모음 12시간(검은화면) (12...</td>\n",
       "      <td>#include 〈music.h〉</td>\n",
       "      <td>559832</td>\n",
       "      <td>https://www.youtube.com/watch?v=wnudr9qjrbA</td>\n",
       "    </tr>\n",
       "    <tr>\n",
       "      <th>5</th>\n",
       "      <td>(ENG SUB) 차돌박이 더 맛있게 먹는 법 [맛있는 녀석들 맛따라 팁따라] 차돌...</td>\n",
       "      <td>맛있는 녀석들 (Tasty Guys)</td>\n",
       "      <td>1016764</td>\n",
       "      <td>https://www.youtube.com/watch?v=8FCSscpcpy0</td>\n",
       "    </tr>\n",
       "    <tr>\n",
       "      <th>6</th>\n",
       "      <td>[#하이라이트#] #태양의 후예 김지원, 아빠 나 임신했어! 충격선언!</td>\n",
       "      <td>KBS Drama</td>\n",
       "      <td>3515622</td>\n",
       "      <td>https://www.youtube.com/watch?v=VCd3OnyHhVA</td>\n",
       "    </tr>\n",
       "    <tr>\n",
       "      <th>7</th>\n",
       "      <td>🔥[No.1 채널 멜론둥이의 멜론차트]🔥 2020년 10월 19일 4주차🔥KPOP ...</td>\n",
       "      <td>멜론둥이</td>\n",
       "      <td>153898</td>\n",
       "      <td>https://www.youtube.com/watch?v=Eq7wpvnWDKg</td>\n",
       "    </tr>\n",
       "    <tr>\n",
       "      <th>8</th>\n",
       "      <td>[선공개] 이수현 + Dynamite = ❣️ 이보다 더 달콤할 수 없는 거야!! ...</td>\n",
       "      <td>KBS Kpop</td>\n",
       "      <td>166710</td>\n",
       "      <td>https://www.youtube.com/watch?v=VjeyhzPKhPE</td>\n",
       "    </tr>\n",
       "    <tr>\n",
       "      <th>9</th>\n",
       "      <td>(Eng sub) [환불원정대] 환불원정대 쇼! 음악중심 데뷔 무대! (Hangou...</td>\n",
       "      <td>놀면 뭐하니?</td>\n",
       "      <td>8606151</td>\n",
       "      <td>https://www.youtube.com/watch?v=mLxd2eU9L8o</td>\n",
       "    </tr>\n",
       "    <tr>\n",
       "      <th>10</th>\n",
       "      <td>＂너 진짜 나 좋아해?＂, 뇌파 폭발하는 뚜두뚜두 게임 [예능맛집X곱빼기/런닝맨/R...</td>\n",
       "      <td>SBS ENTER PLAY</td>\n",
       "      <td>611473</td>\n",
       "      <td>https://www.youtube.com/watch?v=riqSjnOo62s</td>\n",
       "    </tr>\n",
       "    <tr>\n",
       "      <th>11</th>\n",
       "      <td>[에디터's 꿀잼Pick] 벌써 동생바버♥ 올망졸망 X 꽁냥꽁냥 ☆#찐건나블리☆</td>\n",
       "      <td>KBS 한국방송</td>\n",
       "      <td>2045650</td>\n",
       "      <td>https://www.youtube.com/watch?v=aIO4oKgmE6M</td>\n",
       "    </tr>\n",
       "    <tr>\n",
       "      <th>12</th>\n",
       "      <td></td>\n",
       "      <td>rhybeat 리빗</td>\n",
       "      <td>156073</td>\n",
       "      <td>https://www.youtube.com/watch?v=Y7FMbWfAFTc</td>\n",
       "    </tr>\n",
       "    <tr>\n",
       "      <th>13</th>\n",
       "      <td></td>\n",
       "      <td>KBS N</td>\n",
       "      <td>1209258</td>\n",
       "      <td>https://www.youtube.com/watch?v=zizSb08d3UM</td>\n",
       "    </tr>\n",
       "    <tr>\n",
       "      <th>14</th>\n",
       "      <td></td>\n",
       "      <td>Crush</td>\n",
       "      <td>894743</td>\n",
       "      <td>https://www.youtube.com/watch?v=vAa8R_ze6ZI</td>\n",
       "    </tr>\n",
       "  </tbody>\n",
       "</table>\n",
       "</div>"
      ],
      "text/plain": [
       "                                                title                author  \\\n",
       "0               [Playlist] 귀르가즘 제대로 주는 갬성 팝송 노래 모음 #2                한번 들어봐   \n",
       "1         🌸모든걸 공개합니다🌸 기상루틴/ sbs녹방/ 집사의 삶/ 드라이브/ 이다지do                 이다지do   \n",
       "2                                김성현 스타 즐거운 목요일 방송~^^        [ALTUBE] 김성현TV   \n",
       "3   [무한도전] ((무한상사)) \"아유..하기 싫어..ಠ_ಠ\" CI 공모전하다가 마음의...      MBCentertainment   \n",
       "4   [지브리 스튜디오] 공부할때, 일할때 듣기좋은 음악 모음 12시간(검은화면) (12...    #include 〈music.h〉   \n",
       "5   (ENG SUB) 차돌박이 더 맛있게 먹는 법 [맛있는 녀석들 맛따라 팁따라] 차돌...  맛있는 녀석들 (Tasty Guys)   \n",
       "6             [#하이라이트#] #태양의 후예 김지원, 아빠 나 임신했어! 충격선언!             KBS Drama   \n",
       "7   🔥[No.1 채널 멜론둥이의 멜론차트]🔥 2020년 10월 19일 4주차🔥KPOP ...                  멜론둥이   \n",
       "8   [선공개] 이수현 + Dynamite = ❣️ 이보다 더 달콤할 수 없는 거야!! ...              KBS Kpop   \n",
       "9   (Eng sub) [환불원정대] 환불원정대 쇼! 음악중심 데뷔 무대! (Hangou...               놀면 뭐하니?   \n",
       "10  ＂너 진짜 나 좋아해?＂, 뇌파 폭발하는 뚜두뚜두 게임 [예능맛집X곱빼기/런닝맨/R...        SBS ENTER PLAY   \n",
       "11       [에디터's 꿀잼Pick] 벌써 동생바버♥ 올망졸망 X 꽁냥꽁냥 ☆#찐건나블리☆              KBS 한국방송   \n",
       "12                                                               rhybeat 리빗   \n",
       "13                                                                    KBS N   \n",
       "14                                                                    Crush   \n",
       "\n",
       "      views                                         link  \n",
       "0   2666019  https://www.youtube.com/watch?v=mxJGDa7ThbE  \n",
       "1    163136  https://www.youtube.com/watch?v=k08eYmn0dlQ  \n",
       "2      2814  https://www.youtube.com/watch?v=it7waBjGhlY  \n",
       "3   3822099  https://www.youtube.com/watch?v=y5iXdP6jXpY  \n",
       "4    559832  https://www.youtube.com/watch?v=wnudr9qjrbA  \n",
       "5   1016764  https://www.youtube.com/watch?v=8FCSscpcpy0  \n",
       "6   3515622  https://www.youtube.com/watch?v=VCd3OnyHhVA  \n",
       "7    153898  https://www.youtube.com/watch?v=Eq7wpvnWDKg  \n",
       "8    166710  https://www.youtube.com/watch?v=VjeyhzPKhPE  \n",
       "9   8606151  https://www.youtube.com/watch?v=mLxd2eU9L8o  \n",
       "10   611473  https://www.youtube.com/watch?v=riqSjnOo62s  \n",
       "11  2045650  https://www.youtube.com/watch?v=aIO4oKgmE6M  \n",
       "12   156073  https://www.youtube.com/watch?v=Y7FMbWfAFTc  \n",
       "13  1209258  https://www.youtube.com/watch?v=zizSb08d3UM  \n",
       "14   894743  https://www.youtube.com/watch?v=vAa8R_ze6ZI  "
      ]
     },
     "execution_count": 27,
     "metadata": {},
     "output_type": "execute_result"
    }
   ],
   "source": [
    "df = pd.DataFrame(list_video)\n",
    "df.head(15)"
   ]
  },
  {
   "cell_type": "code",
   "execution_count": 28,
   "metadata": {
    "ExecuteTime": {
     "end_time": "2020-10-22T07:16:01.655604Z",
     "start_time": "2020-10-22T07:16:01.645347Z"
    }
   },
   "outputs": [
    {
     "data": {
      "text/plain": [
       "(32, 4)"
      ]
     },
     "execution_count": 28,
     "metadata": {},
     "output_type": "execute_result"
    }
   ],
   "source": [
    "df.shape"
   ]
  },
  {
   "cell_type": "code",
   "execution_count": null,
   "metadata": {},
   "outputs": [],
   "source": []
  }
 ],
 "metadata": {
  "hide_input": false,
  "kernelspec": {
   "display_name": "Python 3",
   "language": "python",
   "name": "python3"
  },
  "language_info": {
   "codemirror_mode": {
    "name": "ipython",
    "version": 3
   },
   "file_extension": ".py",
   "mimetype": "text/x-python",
   "name": "python",
   "nbconvert_exporter": "python",
   "pygments_lexer": "ipython3",
   "version": "3.7.3"
  },
  "varInspector": {
   "cols": {
    "lenName": 16,
    "lenType": 16,
    "lenVar": 40
   },
   "kernels_config": {
    "python": {
     "delete_cmd_postfix": "",
     "delete_cmd_prefix": "del ",
     "library": "var_list.py",
     "varRefreshCmd": "print(var_dic_list())"
    },
    "r": {
     "delete_cmd_postfix": ") ",
     "delete_cmd_prefix": "rm(",
     "library": "var_list.r",
     "varRefreshCmd": "cat(var_dic_list()) "
    }
   },
   "types_to_exclude": [
    "module",
    "function",
    "builtin_function_or_method",
    "instance",
    "_Feature"
   ],
   "window_display": false
  }
 },
 "nbformat": 4,
 "nbformat_minor": 4
}

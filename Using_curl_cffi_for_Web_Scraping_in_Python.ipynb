{
  "nbformat": 4,
  "nbformat_minor": 0,
  "metadata": {
    "colab": {
      "provenance": [],
      "authorship_tag": "ABX9TyMn/e4PNhQPOEP1gbVQW7wW"
    },
    "kernelspec": {
      "name": "python3",
      "display_name": "Python 3"
    },
    "language_info": {
      "name": "python"
    }
  },
  "cells": [
    {
      "cell_type": "markdown",
      "source": [
        "[Reference](https://medium.com/@datajournal/curl-cffi-for-web-scraping-a34523f9fe89)"
      ],
      "metadata": {
        "id": "q7C0M4u_mHh2"
      }
    },
    {
      "cell_type": "markdown",
      "source": [
        "# Install curl_cffi"
      ],
      "metadata": {
        "id": "h-VOdaCmmpNJ"
      }
    },
    {
      "cell_type": "code",
      "execution_count": 1,
      "metadata": {
        "colab": {
          "base_uri": "https://localhost:8080/"
        },
        "id": "cZ7AIAO7l8BE",
        "outputId": "3abc7d8e-40c1-4a5a-a4c0-aa5e535c709d"
      },
      "outputs": [
        {
          "output_type": "stream",
          "name": "stdout",
          "text": [
            "Collecting curl-cffi\n",
            "  Downloading curl_cffi-0.10.0-cp39-abi3-manylinux_2_17_x86_64.manylinux2014_x86_64.whl.metadata (12 kB)\n",
            "Requirement already satisfied: cffi>=1.12.0 in /usr/local/lib/python3.11/dist-packages (from curl-cffi) (1.17.1)\n",
            "Requirement already satisfied: certifi>=2024.2.2 in /usr/local/lib/python3.11/dist-packages (from curl-cffi) (2025.4.26)\n",
            "Requirement already satisfied: pycparser in /usr/local/lib/python3.11/dist-packages (from cffi>=1.12.0->curl-cffi) (2.22)\n",
            "Downloading curl_cffi-0.10.0-cp39-abi3-manylinux_2_17_x86_64.manylinux2014_x86_64.whl (7.4 MB)\n",
            "\u001b[2K   \u001b[90m━━━━━━━━━━━━━━━━━━━━━━━━━━━━━━━━━━━━━━━━\u001b[0m \u001b[32m7.4/7.4 MB\u001b[0m \u001b[31m40.1 MB/s\u001b[0m eta \u001b[36m0:00:00\u001b[0m\n",
            "\u001b[?25hInstalling collected packages: curl-cffi\n",
            "Successfully installed curl-cffi-0.10.0\n"
          ]
        }
      ],
      "source": [
        "!pip install curl-cffi"
      ]
    },
    {
      "cell_type": "markdown",
      "source": [
        "# Import and Configure curl_cffi"
      ],
      "metadata": {
        "id": "x1fgUxq4msXQ"
      }
    },
    {
      "cell_type": "code",
      "source": [
        "from curl_cffi import requests\n",
        "\n",
        "response = requests.get(\"https://www.walmart.com/search?q=keyboard\", impersonate=\"chrome\")"
      ],
      "metadata": {
        "id": "-nGPF5wmmm9K"
      },
      "execution_count": 2,
      "outputs": []
    },
    {
      "cell_type": "markdown",
      "source": [
        "# Extract Data from the Page"
      ],
      "metadata": {
        "id": "8Pm8l8QomyfL"
      }
    },
    {
      "cell_type": "code",
      "source": [
        "from bs4 import BeautifulSoup\n",
        "soup = BeautifulSoup(response.text, \"html.parser\")\n",
        "# Let's extract the title of the page:\n",
        "title_element = soup.find(\"title\")\n",
        "title = title_element.text\n",
        "print(title)"
      ],
      "metadata": {
        "colab": {
          "base_uri": "https://localhost:8080/"
        },
        "id": "6ileKohtmvNX",
        "outputId": "f56e679a-19ab-4518-ee4f-766b34cf3dfd"
      },
      "execution_count": 3,
      "outputs": [
        {
          "output_type": "stream",
          "name": "stdout",
          "text": [
            "Electronics - Walmart.com\n"
          ]
        }
      ]
    },
    {
      "cell_type": "markdown",
      "source": [
        "# Run the Scraper\n",
        "```\n",
        "python scraper.py\n",
        "```"
      ],
      "metadata": {
        "id": "fqKCNYrBm4Pq"
      }
    },
    {
      "cell_type": "markdown",
      "source": [
        "# Session Management"
      ],
      "metadata": {
        "id": "pQFgLpvjm-LM"
      }
    },
    {
      "cell_type": "code",
      "source": [
        "session = requests.Session()\n",
        "session.get(\"https://httpbin.org/cookies/set/userId/5\", impersonate=\"chrome\")\n",
        "print(session.cookies)"
      ],
      "metadata": {
        "colab": {
          "base_uri": "https://localhost:8080/"
        },
        "id": "5t3D2cVnm2jM",
        "outputId": "98a06eee-ee12-491b-8b69-8377f1f3be8c"
      },
      "execution_count": 4,
      "outputs": [
        {
          "output_type": "stream",
          "name": "stdout",
          "text": [
            "<Cookies[<Cookie userId=5 for httpbin.org />]>\n"
          ]
        }
      ]
    },
    {
      "cell_type": "markdown",
      "source": [
        "# Asynchronous Requests"
      ],
      "metadata": {
        "id": "fKDXm0Jum_eh"
      }
    },
    {
      "cell_type": "code",
      "source": [
        "from curl_cffi.requests import AsyncSession\n",
        "import asyncio\n",
        "\n",
        "async def fetch_data():\n",
        "    async with AsyncSession() as session:\n",
        "        response = await session.get(\"https://www.example.com\", impersonate=\"chrome\")\n",
        "        print(response.text)\n",
        "        asyncio.run(fetch_data())"
      ],
      "metadata": {
        "id": "FOsvkwIrnBKr"
      },
      "execution_count": 6,
      "outputs": []
    }
  ]
}